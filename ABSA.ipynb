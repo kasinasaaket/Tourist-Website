{
 "cells": [
  {
   "cell_type": "code",
   "execution_count": 1,
   "metadata": {},
   "outputs": [],
   "source": [
    "import pandas as pd\n",
    "import torch\n",
    "import numpy as np\n",
    "import sqlite3\n",
    "import matplotlib.pyplot as plt\n",
    "import seaborn as sns\n",
    "import re\n",
    "import nltk\n",
    "from nltk.corpus import stopwords\n",
    "from nltk.stem import WordNetLemmatizer\n",
    "from nltk.stem.porter import PorterStemmer\n",
    "from sklearn.feature_extraction.text import CountVectorizer\n",
    "pd.set_option('display.max_columns', None)\n",
    "pd.set_option('display.max_rows', None)\n",
    "import warnings\n",
    "import sqlite3\n",
    "import pandas as pd"
   ]
  },
  {
   "cell_type": "code",
   "execution_count": 3,
   "metadata": {},
   "outputs": [
    {
     "data": {
      "text/html": [
       "<div>\n",
       "<style scoped>\n",
       "    .dataframe tbody tr th:only-of-type {\n",
       "        vertical-align: middle;\n",
       "    }\n",
       "\n",
       "    .dataframe tbody tr th {\n",
       "        vertical-align: top;\n",
       "    }\n",
       "\n",
       "    .dataframe thead th {\n",
       "        text-align: right;\n",
       "    }\n",
       "</style>\n",
       "<table border=\"1\" class=\"dataframe\">\n",
       "  <thead>\n",
       "    <tr style=\"text-align: right;\">\n",
       "      <th></th>\n",
       "      <th>id</th>\n",
       "      <th>name</th>\n",
       "      <th>email</th>\n",
       "      <th>aspect</th>\n",
       "      <th>comments</th>\n",
       "      <th>rating</th>\n",
       "      <th>Unnamed: 6</th>\n",
       "    </tr>\n",
       "  </thead>\n",
       "  <tbody>\n",
       "    <tr>\n",
       "      <th>0</th>\n",
       "      <td>1</td>\n",
       "      <td>Yenugu Poojitha</td>\n",
       "      <td>yenugupoojithareddy3107@gmail.com</td>\n",
       "      <td>service</td>\n",
       "      <td>The tourist place had provided good services</td>\n",
       "      <td>4</td>\n",
       "      <td>NaN</td>\n",
       "    </tr>\n",
       "    <tr>\n",
       "      <th>1</th>\n",
       "      <td>2</td>\n",
       "      <td>chitra</td>\n",
       "      <td>chitra123@gmail.com</td>\n",
       "      <td>food</td>\n",
       "      <td>The food given in the restaurant was delicious...</td>\n",
       "      <td>5</td>\n",
       "      <td>NaN</td>\n",
       "    </tr>\n",
       "    <tr>\n",
       "      <th>2</th>\n",
       "      <td>3</td>\n",
       "      <td>saaket</td>\n",
       "      <td>saaket123@gmail.com</td>\n",
       "      <td>ambience</td>\n",
       "      <td>The relaxed ambience of Thrissur was popular w...</td>\n",
       "      <td>3</td>\n",
       "      <td>NaN</td>\n",
       "    </tr>\n",
       "    <tr>\n",
       "      <th>3</th>\n",
       "      <td>4</td>\n",
       "      <td>sravani</td>\n",
       "      <td>sravani18@gmail.com</td>\n",
       "      <td>food</td>\n",
       "      <td>The historical prestige and the hotel ambience...</td>\n",
       "      <td>4</td>\n",
       "      <td>NaN</td>\n",
       "    </tr>\n",
       "    <tr>\n",
       "      <th>4</th>\n",
       "      <td>5</td>\n",
       "      <td>rishikesh</td>\n",
       "      <td>rishikesh31@gmail.com</td>\n",
       "      <td>service</td>\n",
       "      <td>Hotel services were good</td>\n",
       "      <td>3</td>\n",
       "      <td>NaN</td>\n",
       "    </tr>\n",
       "    <tr>\n",
       "      <th>5</th>\n",
       "      <td>6</td>\n",
       "      <td>vinay</td>\n",
       "      <td>vinay14@gmail.com</td>\n",
       "      <td>hospitality</td>\n",
       "      <td>I became ill, so I was admitted in a hospital ...</td>\n",
       "      <td>3</td>\n",
       "      <td></td>\n",
       "    </tr>\n",
       "  </tbody>\n",
       "</table>\n",
       "</div>"
      ],
      "text/plain": [
       "   id             name                              email       aspect  \\\n",
       "0   1  Yenugu Poojitha  yenugupoojithareddy3107@gmail.com      service   \n",
       "1   2           chitra                chitra123@gmail.com         food   \n",
       "2   3           saaket                saaket123@gmail.com     ambience   \n",
       "3   4          sravani                sravani18@gmail.com         food   \n",
       "4   5        rishikesh              rishikesh31@gmail.com      service   \n",
       "5   6            vinay                  vinay14@gmail.com  hospitality   \n",
       "\n",
       "                                            comments  rating Unnamed: 6  \n",
       "0       The tourist place had provided good services       4        NaN  \n",
       "1  The food given in the restaurant was delicious...       5        NaN  \n",
       "2  The relaxed ambience of Thrissur was popular w...       3        NaN  \n",
       "3  The historical prestige and the hotel ambience...       4        NaN  \n",
       "4                           Hotel services were good       3        NaN  \n",
       "5  I became ill, so I was admitted in a hospital ...       3             "
      ]
     },
     "execution_count": 3,
     "metadata": {},
     "output_type": "execute_result"
    }
   ],
   "source": [
    "df  = pd.read_csv('RRABSA.csv')\n",
    "df"
   ]
  },
  {
   "cell_type": "code",
   "execution_count": 4,
   "metadata": {},
   "outputs": [
    {
     "name": "stdout",
     "output_type": "stream",
     "text": [
      "( 1 ) The tourist place had provided good services\n",
      "( 2 ) The food given in the restaurant was delicious. I found it enjoyable!\n",
      "( 3 ) The relaxed ambience of Thrissur was popular with temples.\n",
      "( 4 ) The historical prestige and the hotel ambience was good and the service was on point. Good trip!\n",
      "( 5 ) Hotel services were good\n",
      "( 6 ) I became ill, so I was admitted in a hospital for 3 days.\n"
     ]
    }
   ],
   "source": [
    "k = 1\n",
    "for i in df['comments']:\n",
    "    print('(',k,')',i,end='\\n')\n",
    "    k = k+1"
   ]
  },
  {
   "cell_type": "code",
   "execution_count": 5,
   "metadata": {},
   "outputs": [
    {
     "data": {
      "text/html": [
       "<div>\n",
       "<style scoped>\n",
       "    .dataframe tbody tr th:only-of-type {\n",
       "        vertical-align: middle;\n",
       "    }\n",
       "\n",
       "    .dataframe tbody tr th {\n",
       "        vertical-align: top;\n",
       "    }\n",
       "\n",
       "    .dataframe thead th {\n",
       "        text-align: right;\n",
       "    }\n",
       "</style>\n",
       "<table border=\"1\" class=\"dataframe\">\n",
       "  <thead>\n",
       "    <tr style=\"text-align: right;\">\n",
       "      <th></th>\n",
       "      <th>id</th>\n",
       "      <th>name</th>\n",
       "      <th>email</th>\n",
       "      <th>aspect</th>\n",
       "      <th>comments</th>\n",
       "      <th>rating</th>\n",
       "      <th>Unnamed: 6</th>\n",
       "      <th>sentiment</th>\n",
       "    </tr>\n",
       "  </thead>\n",
       "  <tbody>\n",
       "    <tr>\n",
       "      <th>0</th>\n",
       "      <td>1</td>\n",
       "      <td>Yenugu Poojitha</td>\n",
       "      <td>yenugupoojithareddy3107@gmail.com</td>\n",
       "      <td>service</td>\n",
       "      <td>The tourist place had provided good services</td>\n",
       "      <td>4</td>\n",
       "      <td>NaN</td>\n",
       "      <td>Good</td>\n",
       "    </tr>\n",
       "    <tr>\n",
       "      <th>1</th>\n",
       "      <td>2</td>\n",
       "      <td>chitra</td>\n",
       "      <td>chitra123@gmail.com</td>\n",
       "      <td>food</td>\n",
       "      <td>The food given in the restaurant was delicious...</td>\n",
       "      <td>5</td>\n",
       "      <td>NaN</td>\n",
       "      <td>Excellent</td>\n",
       "    </tr>\n",
       "    <tr>\n",
       "      <th>2</th>\n",
       "      <td>3</td>\n",
       "      <td>saaket</td>\n",
       "      <td>saaket123@gmail.com</td>\n",
       "      <td>ambience</td>\n",
       "      <td>The relaxed ambience of Thrissur was popular w...</td>\n",
       "      <td>3</td>\n",
       "      <td>NaN</td>\n",
       "      <td>Good</td>\n",
       "    </tr>\n",
       "    <tr>\n",
       "      <th>3</th>\n",
       "      <td>4</td>\n",
       "      <td>sravani</td>\n",
       "      <td>sravani18@gmail.com</td>\n",
       "      <td>food</td>\n",
       "      <td>The historical prestige and the hotel ambience...</td>\n",
       "      <td>4</td>\n",
       "      <td>NaN</td>\n",
       "      <td>Excellent</td>\n",
       "    </tr>\n",
       "    <tr>\n",
       "      <th>4</th>\n",
       "      <td>5</td>\n",
       "      <td>rishikesh</td>\n",
       "      <td>rishikesh31@gmail.com</td>\n",
       "      <td>service</td>\n",
       "      <td>Hotel services were good</td>\n",
       "      <td>3</td>\n",
       "      <td>NaN</td>\n",
       "      <td>Very Good</td>\n",
       "    </tr>\n",
       "    <tr>\n",
       "      <th>5</th>\n",
       "      <td>6</td>\n",
       "      <td>vinay</td>\n",
       "      <td>vinay14@gmail.com</td>\n",
       "      <td>hospitality</td>\n",
       "      <td>I became ill, so I was admitted in a hospital ...</td>\n",
       "      <td>3</td>\n",
       "      <td></td>\n",
       "      <td>Bad</td>\n",
       "    </tr>\n",
       "  </tbody>\n",
       "</table>\n",
       "</div>"
      ],
      "text/plain": [
       "   id             name                              email       aspect  \\\n",
       "0   1  Yenugu Poojitha  yenugupoojithareddy3107@gmail.com      service   \n",
       "1   2           chitra                chitra123@gmail.com         food   \n",
       "2   3           saaket                saaket123@gmail.com     ambience   \n",
       "3   4          sravani                sravani18@gmail.com         food   \n",
       "4   5        rishikesh              rishikesh31@gmail.com      service   \n",
       "5   6            vinay                  vinay14@gmail.com  hospitality   \n",
       "\n",
       "                                            comments  rating Unnamed: 6  \\\n",
       "0       The tourist place had provided good services       4        NaN   \n",
       "1  The food given in the restaurant was delicious...       5        NaN   \n",
       "2  The relaxed ambience of Thrissur was popular w...       3        NaN   \n",
       "3  The historical prestige and the hotel ambience...       4        NaN   \n",
       "4                           Hotel services were good       3        NaN   \n",
       "5  I became ill, so I was admitted in a hospital ...       3              \n",
       "\n",
       "   sentiment  \n",
       "0       Good  \n",
       "1  Excellent  \n",
       "2       Good  \n",
       "3  Excellent  \n",
       "4  Very Good  \n",
       "5        Bad  "
      ]
     },
     "execution_count": 5,
     "metadata": {},
     "output_type": "execute_result"
    }
   ],
   "source": [
    "sentiment = ['Good','Excellent','Good','Excellent','Very Good','Bad']\n",
    "df['sentiment'] = sentiment\n",
    "df"
   ]
  },
  {
   "cell_type": "code",
   "execution_count": 6,
   "metadata": {},
   "outputs": [
    {
     "data": {
      "text/plain": [
       "<Figure size 2500x2000 with 0 Axes>"
      ]
     },
     "metadata": {},
     "output_type": "display_data"
    },
    {
     "data": {
      "image/png": "[encoded data removed]",
      "text/plain": [
       "<Figure size 2500x1000 with 2 Axes>"
      ]
     },
     "metadata": {},
     "output_type": "display_data"
    }
   ],
   "source": [
    "import missingno as msno\n",
    "plt.figure(figsize=(25, 20))\n",
    "msno.matrix(df, color=[0.2, 0.4, 1])\n",
    "plt.show()"
   ]
  },
  {
   "cell_type": "code",
   "execution_count": 7,
   "metadata": {},
   "outputs": [
    {
     "name": "stdout",
     "output_type": "stream",
     "text": [
      "Text before removing url:- \n",
      " ℍ𝕚 𝔼𝕧𝕖𝕣𝕪𝕠𝕟𝕖 𝕀 𝕒𝕞 𝔸𝕟𝕜𝕚𝕥 𝔾𝕦𝕡𝕥𝕒 𝕙𝕒𝕧𝕚𝕟𝕘 𝕥𝕙𝕖 𝕗𝕠𝕝𝕝𝕠𝕨𝕚𝕟𝕘 𝕂𝕒𝕘𝕘𝕝𝕖 𝕡𝕣𝕠𝕗𝕚𝕝𝕖 \n",
      " https://www.kaggle.com/nkitgupta 𝕒𝕟𝕕 𝕀 𝕒𝕞 😊 𝕥𝕠 𝕔𝕣𝕖𝕒𝕥𝕖 𝕥𝕙𝕚𝕤 𝕟𝕠𝕥𝕖𝕓𝕠𝕠𝕜\n",
      "Text after removing url:- \n",
      " ℍ𝕚 𝔼𝕧𝕖𝕣𝕪𝕠𝕟𝕖 𝕀 𝕒𝕞 𝔸𝕟𝕜𝕚𝕥 𝔾𝕦𝕡𝕥𝕒 𝕙𝕒𝕧𝕚𝕟𝕘 𝕥𝕙𝕖 𝕗𝕠𝕝𝕝𝕠𝕨𝕚𝕟𝕘 𝕂𝕒𝕘𝕘𝕝𝕖 𝕡𝕣𝕠𝕗𝕚𝕝𝕖 \n",
      "  𝕒𝕟𝕕 𝕀 𝕒𝕞 😊 𝕥𝕠 𝕔𝕣𝕖𝕒𝕥𝕖 𝕥𝕙𝕚𝕤 𝕟𝕠𝕥𝕖𝕓𝕠𝕠𝕜\n"
     ]
    }
   ],
   "source": [
    "import re\n",
    "def remove_url(text):\n",
    "    text = re.sub(r\"http\\S+\", \"\", text)\n",
    "    return text\n",
    "# Example string with weird font characters plus an URL which we gonna remove.\n",
    "sample = \"ℍ𝕚 𝔼𝕧𝕖𝕣𝕪𝕠𝕟𝕖 𝕀 𝕒𝕞 𝔸𝕟𝕜𝕚𝕥 𝔾𝕦𝕡𝕥𝕒 𝕙𝕒𝕧𝕚𝕟𝕘 𝕥𝕙𝕖 𝕗𝕠𝕝𝕝𝕠𝕨𝕚𝕟𝕘 𝕂𝕒𝕘𝕘𝕝𝕖 𝕡𝕣𝕠𝕗𝕚𝕝𝕖 \\n https://www.kaggle.com/nkitgupta 𝕒𝕟𝕕 𝕀 𝕒𝕞 😊 𝕥𝕠 𝕔𝕣𝕖𝕒𝕥𝕖 𝕥𝕙𝕚𝕤 𝕟𝕠𝕥𝕖𝕓𝕠𝕠𝕜\"\n",
    "print(f\"Text before removing url:- \\n {sample}\")\n",
    "\n",
    "sample = remove_url(sample)\n",
    "print(f\"Text after removing url:- \\n {sample}\")"
   ]
  },
  {
   "cell_type": "code",
   "execution_count": 8,
   "metadata": {},
   "outputs": [
    {
     "name": "stdout",
     "output_type": "stream",
     "text": [
      "Ç Ç\n",
      "False\n",
      "False\n"
     ]
    }
   ],
   "source": [
    "print(\"\\u00C7\", \"\\u0043\\u0327\")\n",
    "print(\"\\u00C7\" == \"\\u0043\\u0327\")\n",
    "print(\"Ç\" == \"Ç\")"
   ]
  },
  {
   "cell_type": "code",
   "execution_count": 9,
   "metadata": {},
   "outputs": [
    {
     "name": "stdout",
     "output_type": "stream",
     "text": [
      "Text before Unicode Normalization:- \n",
      " ℍ𝕚 𝔼𝕧𝕖𝕣𝕪𝕠𝕟𝕖 𝕀 𝕒𝕞 𝔸𝕟𝕜𝕚𝕥 𝔾𝕦𝕡𝕥𝕒 𝕙𝕒𝕧𝕚𝕟𝕘 𝕥𝕙𝕖 𝕗𝕠𝕝𝕝𝕠𝕨𝕚𝕟𝕘 𝕂𝕒𝕘𝕘𝕝𝕖 𝕡𝕣𝕠𝕗𝕚𝕝𝕖 \n",
      "  𝕒𝕟𝕕 𝕀 𝕒𝕞 😊 𝕥𝕠 𝕔𝕣𝕖𝕒𝕥𝕖 𝕥𝕙𝕚𝕤 𝕟𝕠𝕥𝕖𝕓𝕠𝕠𝕜\n",
      "Text after Unicode Normalization:- \n",
      " Hi Everyone I am Ankit Gupta having the following Kaggle profile \n",
      "  and I am 😊 to create this notebook\n"
     ]
    }
   ],
   "source": [
    "import unicodedata as uni\n",
    "print(f\"Text before Unicode Normalization:- \\n {sample}\")\n",
    "sample = uni.normalize('NFKD', sample)\n",
    "print(f\"Text after Unicode Normalization:- \\n {sample}\")"
   ]
  },
  {
   "cell_type": "code",
   "execution_count": 10,
   "metadata": {},
   "outputs": [
    {
     "name": "stdout",
     "output_type": "stream",
     "text": [
      "Before Handling emoji:- \n",
      " Hi Everyone I am Ankit Gupta having the following Kaggle profile \n",
      "  and I am 😊 to create this notebook\n",
      "After Handling emoji:- \n",
      " Hi Everyone I am Ankit Gupta having the following Kaggle profile \n",
      "  and I am  smiling face with smiling eyes to create this notebook\n"
     ]
    }
   ],
   "source": [
    "import demoji\n",
    "def handle_emoji(string):\n",
    "    emojis = demoji.findall(string)\n",
    "    for emoji in emojis:\n",
    "        string = string.replace(emoji, \" \" + emojis[emoji].split(\":\")[0])\n",
    "    return string\n",
    "print(f\"Before Handling emoji:- \\n {sample}\")\n",
    "print(f\"After Handling emoji:- \\n {handle_emoji(sample)}\")"
   ]
  },
  {
   "cell_type": "code",
   "execution_count": 11,
   "metadata": {},
   "outputs": [
    {
     "name": "stdout",
     "output_type": "stream",
     "text": [
      "Hi Everyone I am Ankit Gupta.\n",
      "['hi', 'everyone', 'i', 'am', 'ankit', 'gupta.']\n"
     ]
    }
   ],
   "source": [
    "def word_tokenizer(text):\n",
    "    text = text.lower()\n",
    "    text = text.split()\n",
    "    return text\n",
    "sample = \"Hi Everyone I am Ankit Gupta.\"\n",
    "print(sample)\n",
    "print(word_tokenizer(sample))"
   ]
  },
  {
   "cell_type": "code",
   "execution_count": 12,
   "metadata": {},
   "outputs": [
    {
     "name": "stdout",
     "output_type": "stream",
     "text": [
      "Stop Words in English : \n",
      "{'shouldn', \"isn't\", 'herself', \"shan't\", 'a', 'other', 'him', 'off', 'these', 'his', 'mightn', 'or', \"won't\", 'some', 'which', 'be', 'both', 'couldn', 'too', 'has', 'an', 'then', \"she's\", 'itself', 'don', 'they', 'any', 'shan', 'we', 'hadn', 'so', 'will', 'our', 't', 'their', 'when', 'there', 'very', 'under', 'few', 'for', 'were', \"mightn't\", 'her', 'such', 'he', 'you', 'further', 'haven', 'through', 'while', 'own', 'them', 'against', 'yours', 'from', \"hasn't\", \"haven't\", 'o', 'but', 'into', 'it', 'who', 'before', 'all', 'by', 'are', 'can', 'just', 're', 'been', \"it's\", \"needn't\", 'did', 'doesn', 'theirs', 'my', 'to', 'wasn', 'between', 'hasn', \"aren't\", 'me', 'aren', 'after', 'again', 'more', 'until', 'because', 'themselves', 'no', 'on', 'myself', 'being', 'in', \"couldn't\", 'yourself', 'ma', 'out', 'what', 'am', 'each', 'than', 'should', 'd', 'ain', 'didn', 'is', 'had', 'below', 'up', \"should've\", \"you'll\", 'mustn', 'ourselves', 'once', 'same', \"weren't\", \"that'll\", \"shouldn't\", \"wouldn't\", 'hers', 'where', 'that', \"don't\", 'your', 'doing', 'here', 'the', 'she', 'y', 'won', 'if', 'needn', 'its', 'during', 'as', 'only', \"mustn't\", 'i', 'down', 's', 'wouldn', 'whom', 'those', 'above', 'have', \"you're\", 'll', 'how', 'isn', 'nor', \"wasn't\", 'most', 'of', 'and', 'with', 'now', 'over', 'why', \"doesn't\", 'ours', \"hadn't\", 'at', \"didn't\", 'not', 'weren', 'm', 've', 'this', 'about', 'having', 'yourselves', 'himself', \"you'd\", 'do', 'was', \"you've\", 'does'}\n"
     ]
    }
   ],
   "source": [
    "from nltk.corpus import stopwords\n",
    "en_stopwords = set(stopwords.words('english'))\n",
    "print(f\"Stop Words in English : \\n{ en_stopwords}\")"
   ]
  },
  {
   "cell_type": "code",
   "execution_count": 13,
   "metadata": {},
   "outputs": [
    {
     "name": "stdout",
     "output_type": "stream",
     "text": [
      "Before removing stopwords : ['hi', 'everyone', 'i', 'am', 'ankit', 'gupta.']\n",
      "After removing stopwords : ['hi', 'everyone', 'ankit', 'gupta.']\n"
     ]
    }
   ],
   "source": [
    "def remove_stopwords(text):\n",
    "    text = [word for word in text if word not in en_stopwords]\n",
    "    return text\n",
    "print(f\"Before removing stopwords : {word_tokenizer(sample)}\")\n",
    "print(f\"After removing stopwords : {remove_stopwords(word_tokenizer(sample))}\")"
   ]
  },
  {
   "cell_type": "code",
   "execution_count": 14,
   "metadata": {},
   "outputs": [
    {
     "name": "stdout",
     "output_type": "stream",
     "text": [
      "Before Stemming : I am creating a Notebook\n",
      "After Stemming : ['i', 'am', 'creat', 'a', 'notebook']\n"
     ]
    }
   ],
   "source": [
    "from nltk.stem.porter import PorterStemmer\n",
    "from nltk.stem.lancaster import LancasterStemmer\n",
    "stemmer = PorterStemmer()\n",
    "# stemmer = LancasterStemmer()\n",
    "def stemming(text):\n",
    "    text = [stemmer.stem(word) for word in text]\n",
    "    return text\n",
    "sample = \"I am creating a Notebook\"\n",
    "print(f\"Before Stemming : {(sample)}\")\n",
    "print(f\"After Stemming : {stemming(word_tokenizer(sample))}\")"
   ]
  },
  {
   "cell_type": "code",
   "execution_count": 15,
   "metadata": {},
   "outputs": [
    {
     "name": "stdout",
     "output_type": "stream",
     "text": [
      "Before Lemmatization : ['i', 'am', 'creating', 'a', 'notebook']\n",
      "After Lemmatization : ['I', 'be', 'create', 'a', 'notebook']\n"
     ]
    }
   ],
   "source": [
    "import spacy\n",
    "sp = spacy.load(\"en_core_web_sm\")\n",
    "def lemmatization(text):\n",
    "    # text = [sp(word).lemma_ for word in text]\n",
    "    text = \" \".join(text)\n",
    "    token = sp(text)\n",
    "    text = [word.lemma_ for word in token]\n",
    "    return text\n",
    "\n",
    "print(f\"Before Lemmatization : {word_tokenizer(sample)}\")\n",
    "print(f\"After Lemmatization : {lemmatization(word_tokenizer(sample))}\")"
   ]
  },
  {
   "cell_type": "code",
   "execution_count": 16,
   "metadata": {},
   "outputs": [
    {
     "name": "stdout",
     "output_type": "stream",
     "text": [
      " \"Hi Everyone I am Ankit Gupta. : tl\n",
      "मेरा नाम अंकित गुप्ता है और मैं एक छात्र हूँ : hi\n"
     ]
    }
   ],
   "source": [
    "from langdetect import detect\n",
    "en_text = u\"\"\"\"Hi Everyone I am Ankit Gupta.\"\"\"\n",
    "print(f\" {en_text} : {detect(en_text)}\")\n",
    "\n",
    "hindi_text = u\"\"\"मेरा नाम अंकित गुप्ता है और मैं एक छात्र हूँ\"\"\"\n",
    "print(f\"{hindi_text} : {detect(hindi_text)}\")"
   ]
  },
  {
   "cell_type": "code",
   "execution_count": 17,
   "metadata": {},
   "outputs": [
    {
     "name": "stderr",
     "output_type": "stream",
     "text": [
      "100%|██████████| 6/6 [00:00<00:00, 5957.82it/s]\n"
     ]
    },
    {
     "data": {
      "text/html": [
       "<div>\n",
       "<style scoped>\n",
       "    .dataframe tbody tr th:only-of-type {\n",
       "        vertical-align: middle;\n",
       "    }\n",
       "\n",
       "    .dataframe tbody tr th {\n",
       "        vertical-align: top;\n",
       "    }\n",
       "\n",
       "    .dataframe thead th {\n",
       "        text-align: right;\n",
       "    }\n",
       "</style>\n",
       "<table border=\"1\" class=\"dataframe\">\n",
       "  <thead>\n",
       "    <tr style=\"text-align: right;\">\n",
       "      <th></th>\n",
       "      <th>id</th>\n",
       "      <th>name</th>\n",
       "      <th>email</th>\n",
       "      <th>aspect</th>\n",
       "      <th>comments</th>\n",
       "      <th>rating</th>\n",
       "      <th>Unnamed: 6</th>\n",
       "      <th>sentiment</th>\n",
       "      <th>y</th>\n",
       "    </tr>\n",
       "  </thead>\n",
       "  <tbody>\n",
       "    <tr>\n",
       "      <th>0</th>\n",
       "      <td>1</td>\n",
       "      <td>Yenugu Poojitha</td>\n",
       "      <td>yenugupoojithareddy3107@gmail.com</td>\n",
       "      <td>service</td>\n",
       "      <td>The tourist place had provided good services</td>\n",
       "      <td>4</td>\n",
       "      <td>NaN</td>\n",
       "      <td>Good</td>\n",
       "      <td>1</td>\n",
       "    </tr>\n",
       "    <tr>\n",
       "      <th>1</th>\n",
       "      <td>2</td>\n",
       "      <td>chitra</td>\n",
       "      <td>chitra123@gmail.com</td>\n",
       "      <td>food</td>\n",
       "      <td>The food given in the restaurant was delicious...</td>\n",
       "      <td>5</td>\n",
       "      <td>NaN</td>\n",
       "      <td>Excellent</td>\n",
       "      <td>3</td>\n",
       "    </tr>\n",
       "    <tr>\n",
       "      <th>2</th>\n",
       "      <td>3</td>\n",
       "      <td>saaket</td>\n",
       "      <td>saaket123@gmail.com</td>\n",
       "      <td>ambience</td>\n",
       "      <td>The relaxed ambience of Thrissur was popular w...</td>\n",
       "      <td>3</td>\n",
       "      <td>NaN</td>\n",
       "      <td>Good</td>\n",
       "      <td>1</td>\n",
       "    </tr>\n",
       "    <tr>\n",
       "      <th>3</th>\n",
       "      <td>4</td>\n",
       "      <td>sravani</td>\n",
       "      <td>sravani18@gmail.com</td>\n",
       "      <td>food</td>\n",
       "      <td>The historical prestige and the hotel ambience...</td>\n",
       "      <td>4</td>\n",
       "      <td>NaN</td>\n",
       "      <td>Excellent</td>\n",
       "      <td>3</td>\n",
       "    </tr>\n",
       "    <tr>\n",
       "      <th>4</th>\n",
       "      <td>5</td>\n",
       "      <td>rishikesh</td>\n",
       "      <td>rishikesh31@gmail.com</td>\n",
       "      <td>service</td>\n",
       "      <td>Hotel services were good</td>\n",
       "      <td>3</td>\n",
       "      <td>NaN</td>\n",
       "      <td>Very Good</td>\n",
       "      <td>2</td>\n",
       "    </tr>\n",
       "    <tr>\n",
       "      <th>5</th>\n",
       "      <td>6</td>\n",
       "      <td>vinay</td>\n",
       "      <td>vinay14@gmail.com</td>\n",
       "      <td>hospitality</td>\n",
       "      <td>I became ill, so I was admitted in a hospital ...</td>\n",
       "      <td>3</td>\n",
       "      <td></td>\n",
       "      <td>Bad</td>\n",
       "      <td>-1</td>\n",
       "    </tr>\n",
       "  </tbody>\n",
       "</table>\n",
       "</div>"
      ],
      "text/plain": [
       "   id             name                              email       aspect  \\\n",
       "0   1  Yenugu Poojitha  yenugupoojithareddy3107@gmail.com      service   \n",
       "1   2           chitra                chitra123@gmail.com         food   \n",
       "2   3           saaket                saaket123@gmail.com     ambience   \n",
       "3   4          sravani                sravani18@gmail.com         food   \n",
       "4   5        rishikesh              rishikesh31@gmail.com      service   \n",
       "5   6            vinay                  vinay14@gmail.com  hospitality   \n",
       "\n",
       "                                            comments  rating Unnamed: 6  \\\n",
       "0       The tourist place had provided good services       4        NaN   \n",
       "1  The food given in the restaurant was delicious...       5        NaN   \n",
       "2  The relaxed ambience of Thrissur was popular w...       3        NaN   \n",
       "3  The historical prestige and the hotel ambience...       4        NaN   \n",
       "4                           Hotel services were good       3        NaN   \n",
       "5  I became ill, so I was admitted in a hospital ...       3              \n",
       "\n",
       "   sentiment  y  \n",
       "0       Good  1  \n",
       "1  Excellent  3  \n",
       "2       Good  1  \n",
       "3  Excellent  3  \n",
       "4  Very Good  2  \n",
       "5        Bad -1  "
      ]
     },
     "execution_count": 17,
     "metadata": {},
     "output_type": "execute_result"
    }
   ],
   "source": [
    "# Assigning labels to each review\n",
    "def label(y):\n",
    "    if y=='Excellent':\n",
    "        return 3\n",
    "    elif y=='Very Good':\n",
    "        return 2\n",
    "    elif y=='Good':\n",
    "        return 1\n",
    "    else:\n",
    "        return -1\n",
    "    \n",
    "from tqdm import tqdm\n",
    "tqdm.pandas()\n",
    "df['y'] = df.sentiment.progress_map(label)\n",
    "df"
   ]
  },
  {
   "cell_type": "code",
   "execution_count": 18,
   "metadata": {},
   "outputs": [
    {
     "data": {
      "image/png": "[encoded data removed]",
      "text/plain": [
       "<Figure size 640x480 with 1 Axes>"
      ]
     },
     "metadata": {},
     "output_type": "display_data"
    }
   ],
   "source": [
    "import seaborn as sns\n",
    "sns.countplot(x = \"y\", data = df)\n",
    "plt.show()"
   ]
  },
  {
   "cell_type": "code",
   "execution_count": 19,
   "metadata": {},
   "outputs": [
    {
     "data": {
      "text/plain": [
       "2"
      ]
     },
     "execution_count": 19,
     "metadata": {},
     "output_type": "execute_result"
    }
   ],
   "source": [
    "P = df[(df['sentiment'] == 'Good')]\n",
    "positive = list(P[(P['comments'].str.len() > 4) & (P['comments'].str.len() < 350)]['comments'])\n",
    "len(positive)"
   ]
  },
  {
   "cell_type": "code",
   "execution_count": 20,
   "metadata": {},
   "outputs": [
    {
     "data": {
      "text/plain": [
       "['The tourist place had provided good services',\n",
       " 'The relaxed ambience of Thrissur was popular with temples.']"
      ]
     },
     "execution_count": 20,
     "metadata": {},
     "output_type": "execute_result"
    }
   ],
   "source": [
    "import nlpaug.augmenter.word as naw\n",
    "positive[0:49]"
   ]
  },
  {
   "cell_type": "code",
   "execution_count": 21,
   "metadata": {},
   "outputs": [
    {
     "data": {
      "text/plain": [
       "2"
      ]
     },
     "execution_count": 21,
     "metadata": {},
     "output_type": "execute_result"
    }
   ],
   "source": [
    "aug = naw.AntonymAug(name='Antonym_Aug', aug_min=1, aug_max=10, aug_p=0.3, lang='eng', stopwords=en_stopwords, tokenizer=None, \n",
    "                     reverse_tokenizer=None, stopwords_regex=None, verbose=0) \n",
    "aug_negative = aug.augment(positive)\n",
    "len(aug_negative)"
   ]
  },
  {
   "cell_type": "code",
   "execution_count": 22,
   "metadata": {},
   "outputs": [
    {
     "data": {
      "text/plain": [
       "['The tourist place had provided bad services',\n",
       " 'The tense ambience of Thrissur was unpopular with temples.']"
      ]
     },
     "execution_count": 22,
     "metadata": {},
     "output_type": "execute_result"
    }
   ],
   "source": [
    "aug_negative[0:4]"
   ]
  },
  {
   "cell_type": "code",
   "execution_count": 23,
   "metadata": {},
   "outputs": [
    {
     "name": "stderr",
     "output_type": "stream",
     "text": [
      "100%|██████████| 6/6 [00:00<00:00, 63.34it/s]\n"
     ]
    },
    {
     "data": {
      "text/html": [
       "<div>\n",
       "<style scoped>\n",
       "    .dataframe tbody tr th:only-of-type {\n",
       "        vertical-align: middle;\n",
       "    }\n",
       "\n",
       "    .dataframe tbody tr th {\n",
       "        vertical-align: top;\n",
       "    }\n",
       "\n",
       "    .dataframe thead th {\n",
       "        text-align: right;\n",
       "    }\n",
       "</style>\n",
       "<table border=\"1\" class=\"dataframe\">\n",
       "  <thead>\n",
       "    <tr style=\"text-align: right;\">\n",
       "      <th></th>\n",
       "      <th>id</th>\n",
       "      <th>name</th>\n",
       "      <th>email</th>\n",
       "      <th>aspect</th>\n",
       "      <th>comments</th>\n",
       "      <th>rating</th>\n",
       "      <th>Unnamed: 6</th>\n",
       "      <th>sentiment</th>\n",
       "      <th>y</th>\n",
       "      <th>clean_review</th>\n",
       "    </tr>\n",
       "  </thead>\n",
       "  <tbody>\n",
       "    <tr>\n",
       "      <th>0</th>\n",
       "      <td>1</td>\n",
       "      <td>Yenugu Poojitha</td>\n",
       "      <td>yenugupoojithareddy3107@gmail.com</td>\n",
       "      <td>service</td>\n",
       "      <td>The tourist place had provided good services</td>\n",
       "      <td>4</td>\n",
       "      <td>NaN</td>\n",
       "      <td>Good</td>\n",
       "      <td>1</td>\n",
       "      <td>tourist place provide good service</td>\n",
       "    </tr>\n",
       "    <tr>\n",
       "      <th>1</th>\n",
       "      <td>2</td>\n",
       "      <td>chitra</td>\n",
       "      <td>chitra123@gmail.com</td>\n",
       "      <td>food</td>\n",
       "      <td>The food given in the restaurant was delicious...</td>\n",
       "      <td>5</td>\n",
       "      <td>NaN</td>\n",
       "      <td>Excellent</td>\n",
       "      <td>3</td>\n",
       "      <td>food give restaurant delicious I find enjoyable</td>\n",
       "    </tr>\n",
       "    <tr>\n",
       "      <th>2</th>\n",
       "      <td>3</td>\n",
       "      <td>saaket</td>\n",
       "      <td>saaket123@gmail.com</td>\n",
       "      <td>ambience</td>\n",
       "      <td>The relaxed ambience of Thrissur was popular w...</td>\n",
       "      <td>3</td>\n",
       "      <td>NaN</td>\n",
       "      <td>Good</td>\n",
       "      <td>1</td>\n",
       "      <td>relaxed ambience thrissur popular temple</td>\n",
       "    </tr>\n",
       "    <tr>\n",
       "      <th>3</th>\n",
       "      <td>4</td>\n",
       "      <td>sravani</td>\n",
       "      <td>sravani18@gmail.com</td>\n",
       "      <td>food</td>\n",
       "      <td>The historical prestige and the hotel ambience...</td>\n",
       "      <td>4</td>\n",
       "      <td>NaN</td>\n",
       "      <td>Excellent</td>\n",
       "      <td>3</td>\n",
       "      <td>historical prestige hotel ambience good servic...</td>\n",
       "    </tr>\n",
       "    <tr>\n",
       "      <th>4</th>\n",
       "      <td>5</td>\n",
       "      <td>rishikesh</td>\n",
       "      <td>rishikesh31@gmail.com</td>\n",
       "      <td>service</td>\n",
       "      <td>Hotel services were good</td>\n",
       "      <td>3</td>\n",
       "      <td>NaN</td>\n",
       "      <td>Very Good</td>\n",
       "      <td>2</td>\n",
       "      <td>hotel service good</td>\n",
       "    </tr>\n",
       "    <tr>\n",
       "      <th>5</th>\n",
       "      <td>6</td>\n",
       "      <td>vinay</td>\n",
       "      <td>vinay14@gmail.com</td>\n",
       "      <td>hospitality</td>\n",
       "      <td>I became ill, so I was admitted in a hospital ...</td>\n",
       "      <td>3</td>\n",
       "      <td></td>\n",
       "      <td>Bad</td>\n",
       "      <td>-1</td>\n",
       "      <td>I become ill I admit hospital 3 day</td>\n",
       "    </tr>\n",
       "  </tbody>\n",
       "</table>\n",
       "</div>"
      ],
      "text/plain": [
       "   id             name                              email       aspect  \\\n",
       "0   1  Yenugu Poojitha  yenugupoojithareddy3107@gmail.com      service   \n",
       "1   2           chitra                chitra123@gmail.com         food   \n",
       "2   3           saaket                saaket123@gmail.com     ambience   \n",
       "3   4          sravani                sravani18@gmail.com         food   \n",
       "4   5        rishikesh              rishikesh31@gmail.com      service   \n",
       "5   6            vinay                  vinay14@gmail.com  hospitality   \n",
       "\n",
       "                                            comments  rating Unnamed: 6  \\\n",
       "0       The tourist place had provided good services       4        NaN   \n",
       "1  The food given in the restaurant was delicious...       5        NaN   \n",
       "2  The relaxed ambience of Thrissur was popular w...       3        NaN   \n",
       "3  The historical prestige and the hotel ambience...       4        NaN   \n",
       "4                           Hotel services were good       3        NaN   \n",
       "5  I became ill, so I was admitted in a hospital ...       3              \n",
       "\n",
       "   sentiment  y                                       clean_review  \n",
       "0       Good  1                 tourist place provide good service  \n",
       "1  Excellent  3    food give restaurant delicious I find enjoyable  \n",
       "2       Good  1           relaxed ambience thrissur popular temple  \n",
       "3  Excellent  3  historical prestige hotel ambience good servic...  \n",
       "4  Very Good  2                                 hotel service good  \n",
       "5        Bad -1                I become ill I admit hospital 3 day  "
      ]
     },
     "execution_count": 23,
     "metadata": {},
     "output_type": "execute_result"
    }
   ],
   "source": [
    "def preprocessing(text):\n",
    "    text = remove_url(text) \n",
    "    text = uni.normalize('NFKD', text)\n",
    "    text = handle_emoji(text)\n",
    "    text = text.lower() \n",
    "    text = re.sub(r'[^\\w\\s]', '', text)\n",
    "    text = word_tokenizer(text)\n",
    "    # text = stemming(text)\n",
    "    text = lemmatization(text)\n",
    "    text = remove_stopwords(text)\n",
    "    text = \" \".join(text)\n",
    "    return text\n",
    "from tqdm import tqdm\n",
    "tqdm.pandas()\n",
    "df['clean_review'] = df['comments'].progress_map(preprocessing)\n",
    "df"
   ]
  },
  {
   "cell_type": "code",
   "execution_count": 24,
   "metadata": {},
   "outputs": [
    {
     "name": "stderr",
     "output_type": "stream",
     "text": [
      "100%|██████████| 6/6 [00:00<00:00, 6001.87it/s]\n"
     ]
    }
   ],
   "source": [
    "reviews = df.clean_review.values.tolist()\n",
    "from tqdm import tqdm\n",
    "tqdm.pandas()\n",
    "df['clean_review2'] = df['clean_review'].progress_map(word_tokenizer)"
   ]
  },
  {
   "cell_type": "code",
   "execution_count": 25,
   "metadata": {},
   "outputs": [
    {
     "data": {
      "text/html": [
       "<div>\n",
       "<style scoped>\n",
       "    .dataframe tbody tr th:only-of-type {\n",
       "        vertical-align: middle;\n",
       "    }\n",
       "\n",
       "    .dataframe tbody tr th {\n",
       "        vertical-align: top;\n",
       "    }\n",
       "\n",
       "    .dataframe thead th {\n",
       "        text-align: right;\n",
       "    }\n",
       "</style>\n",
       "<table border=\"1\" class=\"dataframe\">\n",
       "  <thead>\n",
       "    <tr style=\"text-align: right;\">\n",
       "      <th></th>\n",
       "      <th>id</th>\n",
       "      <th>name</th>\n",
       "      <th>email</th>\n",
       "      <th>aspect</th>\n",
       "      <th>comments</th>\n",
       "      <th>rating</th>\n",
       "      <th>Unnamed: 6</th>\n",
       "      <th>sentiment</th>\n",
       "      <th>y</th>\n",
       "      <th>clean_review</th>\n",
       "      <th>clean_review2</th>\n",
       "    </tr>\n",
       "  </thead>\n",
       "  <tbody>\n",
       "    <tr>\n",
       "      <th>0</th>\n",
       "      <td>1</td>\n",
       "      <td>Yenugu Poojitha</td>\n",
       "      <td>yenugupoojithareddy3107@gmail.com</td>\n",
       "      <td>service</td>\n",
       "      <td>The tourist place had provided good services</td>\n",
       "      <td>4</td>\n",
       "      <td>NaN</td>\n",
       "      <td>Good</td>\n",
       "      <td>1</td>\n",
       "      <td>tourist place provide good service</td>\n",
       "      <td>[tourist, place, provide, good, service]</td>\n",
       "    </tr>\n",
       "    <tr>\n",
       "      <th>1</th>\n",
       "      <td>2</td>\n",
       "      <td>chitra</td>\n",
       "      <td>chitra123@gmail.com</td>\n",
       "      <td>food</td>\n",
       "      <td>The food given in the restaurant was delicious...</td>\n",
       "      <td>5</td>\n",
       "      <td>NaN</td>\n",
       "      <td>Excellent</td>\n",
       "      <td>3</td>\n",
       "      <td>food give restaurant delicious I find enjoyable</td>\n",
       "      <td>[food, give, restaurant, delicious, i, find, e...</td>\n",
       "    </tr>\n",
       "    <tr>\n",
       "      <th>2</th>\n",
       "      <td>3</td>\n",
       "      <td>saaket</td>\n",
       "      <td>saaket123@gmail.com</td>\n",
       "      <td>ambience</td>\n",
       "      <td>The relaxed ambience of Thrissur was popular w...</td>\n",
       "      <td>3</td>\n",
       "      <td>NaN</td>\n",
       "      <td>Good</td>\n",
       "      <td>1</td>\n",
       "      <td>relaxed ambience thrissur popular temple</td>\n",
       "      <td>[relaxed, ambience, thrissur, popular, temple]</td>\n",
       "    </tr>\n",
       "    <tr>\n",
       "      <th>3</th>\n",
       "      <td>4</td>\n",
       "      <td>sravani</td>\n",
       "      <td>sravani18@gmail.com</td>\n",
       "      <td>food</td>\n",
       "      <td>The historical prestige and the hotel ambience...</td>\n",
       "      <td>4</td>\n",
       "      <td>NaN</td>\n",
       "      <td>Excellent</td>\n",
       "      <td>3</td>\n",
       "      <td>historical prestige hotel ambience good servic...</td>\n",
       "      <td>[historical, prestige, hotel, ambience, good, ...</td>\n",
       "    </tr>\n",
       "    <tr>\n",
       "      <th>4</th>\n",
       "      <td>5</td>\n",
       "      <td>rishikesh</td>\n",
       "      <td>rishikesh31@gmail.com</td>\n",
       "      <td>service</td>\n",
       "      <td>Hotel services were good</td>\n",
       "      <td>3</td>\n",
       "      <td>NaN</td>\n",
       "      <td>Very Good</td>\n",
       "      <td>2</td>\n",
       "      <td>hotel service good</td>\n",
       "      <td>[hotel, service, good]</td>\n",
       "    </tr>\n",
       "    <tr>\n",
       "      <th>5</th>\n",
       "      <td>6</td>\n",
       "      <td>vinay</td>\n",
       "      <td>vinay14@gmail.com</td>\n",
       "      <td>hospitality</td>\n",
       "      <td>I became ill, so I was admitted in a hospital ...</td>\n",
       "      <td>3</td>\n",
       "      <td></td>\n",
       "      <td>Bad</td>\n",
       "      <td>-1</td>\n",
       "      <td>I become ill I admit hospital 3 day</td>\n",
       "      <td>[i, become, ill, i, admit, hospital, 3, day]</td>\n",
       "    </tr>\n",
       "  </tbody>\n",
       "</table>\n",
       "</div>"
      ],
      "text/plain": [
       "   id             name                              email       aspect  \\\n",
       "0   1  Yenugu Poojitha  yenugupoojithareddy3107@gmail.com      service   \n",
       "1   2           chitra                chitra123@gmail.com         food   \n",
       "2   3           saaket                saaket123@gmail.com     ambience   \n",
       "3   4          sravani                sravani18@gmail.com         food   \n",
       "4   5        rishikesh              rishikesh31@gmail.com      service   \n",
       "5   6            vinay                  vinay14@gmail.com  hospitality   \n",
       "\n",
       "                                            comments  rating Unnamed: 6  \\\n",
       "0       The tourist place had provided good services       4        NaN   \n",
       "1  The food given in the restaurant was delicious...       5        NaN   \n",
       "2  The relaxed ambience of Thrissur was popular w...       3        NaN   \n",
       "3  The historical prestige and the hotel ambience...       4        NaN   \n",
       "4                           Hotel services were good       3        NaN   \n",
       "5  I became ill, so I was admitted in a hospital ...       3              \n",
       "\n",
       "   sentiment  y                                       clean_review  \\\n",
       "0       Good  1                 tourist place provide good service   \n",
       "1  Excellent  3    food give restaurant delicious I find enjoyable   \n",
       "2       Good  1           relaxed ambience thrissur popular temple   \n",
       "3  Excellent  3  historical prestige hotel ambience good servic...   \n",
       "4  Very Good  2                                 hotel service good   \n",
       "5        Bad -1                I become ill I admit hospital 3 day   \n",
       "\n",
       "                                       clean_review2  \n",
       "0           [tourist, place, provide, good, service]  \n",
       "1  [food, give, restaurant, delicious, i, find, e...  \n",
       "2     [relaxed, ambience, thrissur, popular, temple]  \n",
       "3  [historical, prestige, hotel, ambience, good, ...  \n",
       "4                             [hotel, service, good]  \n",
       "5       [i, become, ill, i, admit, hospital, 3, day]  "
      ]
     },
     "execution_count": 25,
     "metadata": {},
     "output_type": "execute_result"
    }
   ],
   "source": [
    "df"
   ]
  },
  {
   "cell_type": "code",
   "execution_count": 26,
   "metadata": {},
   "outputs": [
    {
     "name": "stdout",
     "output_type": "stream",
     "text": [
      "[['tourist', 'place', 'provide', 'good', 'service'], ['food', 'give', 'restaurant', 'delicious', 'i', 'find', 'enjoyable'], ['relaxed', 'ambience', 'thrissur', 'popular', 'temple'], ['historical', 'prestige', 'hotel', 'ambience', 'good', 'service', 'point', 'good', 'trip'], ['hotel', 'service', 'good'], ['i', 'become', 'ill', 'i', 'admit', 'hospital', '3', 'day']]\n",
      "6\n"
     ]
    }
   ],
   "source": [
    "data_words = df['clean_review2'].values.tolist()\n",
    "print(data_words)\n",
    "print(len(data_words))"
   ]
  },
  {
   "cell_type": "code",
   "execution_count": 28,
   "metadata": {},
   "outputs": [
    {
     "name": "stdout",
     "output_type": "stream",
     "text": [
      "[(0, 1), (1, 1), (2, 1), (3, 1), (4, 1)]\n"
     ]
    }
   ],
   "source": [
    "import gensim.corpora as corpora\n",
    "# Create Dictionary\n",
    "id2word = corpora.Dictionary(data_words)\n",
    "# Create Corpus\n",
    "texts = data_words\n",
    "# Term Document Frequency\n",
    "corpus = [id2word.doc2bow(text) for text in texts]\n",
    "# View\n",
    "print(corpus[:1][0][:30])"
   ]
  },
  {
   "cell_type": "code",
   "execution_count": 29,
   "metadata": {},
   "outputs": [
    {
     "name": "stdout",
     "output_type": "stream",
     "text": [
      "[(0,\n",
      "  '0.036*\"good\" + 0.036*\"service\" + 0.036*\"hotel\" + 0.036*\"i\" + '\n",
      "  '0.036*\"popular\" + 0.036*\"temple\" + 0.036*\"ambience\" + 0.036*\"place\" + '\n",
      "  '0.036*\"provide\" + 0.036*\"thrissur\"'),\n",
      " (1,\n",
      "  '0.036*\"service\" + 0.036*\"good\" + 0.036*\"i\" + 0.036*\"ambience\" + '\n",
      "  '0.036*\"hotel\" + 0.036*\"provide\" + 0.036*\"place\" + 0.036*\"tourist\" + '\n",
      "  '0.036*\"restaurant\" + 0.036*\"popular\"'),\n",
      " (2,\n",
      "  '0.036*\"good\" + 0.036*\"service\" + 0.036*\"i\" + 0.036*\"hotel\" + '\n",
      "  '0.036*\"ambience\" + 0.036*\"popular\" + 0.036*\"temple\" + 0.036*\"tourist\" + '\n",
      "  '0.036*\"provide\" + 0.036*\"place\"'),\n",
      " (3,\n",
      "  '0.112*\"i\" + 0.112*\"delicious\" + 0.112*\"food\" + 0.112*\"enjoyable\" + '\n",
      "  '0.112*\"find\" + 0.112*\"give\" + 0.112*\"restaurant\" + 0.010*\"good\" + '\n",
      "  '0.010*\"service\" + 0.010*\"hotel\"'),\n",
      " (4,\n",
      "  '0.036*\"good\" + 0.036*\"service\" + 0.036*\"hotel\" + 0.036*\"i\" + '\n",
      "  '0.036*\"provide\" + 0.036*\"popular\" + 0.036*\"place\" + 0.036*\"tourist\" + '\n",
      "  '0.036*\"ambience\" + 0.036*\"temple\"'),\n",
      " (5,\n",
      "  '0.036*\"good\" + 0.036*\"service\" + 0.036*\"hotel\" + 0.036*\"i\" + '\n",
      "  '0.036*\"ambience\" + 0.036*\"provide\" + 0.036*\"place\" + 0.036*\"temple\" + '\n",
      "  '0.036*\"thrissur\" + 0.036*\"popular\"'),\n",
      " (6,\n",
      "  '0.141*\"ambience\" + 0.141*\"relaxed\" + 0.141*\"thrissur\" + 0.141*\"temple\" + '\n",
      "  '0.141*\"popular\" + 0.013*\"good\" + 0.013*\"service\" + 0.013*\"hotel\" + '\n",
      "  '0.013*\"i\" + 0.013*\"provide\"'),\n",
      " (7,\n",
      "  '0.152*\"i\" + 0.080*\"3\" + 0.080*\"admit\" + 0.080*\"become\" + 0.080*\"day\" + '\n",
      "  '0.080*\"hospital\" + 0.080*\"ill\" + 0.080*\"service\" + 0.080*\"hotel\" + '\n",
      "  '0.080*\"good\"'),\n",
      " (8,\n",
      "  '0.178*\"good\" + 0.093*\"hotel\" + 0.093*\"service\" + 0.093*\"ambience\" + '\n",
      "  '0.093*\"prestige\" + 0.093*\"historical\" + 0.093*\"trip\" + 0.093*\"point\" + '\n",
      "  '0.008*\"i\" + 0.008*\"provide\"'),\n",
      " (9,\n",
      "  '0.141*\"good\" + 0.141*\"service\" + 0.141*\"tourist\" + 0.141*\"place\" + '\n",
      "  '0.141*\"provide\" + 0.013*\"i\" + 0.013*\"ambience\" + 0.013*\"hotel\" + '\n",
      "  '0.013*\"popular\" + 0.013*\"relaxed\"')]\n"
     ]
    }
   ],
   "source": [
    "from gensim.models import LdaMulticore\n",
    "from gensim.models import LdaModel\n",
    "from pprint import pprint\n",
    "# number of topics\n",
    "num_topics = 10\n",
    "# Build LDA model\n",
    "lda_model = LdaMulticore(corpus=corpus, id2word=id2word,\n",
    "                     num_topics=num_topics, iterations=400)\n",
    "# Print the Keyword in the 10 topics\n",
    "pprint(lda_model.print_topics())\n",
    "doc_lda = lda_model[corpus]"
   ]
  },
  {
   "cell_type": "code",
   "execution_count": 35,
   "metadata": {},
   "outputs": [
    {
     "name": "stdout",
     "output_type": "stream",
     "text": [
      "FastText<vocab=28, vector_size=100, alpha=0.025>\n",
      "CPU times: total: 1.03 s\n",
      "Wall time: 2.37 s\n"
     ]
    }
   ],
   "source": [
    "%%time\n",
    "from gensim.models import FastText\n",
    "fasttext_model = FastText(data_words, vector_size= 100, window=100, min_count=1, workers=5,sg=1)\n",
    "print(fasttext_model)"
   ]
  },
  {
   "cell_type": "code",
   "execution_count": 31,
   "metadata": {},
   "outputs": [
    {
     "name": "stdout",
     "output_type": "stream",
     "text": [
      "FastText<vocab=28, vector_size=100, alpha=0.025>\n",
      "CPU times: total: 1.3 s\n",
      "Wall time: 3.32 s\n"
     ]
    }
   ],
   "source": [
    "%%time\n",
    "from gensim.models import FastText\n",
    "fasttext_model1 = FastText(data_words, vector_size= 100, window=100, min_count=1, workers=5,sg=1)\n",
    "print(fasttext_model1)"
   ]
  },
  {
   "cell_type": "code",
   "execution_count": 32,
   "metadata": {},
   "outputs": [
    {
     "name": "stdout",
     "output_type": "stream",
     "text": [
      "FastText<vocab=28, vector_size=100, alpha=0.025>\n",
      "CPU times: total: 938 ms\n",
      "Wall time: 1.82 s\n"
     ]
    }
   ],
   "source": [
    "%%time\n",
    "from gensim.models import FastText\n",
    "fasttext_model2 = FastText(data_words, vector_size= 100, window=100, min_count=1, workers=5,sg=1)\n",
    "print(fasttext_model2)"
   ]
  },
  {
   "cell_type": "code",
   "execution_count": 33,
   "metadata": {},
   "outputs": [
    {
     "name": "stdout",
     "output_type": "stream",
     "text": [
      "FastText<vocab=28, vector_size=100, alpha=0.025>\n",
      "CPU times: total: 2.48 s\n",
      "Wall time: 3.9 s\n"
     ]
    }
   ],
   "source": [
    "%%time\n",
    "from gensim.models import FastText\n",
    "fasttext_model3 = FastText(data_words, vector_size= 100, window=100, min_count=1, workers=5,sg=1)\n",
    "print(fasttext_model3)"
   ]
  },
  {
   "cell_type": "code",
   "execution_count": 36,
   "metadata": {},
   "outputs": [
    {
     "name": "stdout",
     "output_type": "stream",
     "text": [
      "0.15506539\n",
      "0.73245305\n"
     ]
    }
   ],
   "source": [
    "fasttext_model.save(\"FastText-Model-For-ABSA.bin\")\n",
    "print(fasttext_model.wv.n_similarity(\"Very Good\",\"service\"))\n",
    "print(fasttext_model.wv.n_similarity(\"Hotel services were good\",\"service\"))"
   ]
  },
  {
   "cell_type": "code",
   "execution_count": 37,
   "metadata": {},
   "outputs": [
    {
     "name": "stdout",
     "output_type": "stream",
     "text": [
      "-0.10728478\n",
      "0.2123122\n"
     ]
    }
   ],
   "source": [
    "fasttext_model1.save(\"FastText-Model-For-ABSA-1.bin\")\n",
    "print(fasttext_model.wv.n_similarity(\"Excellent\",\"food\"))\n",
    "print(fasttext_model.wv.n_similarity(\"The historical prestige and the hotel ambience was good and the service was on point. Good trip!\",\"food\"))"
   ]
  },
  {
   "cell_type": "code",
   "execution_count": 38,
   "metadata": {},
   "outputs": [
    {
     "name": "stdout",
     "output_type": "stream",
     "text": [
      "0.32133222\n",
      "0.5149182\n"
     ]
    }
   ],
   "source": [
    "fasttext_model2.save(\"FastText-Model-For-ABSA-2.bin\")\n",
    "print(fasttext_model.wv.n_similarity(\"Bad\",\"hospitality\"))\n",
    "print(fasttext_model.wv.n_similarity(\"I became ill, so I was admitted in a hospital for 3 days.\",\"hospitality\"))"
   ]
  },
  {
   "cell_type": "code",
   "execution_count": 39,
   "metadata": {},
   "outputs": [
    {
     "name": "stdout",
     "output_type": "stream",
     "text": [
      "-0.019609755\n",
      "0.58824587\n"
     ]
    }
   ],
   "source": [
    "fasttext_model3.save(\"FastText-Model-For-ABSA-3.bin\")\n",
    "print(fasttext_model.wv.n_similarity(\"Good\",\"ambience\"))\n",
    "print(fasttext_model.wv.n_similarity(\"The relaxed ambience of Thrissur was popular with temples.\",\"ambience\"))"
   ]
  },
  {
   "cell_type": "code",
   "execution_count": 40,
   "metadata": {},
   "outputs": [
    {
     "data": {
      "text/html": [
       "<div>\n",
       "<style scoped>\n",
       "    .dataframe tbody tr th:only-of-type {\n",
       "        vertical-align: middle;\n",
       "    }\n",
       "\n",
       "    .dataframe tbody tr th {\n",
       "        vertical-align: top;\n",
       "    }\n",
       "\n",
       "    .dataframe thead th {\n",
       "        text-align: right;\n",
       "    }\n",
       "</style>\n",
       "<table border=\"1\" class=\"dataframe\">\n",
       "  <thead>\n",
       "    <tr style=\"text-align: right;\">\n",
       "      <th></th>\n",
       "      <th>id</th>\n",
       "      <th>name</th>\n",
       "      <th>email</th>\n",
       "      <th>aspect</th>\n",
       "      <th>comments</th>\n",
       "      <th>rating</th>\n",
       "      <th>Unnamed: 6</th>\n",
       "      <th>sentiment</th>\n",
       "      <th>y</th>\n",
       "      <th>clean_review</th>\n",
       "      <th>clean_review2</th>\n",
       "    </tr>\n",
       "  </thead>\n",
       "  <tbody>\n",
       "    <tr>\n",
       "      <th>0</th>\n",
       "      <td>1</td>\n",
       "      <td>Yenugu Poojitha</td>\n",
       "      <td>yenugupoojithareddy3107@gmail.com</td>\n",
       "      <td>service</td>\n",
       "      <td>The tourist place had provided good services</td>\n",
       "      <td>4</td>\n",
       "      <td>NaN</td>\n",
       "      <td>Good</td>\n",
       "      <td>1</td>\n",
       "      <td>tourist place provide good service</td>\n",
       "      <td>[tourist, place, provide, good, service]</td>\n",
       "    </tr>\n",
       "    <tr>\n",
       "      <th>1</th>\n",
       "      <td>2</td>\n",
       "      <td>chitra</td>\n",
       "      <td>chitra123@gmail.com</td>\n",
       "      <td>food</td>\n",
       "      <td>The food given in the restaurant was delicious...</td>\n",
       "      <td>5</td>\n",
       "      <td>NaN</td>\n",
       "      <td>Excellent</td>\n",
       "      <td>3</td>\n",
       "      <td>food give restaurant delicious I find enjoyable</td>\n",
       "      <td>[food, give, restaurant, delicious, i, find, e...</td>\n",
       "    </tr>\n",
       "    <tr>\n",
       "      <th>2</th>\n",
       "      <td>3</td>\n",
       "      <td>saaket</td>\n",
       "      <td>saaket123@gmail.com</td>\n",
       "      <td>ambience</td>\n",
       "      <td>The relaxed ambience of Thrissur was popular w...</td>\n",
       "      <td>3</td>\n",
       "      <td>NaN</td>\n",
       "      <td>Good</td>\n",
       "      <td>1</td>\n",
       "      <td>relaxed ambience thrissur popular temple</td>\n",
       "      <td>[relaxed, ambience, thrissur, popular, temple]</td>\n",
       "    </tr>\n",
       "    <tr>\n",
       "      <th>3</th>\n",
       "      <td>4</td>\n",
       "      <td>sravani</td>\n",
       "      <td>sravani18@gmail.com</td>\n",
       "      <td>food</td>\n",
       "      <td>The historical prestige and the hotel ambience...</td>\n",
       "      <td>4</td>\n",
       "      <td>NaN</td>\n",
       "      <td>Excellent</td>\n",
       "      <td>3</td>\n",
       "      <td>historical prestige hotel ambience good servic...</td>\n",
       "      <td>[historical, prestige, hotel, ambience, good, ...</td>\n",
       "    </tr>\n",
       "    <tr>\n",
       "      <th>4</th>\n",
       "      <td>5</td>\n",
       "      <td>rishikesh</td>\n",
       "      <td>rishikesh31@gmail.com</td>\n",
       "      <td>service</td>\n",
       "      <td>Hotel services were good</td>\n",
       "      <td>3</td>\n",
       "      <td>NaN</td>\n",
       "      <td>Very Good</td>\n",
       "      <td>2</td>\n",
       "      <td>hotel service good</td>\n",
       "      <td>[hotel, service, good]</td>\n",
       "    </tr>\n",
       "    <tr>\n",
       "      <th>5</th>\n",
       "      <td>6</td>\n",
       "      <td>vinay</td>\n",
       "      <td>vinay14@gmail.com</td>\n",
       "      <td>hospitality</td>\n",
       "      <td>I became ill, so I was admitted in a hospital ...</td>\n",
       "      <td>3</td>\n",
       "      <td></td>\n",
       "      <td>Bad</td>\n",
       "      <td>-1</td>\n",
       "      <td>I become ill I admit hospital 3 day</td>\n",
       "      <td>[i, become, ill, i, admit, hospital, 3, day]</td>\n",
       "    </tr>\n",
       "  </tbody>\n",
       "</table>\n",
       "</div>"
      ],
      "text/plain": [
       "   id             name                              email       aspect  \\\n",
       "0   1  Yenugu Poojitha  yenugupoojithareddy3107@gmail.com      service   \n",
       "1   2           chitra                chitra123@gmail.com         food   \n",
       "2   3           saaket                saaket123@gmail.com     ambience   \n",
       "3   4          sravani                sravani18@gmail.com         food   \n",
       "4   5        rishikesh              rishikesh31@gmail.com      service   \n",
       "5   6            vinay                  vinay14@gmail.com  hospitality   \n",
       "\n",
       "                                            comments  rating Unnamed: 6  \\\n",
       "0       The tourist place had provided good services       4        NaN   \n",
       "1  The food given in the restaurant was delicious...       5        NaN   \n",
       "2  The relaxed ambience of Thrissur was popular w...       3        NaN   \n",
       "3  The historical prestige and the hotel ambience...       4        NaN   \n",
       "4                           Hotel services were good       3        NaN   \n",
       "5  I became ill, so I was admitted in a hospital ...       3              \n",
       "\n",
       "   sentiment  y                                       clean_review  \\\n",
       "0       Good  1                 tourist place provide good service   \n",
       "1  Excellent  3    food give restaurant delicious I find enjoyable   \n",
       "2       Good  1           relaxed ambience thrissur popular temple   \n",
       "3  Excellent  3  historical prestige hotel ambience good servic...   \n",
       "4  Very Good  2                                 hotel service good   \n",
       "5        Bad -1                I become ill I admit hospital 3 day   \n",
       "\n",
       "                                       clean_review2  \n",
       "0           [tourist, place, provide, good, service]  \n",
       "1  [food, give, restaurant, delicious, i, find, e...  \n",
       "2     [relaxed, ambience, thrissur, popular, temple]  \n",
       "3  [historical, prestige, hotel, ambience, good, ...  \n",
       "4                             [hotel, service, good]  \n",
       "5       [i, become, ill, i, admit, hospital, 3, day]  "
      ]
     },
     "execution_count": 40,
     "metadata": {},
     "output_type": "execute_result"
    }
   ],
   "source": [
    "sentiment = ['Good','Excellent','Good','Excellent','Very Good','Bad']\n",
    "df['sentiment'] = sentiment\n",
    "df"
   ]
  },
  {
   "cell_type": "code",
   "execution_count": 41,
   "metadata": {},
   "outputs": [
    {
     "data": {
      "text/plain": [
       "<Figure size 2500x2000 with 0 Axes>"
      ]
     },
     "metadata": {},
     "output_type": "display_data"
    },
    {
     "data": {
      "image/png": "[encoded data removed]",
      "text/plain": [
       "<Figure size 2500x1000 with 2 Axes>"
      ]
     },
     "metadata": {},
     "output_type": "display_data"
    }
   ],
   "source": [
    "import missingno as msno\n",
    "plt.figure(figsize=(25, 20))\n",
    "msno.matrix(df, color=[0.2, 0.4, 1])\n",
    "plt.show()"
   ]
  },
  {
   "cell_type": "code",
   "execution_count": 42,
   "metadata": {},
   "outputs": [
    {
     "name": "stdout",
     "output_type": "stream",
     "text": [
      "Text before removing url:- \n",
      " ℍ𝕚 𝔼𝕧𝕖𝕣𝕪𝕠𝕟𝕖 𝕀 𝕒𝕞 𝔸𝕟𝕜𝕚𝕥 𝔾𝕦𝕡𝕥𝕒 𝕙𝕒𝕧𝕚𝕟𝕘 𝕥𝕙𝕖 𝕗𝕠𝕝𝕝𝕠𝕨𝕚𝕟𝕘 𝕂𝕒𝕘𝕘𝕝𝕖 𝕡𝕣𝕠𝕗𝕚𝕝𝕖 \n",
      " https://www.kaggle.com/nkitgupta 𝕒𝕟𝕕 𝕀 𝕒𝕞 😊 𝕥𝕠 𝕔𝕣𝕖𝕒𝕥𝕖 𝕥𝕙𝕚𝕤 𝕟𝕠𝕥𝕖𝕓𝕠𝕠𝕜\n",
      "Text after removing url:- \n",
      " ℍ𝕚 𝔼𝕧𝕖𝕣𝕪𝕠𝕟𝕖 𝕀 𝕒𝕞 𝔸𝕟𝕜𝕚𝕥 𝔾𝕦𝕡𝕥𝕒 𝕙𝕒𝕧𝕚𝕟𝕘 𝕥𝕙𝕖 𝕗𝕠𝕝𝕝𝕠𝕨𝕚𝕟𝕘 𝕂𝕒𝕘𝕘𝕝𝕖 𝕡𝕣𝕠𝕗𝕚𝕝𝕖 \n",
      "  𝕒𝕟𝕕 𝕀 𝕒𝕞 😊 𝕥𝕠 𝕔𝕣𝕖𝕒𝕥𝕖 𝕥𝕙𝕚𝕤 𝕟𝕠𝕥𝕖𝕓𝕠𝕠𝕜\n"
     ]
    }
   ],
   "source": [
    "import re\n",
    "def remove_url(text):\n",
    "    text = re.sub(r\"http\\S+\", \"\", text)\n",
    "    return text\n",
    "# Example string with weird font characters plus an URL which we gonna remove.\n",
    "sample = \"ℍ𝕚 𝔼𝕧𝕖𝕣𝕪𝕠𝕟𝕖 𝕀 𝕒𝕞 𝔸𝕟𝕜𝕚𝕥 𝔾𝕦𝕡𝕥𝕒 𝕙𝕒𝕧𝕚𝕟𝕘 𝕥𝕙𝕖 𝕗𝕠𝕝𝕝𝕠𝕨𝕚𝕟𝕘 𝕂𝕒𝕘𝕘𝕝𝕖 𝕡𝕣𝕠𝕗𝕚𝕝𝕖 \\n https://www.kaggle.com/nkitgupta 𝕒𝕟𝕕 𝕀 𝕒𝕞 😊 𝕥𝕠 𝕔𝕣𝕖𝕒𝕥𝕖 𝕥𝕙𝕚𝕤 𝕟𝕠𝕥𝕖𝕓𝕠𝕠𝕜\"\n",
    "print(f\"Text before removing url:- \\n {sample}\")\n",
    "\n",
    "sample = remove_url(sample)\n",
    "print(f\"Text after removing url:- \\n {sample}\")"
   ]
  },
  {
   "cell_type": "code",
   "execution_count": 43,
   "metadata": {},
   "outputs": [
    {
     "name": "stdout",
     "output_type": "stream",
     "text": [
      "Ç Ç\n",
      "False\n",
      "False\n"
     ]
    }
   ],
   "source": [
    "print(\"\\u00C7\", \"\\u0043\\u0327\")\n",
    "print(\"\\u00C7\" == \"\\u0043\\u0327\")\n",
    "print(\"Ç\" == \"Ç\")"
   ]
  },
  {
   "cell_type": "code",
   "execution_count": 44,
   "metadata": {},
   "outputs": [
    {
     "name": "stdout",
     "output_type": "stream",
     "text": [
      "Text before Unicode Normalization:- \n",
      " ℍ𝕚 𝔼𝕧𝕖𝕣𝕪𝕠𝕟𝕖 𝕀 𝕒𝕞 𝔸𝕟𝕜𝕚𝕥 𝔾𝕦𝕡𝕥𝕒 𝕙𝕒𝕧𝕚𝕟𝕘 𝕥𝕙𝕖 𝕗𝕠𝕝𝕝𝕠𝕨𝕚𝕟𝕘 𝕂𝕒𝕘𝕘𝕝𝕖 𝕡𝕣𝕠𝕗𝕚𝕝𝕖 \n",
      "  𝕒𝕟𝕕 𝕀 𝕒𝕞 😊 𝕥𝕠 𝕔𝕣𝕖𝕒𝕥𝕖 𝕥𝕙𝕚𝕤 𝕟𝕠𝕥𝕖𝕓𝕠𝕠𝕜\n",
      "Text after Unicode Normalization:- \n",
      " Hi Everyone I am Ankit Gupta having the following Kaggle profile \n",
      "  and I am 😊 to create this notebook\n"
     ]
    }
   ],
   "source": [
    "import unicodedata as uni\n",
    "print(f\"Text before Unicode Normalization:- \\n {sample}\")\n",
    "sample = uni.normalize('NFKD', sample)\n",
    "print(f\"Text after Unicode Normalization:- \\n {sample}\")"
   ]
  },
  {
   "cell_type": "code",
   "execution_count": 45,
   "metadata": {},
   "outputs": [
    {
     "name": "stdout",
     "output_type": "stream",
     "text": [
      "Before Handling emoji:- \n",
      " Hi Everyone I am Ankit Gupta having the following Kaggle profile \n",
      "  and I am 😊 to create this notebook\n",
      "After Handling emoji:- \n",
      " Hi Everyone I am Ankit Gupta having the following Kaggle profile \n",
      "  and I am  smiling face with smiling eyes to create this notebook\n"
     ]
    }
   ],
   "source": [
    "import demoji\n",
    "def handle_emoji(string):\n",
    "    emojis = demoji.findall(string)\n",
    "    for emoji in emojis:\n",
    "        string = string.replace(emoji, \" \" + emojis[emoji].split(\":\")[0])\n",
    "    return string\n",
    "print(f\"Before Handling emoji:- \\n {sample}\")\n",
    "print(f\"After Handling emoji:- \\n {handle_emoji(sample)}\")"
   ]
  },
  {
   "cell_type": "code",
   "execution_count": 46,
   "metadata": {},
   "outputs": [
    {
     "name": "stdout",
     "output_type": "stream",
     "text": [
      "Hi Everyone I am Ankit Gupta.\n",
      "['hi', 'everyone', 'i', 'am', 'ankit', 'gupta.']\n"
     ]
    }
   ],
   "source": [
    "def word_tokenizer(text):\n",
    "    text = text.lower()\n",
    "    text = text.split()\n",
    "    return text\n",
    "sample = \"Hi Everyone I am Ankit Gupta.\"\n",
    "print(sample)\n",
    "print(word_tokenizer(sample))"
   ]
  },
  {
   "cell_type": "code",
   "execution_count": 47,
   "metadata": {},
   "outputs": [
    {
     "name": "stdout",
     "output_type": "stream",
     "text": [
      "Stop Words in English : \n",
      "{'shouldn', \"isn't\", 'herself', \"shan't\", 'a', 'other', 'him', 'off', 'these', 'his', 'mightn', 'or', \"won't\", 'some', 'which', 'be', 'both', 'couldn', 'too', 'has', 'an', 'then', \"she's\", 'itself', 'don', 'they', 'any', 'shan', 'we', 'hadn', 'so', 'will', 'our', 't', 'their', 'when', 'there', 'very', 'under', 'few', 'for', 'were', \"mightn't\", 'her', 'such', 'he', 'you', 'further', 'haven', 'through', 'while', 'own', 'them', 'against', 'yours', 'from', \"hasn't\", \"haven't\", 'o', 'but', 'into', 'it', 'who', 'before', 'all', 'by', 'are', 'can', 'just', 're', 'been', \"it's\", \"needn't\", 'did', 'doesn', 'theirs', 'my', 'to', 'wasn', 'between', 'hasn', \"aren't\", 'me', 'aren', 'after', 'again', 'more', 'until', 'because', 'themselves', 'no', 'on', 'myself', 'being', 'in', \"couldn't\", 'yourself', 'ma', 'out', 'what', 'am', 'each', 'than', 'should', 'd', 'ain', 'didn', 'is', 'had', 'below', 'up', \"should've\", \"you'll\", 'mustn', 'ourselves', 'once', 'same', \"weren't\", \"that'll\", \"shouldn't\", \"wouldn't\", 'hers', 'where', 'that', \"don't\", 'your', 'doing', 'here', 'the', 'she', 'y', 'won', 'if', 'needn', 'its', 'during', 'as', 'only', \"mustn't\", 'i', 'down', 's', 'wouldn', 'whom', 'those', 'above', 'have', \"you're\", 'll', 'how', 'isn', 'nor', \"wasn't\", 'most', 'of', 'and', 'with', 'now', 'over', 'why', \"doesn't\", 'ours', \"hadn't\", 'at', \"didn't\", 'not', 'weren', 'm', 've', 'this', 'about', 'having', 'yourselves', 'himself', \"you'd\", 'do', 'was', \"you've\", 'does'}\n"
     ]
    }
   ],
   "source": [
    "from nltk.corpus import stopwords\n",
    "en_stopwords = set(stopwords.words('english'))\n",
    "print(f\"Stop Words in English : \\n{ en_stopwords}\")"
   ]
  },
  {
   "cell_type": "code",
   "execution_count": 48,
   "metadata": {},
   "outputs": [
    {
     "name": "stdout",
     "output_type": "stream",
     "text": [
      "Before removing stopwords : ['hi', 'everyone', 'i', 'am', 'ankit', 'gupta.']\n",
      "After removing stopwords : ['hi', 'everyone', 'ankit', 'gupta.']\n"
     ]
    }
   ],
   "source": [
    "def remove_stopwords(text):\n",
    "    text = [word for word in text if word not in en_stopwords]\n",
    "    return text\n",
    "print(f\"Before removing stopwords : {word_tokenizer(sample)}\")\n",
    "print(f\"After removing stopwords : {remove_stopwords(word_tokenizer(sample))}\")"
   ]
  },
  {
   "cell_type": "code",
   "execution_count": 49,
   "metadata": {},
   "outputs": [
    {
     "name": "stdout",
     "output_type": "stream",
     "text": [
      "Before Stemming : I am creating a Notebook\n",
      "After Stemming : ['i', 'am', 'creat', 'a', 'notebook']\n"
     ]
    }
   ],
   "source": [
    "from nltk.stem.porter import PorterStemmer\n",
    "from nltk.stem.lancaster import LancasterStemmer\n",
    "stemmer = PorterStemmer()\n",
    "# stemmer = LancasterStemmer()\n",
    "def stemming(text):\n",
    "    text = [stemmer.stem(word) for word in text]\n",
    "    return text\n",
    "sample = \"I am creating a Notebook\"\n",
    "print(f\"Before Stemming : {(sample)}\")\n",
    "print(f\"After Stemming : {stemming(word_tokenizer(sample))}\")"
   ]
  },
  {
   "cell_type": "code",
   "execution_count": 50,
   "metadata": {},
   "outputs": [
    {
     "name": "stdout",
     "output_type": "stream",
     "text": [
      "Before Lemmatization : ['i', 'am', 'creating', 'a', 'notebook']\n",
      "After Lemmatization : ['I', 'be', 'create', 'a', 'notebook']\n"
     ]
    }
   ],
   "source": [
    "import spacy\n",
    "sp = spacy.load(\"en_core_web_sm\")\n",
    "def lemmatization(text):\n",
    "    # text = [sp(word).lemma_ for word in text]\n",
    "    text = \" \".join(text)\n",
    "    token = sp(text)\n",
    "    text = [word.lemma_ for word in token]\n",
    "    return text\n",
    "\n",
    "print(f\"Before Lemmatization : {word_tokenizer(sample)}\")\n",
    "print(f\"After Lemmatization : {lemmatization(word_tokenizer(sample))}\")"
   ]
  },
  {
   "cell_type": "code",
   "execution_count": 51,
   "metadata": {},
   "outputs": [
    {
     "name": "stdout",
     "output_type": "stream",
     "text": [
      " \"Hi Everyone I am Ankit Gupta. : sq\n",
      "मेरा नाम अंकित गुप्ता है और मैं एक छात्र हूँ : hi\n"
     ]
    }
   ],
   "source": [
    "from langdetect import detect\n",
    "en_text = u\"\"\"\"Hi Everyone I am Ankit Gupta.\"\"\"\n",
    "print(f\" {en_text} : {detect(en_text)}\")\n",
    "\n",
    "hindi_text = u\"\"\"मेरा नाम अंकित गुप्ता है और मैं एक छात्र हूँ\"\"\"\n",
    "print(f\"{hindi_text} : {detect(hindi_text)}\")"
   ]
  },
  {
   "cell_type": "code",
   "execution_count": 52,
   "metadata": {},
   "outputs": [
    {
     "name": "stderr",
     "output_type": "stream",
     "text": [
      "100%|██████████| 6/6 [00:00<00:00, 1419.95it/s]\n"
     ]
    },
    {
     "data": {
      "text/html": [
       "<div>\n",
       "<style scoped>\n",
       "    .dataframe tbody tr th:only-of-type {\n",
       "        vertical-align: middle;\n",
       "    }\n",
       "\n",
       "    .dataframe tbody tr th {\n",
       "        vertical-align: top;\n",
       "    }\n",
       "\n",
       "    .dataframe thead th {\n",
       "        text-align: right;\n",
       "    }\n",
       "</style>\n",
       "<table border=\"1\" class=\"dataframe\">\n",
       "  <thead>\n",
       "    <tr style=\"text-align: right;\">\n",
       "      <th></th>\n",
       "      <th>id</th>\n",
       "      <th>name</th>\n",
       "      <th>email</th>\n",
       "      <th>aspect</th>\n",
       "      <th>comments</th>\n",
       "      <th>rating</th>\n",
       "      <th>Unnamed: 6</th>\n",
       "      <th>sentiment</th>\n",
       "      <th>y</th>\n",
       "      <th>clean_review</th>\n",
       "      <th>clean_review2</th>\n",
       "    </tr>\n",
       "  </thead>\n",
       "  <tbody>\n",
       "    <tr>\n",
       "      <th>0</th>\n",
       "      <td>1</td>\n",
       "      <td>Yenugu Poojitha</td>\n",
       "      <td>yenugupoojithareddy3107@gmail.com</td>\n",
       "      <td>service</td>\n",
       "      <td>The tourist place had provided good services</td>\n",
       "      <td>4</td>\n",
       "      <td>NaN</td>\n",
       "      <td>Good</td>\n",
       "      <td>1</td>\n",
       "      <td>tourist place provide good service</td>\n",
       "      <td>[tourist, place, provide, good, service]</td>\n",
       "    </tr>\n",
       "    <tr>\n",
       "      <th>1</th>\n",
       "      <td>2</td>\n",
       "      <td>chitra</td>\n",
       "      <td>chitra123@gmail.com</td>\n",
       "      <td>food</td>\n",
       "      <td>The food given in the restaurant was delicious...</td>\n",
       "      <td>5</td>\n",
       "      <td>NaN</td>\n",
       "      <td>Excellent</td>\n",
       "      <td>3</td>\n",
       "      <td>food give restaurant delicious I find enjoyable</td>\n",
       "      <td>[food, give, restaurant, delicious, i, find, e...</td>\n",
       "    </tr>\n",
       "    <tr>\n",
       "      <th>2</th>\n",
       "      <td>3</td>\n",
       "      <td>saaket</td>\n",
       "      <td>saaket123@gmail.com</td>\n",
       "      <td>ambience</td>\n",
       "      <td>The relaxed ambience of Thrissur was popular w...</td>\n",
       "      <td>3</td>\n",
       "      <td>NaN</td>\n",
       "      <td>Good</td>\n",
       "      <td>1</td>\n",
       "      <td>relaxed ambience thrissur popular temple</td>\n",
       "      <td>[relaxed, ambience, thrissur, popular, temple]</td>\n",
       "    </tr>\n",
       "    <tr>\n",
       "      <th>3</th>\n",
       "      <td>4</td>\n",
       "      <td>sravani</td>\n",
       "      <td>sravani18@gmail.com</td>\n",
       "      <td>food</td>\n",
       "      <td>The historical prestige and the hotel ambience...</td>\n",
       "      <td>4</td>\n",
       "      <td>NaN</td>\n",
       "      <td>Excellent</td>\n",
       "      <td>3</td>\n",
       "      <td>historical prestige hotel ambience good servic...</td>\n",
       "      <td>[historical, prestige, hotel, ambience, good, ...</td>\n",
       "    </tr>\n",
       "    <tr>\n",
       "      <th>4</th>\n",
       "      <td>5</td>\n",
       "      <td>rishikesh</td>\n",
       "      <td>rishikesh31@gmail.com</td>\n",
       "      <td>service</td>\n",
       "      <td>Hotel services were good</td>\n",
       "      <td>3</td>\n",
       "      <td>NaN</td>\n",
       "      <td>Very Good</td>\n",
       "      <td>2</td>\n",
       "      <td>hotel service good</td>\n",
       "      <td>[hotel, service, good]</td>\n",
       "    </tr>\n",
       "    <tr>\n",
       "      <th>5</th>\n",
       "      <td>6</td>\n",
       "      <td>vinay</td>\n",
       "      <td>vinay14@gmail.com</td>\n",
       "      <td>hospitality</td>\n",
       "      <td>I became ill, so I was admitted in a hospital ...</td>\n",
       "      <td>3</td>\n",
       "      <td></td>\n",
       "      <td>Bad</td>\n",
       "      <td>-1</td>\n",
       "      <td>I become ill I admit hospital 3 day</td>\n",
       "      <td>[i, become, ill, i, admit, hospital, 3, day]</td>\n",
       "    </tr>\n",
       "  </tbody>\n",
       "</table>\n",
       "</div>"
      ],
      "text/plain": [
       "   id             name                              email       aspect  \\\n",
       "0   1  Yenugu Poojitha  yenugupoojithareddy3107@gmail.com      service   \n",
       "1   2           chitra                chitra123@gmail.com         food   \n",
       "2   3           saaket                saaket123@gmail.com     ambience   \n",
       "3   4          sravani                sravani18@gmail.com         food   \n",
       "4   5        rishikesh              rishikesh31@gmail.com      service   \n",
       "5   6            vinay                  vinay14@gmail.com  hospitality   \n",
       "\n",
       "                                            comments  rating Unnamed: 6  \\\n",
       "0       The tourist place had provided good services       4        NaN   \n",
       "1  The food given in the restaurant was delicious...       5        NaN   \n",
       "2  The relaxed ambience of Thrissur was popular w...       3        NaN   \n",
       "3  The historical prestige and the hotel ambience...       4        NaN   \n",
       "4                           Hotel services were good       3        NaN   \n",
       "5  I became ill, so I was admitted in a hospital ...       3              \n",
       "\n",
       "   sentiment  y                                       clean_review  \\\n",
       "0       Good  1                 tourist place provide good service   \n",
       "1  Excellent  3    food give restaurant delicious I find enjoyable   \n",
       "2       Good  1           relaxed ambience thrissur popular temple   \n",
       "3  Excellent  3  historical prestige hotel ambience good servic...   \n",
       "4  Very Good  2                                 hotel service good   \n",
       "5        Bad -1                I become ill I admit hospital 3 day   \n",
       "\n",
       "                                       clean_review2  \n",
       "0           [tourist, place, provide, good, service]  \n",
       "1  [food, give, restaurant, delicious, i, find, e...  \n",
       "2     [relaxed, ambience, thrissur, popular, temple]  \n",
       "3  [historical, prestige, hotel, ambience, good, ...  \n",
       "4                             [hotel, service, good]  \n",
       "5       [i, become, ill, i, admit, hospital, 3, day]  "
      ]
     },
     "execution_count": 52,
     "metadata": {},
     "output_type": "execute_result"
    }
   ],
   "source": [
    "# Assigning labels to each review\n",
    "def label(y):\n",
    "    if y=='Excellent':\n",
    "        return 3\n",
    "    elif y=='Very Good':\n",
    "        return 2\n",
    "    elif y=='Good':\n",
    "        return 1\n",
    "    else:\n",
    "        return -1\n",
    "    \n",
    "from tqdm import tqdm\n",
    "tqdm.pandas()\n",
    "df['y'] = df.sentiment.progress_map(label)\n",
    "df"
   ]
  },
  {
   "cell_type": "code",
   "execution_count": 53,
   "metadata": {},
   "outputs": [
    {
     "data": {
      "image/png": "[encoded data removed]",
      "text/plain": [
       "<Figure size 640x480 with 1 Axes>"
      ]
     },
     "metadata": {},
     "output_type": "display_data"
    }
   ],
   "source": [
    "import seaborn as sns\n",
    "sns.countplot(x = \"y\", data = df)\n",
    "plt.show()"
   ]
  },
  {
   "cell_type": "code",
   "execution_count": 54,
   "metadata": {},
   "outputs": [
    {
     "data": {
      "text/plain": [
       "2"
      ]
     },
     "execution_count": 54,
     "metadata": {},
     "output_type": "execute_result"
    }
   ],
   "source": [
    "P1 = df[(df['sentiment'] == 'Good')]\n",
    "positive = list(P[(P['comments'].str.len() > 4) & (P['comments'].str.len() < 350)]['comments'])\n",
    "len(positive)"
   ]
  },
  {
   "cell_type": "code",
   "execution_count": 55,
   "metadata": {},
   "outputs": [
    {
     "data": {
      "text/plain": [
       "1"
      ]
     },
     "execution_count": 55,
     "metadata": {},
     "output_type": "execute_result"
    }
   ],
   "source": [
    "P2 = df[(df['sentiment'] == 'Bad')]\n",
    "negative1 = list(P2[(P2['comments'].str.len() > 4) & (P2['comments'].str.len() < 350)]['comments'])\n",
    "len(negative1)"
   ]
  },
  {
   "cell_type": "code",
   "execution_count": 56,
   "metadata": {},
   "outputs": [
    {
     "data": {
      "text/plain": [
       "1"
      ]
     },
     "execution_count": 56,
     "metadata": {},
     "output_type": "execute_result"
    }
   ],
   "source": [
    "P3 = df[(df['sentiment'] == 'Very Good')]\n",
    "v_positive = list(P3[(P3['comments'].str.len() > 4) & (P3['comments'].str.len() < 350)]['comments'])\n",
    "len(v_positive)"
   ]
  },
  {
   "cell_type": "code",
   "execution_count": 57,
   "metadata": {},
   "outputs": [
    {
     "data": {
      "text/plain": [
       "2"
      ]
     },
     "execution_count": 57,
     "metadata": {},
     "output_type": "execute_result"
    }
   ],
   "source": [
    "P4 = df[(df['sentiment'] == 'Excellent')]\n",
    "vvpositive = list(P4[(P4['comments'].str.len() > 4) & (P4['comments'].str.len() < 350)]['comments'])\n",
    "len(vvpositive)"
   ]
  },
  {
   "cell_type": "code",
   "execution_count": 58,
   "metadata": {},
   "outputs": [
    {
     "data": {
      "text/plain": [
       "['The tourist place had provided good services',\n",
       " 'The relaxed ambience of Thrissur was popular with temples.']"
      ]
     },
     "execution_count": 58,
     "metadata": {},
     "output_type": "execute_result"
    }
   ],
   "source": [
    "import nlpaug.augmenter.word as naw\n",
    "positive[0:49]"
   ]
  },
  {
   "cell_type": "code",
   "execution_count": 59,
   "metadata": {},
   "outputs": [
    {
     "data": {
      "text/plain": [
       "['Hotel services were good']"
      ]
     },
     "execution_count": 59,
     "metadata": {},
     "output_type": "execute_result"
    }
   ],
   "source": [
    "v_positive[0:49]"
   ]
  },
  {
   "cell_type": "code",
   "execution_count": 60,
   "metadata": {},
   "outputs": [
    {
     "data": {
      "text/plain": [
       "['The food given in the restaurant was delicious. I found it enjoyable!',\n",
       " 'The historical prestige and the hotel ambience was good and the service was on point. Good trip!']"
      ]
     },
     "execution_count": 60,
     "metadata": {},
     "output_type": "execute_result"
    }
   ],
   "source": [
    "vvpositive[0:49]"
   ]
  },
  {
   "cell_type": "code",
   "execution_count": 61,
   "metadata": {},
   "outputs": [
    {
     "data": {
      "text/plain": [
       "['I became ill, so I was admitted in a hospital for 3 days.']"
      ]
     },
     "execution_count": 61,
     "metadata": {},
     "output_type": "execute_result"
    }
   ],
   "source": [
    "negative1[0:49]"
   ]
  },
  {
   "cell_type": "code",
   "execution_count": 62,
   "metadata": {},
   "outputs": [
    {
     "data": {
      "text/plain": [
       "2"
      ]
     },
     "execution_count": 62,
     "metadata": {},
     "output_type": "execute_result"
    }
   ],
   "source": [
    "aug = naw.AntonymAug(name='Antonym_Aug', aug_min=1, aug_max=10, aug_p=0.3, lang='eng', stopwords=en_stopwords, tokenizer=None, \n",
    "                     reverse_tokenizer=None, stopwords_regex=None, verbose=0) \n",
    "aug_negative = aug.augment(positive)\n",
    "len(aug_negative)"
   ]
  },
  {
   "cell_type": "code",
   "execution_count": 63,
   "metadata": {},
   "outputs": [
    {
     "name": "stderr",
     "output_type": "stream",
     "text": [
      "100%|██████████| 6/6 [00:03<00:00,  1.67it/s]\n"
     ]
    },
    {
     "data": {
      "text/html": [
       "<div>\n",
       "<style scoped>\n",
       "    .dataframe tbody tr th:only-of-type {\n",
       "        vertical-align: middle;\n",
       "    }\n",
       "\n",
       "    .dataframe tbody tr th {\n",
       "        vertical-align: top;\n",
       "    }\n",
       "\n",
       "    .dataframe thead th {\n",
       "        text-align: right;\n",
       "    }\n",
       "</style>\n",
       "<table border=\"1\" class=\"dataframe\">\n",
       "  <thead>\n",
       "    <tr style=\"text-align: right;\">\n",
       "      <th></th>\n",
       "      <th>id</th>\n",
       "      <th>name</th>\n",
       "      <th>email</th>\n",
       "      <th>aspect</th>\n",
       "      <th>comments</th>\n",
       "      <th>rating</th>\n",
       "      <th>Unnamed: 6</th>\n",
       "      <th>sentiment</th>\n",
       "      <th>y</th>\n",
       "      <th>clean_review</th>\n",
       "      <th>clean_review2</th>\n",
       "    </tr>\n",
       "  </thead>\n",
       "  <tbody>\n",
       "    <tr>\n",
       "      <th>0</th>\n",
       "      <td>1</td>\n",
       "      <td>Yenugu Poojitha</td>\n",
       "      <td>yenugupoojithareddy3107@gmail.com</td>\n",
       "      <td>service</td>\n",
       "      <td>The tourist place had provided good services</td>\n",
       "      <td>4</td>\n",
       "      <td>NaN</td>\n",
       "      <td>Good</td>\n",
       "      <td>1</td>\n",
       "      <td>tourist place provide good service</td>\n",
       "      <td>[tourist, place, provide, good, service]</td>\n",
       "    </tr>\n",
       "    <tr>\n",
       "      <th>1</th>\n",
       "      <td>2</td>\n",
       "      <td>chitra</td>\n",
       "      <td>chitra123@gmail.com</td>\n",
       "      <td>food</td>\n",
       "      <td>The food given in the restaurant was delicious...</td>\n",
       "      <td>5</td>\n",
       "      <td>NaN</td>\n",
       "      <td>Excellent</td>\n",
       "      <td>3</td>\n",
       "      <td>food give restaurant delicious I find enjoyable</td>\n",
       "      <td>[food, give, restaurant, delicious, i, find, e...</td>\n",
       "    </tr>\n",
       "    <tr>\n",
       "      <th>2</th>\n",
       "      <td>3</td>\n",
       "      <td>saaket</td>\n",
       "      <td>saaket123@gmail.com</td>\n",
       "      <td>ambience</td>\n",
       "      <td>The relaxed ambience of Thrissur was popular w...</td>\n",
       "      <td>3</td>\n",
       "      <td>NaN</td>\n",
       "      <td>Good</td>\n",
       "      <td>1</td>\n",
       "      <td>relaxed ambience thrissur popular temple</td>\n",
       "      <td>[relaxed, ambience, thrissur, popular, temple]</td>\n",
       "    </tr>\n",
       "    <tr>\n",
       "      <th>3</th>\n",
       "      <td>4</td>\n",
       "      <td>sravani</td>\n",
       "      <td>sravani18@gmail.com</td>\n",
       "      <td>food</td>\n",
       "      <td>The historical prestige and the hotel ambience...</td>\n",
       "      <td>4</td>\n",
       "      <td>NaN</td>\n",
       "      <td>Excellent</td>\n",
       "      <td>3</td>\n",
       "      <td>historical prestige hotel ambience good servic...</td>\n",
       "      <td>[historical, prestige, hotel, ambience, good, ...</td>\n",
       "    </tr>\n",
       "    <tr>\n",
       "      <th>4</th>\n",
       "      <td>5</td>\n",
       "      <td>rishikesh</td>\n",
       "      <td>rishikesh31@gmail.com</td>\n",
       "      <td>service</td>\n",
       "      <td>Hotel services were good</td>\n",
       "      <td>3</td>\n",
       "      <td>NaN</td>\n",
       "      <td>Very Good</td>\n",
       "      <td>2</td>\n",
       "      <td>hotel service good</td>\n",
       "      <td>[hotel, service, good]</td>\n",
       "    </tr>\n",
       "    <tr>\n",
       "      <th>5</th>\n",
       "      <td>6</td>\n",
       "      <td>vinay</td>\n",
       "      <td>vinay14@gmail.com</td>\n",
       "      <td>hospitality</td>\n",
       "      <td>I became ill, so I was admitted in a hospital ...</td>\n",
       "      <td>3</td>\n",
       "      <td></td>\n",
       "      <td>Bad</td>\n",
       "      <td>-1</td>\n",
       "      <td>I become ill I admit hospital 3 day</td>\n",
       "      <td>[i, become, ill, i, admit, hospital, 3, day]</td>\n",
       "    </tr>\n",
       "  </tbody>\n",
       "</table>\n",
       "</div>"
      ],
      "text/plain": [
       "   id             name                              email       aspect  \\\n",
       "0   1  Yenugu Poojitha  yenugupoojithareddy3107@gmail.com      service   \n",
       "1   2           chitra                chitra123@gmail.com         food   \n",
       "2   3           saaket                saaket123@gmail.com     ambience   \n",
       "3   4          sravani                sravani18@gmail.com         food   \n",
       "4   5        rishikesh              rishikesh31@gmail.com      service   \n",
       "5   6            vinay                  vinay14@gmail.com  hospitality   \n",
       "\n",
       "                                            comments  rating Unnamed: 6  \\\n",
       "0       The tourist place had provided good services       4        NaN   \n",
       "1  The food given in the restaurant was delicious...       5        NaN   \n",
       "2  The relaxed ambience of Thrissur was popular w...       3        NaN   \n",
       "3  The historical prestige and the hotel ambience...       4        NaN   \n",
       "4                           Hotel services were good       3        NaN   \n",
       "5  I became ill, so I was admitted in a hospital ...       3              \n",
       "\n",
       "   sentiment  y                                       clean_review  \\\n",
       "0       Good  1                 tourist place provide good service   \n",
       "1  Excellent  3    food give restaurant delicious I find enjoyable   \n",
       "2       Good  1           relaxed ambience thrissur popular temple   \n",
       "3  Excellent  3  historical prestige hotel ambience good servic...   \n",
       "4  Very Good  2                                 hotel service good   \n",
       "5        Bad -1                I become ill I admit hospital 3 day   \n",
       "\n",
       "                                       clean_review2  \n",
       "0           [tourist, place, provide, good, service]  \n",
       "1  [food, give, restaurant, delicious, i, find, e...  \n",
       "2     [relaxed, ambience, thrissur, popular, temple]  \n",
       "3  [historical, prestige, hotel, ambience, good, ...  \n",
       "4                             [hotel, service, good]  \n",
       "5       [i, become, ill, i, admit, hospital, 3, day]  "
      ]
     },
     "execution_count": 63,
     "metadata": {},
     "output_type": "execute_result"
    }
   ],
   "source": [
    "def preprocessing(text):\n",
    "    text = remove_url(text) \n",
    "    text = uni.normalize('NFKD', text)\n",
    "    text = handle_emoji(text)\n",
    "    text = text.lower() \n",
    "    text = re.sub(r'[^\\w\\s]', '', text)\n",
    "    text = word_tokenizer(text)\n",
    "    # text = stemming(text)\n",
    "    text = lemmatization(text)\n",
    "    text = remove_stopwords(text)\n",
    "    text = \" \".join(text)\n",
    "    return text\n",
    "from tqdm import tqdm\n",
    "tqdm.pandas()\n",
    "df['clean_review'] = df['comments'].progress_map(preprocessing)\n",
    "df"
   ]
  },
  {
   "cell_type": "code",
   "execution_count": 64,
   "metadata": {},
   "outputs": [
    {
     "name": "stderr",
     "output_type": "stream",
     "text": [
      "100%|██████████| 6/6 [00:00<?, ?it/s]\n"
     ]
    }
   ],
   "source": [
    "reviews = df.clean_review.values.tolist()\n",
    "from tqdm import tqdm\n",
    "tqdm.pandas()\n",
    "df['clean_review2'] = df['clean_review'].progress_map(word_tokenizer)"
   ]
  },
  {
   "cell_type": "code",
   "execution_count": 65,
   "metadata": {},
   "outputs": [
    {
     "data": {
      "text/plain": [
       "0             [tourist, place, provide, good, service]\n",
       "1    [food, give, restaurant, delicious, i, find, e...\n",
       "2       [relaxed, ambience, thrissur, popular, temple]\n",
       "3    [historical, prestige, hotel, ambience, good, ...\n",
       "4                               [hotel, service, good]\n",
       "5         [i, become, ill, i, admit, hospital, 3, day]\n",
       "Name: clean_review2, dtype: object"
      ]
     },
     "execution_count": 65,
     "metadata": {},
     "output_type": "execute_result"
    }
   ],
   "source": [
    "df['clean_review2']"
   ]
  },
  {
   "cell_type": "code",
   "execution_count": 66,
   "metadata": {},
   "outputs": [
    {
     "name": "stdout",
     "output_type": "stream",
     "text": [
      "[['tourist', 'place', 'provide', 'good', 'service'], ['food', 'give', 'restaurant', 'delicious', 'i', 'find', 'enjoyable'], ['relaxed', 'ambience', 'thrissur', 'popular', 'temple'], ['historical', 'prestige', 'hotel', 'ambience', 'good', 'service', 'point', 'good', 'trip'], ['hotel', 'service', 'good'], ['i', 'become', 'ill', 'i', 'admit', 'hospital', '3', 'day']]\n",
      "6\n"
     ]
    }
   ],
   "source": [
    "data_words = df['clean_review2'].values.tolist()\n",
    "print(data_words)\n",
    "print(len(data_words))"
   ]
  },
  {
   "cell_type": "code",
   "execution_count": 67,
   "metadata": {},
   "outputs": [
    {
     "name": "stdout",
     "output_type": "stream",
     "text": [
      "[(0, 1), (1, 1), (2, 1), (3, 1), (4, 1)]\n"
     ]
    }
   ],
   "source": [
    "import gensim.corpora as corpora\n",
    "# Create Dictionary\n",
    "id2word = corpora.Dictionary(data_words)\n",
    "# Create Corpus\n",
    "texts = data_words\n",
    "# Term Document Frequency\n",
    "corpus = [id2word.doc2bow(text) for text in texts]\n",
    "# View\n",
    "print(corpus[:1][0][:30])"
   ]
  },
  {
   "cell_type": "code",
   "execution_count": 68,
   "metadata": {},
   "outputs": [
    {
     "name": "stdout",
     "output_type": "stream",
     "text": [
      "[(0,\n",
      "  '0.141*\"good\" + 0.141*\"provide\" + 0.141*\"tourist\" + 0.141*\"service\" + '\n",
      "  '0.141*\"place\" + 0.013*\"hotel\" + 0.013*\"ambience\" + 0.013*\"i\" + '\n",
      "  '0.013*\"popular\" + 0.013*\"relaxed\"'),\n",
      " (1,\n",
      "  '0.036*\"service\" + 0.036*\"good\" + 0.036*\"hotel\" + 0.036*\"i\" + '\n",
      "  '0.036*\"ambience\" + 0.036*\"popular\" + 0.036*\"place\" + 0.036*\"thrissur\" + '\n",
      "  '0.036*\"tourist\" + 0.036*\"historical\"'),\n",
      " (2,\n",
      "  '0.036*\"good\" + 0.036*\"service\" + 0.036*\"hotel\" + 0.036*\"ambience\" + '\n",
      "  '0.036*\"i\" + 0.036*\"temple\" + 0.036*\"tourist\" + 0.036*\"relaxed\" + '\n",
      "  '0.036*\"thrissur\" + 0.036*\"place\"'),\n",
      " (3,\n",
      "  '0.190*\"good\" + 0.190*\"service\" + 0.190*\"hotel\" + 0.017*\"ambience\" + '\n",
      "  '0.017*\"place\" + 0.017*\"i\" + 0.017*\"popular\" + 0.017*\"relaxed\" + '\n",
      "  '0.017*\"temple\" + 0.017*\"tourist\"'),\n",
      " (4,\n",
      "  '0.194*\"i\" + 0.102*\"3\" + 0.102*\"ill\" + 0.102*\"hospital\" + 0.102*\"become\" + '\n",
      "  '0.102*\"day\" + 0.102*\"admit\" + 0.009*\"service\" + 0.009*\"good\" + '\n",
      "  '0.009*\"hotel\"'),\n",
      " (5,\n",
      "  '0.178*\"good\" + 0.093*\"hotel\" + 0.093*\"service\" + 0.093*\"prestige\" + '\n",
      "  '0.093*\"ambience\" + 0.093*\"point\" + 0.093*\"trip\" + 0.093*\"historical\" + '\n",
      "  '0.008*\"i\" + 0.008*\"place\"'),\n",
      " (6,\n",
      "  '0.141*\"relaxed\" + 0.141*\"temple\" + 0.141*\"thrissur\" + 0.141*\"popular\" + '\n",
      "  '0.141*\"ambience\" + 0.013*\"good\" + 0.013*\"service\" + 0.013*\"hotel\" + '\n",
      "  '0.013*\"i\" + 0.013*\"place\"'),\n",
      " (7,\n",
      "  '0.036*\"good\" + 0.036*\"service\" + 0.036*\"hotel\" + 0.036*\"ambience\" + '\n",
      "  '0.036*\"i\" + 0.036*\"place\" + 0.036*\"temple\" + 0.036*\"thrissur\" + '\n",
      "  '0.036*\"restaurant\" + 0.036*\"popular\"'),\n",
      " (8,\n",
      "  '0.112*\"i\" + 0.112*\"give\" + 0.112*\"delicious\" + 0.112*\"restaurant\" + '\n",
      "  '0.112*\"enjoyable\" + 0.112*\"food\" + 0.112*\"find\" + 0.010*\"hotel\" + '\n",
      "  '0.010*\"good\" + 0.010*\"service\"'),\n",
      " (9,\n",
      "  '0.036*\"service\" + 0.036*\"good\" + 0.036*\"hotel\" + 0.036*\"ambience\" + '\n",
      "  '0.036*\"i\" + 0.036*\"thrissur\" + 0.036*\"place\" + 0.036*\"provide\" + '\n",
      "  '0.036*\"find\" + 0.036*\"relaxed\"')]\n"
     ]
    }
   ],
   "source": [
    "from gensim.models import LdaMulticore\n",
    "from gensim.models import LdaModel\n",
    "from pprint import pprint\n",
    "# number of topics\n",
    "num_topics = 10\n",
    "# Build LDA model\n",
    "lda_model = LdaMulticore(corpus=corpus, id2word=id2word,\n",
    "                     num_topics=num_topics, iterations=400)\n",
    "# Print the Keyword in the 10 topics\n",
    "pprint(lda_model.print_topics())\n",
    "doc_lda = lda_model[corpus]"
   ]
  },
  {
   "cell_type": "code",
   "execution_count": 69,
   "metadata": {},
   "outputs": [
    {
     "name": "stdout",
     "output_type": "stream",
     "text": [
      "FastText<vocab=28, vector_size=100, alpha=0.025>\n",
      "CPU times: total: 797 ms\n",
      "Wall time: 2.04 s\n"
     ]
    }
   ],
   "source": [
    "%%time\n",
    "from gensim.models import FastText\n",
    "fasttext_model = FastText(data_words, vector_size= 100, window=100, min_count=1, workers=5,sg=1)\n",
    "print(fasttext_model)"
   ]
  },
  {
   "cell_type": "code",
   "execution_count": 70,
   "metadata": {},
   "outputs": [
    {
     "name": "stdout",
     "output_type": "stream",
     "text": [
      "FastText<vocab=28, vector_size=100, alpha=0.025>\n",
      "CPU times: total: 1.12 s\n",
      "Wall time: 2.04 s\n"
     ]
    }
   ],
   "source": [
    "%%time\n",
    "from gensim.models import FastText\n",
    "fasttext_model1 = FastText(data_words, vector_size= 100, window=100, min_count=1, workers=5,sg=1)\n",
    "print(fasttext_model1)"
   ]
  },
  {
   "cell_type": "code",
   "execution_count": 71,
   "metadata": {},
   "outputs": [
    {
     "name": "stdout",
     "output_type": "stream",
     "text": [
      "FastText<vocab=28, vector_size=100, alpha=0.025>\n",
      "CPU times: total: 953 ms\n",
      "Wall time: 2.02 s\n"
     ]
    }
   ],
   "source": [
    "%%time\n",
    "from gensim.models import FastText\n",
    "fasttext_model2 = FastText(data_words, vector_size= 100, window=100, min_count=1, workers=5,sg=1)\n",
    "print(fasttext_model2)"
   ]
  },
  {
   "cell_type": "code",
   "execution_count": 72,
   "metadata": {},
   "outputs": [
    {
     "name": "stdout",
     "output_type": "stream",
     "text": [
      "FastText<vocab=28, vector_size=100, alpha=0.025>\n",
      "CPU times: total: 1.2 s\n",
      "Wall time: 1.98 s\n"
     ]
    }
   ],
   "source": [
    "%%time\n",
    "from gensim.models import FastText\n",
    "fasttext_model3 = FastText(data_words, vector_size= 100, window=100, min_count=1, workers=5,sg=1)\n",
    "print(fasttext_model3)"
   ]
  },
  {
   "cell_type": "code",
   "execution_count": 73,
   "metadata": {},
   "outputs": [
    {
     "name": "stdout",
     "output_type": "stream",
     "text": [
      "0.15506539\n",
      "0.73245305\n"
     ]
    }
   ],
   "source": [
    "fasttext_model.save(\"FastText-Model-For-ABSA.bin\")\n",
    "print(fasttext_model.wv.n_similarity(\"Very Good\",\"service\"))\n",
    "print(fasttext_model.wv.n_similarity(\"Hotel services were good\",\"service\"))"
   ]
  },
  {
   "cell_type": "code",
   "execution_count": 74,
   "metadata": {},
   "outputs": [
    {
     "name": "stdout",
     "output_type": "stream",
     "text": [
      "0.32133222\n",
      "0.5149182\n"
     ]
    }
   ],
   "source": [
    "fasttext_model1.save(\"FastText-Model-For-ABSA1.bin\")\n",
    "print(fasttext_model1.wv.n_similarity(\"Bad\",\"hospitality\"))\n",
    "print(fasttext_model1.wv.n_similarity(\"I became ill, so I was admitted in a hospital for 3 days.\",\"hospitality\"))"
   ]
  },
  {
   "cell_type": "code",
   "execution_count": 75,
   "metadata": {},
   "outputs": [
    {
     "name": "stdout",
     "output_type": "stream",
     "text": [
      "-0.019609755\n",
      "0.58824587\n"
     ]
    }
   ],
   "source": [
    "fasttext_model2.save(\"FastText-Model-For-ABSA2.bin\")\n",
    "print(fasttext_model2.wv.n_similarity(\"Good\",\"ambience\"))\n",
    "print(fasttext_model2.wv.n_similarity(\"The relaxed ambience of Thrissur was popular with temples.\",\"ambience\"))"
   ]
  },
  {
   "cell_type": "code",
   "execution_count": 76,
   "metadata": {},
   "outputs": [
    {
     "name": "stdout",
     "output_type": "stream",
     "text": [
      "-0.10728478\n",
      "0.25900415\n"
     ]
    }
   ],
   "source": [
    "fasttext_model3.save(\"FastText-Model-For-ABSA3.bin\")\n",
    "print(fasttext_model3.wv.n_similarity(\"Excellent\",\"food\"))\n",
    "print(fasttext_model3.wv.n_similarity(\"The food given in the restaurant was delicious. I found it enjoyable!\",\"food\"))"
   ]
  },
  {
   "cell_type": "code",
   "execution_count": 77,
   "metadata": {},
   "outputs": [],
   "source": [
    "aspect = [\"service\",\"food\",\"ambience\",\"hospitality\"]\n",
    "def get_similarity(text, aspect):\n",
    "    try:\n",
    "        text = \" \".join(text)\n",
    "        return fasttext_model.wv.n_similarity(text, aspect)\n",
    "    except:\n",
    "        return 0"
   ]
  },
  {
   "cell_type": "code",
   "execution_count": 78,
   "metadata": {},
   "outputs": [],
   "source": [
    "aspect = [\"service\",\"food\",\"ambience\",\"hospitality\"]\n",
    "def get_similarity1(text, aspect):\n",
    "    try:\n",
    "        text = \" \".join(text)\n",
    "        return fasttext_model1.wv.n_similarity(text, aspect)\n",
    "    except:\n",
    "        return 0"
   ]
  },
  {
   "cell_type": "code",
   "execution_count": 79,
   "metadata": {},
   "outputs": [],
   "source": [
    "aspect = [\"service\",\"food\",\"ambience\",\"hospitality\"]\n",
    "def get_similarity2(text, aspect):\n",
    "    try:\n",
    "        text = \" \".join(text)\n",
    "        return fasttext_model2.wv.n_similarity(text, aspect)\n",
    "    except:\n",
    "        return 0"
   ]
  },
  {
   "cell_type": "code",
   "execution_count": 80,
   "metadata": {},
   "outputs": [],
   "source": [
    "aspect = [\"service\",\"food\",\"ambience\",\"hospitality\"]\n",
    "def get_similarity3(text, aspect):\n",
    "    try:\n",
    "        text = \" \".join(text)\n",
    "        return fasttext_model3.wv.n_similarity(text, aspect)\n",
    "    except:\n",
    "        return 0"
   ]
  },
  {
   "cell_type": "code",
   "execution_count": 81,
   "metadata": {},
   "outputs": [
    {
     "name": "stdout",
     "output_type": "stream",
     "text": [
      "<module 'torch' from 'c:\\\\Users\\\\kasin\\\\AppData\\\\Local\\\\Programs\\\\Python\\\\Python39\\\\lib\\\\site-packages\\\\torch\\\\__init__.py'>\n",
      "<module 'torch.nn' from 'c:\\\\Users\\\\kasin\\\\AppData\\\\Local\\\\Programs\\\\Python\\\\Python39\\\\lib\\\\site-packages\\\\torch\\\\nn\\\\__init__.py'>\n"
     ]
    }
   ],
   "source": [
    "df.to_csv(\"Trip11.csv\", index = True)\n",
    "import torch\n",
    "from torch import nn\n",
    "from torch.utils.data import Dataset\n",
    "from torch.utils.data import DataLoader\n",
    "from torch.utils.data import RandomSampler\n",
    "import warnings\n",
    "print(torch)\n",
    "print(nn)"
   ]
  },
  {
   "cell_type": "code",
   "execution_count": 82,
   "metadata": {},
   "outputs": [],
   "source": [
    "class config:\n",
    "    warnings.filterwarnings(\"ignore\", category = UserWarning)\n",
    "    IMG_SIZE = (224,224)\n",
    "    DEVICE = (\"cuda\" if torch.cuda.is_available() else \"cpu\")\n",
    "    FOLDS = 5\n",
    "    SHUFFLE = True\n",
    "    BATCH_SIZE = 32\n",
    "    LR = 0.01\n",
    "    EPOCHS = 30\n",
    "    EMB_DIM = 100\n",
    "    MAX_LEN = 20\n",
    "    MODEL_PATH = \"./Models/MyModel.pt\""
   ]
  },
  {
   "cell_type": "code",
   "execution_count": 83,
   "metadata": {},
   "outputs": [
    {
     "data": {
      "text/html": [
       "<div>\n",
       "<style scoped>\n",
       "    .dataframe tbody tr th:only-of-type {\n",
       "        vertical-align: middle;\n",
       "    }\n",
       "\n",
       "    .dataframe tbody tr th {\n",
       "        vertical-align: top;\n",
       "    }\n",
       "\n",
       "    .dataframe thead th {\n",
       "        text-align: right;\n",
       "    }\n",
       "</style>\n",
       "<table border=\"1\" class=\"dataframe\">\n",
       "  <thead>\n",
       "    <tr style=\"text-align: right;\">\n",
       "      <th></th>\n",
       "      <th>id</th>\n",
       "      <th>name</th>\n",
       "      <th>email</th>\n",
       "      <th>aspect</th>\n",
       "      <th>comments</th>\n",
       "      <th>rating</th>\n",
       "      <th>Unnamed: 6</th>\n",
       "      <th>sentiment</th>\n",
       "      <th>y</th>\n",
       "      <th>clean_review</th>\n",
       "      <th>clean_review2</th>\n",
       "    </tr>\n",
       "  </thead>\n",
       "  <tbody>\n",
       "    <tr>\n",
       "      <th>0</th>\n",
       "      <td>1</td>\n",
       "      <td>Yenugu Poojitha</td>\n",
       "      <td>yenugupoojithareddy3107@gmail.com</td>\n",
       "      <td>service</td>\n",
       "      <td>The tourist place had provided good services</td>\n",
       "      <td>4</td>\n",
       "      <td>NaN</td>\n",
       "      <td>Good</td>\n",
       "      <td>1</td>\n",
       "      <td>tourist place provide good service</td>\n",
       "      <td>[tourist, place, provide, good, service]</td>\n",
       "    </tr>\n",
       "    <tr>\n",
       "      <th>1</th>\n",
       "      <td>2</td>\n",
       "      <td>chitra</td>\n",
       "      <td>chitra123@gmail.com</td>\n",
       "      <td>food</td>\n",
       "      <td>The food given in the restaurant was delicious...</td>\n",
       "      <td>5</td>\n",
       "      <td>NaN</td>\n",
       "      <td>Excellent</td>\n",
       "      <td>3</td>\n",
       "      <td>food give restaurant delicious I find enjoyable</td>\n",
       "      <td>[food, give, restaurant, delicious, i, find, e...</td>\n",
       "    </tr>\n",
       "    <tr>\n",
       "      <th>2</th>\n",
       "      <td>3</td>\n",
       "      <td>saaket</td>\n",
       "      <td>saaket123@gmail.com</td>\n",
       "      <td>ambience</td>\n",
       "      <td>The relaxed ambience of Thrissur was popular w...</td>\n",
       "      <td>3</td>\n",
       "      <td>NaN</td>\n",
       "      <td>Good</td>\n",
       "      <td>1</td>\n",
       "      <td>relaxed ambience thrissur popular temple</td>\n",
       "      <td>[relaxed, ambience, thrissur, popular, temple]</td>\n",
       "    </tr>\n",
       "    <tr>\n",
       "      <th>3</th>\n",
       "      <td>4</td>\n",
       "      <td>sravani</td>\n",
       "      <td>sravani18@gmail.com</td>\n",
       "      <td>food</td>\n",
       "      <td>The historical prestige and the hotel ambience...</td>\n",
       "      <td>4</td>\n",
       "      <td>NaN</td>\n",
       "      <td>Excellent</td>\n",
       "      <td>3</td>\n",
       "      <td>historical prestige hotel ambience good servic...</td>\n",
       "      <td>[historical, prestige, hotel, ambience, good, ...</td>\n",
       "    </tr>\n",
       "    <tr>\n",
       "      <th>4</th>\n",
       "      <td>5</td>\n",
       "      <td>rishikesh</td>\n",
       "      <td>rishikesh31@gmail.com</td>\n",
       "      <td>service</td>\n",
       "      <td>Hotel services were good</td>\n",
       "      <td>3</td>\n",
       "      <td>NaN</td>\n",
       "      <td>Very Good</td>\n",
       "      <td>2</td>\n",
       "      <td>hotel service good</td>\n",
       "      <td>[hotel, service, good]</td>\n",
       "    </tr>\n",
       "    <tr>\n",
       "      <th>5</th>\n",
       "      <td>6</td>\n",
       "      <td>vinay</td>\n",
       "      <td>vinay14@gmail.com</td>\n",
       "      <td>hospitality</td>\n",
       "      <td>I became ill, so I was admitted in a hospital ...</td>\n",
       "      <td>3</td>\n",
       "      <td></td>\n",
       "      <td>Bad</td>\n",
       "      <td>-1</td>\n",
       "      <td>I become ill I admit hospital 3 day</td>\n",
       "      <td>[i, become, ill, i, admit, hospital, 3, day]</td>\n",
       "    </tr>\n",
       "  </tbody>\n",
       "</table>\n",
       "</div>"
      ],
      "text/plain": [
       "   id             name                              email       aspect  \\\n",
       "0   1  Yenugu Poojitha  yenugupoojithareddy3107@gmail.com      service   \n",
       "1   2           chitra                chitra123@gmail.com         food   \n",
       "2   3           saaket                saaket123@gmail.com     ambience   \n",
       "3   4          sravani                sravani18@gmail.com         food   \n",
       "4   5        rishikesh              rishikesh31@gmail.com      service   \n",
       "5   6            vinay                  vinay14@gmail.com  hospitality   \n",
       "\n",
       "                                            comments  rating Unnamed: 6  \\\n",
       "0       The tourist place had provided good services       4        NaN   \n",
       "1  The food given in the restaurant was delicious...       5        NaN   \n",
       "2  The relaxed ambience of Thrissur was popular w...       3        NaN   \n",
       "3  The historical prestige and the hotel ambience...       4        NaN   \n",
       "4                           Hotel services were good       3        NaN   \n",
       "5  I became ill, so I was admitted in a hospital ...       3              \n",
       "\n",
       "   sentiment  y                                       clean_review  \\\n",
       "0       Good  1                 tourist place provide good service   \n",
       "1  Excellent  3    food give restaurant delicious I find enjoyable   \n",
       "2       Good  1           relaxed ambience thrissur popular temple   \n",
       "3  Excellent  3  historical prestige hotel ambience good servic...   \n",
       "4  Very Good  2                                 hotel service good   \n",
       "5        Bad -1                I become ill I admit hospital 3 day   \n",
       "\n",
       "                                       clean_review2  \n",
       "0           [tourist, place, provide, good, service]  \n",
       "1  [food, give, restaurant, delicious, i, find, e...  \n",
       "2     [relaxed, ambience, thrissur, popular, temple]  \n",
       "3  [historical, prestige, hotel, ambience, good, ...  \n",
       "4                             [hotel, service, good]  \n",
       "5       [i, become, ill, i, admit, hospital, 3, day]  "
      ]
     },
     "execution_count": 83,
     "metadata": {},
     "output_type": "execute_result"
    }
   ],
   "source": [
    "df"
   ]
  },
  {
   "cell_type": "code",
   "execution_count": 84,
   "metadata": {},
   "outputs": [],
   "source": [
    "class Vocabulary:\n",
    "  \n",
    "    '''\n",
    "    __init__ method is called by default as soon as an object of this class is initiated\n",
    "    we use this method to initiate our vocab dictionaries\n",
    "    '''\n",
    "    def __init__(self, freq_threshold, max_size):\n",
    "        '''\n",
    "        freq_threshold : the minimum times a word must occur in corpus to be treated in vocab\n",
    "        max_size : max source vocab size. Eg. if set to 10,000, we pick the top 10,000 most frequent words and discard others\n",
    "        '''\n",
    "        #initiate the index to token dict\n",
    "        ## <PAD> -> padding, used for padding the shorter sentences in a batch to match the length of longest sentence in the batch\n",
    "        ## <SOS> -> start token, added in front of each sentence to signify the start of sentence\n",
    "        ## <EOS> -> End of sentence token, added to the end of each sentence to signify the end of sentence\n",
    "        ## <UNK> -> words which are not found in the vocab are replace by this token\n",
    "        self.itos = {0: '<PAD>', 1:'<SOS>', 2:'<EOS>', 3: '<UNK>'}\n",
    "        #initiate the token to index dict\n",
    "        self.stoi = {k:j for j,k in self.itos.items()} \n",
    "        \n",
    "        self.freq_threshold = freq_threshold\n",
    "        self.max_size = max_size\n",
    "    \n",
    "    '''\n",
    "    __len__ is used by dataloader later to create batches\n",
    "    '''\n",
    "    def __len__(self):\n",
    "        return len(self.itos)\n",
    "    \n",
    "    '''\n",
    "    a simple tokenizer to split on space and converts the sentence to list of words\n",
    "    '''\n",
    "    @staticmethod\n",
    "    def tokenizer(text):\n",
    "        return [tok.lower().strip() for tok in text.split(' ')]\n",
    "    \n",
    "    '''\n",
    "    build the vocab: create a dictionary mapping of index to string (itos) and string to index (stoi)\n",
    "    output ex. for stoi -> {'the':5, 'a':6, 'an':7}\n",
    "    '''\n",
    "    def build_vocabulary(self, sentence_list):\n",
    "        #calculate the frequencies of each word first to remove the words with freq < freq_threshold\n",
    "        frequencies = {}  #init the freq dict\n",
    "        idx = 4 #index from which we want our dict to start. We already used 4 indexes for pad, start, end, unk\n",
    "        #calculate freq of words\n",
    "        for sentence in sentence_list:\n",
    "            for word in self.tokenizer(sentence):\n",
    "                if word not in frequencies.keys():\n",
    "                    frequencies[word]=1\n",
    "                else:\n",
    "                    frequencies[word]+=1\n",
    "        #limit vocab by removing low freq words\n",
    "        frequencies = {k:v for k,v in frequencies.items() if v>self.freq_threshold} \n",
    "        #limit vocab to the max_size specified\n",
    "        frequencies = dict(sorted(frequencies.items(), key = lambda x: -x[1])[:self.max_size-idx]) # idx =4 for pad, start, end , unk\n",
    "        #create vocab\n",
    "        for word in frequencies.keys():\n",
    "            self.stoi[word] = idx\n",
    "            self.itos[idx] = word\n",
    "            idx+=1\n",
    "    '''\n",
    "    convert the list of words to a list of corresponding indexes\n",
    "    '''    \n",
    "    def numericalize(self, text):\n",
    "        #tokenize text\n",
    "        tokenized_text = self.tokenizer(text)\n",
    "        numericalized_text = []\n",
    "        for token in tokenized_text:\n",
    "            if token in self.stoi.keys():\n",
    "                numericalized_text.append(self.stoi[token])\n",
    "            else: #out-of-vocab words are represented by UNK token index\n",
    "                numericalized_text.append(self.stoi['<UNK>'])\n",
    "                \n",
    "        return numericalized_text"
   ]
  },
  {
   "cell_type": "code",
   "execution_count": 85,
   "metadata": {},
   "outputs": [],
   "source": [
    "from torch.utils.data import Dataset\n",
    "\n",
    "class CustomDataset(Dataset):\n",
    "    '''\n",
    "    Initiating Variables\n",
    "    df: the training dataframe\n",
    "    source_column : the name of source text column in the dataframe\n",
    "    transform : If we want to add any augmentation\n",
    "    freq_threshold : the minimum times a word must occur in corpus to be treated in vocab\n",
    "    source_vocab_max_size : max source vocab size\n",
    "    '''\n",
    "    \n",
    "    def __init__(self, df, source_column,freq_threshold = 3,\n",
    "                source_vocab_max_size = 10000 , transform=None):\n",
    "    \n",
    "        self.df = df\n",
    "        self.transform = transform\n",
    "        \n",
    "        #get source and target texts\n",
    "        self.source_texts = self.df[source_column]\n",
    "        \n",
    "        \n",
    "        ##VOCAB class has been created above\n",
    "        #Initialize source vocab object and build vocabulary\n",
    "        self.source_vocab = Vocabulary(freq_threshold, source_vocab_max_size)\n",
    "        self.source_vocab.build_vocabulary(self.source_texts.tolist())\n",
    "\n",
    "        \n",
    "    def __len__(self):\n",
    "        return len(self.df)\n",
    "    \n",
    "    '''\n",
    "    __getitem__ runs on 1 example at a time. Here, we get an example at index and return its numericalize source and\n",
    "    target values using the vocabulary objects we created in __init__\n",
    "    '''\n",
    "    def __getitem__(self, index):\n",
    "        source_text = self.source_texts[index]\n",
    "        \n",
    "        if self.transform is not None:\n",
    "            source_text = self.transform(source_text)\n",
    "            \n",
    "        #numericalize texts ['<SOS>','cat', 'in', 'a', 'bag','<EOS>'] -> [1,12,2,9,24,2]\n",
    "        numerialized_source = [self.source_vocab.stoi[\"<SOS>\"]]\n",
    "        numerialized_source += self.source_vocab.numericalize(source_text)\n",
    "        numerialized_source.append(self.source_vocab.stoi[\"<EOS>\"])\n",
    "        \n",
    "        #convert the list to tensor and return\n",
    "        return torch.tensor(numerialized_source), torch.tensor(self.df.y[index])"
   ]
  },
  {
   "cell_type": "code",
   "execution_count": 86,
   "metadata": {},
   "outputs": [
    {
     "data": {
      "text/plain": [
       "5"
      ]
     },
     "execution_count": 86,
     "metadata": {},
     "output_type": "execute_result"
    }
   ],
   "source": [
    "dataset = CustomDataset(df, \"clean_review\")\n",
    "len(dataset.source_vocab.stoi)"
   ]
  },
  {
   "cell_type": "code",
   "execution_count": 87,
   "metadata": {},
   "outputs": [],
   "source": [
    "import pickle\n",
    "with open('dataset-new', 'wb') as dataset_file:\n",
    "  # Step 3\n",
    "    pickle.dump(dataset, dataset_file, pickle.HIGHEST_PROTOCOL)\n",
    "# import pickle"
   ]
  },
  {
   "cell_type": "code",
   "execution_count": 88,
   "metadata": {},
   "outputs": [],
   "source": [
    "def get_emb_layer_with_weights(target_vocab, emb_model, trainable = False):\n",
    "    weights_matrix = np.zeros((len(target_vocab), config.EMB_DIM))\n",
    "    words_found = 0\n",
    "    for i, word in enumerate(target_vocab):\n",
    "        weights_matrix[i] = np.concatenate([emb_model.wv[word]])\n",
    "        words_found += 1\n",
    "    print(f\"Words found are : {words_found}\")\n",
    "    weights_matrix = torch.tensor(weights_matrix, dtype = torch.float32).reshape(len(target_vocab), config.EMB_DIM)\n",
    "    emb_layer = nn.Embedding.from_pretrained(weights_matrix)\n",
    "    print(emb_layer)\n",
    "    if trainable:\n",
    "        emb_layer.weight.requires_grad = True\n",
    "    else:\n",
    "        emb_layer.weight.requires_grad = False\n",
    "    return emb_layer"
   ]
  },
  {
   "cell_type": "code",
   "execution_count": 89,
   "metadata": {},
   "outputs": [],
   "source": [
    "class MyCollate:\n",
    "    def __init__(self, pad_idx, maxlen):\n",
    "        self.pad_idx = pad_idx\n",
    "        self.maxlen = maxlen\n",
    "    #__call__: a default method\n",
    "    ##   First the obj is created using MyCollate(pad_idx) in data loader\n",
    "    ##   Then if obj(batch) is called -> __call__ runs by default\n",
    "    def __call__(self, batch):\n",
    "        #get all source indexed sentences of the batch\n",
    "        source = [item[0] for item in batch] \n",
    "        #pad them using pad_sequence method from pytorch. \n",
    "#         source = pad_sequence(source, batch_first=False, padding_value = self.pad_idx)\n",
    "        padded_sequence = torch.zeros((self.maxlen, len(batch)), dtype = torch.int)\n",
    "        for idx, text in enumerate(source):\n",
    "            if len(text) > self.maxlen:\n",
    "                padded_sequence[:, idx] = source[idx][: self.maxlen]\n",
    "            else:\n",
    "                padded_sequence[:len(source[idx]), idx] = padded_sequence[:len(source[idx]), idx] + source[idx]\n",
    "        #get all target indexed sentences of the batch\n",
    "        target = [item[1] for item in batch] \n",
    "        target = torch.tensor(target, dtype = torch.float32).reshape(-1)\n",
    "        return padded_sequence, target"
   ]
  },
  {
   "cell_type": "code",
   "execution_count": 90,
   "metadata": {},
   "outputs": [],
   "source": [
    "class Model(nn.Module):\n",
    "    def __init__(self, input_dim, embedding_dim, hidden_dim, output_dim, embedding_layer):\n",
    "        super().__init__()\n",
    "#         self.embedding = nn.Embedding(input_dim, embedding_dim)\n",
    "        self.hidden_dim = hidden_dim\n",
    "        self.embedding = embedding_layer\n",
    "        self.lstm = nn.LSTM(embedding_dim, hidden_dim, bidirectional = True)\n",
    "        self.fc1 = nn.Linear(2*hidden_dim, 128)\n",
    "        self.fc2 = nn.Linear(128, output_dim)\n",
    "        self.dropout = nn.Dropout(0.3)\n",
    "        self.sigmoid = nn.Sigmoid()\n",
    "\n",
    "\n",
    "        \n",
    "    def forward(self, text):\n",
    "        \n",
    "        max_len, N = text.shape\n",
    "        hidden = torch.zeros((2, N , self.hidden_dim),\n",
    "                          dtype=torch.float)\n",
    "        memory = torch.zeros((2, N , self.hidden_dim),\n",
    "                          dtype=torch.float)\n",
    "        hidden = hidden.to(config.DEVICE)\n",
    "        memory = memory.to(config.DEVICE)\n",
    "        embedded = self.embedding(text)\n",
    "        output, hidden = self.lstm(embedded, (hidden, memory))\n",
    "#         assert torch.equal(output[-1,:,:], hidden.squeeze(0))\n",
    "        y_pred = output[-1,:,:]\n",
    "        y_pred = self.fc1(y_pred)\n",
    "        y_pred = self.fc2(y_pred)\n",
    "        y_pred = self.sigmoid(y_pred)\n",
    "                         \n",
    "        return y_pred  "
   ]
  },
  {
   "cell_type": "code",
   "execution_count": 91,
   "metadata": {},
   "outputs": [],
   "source": [
    "def train_epochs(dataloader,model, loss_fn, optimizer):\n",
    "    train_correct = 0\n",
    "    train_loss = 0\n",
    "    \n",
    "    model.train()\n",
    "\n",
    "    for review, label in tqdm(dataloader):\n",
    "        \n",
    "        review, label = review.to(config.DEVICE), label.to(config.DEVICE)\n",
    "        optimizer.zero_grad()\n",
    "        output = model(review)\n",
    "        output = output.reshape(-1)\n",
    "        loss = loss_fn(output, label)\n",
    "        loss.backward()\n",
    "        optimizer.step()\n",
    "        \n",
    "        train_loss += loss.item()*review.size(1)\n",
    "        prediction = (output > 0.5).float()\n",
    "        train_correct += (prediction == label).float().sum()\n",
    "        \n",
    "    return train_loss, train_correct"
   ]
  },
  {
   "cell_type": "code",
   "execution_count": 92,
   "metadata": {},
   "outputs": [],
   "source": [
    "def val_epochs(dataloader, model, loss_fn):\n",
    "    val_correct = 0\n",
    "    val_loss = 0\n",
    "    \n",
    "    model.eval()\n",
    "#     hidden = model.init_hidden(config.BATCH_SIZE)\n",
    "\n",
    "    for review, label in dataloader:\n",
    "        \n",
    "        review, label = review.to(config.DEVICE), label.to(config.DEVICE)\n",
    "        \n",
    "        output = model(review)\n",
    "        output = output.reshape(-1)\n",
    "\n",
    "        loss = loss_fn(output, label)\n",
    "        \n",
    "        val_loss += loss.item()*review.size(1)\n",
    "        prediction = (output > 0.5).float()\n",
    "        val_correct += (prediction == label).float().sum()\n",
    "#         prediction = \n",
    "    return val_loss, val_correct"
   ]
  },
  {
   "cell_type": "code",
   "execution_count": 93,
   "metadata": {},
   "outputs": [
    {
     "name": "stdout",
     "output_type": "stream",
     "text": [
      "Words found are : 5\n",
      "Embedding(5, 100)\n",
      "-----------------------------------------------------------0-fold of the model-----------------------------------------------------------\n"
     ]
    },
    {
     "name": "stderr",
     "output_type": "stream",
     "text": [
      "100%|██████████| 1/1 [00:00<00:00,  1.86it/s]\n"
     ]
    },
    {
     "name": "stdout",
     "output_type": "stream",
     "text": [
      "| Train Loss : 0.6726016998291016 |  Val Loss : 0.47538772225379944 | Train Acc : 25.0 | Val Acc : 50.0 |\n"
     ]
    },
    {
     "name": "stderr",
     "output_type": "stream",
     "text": [
      "100%|██████████| 1/1 [00:00<00:00, 58.52it/s]\n"
     ]
    },
    {
     "name": "stdout",
     "output_type": "stream",
     "text": [
      "| Train Loss : 0.5856163501739502 |  Val Loss : 0.309171587228775 | Train Acc : 25.0 | Val Acc : 50.0 |\n"
     ]
    },
    {
     "name": "stderr",
     "output_type": "stream",
     "text": [
      "100%|██████████| 1/1 [00:00<00:00, 66.58it/s]\n"
     ]
    },
    {
     "name": "stdout",
     "output_type": "stream",
     "text": [
      "| Train Loss : 0.5054268836975098 |  Val Loss : 0.15090516209602356 | Train Acc : 25.0 | Val Acc : 50.0 |\n"
     ]
    },
    {
     "name": "stderr",
     "output_type": "stream",
     "text": [
      "100%|██████████| 1/1 [00:00<00:00, 90.13it/s]\n"
     ]
    },
    {
     "name": "stdout",
     "output_type": "stream",
     "text": [
      "| Train Loss : 0.4306730329990387 |  Val Loss : -0.0012780725955963135 | Train Acc : 25.0 | Val Acc : 50.0 |\n"
     ]
    },
    {
     "name": "stderr",
     "output_type": "stream",
     "text": [
      "100%|██████████| 1/1 [00:00<00:00, 87.95it/s]\n"
     ]
    },
    {
     "name": "stdout",
     "output_type": "stream",
     "text": [
      "| Train Loss : 0.36032456159591675 |  Val Loss : -0.14885157346725464 | Train Acc : 25.0 | Val Acc : 50.0 |\n"
     ]
    },
    {
     "name": "stderr",
     "output_type": "stream",
     "text": [
      "100%|██████████| 1/1 [00:00<00:00, 76.76it/s]\n"
     ]
    },
    {
     "name": "stdout",
     "output_type": "stream",
     "text": [
      "| Train Loss : 0.2935902178287506 |  Val Loss : -0.292993426322937 | Train Acc : 25.0 | Val Acc : 50.0 |\n"
     ]
    },
    {
     "name": "stderr",
     "output_type": "stream",
     "text": [
      "100%|██████████| 1/1 [00:00<00:00, 90.80it/s]\n"
     ]
    },
    {
     "name": "stdout",
     "output_type": "stream",
     "text": [
      "| Train Loss : 0.22985559701919556 |  Val Loss : -0.43466100096702576 | Train Acc : 25.0 | Val Acc : 50.0 |\n"
     ]
    },
    {
     "name": "stderr",
     "output_type": "stream",
     "text": [
      "100%|██████████| 1/1 [00:00<00:00, 38.46it/s]\n"
     ]
    },
    {
     "name": "stdout",
     "output_type": "stream",
     "text": [
      "| Train Loss : 0.16863887012004852 |  Val Loss : -0.5746432542800903 | Train Acc : 25.0 | Val Acc : 50.0 |\n"
     ]
    },
    {
     "name": "stderr",
     "output_type": "stream",
     "text": [
      "100%|██████████| 1/1 [00:00<00:00, 66.76it/s]"
     ]
    },
    {
     "name": "stdout",
     "output_type": "stream",
     "text": [
      "| Train Loss : 0.10955697298049927 |"
     ]
    },
    {
     "name": "stderr",
     "output_type": "stream",
     "text": [
      "\n"
     ]
    },
    {
     "name": "stdout",
     "output_type": "stream",
     "text": [
      "  Val Loss : -0.7135981321334839 | Train Acc : 25.0 | Val Acc : 50.0 |\n"
     ]
    },
    {
     "name": "stderr",
     "output_type": "stream",
     "text": [
      "100%|██████████| 1/1 [00:00<00:00, 93.67it/s]\n"
     ]
    },
    {
     "name": "stdout",
     "output_type": "stream",
     "text": [
      "| Train Loss : 0.05230367183685303 |  Val Loss : -0.852084755897522 | Train Acc : 25.0 | Val Acc : 50.0 |\n"
     ]
    },
    {
     "name": "stderr",
     "output_type": "stream",
     "text": [
      "100%|██████████| 1/1 [00:00<00:00, 73.88it/s]\n"
     ]
    },
    {
     "name": "stdout",
     "output_type": "stream",
     "text": [
      "| Train Loss : -0.0033716559410095215 |  Val Loss : -0.9905880093574524 | Train Acc : 25.0 | Val Acc : 50.0 |\n"
     ]
    },
    {
     "name": "stderr",
     "output_type": "stream",
     "text": [
      "100%|██████████| 1/1 [00:00<00:00, 63.10it/s]\n"
     ]
    },
    {
     "name": "stdout",
     "output_type": "stream",
     "text": [
      "| Train Loss : -0.057675801217556 |  Val Loss : -1.1295393705368042 | Train Acc : 25.0 | Val Acc : 50.0 |\n"
     ]
    },
    {
     "name": "stderr",
     "output_type": "stream",
     "text": [
      "100%|██████████| 1/1 [00:00<00:00, 58.70it/s]\n"
     ]
    },
    {
     "name": "stdout",
     "output_type": "stream",
     "text": [
      "| Train Loss : -0.11078628897666931 |  Val Loss : -1.2693336009979248 | Train Acc : 25.0 | Val Acc : 50.0 |\n"
     ]
    },
    {
     "name": "stderr",
     "output_type": "stream",
     "text": [
      "100%|██████████| 1/1 [00:00<00:00, 95.01it/s]\n"
     ]
    },
    {
     "name": "stdout",
     "output_type": "stream",
     "text": [
      "| Train Loss : -0.16285938024520874 |  Val Loss : -1.4103449583053589 | Train Acc : 25.0 | Val Acc : 50.0 |\n"
     ]
    },
    {
     "name": "stderr",
     "output_type": "stream",
     "text": [
      "100%|██████████| 1/1 [00:00<00:00, 74.24it/s]\n"
     ]
    },
    {
     "name": "stdout",
     "output_type": "stream",
     "text": [
      "| Train Loss : -0.21403884887695312 |  Val Loss : -1.5529427528381348 | Train Acc : 25.0 | Val Acc : 50.0 |\n"
     ]
    },
    {
     "name": "stderr",
     "output_type": "stream",
     "text": [
      "100%|██████████| 1/1 [00:00<00:00, 66.05it/s]\n"
     ]
    },
    {
     "name": "stdout",
     "output_type": "stream",
     "text": [
      "| Train Loss : -0.26446259021759033 |  Val Loss : -1.697502851486206 | Train Acc : 25.0 | Val Acc : 50.0 |\n"
     ]
    },
    {
     "name": "stderr",
     "output_type": "stream",
     "text": [
      "100%|██████████| 1/1 [00:00<00:00, 78.52it/s]\n"
     ]
    },
    {
     "name": "stdout",
     "output_type": "stream",
     "text": [
      "| Train Loss : -0.3142679035663605 |  Val Loss : -1.8444195985794067 | Train Acc : 25.0 | Val Acc : 50.0 |\n"
     ]
    },
    {
     "name": "stderr",
     "output_type": "stream",
     "text": [
      "100%|██████████| 1/1 [00:00<00:00, 77.65it/s]\n"
     ]
    },
    {
     "name": "stdout",
     "output_type": "stream",
     "text": [
      "| Train Loss : -0.36359718441963196 |  Val Loss : -1.994118094444275 | Train Acc : 25.0 | Val Acc : 50.0 |\n"
     ]
    },
    {
     "name": "stderr",
     "output_type": "stream",
     "text": [
      "100%|██████████| 1/1 [00:00<00:00, 78.39it/s]\n"
     ]
    },
    {
     "name": "stdout",
     "output_type": "stream",
     "text": [
      "| Train Loss : -0.412598192691803 |  Val Loss : -2.147067070007324 | Train Acc : 25.0 | Val Acc : 50.0 |\n"
     ]
    },
    {
     "name": "stderr",
     "output_type": "stream",
     "text": [
      "100%|██████████| 1/1 [00:00<00:00, 83.37it/s]\n"
     ]
    },
    {
     "name": "stdout",
     "output_type": "stream",
     "text": [
      "| Train Loss : -0.4614335596561432 |  Val Loss : -2.3037874698638916 | Train Acc : 25.0 | Val Acc : 50.0 |\n"
     ]
    },
    {
     "name": "stderr",
     "output_type": "stream",
     "text": [
      "100%|██████████| 1/1 [00:00<00:00, 80.10it/s]\n"
     ]
    },
    {
     "name": "stdout",
     "output_type": "stream",
     "text": [
      "| Train Loss : -0.510277509689331 |  Val Loss : -2.4648666381835938 | Train Acc : 25.0 | Val Acc : 50.0 |\n"
     ]
    },
    {
     "name": "stderr",
     "output_type": "stream",
     "text": [
      "100%|██████████| 1/1 [00:00<00:00, 102.26it/s]\n"
     ]
    },
    {
     "name": "stdout",
     "output_type": "stream",
     "text": [
      "| Train Loss : -0.5593231320381165 |  Val Loss : -2.6309690475463867 | Train Acc : 25.0 | Val Acc : 50.0 |\n"
     ]
    },
    {
     "name": "stderr",
     "output_type": "stream",
     "text": [
      "100%|██████████| 1/1 [00:00<00:00, 56.93it/s]\n"
     ]
    },
    {
     "name": "stdout",
     "output_type": "stream",
     "text": [
      "| Train Loss : -0.6087818145751953 |  Val Loss : -2.8028554916381836 | Train Acc : 25.0 | Val Acc : 50.0 |\n"
     ]
    },
    {
     "name": "stderr",
     "output_type": "stream",
     "text": [
      "100%|██████████| 1/1 [00:00<00:00, 90.12it/s]\n"
     ]
    },
    {
     "name": "stdout",
     "output_type": "stream",
     "text": [
      "| Train Loss : -0.6588904857635498 |  Val Loss : -2.981390953063965 | Train Acc : 25.0 | Val Acc : 50.0 |\n"
     ]
    },
    {
     "name": "stderr",
     "output_type": "stream",
     "text": [
      "100%|██████████| 1/1 [00:00<00:00, 66.64it/s]"
     ]
    },
    {
     "name": "stdout",
     "output_type": "stream",
     "text": [
      "| Train Loss : -0.7099112272262573 |"
     ]
    },
    {
     "name": "stderr",
     "output_type": "stream",
     "text": [
      "\n"
     ]
    },
    {
     "name": "stdout",
     "output_type": "stream",
     "text": [
      "  Val Loss : -3.167574167251587 | Train Acc : 25.0 | Val Acc : 50.0 |\n"
     ]
    },
    {
     "name": "stderr",
     "output_type": "stream",
     "text": [
      "100%|██████████| 1/1 [00:00<00:00, 66.50it/s]\n"
     ]
    },
    {
     "name": "stdout",
     "output_type": "stream",
     "text": [
      "| Train Loss : -0.762140154838562 |  Val Loss : -3.3625540733337402 | Train Acc : 25.0 | Val Acc : 50.0 |\n"
     ]
    },
    {
     "name": "stderr",
     "output_type": "stream",
     "text": [
      "100%|██████████| 1/1 [00:00<00:00, 62.49it/s]\n"
     ]
    },
    {
     "name": "stdout",
     "output_type": "stream",
     "text": [
      "| Train Loss : -0.8159077167510986 |  Val Loss : -3.5676636695861816 | Train Acc : 25.0 | Val Acc : 50.0 |\n"
     ]
    },
    {
     "name": "stderr",
     "output_type": "stream",
     "text": [
      "100%|██████████| 1/1 [00:00<00:00, 80.22it/s]\n"
     ]
    },
    {
     "name": "stdout",
     "output_type": "stream",
     "text": [
      "| Train Loss : -0.8715920448303223 |  Val Loss : -3.7844576835632324 | Train Acc : 25.0 | Val Acc : 50.0 |\n"
     ]
    },
    {
     "name": "stderr",
     "output_type": "stream",
     "text": [
      "100%|██████████| 1/1 [00:00<00:00, 76.94it/s]\n"
     ]
    },
    {
     "name": "stdout",
     "output_type": "stream",
     "text": [
      "| Train Loss : -0.9296244382858276 |  Val Loss : -4.014745235443115 | Train Acc : 25.0 | Val Acc : 50.0 |\n"
     ]
    },
    {
     "name": "stderr",
     "output_type": "stream",
     "text": [
      "100%|██████████| 1/1 [00:00<00:00, 42.49it/s]\n"
     ]
    },
    {
     "name": "stdout",
     "output_type": "stream",
     "text": [
      "| Train Loss : -0.9905047416687012 |  Val Loss : -4.260670185089111 | Train Acc : 25.0 | Val Acc : 50.0 |\n",
      "Words found are : 5\n",
      "Embedding(5, 100)\n",
      "-----------------------------------------------------------1-fold of the model-----------------------------------------------------------\n"
     ]
    },
    {
     "name": "stderr",
     "output_type": "stream",
     "text": [
      "100%|██████████| 1/1 [00:00<00:00, 44.42it/s]\n"
     ]
    },
    {
     "name": "stdout",
     "output_type": "stream",
     "text": [
      "| Train Loss : 0.5779373049736023 |  Val Loss : 0.5613275766372681 | Train Acc : 20.0 | Val Acc : 100.0 |\n"
     ]
    },
    {
     "name": "stderr",
     "output_type": "stream",
     "text": [
      "100%|██████████| 1/1 [00:00<00:00, 64.27it/s]"
     ]
    },
    {
     "name": "stdout",
     "output_type": "stream",
     "text": [
      "| Train Loss : 0.3911123275756836 |"
     ]
    },
    {
     "name": "stderr",
     "output_type": "stream",
     "text": [
      "\n"
     ]
    },
    {
     "name": "stdout",
     "output_type": "stream",
     "text": [
      "  Val Loss : 0.4896611273288727 | Train Acc : 20.0 | Val Acc : 100.0 |\n"
     ]
    },
    {
     "name": "stderr",
     "output_type": "stream",
     "text": [
      "100%|██████████| 1/1 [00:00<00:00, 62.50it/s]\n"
     ]
    },
    {
     "name": "stdout",
     "output_type": "stream",
     "text": [
      "| Train Loss : 0.2141171395778656 |  Val Loss : 0.42474520206451416 | Train Acc : 20.0 | Val Acc : 100.0 |\n"
     ]
    },
    {
     "name": "stderr",
     "output_type": "stream",
     "text": [
      "100%|██████████| 1/1 [00:00<00:00, 71.71it/s]\n"
     ]
    },
    {
     "name": "stdout",
     "output_type": "stream",
     "text": [
      "| Train Loss : 0.04291336610913277 |  Val Loss : 0.3654465973377228 | Train Acc : 20.0 | Val Acc : 100.0 |\n"
     ]
    },
    {
     "name": "stderr",
     "output_type": "stream",
     "text": [
      "100%|██████████| 1/1 [00:00<00:00, 71.11it/s]\n"
     ]
    },
    {
     "name": "stdout",
     "output_type": "stream",
     "text": [
      "| Train Loss : -0.12556485831737518 |  Val Loss : 0.3110891580581665 | Train Acc : 20.0 | Val Acc : 100.0 |\n"
     ]
    },
    {
     "name": "stderr",
     "output_type": "stream",
     "text": [
      "100%|██████████| 1/1 [00:00<00:00, 74.72it/s]\n"
     ]
    },
    {
     "name": "stdout",
     "output_type": "stream",
     "text": [
      "| Train Loss : -0.2937711179256439 |  Val Loss : 0.26131540536880493 | Train Acc : 20.0 | Val Acc : 100.0 |\n"
     ]
    },
    {
     "name": "stderr",
     "output_type": "stream",
     "text": [
      "100%|██████████| 1/1 [00:00<00:00, 70.41it/s]\n"
     ]
    },
    {
     "name": "stdout",
     "output_type": "stream",
     "text": [
      "| Train Loss : -0.46379929780960083 |  Val Loss : 0.21598395705223083 | Train Acc : 20.0 | Val Acc : 100.0 |\n"
     ]
    },
    {
     "name": "stderr",
     "output_type": "stream",
     "text": [
      "100%|██████████| 1/1 [00:00<00:00, 81.41it/s]\n"
     ]
    },
    {
     "name": "stdout",
     "output_type": "stream",
     "text": [
      "| Train Loss : -0.637584388256073 |  Val Loss : 0.17508888244628906 | Train Acc : 20.0 | Val Acc : 100.0 |\n"
     ]
    },
    {
     "name": "stderr",
     "output_type": "stream",
     "text": [
      "100%|██████████| 1/1 [00:00<00:00, 77.52it/s]\n"
     ]
    },
    {
     "name": "stdout",
     "output_type": "stream",
     "text": [
      "| Train Loss : -0.8170930743217468 |  Val Loss : 0.13869057595729828 | Train Acc : 20.0 | Val Acc : 100.0 |\n"
     ]
    },
    {
     "name": "stderr",
     "output_type": "stream",
     "text": [
      "100%|██████████| 1/1 [00:00<00:00, 78.39it/s]\n"
     ]
    },
    {
     "name": "stdout",
     "output_type": "stream",
     "text": [
      "| Train Loss : -1.0045255422592163 |  Val Loss : 0.10685780644416809 | Train Acc : 20.0 | Val Acc : 100.0 |\n"
     ]
    },
    {
     "name": "stderr",
     "output_type": "stream",
     "text": [
      "100%|██████████| 1/1 [00:00<00:00, 66.66it/s]\n"
     ]
    },
    {
     "name": "stdout",
     "output_type": "stream",
     "text": [
      "| Train Loss : -1.202549695968628 |  Val Loss : 0.07962294667959213 | Train Acc : 20.0 | Val Acc : 100.0 |\n"
     ]
    },
    {
     "name": "stderr",
     "output_type": "stream",
     "text": [
      "100%|██████████| 1/1 [00:00<00:00, 75.03it/s]\n"
     ]
    },
    {
     "name": "stdout",
     "output_type": "stream",
     "text": [
      "| Train Loss : -1.414600133895874 |  Val Loss : 0.05694691836833954 | Train Acc : 20.0 | Val Acc : 100.0 |\n"
     ]
    },
    {
     "name": "stderr",
     "output_type": "stream",
     "text": [
      "100%|██████████| 1/1 [00:00<00:00, 68.41it/s]\n"
     ]
    },
    {
     "name": "stdout",
     "output_type": "stream",
     "text": [
      "| Train Loss : -1.6452667713165283 |  Val Loss : 0.03869694843888283 | Train Acc : 20.0 | Val Acc : 100.0 |\n"
     ]
    },
    {
     "name": "stderr",
     "output_type": "stream",
     "text": [
      "100%|██████████| 1/1 [00:00<00:00, 80.33it/s]\n"
     ]
    },
    {
     "name": "stdout",
     "output_type": "stream",
     "text": [
      "| Train Loss : -1.9008491039276123 |  Val Loss : 0.024631617590785027 | Train Acc : 20.0 | Val Acc : 100.0 |\n"
     ]
    },
    {
     "name": "stderr",
     "output_type": "stream",
     "text": [
      "100%|██████████| 1/1 [00:00<00:00, 86.56it/s]\n"
     ]
    },
    {
     "name": "stdout",
     "output_type": "stream",
     "text": [
      "| Train Loss : -2.190190553665161 |  Val Loss : 0.014389794319868088 | Train Acc : 20.0 | Val Acc : 100.0 |\n"
     ]
    },
    {
     "name": "stderr",
     "output_type": "stream",
     "text": [
      "100%|██████████| 1/1 [00:00<00:00, 77.37it/s]\n"
     ]
    },
    {
     "name": "stdout",
     "output_type": "stream",
     "text": [
      "| Train Loss : -2.5260190963745117 |  Val Loss : 0.007484599947929382 | Train Acc : 20.0 | Val Acc : 100.0 |\n"
     ]
    },
    {
     "name": "stderr",
     "output_type": "stream",
     "text": [
      "100%|██████████| 1/1 [00:00<00:00, 62.51it/s]\n"
     ]
    },
    {
     "name": "stdout",
     "output_type": "stream",
     "text": [
      "| Train Loss : -2.9272005558013916 |  Val Loss : 0.003306424943730235 | Train Acc : 20.0 | Val Acc : 100.0 |\n"
     ]
    },
    {
     "name": "stderr",
     "output_type": "stream",
     "text": [
      "100%|██████████| 1/1 [00:00<00:00, 66.61it/s]\n"
     ]
    },
    {
     "name": "stdout",
     "output_type": "stream",
     "text": [
      "| Train Loss : -3.4228339195251465 |  Val Loss : 0.001148406183347106 | Train Acc : 20.0 | Val Acc : 100.0 |\n"
     ]
    },
    {
     "name": "stderr",
     "output_type": "stream",
     "text": [
      "100%|██████████| 1/1 [00:00<00:00, 61.62it/s]\n"
     ]
    },
    {
     "name": "stdout",
     "output_type": "stream",
     "text": [
      "| Train Loss : -4.060093402862549 |  Val Loss : 0.00027415933436714113 | Train Acc : 20.0 | Val Acc : 100.0 |\n"
     ]
    },
    {
     "name": "stderr",
     "output_type": "stream",
     "text": [
      "100%|██████████| 1/1 [00:00<00:00, 12.21it/s]\n"
     ]
    },
    {
     "name": "stdout",
     "output_type": "stream",
     "text": [
      "| Train Loss : -4.92055082321167 |  Val Loss : 3.49289330188185e-05 | Train Acc : 20.0 | Val Acc : 100.0 |\n"
     ]
    },
    {
     "name": "stderr",
     "output_type": "stream",
     "text": [
      "100%|██████████| 1/1 [00:00<00:00, 28.30it/s]\n"
     ]
    },
    {
     "name": "stdout",
     "output_type": "stream",
     "text": [
      "| Train Loss : -6.157271385192871 |  Val Loss : 1.4305124977909145e-06 | Train Acc : 20.0 | Val Acc : 100.0 |\n"
     ]
    },
    {
     "name": "stderr",
     "output_type": "stream",
     "text": [
      "100%|██████████| 1/1 [00:00<00:00, 64.27it/s]\n"
     ]
    },
    {
     "name": "stdout",
     "output_type": "stream",
     "text": [
      "| Train Loss : -8.074484825134277 |  Val Loss : 0.0 | Train Acc : 20.0 | Val Acc : 100.0 |\n"
     ]
    },
    {
     "name": "stderr",
     "output_type": "stream",
     "text": [
      "100%|██████████| 1/1 [00:00<00:00, 55.55it/s]\n"
     ]
    },
    {
     "name": "stdout",
     "output_type": "stream",
     "text": [
      "| Train Loss : -60.0 |  Val Loss : 0.0 | Train Acc : 20.0 | Val Acc : 100.0 |\n"
     ]
    },
    {
     "name": "stderr",
     "output_type": "stream",
     "text": [
      "100%|██████████| 1/1 [00:00<00:00, 82.18it/s]\n"
     ]
    },
    {
     "name": "stdout",
     "output_type": "stream",
     "text": [
      "| Train Loss : -60.0 |  Val Loss : 0.0 | Train Acc : 20.0 | Val Acc : 100.0 |\n"
     ]
    },
    {
     "name": "stderr",
     "output_type": "stream",
     "text": [
      "100%|██████████| 1/1 [00:00<00:00, 92.44it/s]\n"
     ]
    },
    {
     "name": "stdout",
     "output_type": "stream",
     "text": [
      "| Train Loss : -60.0 |  Val Loss : 0.0 | Train Acc : 20.0 | Val Acc : 100.0 |\n"
     ]
    },
    {
     "name": "stderr",
     "output_type": "stream",
     "text": [
      "100%|██████████| 1/1 [00:00<00:00, 83.83it/s]\n"
     ]
    },
    {
     "name": "stdout",
     "output_type": "stream",
     "text": [
      "| Train Loss : -60.0 |  Val Loss : 0.0 | Train Acc : 20.0 | Val Acc : 100.0 |\n"
     ]
    },
    {
     "name": "stderr",
     "output_type": "stream",
     "text": [
      "100%|██████████| 1/1 [00:00<00:00, 76.93it/s]\n"
     ]
    },
    {
     "name": "stdout",
     "output_type": "stream",
     "text": [
      "| Train Loss : -60.0 |  Val Loss : 0.0 | Train Acc : 20.0 | Val Acc : 100.0 |\n"
     ]
    },
    {
     "name": "stderr",
     "output_type": "stream",
     "text": [
      "100%|██████████| 1/1 [00:00<00:00, 69.12it/s]\n"
     ]
    },
    {
     "name": "stdout",
     "output_type": "stream",
     "text": [
      "| Train Loss : -60.0 |  Val Loss : 0.0 | Train Acc : 20.0 | Val Acc : 100.0 |\n"
     ]
    },
    {
     "name": "stderr",
     "output_type": "stream",
     "text": [
      "100%|██████████| 1/1 [00:00<00:00, 80.88it/s]\n"
     ]
    },
    {
     "name": "stdout",
     "output_type": "stream",
     "text": [
      "| Train Loss : -60.0 |  Val Loss : 0.0 | Train Acc : 20.0 | Val Acc : 100.0 |\n"
     ]
    },
    {
     "name": "stderr",
     "output_type": "stream",
     "text": [
      "100%|██████████| 1/1 [00:00<00:00, 85.06it/s]\n"
     ]
    },
    {
     "name": "stdout",
     "output_type": "stream",
     "text": [
      "| Train Loss : -60.0 |  Val Loss : 0.0 | Train Acc : 20.0 | Val Acc : 100.0 |\n",
      "Words found are : 5\n",
      "Embedding(5, 100)\n",
      "-----------------------------------------------------------2-fold of the model-----------------------------------------------------------\n"
     ]
    },
    {
     "name": "stderr",
     "output_type": "stream",
     "text": [
      "100%|██████████| 1/1 [00:00<00:00, 67.74it/s]\n"
     ]
    },
    {
     "name": "stdout",
     "output_type": "stream",
     "text": [
      "| Train Loss : 0.7418274879455566 |  Val Loss : 0.5794481039047241 | Train Acc : 0.0 | Val Acc : 0.0 |\n"
     ]
    },
    {
     "name": "stderr",
     "output_type": "stream",
     "text": [
      "100%|██████████| 1/1 [00:00<00:00, 90.62it/s]\n"
     ]
    },
    {
     "name": "stdout",
     "output_type": "stream",
     "text": [
      "| Train Loss : 0.6614973545074463 |  Val Loss : 0.30787205696105957 | Train Acc : 40.0 | Val Acc : 0.0 |\n"
     ]
    },
    {
     "name": "stderr",
     "output_type": "stream",
     "text": [
      "100%|██████████| 1/1 [00:00<00:00, 82.88it/s]\n"
     ]
    },
    {
     "name": "stdout",
     "output_type": "stream",
     "text": [
      "| Train Loss : 0.5874380469322205 |  Val Loss : 0.04734230041503906 | Train Acc : 40.0 | Val Acc : 0.0 |\n"
     ]
    },
    {
     "name": "stderr",
     "output_type": "stream",
     "text": [
      "100%|██████████| 1/1 [00:00<00:00, 71.10it/s]\n"
     ]
    },
    {
     "name": "stdout",
     "output_type": "stream",
     "text": [
      "| Train Loss : 0.5184691548347473 |  Val Loss : -0.20481610298156738 | Train Acc : 40.0 | Val Acc : 0.0 |\n"
     ]
    },
    {
     "name": "stderr",
     "output_type": "stream",
     "text": [
      "100%|██████████| 1/1 [00:00<00:00, 47.62it/s]\n"
     ]
    },
    {
     "name": "stdout",
     "output_type": "stream",
     "text": [
      "| Train Loss : 0.45369571447372437 |  Val Loss : -0.4507269859313965 | Train Acc : 40.0 | Val Acc : 0.0 |\n"
     ]
    },
    {
     "name": "stderr",
     "output_type": "stream",
     "text": [
      "100%|██████████| 1/1 [00:00<00:00, 74.49it/s]\n"
     ]
    },
    {
     "name": "stdout",
     "output_type": "stream",
     "text": [
      "| Train Loss : 0.3924315869808197 |  Val Loss : -0.69209885597229 | Train Acc : 40.0 | Val Acc : 0.0 |\n"
     ]
    },
    {
     "name": "stderr",
     "output_type": "stream",
     "text": [
      "100%|██████████| 1/1 [00:00<00:00, 74.92it/s]\n"
     ]
    },
    {
     "name": "stdout",
     "output_type": "stream",
     "text": [
      "| Train Loss : 0.3341448903083801 |  Val Loss : -0.930316686630249 | Train Acc : 40.0 | Val Acc : 0.0 |\n"
     ]
    },
    {
     "name": "stderr",
     "output_type": "stream",
     "text": [
      "100%|██████████| 1/1 [00:00<00:00, 90.44it/s]\n"
     ]
    },
    {
     "name": "stdout",
     "output_type": "stream",
     "text": [
      "| Train Loss : 0.2784212529659271 |  Val Loss : -1.166517972946167 | Train Acc : 40.0 | Val Acc : 0.0 |\n"
     ]
    },
    {
     "name": "stderr",
     "output_type": "stream",
     "text": [
      "100%|██████████| 1/1 [00:00<00:00, 71.44it/s]\n"
     ]
    },
    {
     "name": "stdout",
     "output_type": "stream",
     "text": [
      "| Train Loss : 0.22493405640125275 |  Val Loss : -1.4016404151916504 | Train Acc : 40.0 | Val Acc : 0.0 |\n"
     ]
    },
    {
     "name": "stderr",
     "output_type": "stream",
     "text": [
      "100%|██████████| 1/1 [00:00<00:00, 66.66it/s]\n"
     ]
    },
    {
     "name": "stdout",
     "output_type": "stream",
     "text": [
      "| Train Loss : 0.1734257936477661 |  Val Loss : -1.6364690065383911 | Train Acc : 40.0 | Val Acc : 0.0 |\n"
     ]
    },
    {
     "name": "stderr",
     "output_type": "stream",
     "text": [
      "100%|██████████| 1/1 [00:00<00:00, 71.45it/s]"
     ]
    },
    {
     "name": "stdout",
     "output_type": "stream",
     "text": [
      "| Train Loss : 0.12368931621313095 |"
     ]
    },
    {
     "name": "stderr",
     "output_type": "stream",
     "text": [
      "\n"
     ]
    },
    {
     "name": "stdout",
     "output_type": "stream",
     "text": [
      "  Val Loss : -1.8716620206832886 | Train Acc : 40.0 | Val Acc : 0.0 |\n"
     ]
    },
    {
     "name": "stderr",
     "output_type": "stream",
     "text": [
      "100%|██████████| 1/1 [00:00<00:00, 71.59it/s]\n"
     ]
    },
    {
     "name": "stdout",
     "output_type": "stream",
     "text": [
      "| Train Loss : 0.0755569189786911 |  Val Loss : -2.107783555984497 | Train Acc : 40.0 | Val Acc : 0.0 |\n"
     ]
    },
    {
     "name": "stderr",
     "output_type": "stream",
     "text": [
      "100%|██████████| 1/1 [00:00<00:00, 79.36it/s]"
     ]
    },
    {
     "name": "stdout",
     "output_type": "stream",
     "text": [
      "| Train Loss : 0.028888892382383347 |  Val Loss : -2.3453292846679688 | Train Acc : 40.0 | Val Acc : 0.0 |\n"
     ]
    },
    {
     "name": "stderr",
     "output_type": "stream",
     "text": [
      "\n",
      "100%|██████████| 1/1 [00:00<00:00, 84.09it/s]\n"
     ]
    },
    {
     "name": "stdout",
     "output_type": "stream",
     "text": [
      "| Train Loss : -0.0164334774017334 |  Val Loss : -2.584742546081543 | Train Acc : 40.0 | Val Acc : 0.0 |\n"
     ]
    },
    {
     "name": "stderr",
     "output_type": "stream",
     "text": [
      "100%|██████████| 1/1 [00:00<00:00, 93.65it/s]\n"
     ]
    },
    {
     "name": "stdout",
     "output_type": "stream",
     "text": [
      "| Train Loss : -0.06051630899310112 |  Val Loss : -2.8264379501342773 | Train Acc : 40.0 | Val Acc : 0.0 |\n"
     ]
    },
    {
     "name": "stderr",
     "output_type": "stream",
     "text": [
      "100%|██████████| 1/1 [00:00<00:00, 47.20it/s]\n"
     ]
    },
    {
     "name": "stdout",
     "output_type": "stream",
     "text": [
      "| Train Loss : -0.10345707088708878 |  Val Loss : -3.0708179473876953 | Train Acc : 40.0 | Val Acc : 0.0 |\n"
     ]
    },
    {
     "name": "stderr",
     "output_type": "stream",
     "text": [
      "100%|██████████| 1/1 [00:00<00:00, 61.39it/s]\n"
     ]
    },
    {
     "name": "stdout",
     "output_type": "stream",
     "text": [
      "| Train Loss : -0.14535006880760193 |  Val Loss : -3.318284273147583 | Train Acc : 40.0 | Val Acc : 0.0 |\n"
     ]
    },
    {
     "name": "stderr",
     "output_type": "stream",
     "text": [
      "100%|██████████| 1/1 [00:00<00:00, 62.00it/s]\n"
     ]
    },
    {
     "name": "stdout",
     "output_type": "stream",
     "text": [
      "| Train Loss : -0.18628831207752228 |  Val Loss : -3.569258213043213 | Train Acc : 40.0 | Val Acc : 0.0 |\n"
     ]
    },
    {
     "name": "stderr",
     "output_type": "stream",
     "text": [
      "100%|██████████| 1/1 [00:00<00:00, 48.53it/s]\n"
     ]
    },
    {
     "name": "stdout",
     "output_type": "stream",
     "text": [
      "| Train Loss : -0.2263670414686203 |  Val Loss : -3.824195623397827 | Train Acc : 40.0 | Val Acc : 0.0 |\n"
     ]
    },
    {
     "name": "stderr",
     "output_type": "stream",
     "text": [
      "100%|██████████| 1/1 [00:00<00:00, 41.66it/s]"
     ]
    },
    {
     "name": "stdout",
     "output_type": "stream",
     "text": [
      "| Train Loss : -0.26568612456321716 |"
     ]
    },
    {
     "name": "stderr",
     "output_type": "stream",
     "text": [
      "\n"
     ]
    },
    {
     "name": "stdout",
     "output_type": "stream",
     "text": [
      "  Val Loss : -4.083589553833008 | Train Acc : 40.0 | Val Acc : 0.0 |\n"
     ]
    },
    {
     "name": "stderr",
     "output_type": "stream",
     "text": [
      "100%|██████████| 1/1 [00:00<00:00, 47.10it/s]\n"
     ]
    },
    {
     "name": "stdout",
     "output_type": "stream",
     "text": [
      "| Train Loss : -0.3043498992919922 |  Val Loss : -4.347994327545166 | Train Acc : 40.0 | Val Acc : 0.0 |\n"
     ]
    },
    {
     "name": "stderr",
     "output_type": "stream",
     "text": [
      "100%|██████████| 1/1 [00:00<00:00, 22.70it/s]\n"
     ]
    },
    {
     "name": "stdout",
     "output_type": "stream",
     "text": [
      "| Train Loss : -0.34246891736984253 |  Val Loss : -4.618023872375488 | Train Acc : 40.0 | Val Acc : 0.0 |\n"
     ]
    },
    {
     "name": "stderr",
     "output_type": "stream",
     "text": [
      "100%|██████████| 1/1 [00:00<00:00, 29.41it/s]\n"
     ]
    },
    {
     "name": "stdout",
     "output_type": "stream",
     "text": [
      "| Train Loss : -0.38016167283058167 |  Val Loss : -4.894379615783691 | Train Acc : 40.0 | Val Acc : 0.0 |\n"
     ]
    },
    {
     "name": "stderr",
     "output_type": "stream",
     "text": [
      "100%|██████████| 1/1 [00:00<00:00, 41.34it/s]\n"
     ]
    },
    {
     "name": "stdout",
     "output_type": "stream",
     "text": [
      "| Train Loss : -0.4175523817539215 |  Val Loss : -5.177848815917969 | Train Acc : 40.0 | Val Acc : 0.0 |\n"
     ]
    },
    {
     "name": "stderr",
     "output_type": "stream",
     "text": [
      "100%|██████████| 1/1 [00:00<00:00, 58.82it/s]\n"
     ]
    },
    {
     "name": "stdout",
     "output_type": "stream",
     "text": [
      "| Train Loss : -0.45477595925331116 |  Val Loss : -5.469324588775635 | Train Acc : 40.0 | Val Acc : 0.0 |\n"
     ]
    },
    {
     "name": "stderr",
     "output_type": "stream",
     "text": [
      "100%|██████████| 1/1 [00:00<00:00, 62.30it/s]\n"
     ]
    },
    {
     "name": "stdout",
     "output_type": "stream",
     "text": [
      "| Train Loss : -0.4919770359992981 |  Val Loss : -5.769811153411865 | Train Acc : 40.0 | Val Acc : 0.0 |\n"
     ]
    },
    {
     "name": "stderr",
     "output_type": "stream",
     "text": [
      "100%|██████████| 1/1 [00:00<00:00, 49.83it/s]\n"
     ]
    },
    {
     "name": "stdout",
     "output_type": "stream",
     "text": [
      "| Train Loss : -0.5293064713478088 |  Val Loss : -6.080465793609619 | Train Acc : 40.0 | Val Acc : 0.0 |\n"
     ]
    },
    {
     "name": "stderr",
     "output_type": "stream",
     "text": [
      "100%|██████████| 1/1 [00:00<00:00, 23.81it/s]\n"
     ]
    },
    {
     "name": "stdout",
     "output_type": "stream",
     "text": [
      "| Train Loss : -0.5669304132461548 |  Val Loss : -6.402584075927734 | Train Acc : 40.0 | Val Acc : 0.0 |\n"
     ]
    },
    {
     "name": "stderr",
     "output_type": "stream",
     "text": [
      "100%|██████████| 1/1 [00:00<00:00, 58.84it/s]\n"
     ]
    },
    {
     "name": "stdout",
     "output_type": "stream",
     "text": [
      "| Train Loss : -0.6050277948379517 |  Val Loss : -6.737637042999268 | Train Acc : 40.0 | Val Acc : 0.0 |\n"
     ]
    },
    {
     "name": "stderr",
     "output_type": "stream",
     "text": [
      "100%|██████████| 1/1 [00:00<00:00, 50.20it/s]\n"
     ]
    },
    {
     "name": "stdout",
     "output_type": "stream",
     "text": [
      "| Train Loss : -0.6437927484512329 |  Val Loss : -7.087331771850586 | Train Acc : 40.0 | Val Acc : 0.0 |\n",
      "Words found are : 5\n",
      "Embedding(5, 100)\n",
      "-----------------------------------------------------------3-fold of the model-----------------------------------------------------------\n"
     ]
    },
    {
     "name": "stderr",
     "output_type": "stream",
     "text": [
      "100%|██████████| 1/1 [00:00<00:00, 62.50it/s]"
     ]
    },
    {
     "name": "stdout",
     "output_type": "stream",
     "text": [
      "| Train Loss : 0.6973814964294434 |"
     ]
    },
    {
     "name": "stderr",
     "output_type": "stream",
     "text": [
      "\n"
     ]
    },
    {
     "name": "stdout",
     "output_type": "stream",
     "text": [
      "  Val Loss : 0.47706925868988037 | Train Acc : 0.0 | Val Acc : 0.0 |\n"
     ]
    },
    {
     "name": "stderr",
     "output_type": "stream",
     "text": [
      "100%|██████████| 1/1 [00:00<00:00, 62.50it/s]\n"
     ]
    },
    {
     "name": "stdout",
     "output_type": "stream",
     "text": [
      "| Train Loss : 0.5645632743835449 |  Val Loss : 0.2644972801208496 | Train Acc : 40.0 | Val Acc : 0.0 |\n"
     ]
    },
    {
     "name": "stderr",
     "output_type": "stream",
     "text": [
      "100%|██████████| 1/1 [00:00<00:00, 48.70it/s]\n"
     ]
    },
    {
     "name": "stdout",
     "output_type": "stream",
     "text": [
      "| Train Loss : 0.4402318596839905 |  Val Loss : 0.058936893939971924 | Train Acc : 40.0 | Val Acc : 0.0 |\n"
     ]
    },
    {
     "name": "stderr",
     "output_type": "stream",
     "text": [
      "100%|██████████| 1/1 [00:00<00:00, 50.00it/s]"
     ]
    },
    {
     "name": "stdout",
     "output_type": "stream",
     "text": [
      "| Train Loss : 0.32216909527778625 |"
     ]
    },
    {
     "name": "stderr",
     "output_type": "stream",
     "text": [
      "\n"
     ]
    },
    {
     "name": "stdout",
     "output_type": "stream",
     "text": [
      "  Val Loss : -0.14232367277145386 | Train Acc : 40.0 | Val Acc : 0.0 |\n"
     ]
    },
    {
     "name": "stderr",
     "output_type": "stream",
     "text": [
      "100%|██████████| 1/1 [00:00<00:00, 46.58it/s]"
     ]
    },
    {
     "name": "stdout",
     "output_type": "stream",
     "text": [
      "| Train Loss : 0.208744615316391 |"
     ]
    },
    {
     "name": "stderr",
     "output_type": "stream",
     "text": [
      "\n"
     ]
    },
    {
     "name": "stdout",
     "output_type": "stream",
     "text": [
      "  Val Loss : -0.34140992164611816 | Train Acc : 40.0 | Val Acc : 0.0 |\n"
     ]
    },
    {
     "name": "stderr",
     "output_type": "stream",
     "text": [
      "100%|██████████| 1/1 [00:00<00:00, 58.84it/s]\n"
     ]
    },
    {
     "name": "stdout",
     "output_type": "stream",
     "text": [
      "| Train Loss : 0.0987376719713211 |  Val Loss : -0.540041983127594 | Train Acc : 40.0 | Val Acc : 0.0 |\n"
     ]
    },
    {
     "name": "stderr",
     "output_type": "stream",
     "text": [
      "100%|██████████| 1/1 [00:00<00:00, 33.34it/s]\n"
     ]
    },
    {
     "name": "stdout",
     "output_type": "stream",
     "text": [
      "| Train Loss : -0.008783507160842419 |  Val Loss : -0.7396555542945862 | Train Acc : 40.0 | Val Acc : 0.0 |\n"
     ]
    },
    {
     "name": "stderr",
     "output_type": "stream",
     "text": [
      "100%|██████████| 1/1 [00:00<00:00, 46.46it/s]"
     ]
    },
    {
     "name": "stdout",
     "output_type": "stream",
     "text": [
      "| Train Loss : -0.11455283313989639 |"
     ]
    },
    {
     "name": "stderr",
     "output_type": "stream",
     "text": [
      "\n"
     ]
    },
    {
     "name": "stdout",
     "output_type": "stream",
     "text": [
      "  Val Loss : -0.9415078163146973 | Train Acc : 40.0 | Val Acc : 0.0 |\n"
     ]
    },
    {
     "name": "stderr",
     "output_type": "stream",
     "text": [
      "100%|██████████| 1/1 [00:00<00:00, 50.02it/s]\n"
     ]
    },
    {
     "name": "stdout",
     "output_type": "stream",
     "text": [
      "| Train Loss : -0.21917228400707245 |  Val Loss : -1.146765112876892 | Train Acc : 40.0 | Val Acc : 0.0 |\n"
     ]
    },
    {
     "name": "stderr",
     "output_type": "stream",
     "text": [
      "100%|██████████| 1/1 [00:00<00:00, 58.84it/s]\n"
     ]
    },
    {
     "name": "stdout",
     "output_type": "stream",
     "text": [
      "| Train Loss : -0.3231728672981262 |  Val Loss : -1.356577754020691 | Train Acc : 40.0 | Val Acc : 0.0 |\n"
     ]
    },
    {
     "name": "stderr",
     "output_type": "stream",
     "text": [
      "100%|██████████| 1/1 [00:00<00:00, 49.97it/s]\n"
     ]
    },
    {
     "name": "stdout",
     "output_type": "stream",
     "text": [
      "| Train Loss : -0.4270589351654053 |  Val Loss : -1.572162389755249 | Train Acc : 40.0 | Val Acc : 0.0 |\n"
     ]
    },
    {
     "name": "stderr",
     "output_type": "stream",
     "text": [
      "100%|██████████| 1/1 [00:00<00:00, 80.72it/s]\n"
     ]
    },
    {
     "name": "stdout",
     "output_type": "stream",
     "text": [
      "| Train Loss : -0.5313586592674255 |  Val Loss : -1.794879674911499 | Train Acc : 40.0 | Val Acc : 0.0 |\n"
     ]
    },
    {
     "name": "stderr",
     "output_type": "stream",
     "text": [
      "100%|██████████| 1/1 [00:00<00:00, 55.55it/s]\n"
     ]
    },
    {
     "name": "stdout",
     "output_type": "stream",
     "text": [
      "| Train Loss : -0.6366583108901978 |  Val Loss : -2.0263144969940186 | Train Acc : 40.0 | Val Acc : 0.0 |\n"
     ]
    },
    {
     "name": "stderr",
     "output_type": "stream",
     "text": [
      "100%|██████████| 1/1 [00:00<00:00, 76.92it/s]\n"
     ]
    },
    {
     "name": "stdout",
     "output_type": "stream",
     "text": [
      "| Train Loss : -0.7436437606811523 |  Val Loss : -2.2683639526367188 | Train Acc : 40.0 | Val Acc : 0.0 |\n"
     ]
    },
    {
     "name": "stderr",
     "output_type": "stream",
     "text": [
      "100%|██████████| 1/1 [00:00<00:00, 36.69it/s]\n"
     ]
    },
    {
     "name": "stdout",
     "output_type": "stream",
     "text": [
      "| Train Loss : -0.8531416058540344 |  Val Loss : -2.523343801498413 | Train Acc : 40.0 | Val Acc : 0.0 |\n"
     ]
    },
    {
     "name": "stderr",
     "output_type": "stream",
     "text": [
      "100%|██████████| 1/1 [00:00<00:00, 62.51it/s]\n"
     ]
    },
    {
     "name": "stdout",
     "output_type": "stream",
     "text": [
      "| Train Loss : -0.9661535024642944 |  Val Loss : -2.794113874435425 | Train Acc : 40.0 | Val Acc : 0.0 |\n"
     ]
    },
    {
     "name": "stderr",
     "output_type": "stream",
     "text": [
      "100%|██████████| 1/1 [00:00<00:00, 41.64it/s]\n"
     ]
    },
    {
     "name": "stdout",
     "output_type": "stream",
     "text": [
      "| Train Loss : -1.0839133262634277 |  Val Loss : -3.0842337608337402 | Train Acc : 40.0 | Val Acc : 0.0 |\n"
     ]
    },
    {
     "name": "stderr",
     "output_type": "stream",
     "text": [
      "100%|██████████| 1/1 [00:00<00:00, 69.30it/s]\n"
     ]
    },
    {
     "name": "stdout",
     "output_type": "stream",
     "text": [
      "| Train Loss : -1.207945466041565 |  Val Loss : -3.3981847763061523 | Train Acc : 40.0 | Val Acc : 0.0 |\n"
     ]
    },
    {
     "name": "stderr",
     "output_type": "stream",
     "text": [
      "100%|██████████| 1/1 [00:00<00:00, 50.01it/s]\n"
     ]
    },
    {
     "name": "stdout",
     "output_type": "stream",
     "text": [
      "| Train Loss : -1.3401474952697754 |  Val Loss : -3.74167537689209 | Train Acc : 40.0 | Val Acc : 0.0 |\n"
     ]
    },
    {
     "name": "stderr",
     "output_type": "stream",
     "text": [
      "100%|██████████| 1/1 [00:00<00:00, 79.12it/s]\n"
     ]
    },
    {
     "name": "stdout",
     "output_type": "stream",
     "text": [
      "| Train Loss : -1.4829169511795044 |  Val Loss : -4.122050762176514 | Train Acc : 40.0 | Val Acc : 0.0 |\n"
     ]
    },
    {
     "name": "stderr",
     "output_type": "stream",
     "text": [
      "100%|██████████| 1/1 [00:00<00:00, 75.78it/s]\n"
     ]
    },
    {
     "name": "stdout",
     "output_type": "stream",
     "text": [
      "| Train Loss : -1.6393158435821533 |  Val Loss : -4.548951148986816 | Train Acc : 40.0 | Val Acc : 0.0 |\n"
     ]
    },
    {
     "name": "stderr",
     "output_type": "stream",
     "text": [
      "100%|██████████| 1/1 [00:00<00:00, 82.38it/s]\n"
     ]
    },
    {
     "name": "stdout",
     "output_type": "stream",
     "text": [
      "| Train Loss : -1.8133271932601929 |  Val Loss : -5.0352463722229 | Train Acc : 40.0 | Val Acc : 0.0 |\n"
     ]
    },
    {
     "name": "stderr",
     "output_type": "stream",
     "text": [
      "100%|██████████| 1/1 [00:00<00:00, 84.52it/s]"
     ]
    },
    {
     "name": "stdout",
     "output_type": "stream",
     "text": [
      "| Train Loss : -2.010225772857666 |"
     ]
    },
    {
     "name": "stderr",
     "output_type": "stream",
     "text": [
      "\n"
     ]
    },
    {
     "name": "stdout",
     "output_type": "stream",
     "text": [
      "  Val Loss : -5.598548889160156 | Train Acc : 40.0 | Val Acc : 0.0 |\n"
     ]
    },
    {
     "name": "stderr",
     "output_type": "stream",
     "text": [
      "100%|██████████| 1/1 [00:00<00:00, 72.01it/s]\n"
     ]
    },
    {
     "name": "stdout",
     "output_type": "stream",
     "text": [
      "| Train Loss : -2.2372097969055176 |  Val Loss : -6.263601303100586 | Train Acc : 40.0 | Val Acc : 0.0 |\n"
     ]
    },
    {
     "name": "stderr",
     "output_type": "stream",
     "text": [
      "100%|██████████| 1/1 [00:00<00:00, 79.84it/s]\n"
     ]
    },
    {
     "name": "stdout",
     "output_type": "stream",
     "text": [
      "| Train Loss : -2.504301071166992 |  Val Loss : -7.066372394561768 | Train Acc : 40.0 | Val Acc : 0.0 |\n"
     ]
    },
    {
     "name": "stderr",
     "output_type": "stream",
     "text": [
      "100%|██████████| 1/1 [00:00<00:00, 79.67it/s]\n"
     ]
    },
    {
     "name": "stdout",
     "output_type": "stream",
     "text": [
      "| Train Loss : -2.826037645339966 |  Val Loss : -8.061328887939453 | Train Acc : 40.0 | Val Acc : 0.0 |\n"
     ]
    },
    {
     "name": "stderr",
     "output_type": "stream",
     "text": [
      "100%|██████████| 1/1 [00:00<00:00, 83.00it/s]\n"
     ]
    },
    {
     "name": "stdout",
     "output_type": "stream",
     "text": [
      "| Train Loss : -3.2243423461914062 |  Val Loss : -9.334208488464355 | Train Acc : 40.0 | Val Acc : 0.0 |\n"
     ]
    },
    {
     "name": "stderr",
     "output_type": "stream",
     "text": [
      "100%|██████████| 1/1 [00:00<00:00, 81.69it/s]\n"
     ]
    },
    {
     "name": "stdout",
     "output_type": "stream",
     "text": [
      "| Train Loss : -3.733630418777466 |  Val Loss : -11.02969741821289 | Train Acc : 40.0 | Val Acc : 0.0 |\n"
     ]
    },
    {
     "name": "stderr",
     "output_type": "stream",
     "text": [
      "100%|██████████| 1/1 [00:00<00:00, 14.94it/s]\n"
     ]
    },
    {
     "name": "stdout",
     "output_type": "stream",
     "text": [
      "| Train Loss : -4.411868572235107 |  Val Loss : -13.377432823181152 | Train Acc : 40.0 | Val Acc : 0.0 |\n"
     ]
    },
    {
     "name": "stderr",
     "output_type": "stream",
     "text": [
      "100%|██████████| 1/1 [00:00<00:00, 80.82it/s]\n"
     ]
    },
    {
     "name": "stdout",
     "output_type": "stream",
     "text": [
      "| Train Loss : -5.350972652435303 |  Val Loss : -100.0 | Train Acc : 40.0 | Val Acc : 0.0 |\n",
      "Words found are : 5\n",
      "Embedding(5, 100)\n",
      "-----------------------------------------------------------4-fold of the model-----------------------------------------------------------\n"
     ]
    },
    {
     "name": "stderr",
     "output_type": "stream",
     "text": [
      "100%|██████████| 1/1 [00:00<00:00, 55.98it/s]\n"
     ]
    },
    {
     "name": "stdout",
     "output_type": "stream",
     "text": [
      "| Train Loss : 0.7739928364753723 |  Val Loss : 0.9946560263633728 | Train Acc : 0.0 | Val Acc : 0.0 |\n"
     ]
    },
    {
     "name": "stderr",
     "output_type": "stream",
     "text": [
      "100%|██████████| 1/1 [00:00<00:00, 76.94it/s]\n"
     ]
    },
    {
     "name": "stdout",
     "output_type": "stream",
     "text": [
      "| Train Loss : 0.40139874815940857 |  Val Loss : 1.3787457942962646 | Train Acc : 40.0 | Val Acc : 0.0 |\n"
     ]
    },
    {
     "name": "stderr",
     "output_type": "stream",
     "text": [
      "100%|██████████| 1/1 [00:00<00:00, 89.05it/s]\n"
     ]
    },
    {
     "name": "stdout",
     "output_type": "stream",
     "text": [
      "| Train Loss : 0.05577757954597473 |  Val Loss : 1.7824757099151611 | Train Acc : 40.0 | Val Acc : 0.0 |\n"
     ]
    },
    {
     "name": "stderr",
     "output_type": "stream",
     "text": [
      "100%|██████████| 1/1 [00:00<00:00, 90.43it/s]\n"
     ]
    },
    {
     "name": "stdout",
     "output_type": "stream",
     "text": [
      "| Train Loss : -0.2802489399909973 |  Val Loss : 2.2222838401794434 | Train Acc : 40.0 | Val Acc : 0.0 |\n"
     ]
    },
    {
     "name": "stderr",
     "output_type": "stream",
     "text": [
      "100%|██████████| 1/1 [00:00<00:00, 103.59it/s]\n"
     ]
    },
    {
     "name": "stdout",
     "output_type": "stream",
     "text": [
      "| Train Loss : -0.6195705533027649 |  Val Loss : 2.7158358097076416 | Train Acc : 40.0 | Val Acc : 0.0 |\n"
     ]
    },
    {
     "name": "stderr",
     "output_type": "stream",
     "text": [
      "100%|██████████| 1/1 [00:00<00:00, 60.65it/s]\n"
     ]
    },
    {
     "name": "stdout",
     "output_type": "stream",
     "text": [
      "| Train Loss : -0.9731802940368652 |  Val Loss : 3.2837917804718018 | Train Acc : 40.0 | Val Acc : 0.0 |\n"
     ]
    },
    {
     "name": "stderr",
     "output_type": "stream",
     "text": [
      "100%|██████████| 1/1 [00:00<00:00, 80.55it/s]\n"
     ]
    },
    {
     "name": "stdout",
     "output_type": "stream",
     "text": [
      "| Train Loss : -1.351928949356079 |  Val Loss : 3.9519317150115967 | Train Acc : 40.0 | Val Acc : 0.0 |\n"
     ]
    },
    {
     "name": "stderr",
     "output_type": "stream",
     "text": [
      "100%|██████████| 1/1 [00:00<00:00, 80.39it/s]\n"
     ]
    },
    {
     "name": "stdout",
     "output_type": "stream",
     "text": [
      "| Train Loss : -1.7681913375854492 |  Val Loss : 4.754406452178955 | Train Acc : 40.0 | Val Acc : 0.0 |\n"
     ]
    },
    {
     "name": "stderr",
     "output_type": "stream",
     "text": [
      "100%|██████████| 1/1 [00:00<00:00, 80.07it/s]\n"
     ]
    },
    {
     "name": "stdout",
     "output_type": "stream",
     "text": [
      "| Train Loss : -2.238039493560791 |  Val Loss : 5.739358901977539 | Train Acc : 40.0 | Val Acc : 0.0 |\n"
     ]
    },
    {
     "name": "stderr",
     "output_type": "stream",
     "text": [
      "100%|██████████| 1/1 [00:00<00:00, 85.84it/s]\n"
     ]
    },
    {
     "name": "stdout",
     "output_type": "stream",
     "text": [
      "| Train Loss : -2.7846152782440186 |  Val Loss : 6.979308128356934 | Train Acc : 40.0 | Val Acc : 0.0 |\n"
     ]
    },
    {
     "name": "stderr",
     "output_type": "stream",
     "text": [
      "100%|██████████| 1/1 [00:00<00:00, 69.30it/s]\n"
     ]
    },
    {
     "name": "stdout",
     "output_type": "stream",
     "text": [
      "| Train Loss : -3.4438889026641846 |  Val Loss : 8.59152603149414 | Train Acc : 40.0 | Val Acc : 0.0 |\n"
     ]
    },
    {
     "name": "stderr",
     "output_type": "stream",
     "text": [
      "100%|██████████| 1/1 [00:00<00:00, 87.64it/s]\n"
     ]
    },
    {
     "name": "stdout",
     "output_type": "stream",
     "text": [
      "| Train Loss : -4.275323867797852 |  Val Loss : 10.78136157989502 | Train Acc : 40.0 | Val Acc : 0.0 |\n"
     ]
    },
    {
     "name": "stderr",
     "output_type": "stream",
     "text": [
      "100%|██████████| 1/1 [00:00<00:00, 79.99it/s]\n"
     ]
    },
    {
     "name": "stdout",
     "output_type": "stream",
     "text": [
      "| Train Loss : -5.383842468261719 |  Val Loss : 13.945639610290527 | Train Acc : 40.0 | Val Acc : 0.0 |\n"
     ]
    },
    {
     "name": "stderr",
     "output_type": "stream",
     "text": [
      "100%|██████████| 1/1 [00:00<00:00, 82.21it/s]\n"
     ]
    },
    {
     "name": "stdout",
     "output_type": "stream",
     "text": [
      "| Train Loss : -6.971414089202881 |  Val Loss : 18.958635330200195 | Train Acc : 40.0 | Val Acc : 0.0 |\n"
     ]
    },
    {
     "name": "stderr",
     "output_type": "stream",
     "text": [
      "100%|██████████| 1/1 [00:00<00:00, 70.27it/s]\n"
     ]
    },
    {
     "name": "stdout",
     "output_type": "stream",
     "text": [
      "| Train Loss : -9.479204177856445 |  Val Loss : 27.992950439453125 | Train Acc : 40.0 | Val Acc : 0.0 |\n"
     ]
    },
    {
     "name": "stderr",
     "output_type": "stream",
     "text": [
      "100%|██████████| 1/1 [00:00<00:00, 71.43it/s]\n"
     ]
    },
    {
     "name": "stdout",
     "output_type": "stream",
     "text": [
      "| Train Loss : -13.99647331237793 |  Val Loss : 200.0 | Train Acc : 40.0 | Val Acc : 0.0 |\n"
     ]
    },
    {
     "name": "stderr",
     "output_type": "stream",
     "text": [
      "100%|██████████| 1/1 [00:00<00:00, 76.90it/s]\n"
     ]
    },
    {
     "name": "stdout",
     "output_type": "stream",
     "text": [
      "| Train Loss : -100.0 |  Val Loss : 200.0 | Train Acc : 40.0 | Val Acc : 0.0 |\n"
     ]
    },
    {
     "name": "stderr",
     "output_type": "stream",
     "text": [
      "100%|██████████| 1/1 [00:00<00:00, 83.16it/s]\n"
     ]
    },
    {
     "name": "stdout",
     "output_type": "stream",
     "text": [
      "| Train Loss : -100.0 |  Val Loss : 200.0 | Train Acc : 40.0 | Val Acc : 0.0 |\n"
     ]
    },
    {
     "name": "stderr",
     "output_type": "stream",
     "text": [
      "100%|██████████| 1/1 [00:00<00:00, 87.84it/s]\n"
     ]
    },
    {
     "name": "stdout",
     "output_type": "stream",
     "text": [
      "| Train Loss : -100.0 |  Val Loss : 200.0 | Train Acc : 40.0 | Val Acc : 0.0 |\n"
     ]
    },
    {
     "name": "stderr",
     "output_type": "stream",
     "text": [
      "100%|██████████| 1/1 [00:00<00:00, 83.32it/s]\n"
     ]
    },
    {
     "name": "stdout",
     "output_type": "stream",
     "text": [
      "| Train Loss : -100.0 |  Val Loss : 200.0 | Train Acc : 40.0 | Val Acc : 0.0 |\n"
     ]
    },
    {
     "name": "stderr",
     "output_type": "stream",
     "text": [
      "100%|██████████| 1/1 [00:00<00:00, 83.32it/s]\n"
     ]
    },
    {
     "name": "stdout",
     "output_type": "stream",
     "text": [
      "| Train Loss : -100.0 |  Val Loss : 200.0 | Train Acc : 40.0 | Val Acc : 0.0 |\n"
     ]
    },
    {
     "name": "stderr",
     "output_type": "stream",
     "text": [
      "100%|██████████| 1/1 [00:00<00:00, 86.70it/s]\n"
     ]
    },
    {
     "name": "stdout",
     "output_type": "stream",
     "text": [
      "| Train Loss : -100.0 |  Val Loss : 200.0 | Train Acc : 40.0 | Val Acc : 0.0 |\n"
     ]
    },
    {
     "name": "stderr",
     "output_type": "stream",
     "text": [
      "100%|██████████| 1/1 [00:00<00:00, 75.47it/s]\n"
     ]
    },
    {
     "name": "stdout",
     "output_type": "stream",
     "text": [
      "| Train Loss : -100.0 |  Val Loss : 200.0 | Train Acc : 40.0 | Val Acc : 0.0 |\n"
     ]
    },
    {
     "name": "stderr",
     "output_type": "stream",
     "text": [
      "100%|██████████| 1/1 [00:00<00:00, 84.98it/s]\n"
     ]
    },
    {
     "name": "stdout",
     "output_type": "stream",
     "text": [
      "| Train Loss : -100.0 |  Val Loss : 200.0 | Train Acc : 40.0 | Val Acc : 0.0 |\n"
     ]
    },
    {
     "name": "stderr",
     "output_type": "stream",
     "text": [
      "100%|██████████| 1/1 [00:00<00:00, 90.94it/s]\n"
     ]
    },
    {
     "name": "stdout",
     "output_type": "stream",
     "text": [
      "| Train Loss : -100.0 |  Val Loss : 200.0 | Train Acc : 40.0 | Val Acc : 0.0 |\n"
     ]
    },
    {
     "name": "stderr",
     "output_type": "stream",
     "text": [
      "100%|██████████| 1/1 [00:00<00:00, 81.32it/s]\n"
     ]
    },
    {
     "name": "stdout",
     "output_type": "stream",
     "text": [
      "| Train Loss : -100.0 |  Val Loss : 200.0 | Train Acc : 40.0 | Val Acc : 0.0 |\n"
     ]
    },
    {
     "name": "stderr",
     "output_type": "stream",
     "text": [
      "100%|██████████| 1/1 [00:00<00:00, 88.87it/s]\n"
     ]
    },
    {
     "name": "stdout",
     "output_type": "stream",
     "text": [
      "| Train Loss : -100.0 |  Val Loss : 200.0 | Train Acc : 40.0 | Val Acc : 0.0 |\n"
     ]
    },
    {
     "name": "stderr",
     "output_type": "stream",
     "text": [
      "100%|██████████| 1/1 [00:00<00:00, 89.40it/s]\n"
     ]
    },
    {
     "name": "stdout",
     "output_type": "stream",
     "text": [
      "| Train Loss : -100.0 |  Val Loss : 200.0 | Train Acc : 40.0 | Val Acc : 0.0 |\n"
     ]
    },
    {
     "name": "stderr",
     "output_type": "stream",
     "text": [
      "100%|██████████| 1/1 [00:00<00:00, 96.60it/s]\n"
     ]
    },
    {
     "name": "stdout",
     "output_type": "stream",
     "text": [
      "| Train Loss : -100.0 |  Val Loss : 200.0 | Train Acc : 40.0 | Val Acc : 0.0 |\n"
     ]
    },
    {
     "name": "stderr",
     "output_type": "stream",
     "text": [
      "100%|██████████| 1/1 [00:00<00:00, 70.02it/s]"
     ]
    },
    {
     "name": "stdout",
     "output_type": "stream",
     "text": [
      "| Train Loss : -100.0 |  Val Loss : 200.0 | Train Acc : 40.0 | Val Acc : 0.0 |\n"
     ]
    },
    {
     "name": "stderr",
     "output_type": "stream",
     "text": [
      "\n"
     ]
    }
   ],
   "source": [
    "from sklearn.model_selection import StratifiedKFold\n",
    "from sklearn.model_selection import KFold\n",
    "from torch.utils.data import SubsetRandomSampler\n",
    "from torch.optim import Adam\n",
    "from tqdm import tqdm\n",
    "from torch.utils.data import DataLoader \n",
    "import matplotlib.pyplot as plt\n",
    "\n",
    "\n",
    "# sfk = StratifiedKFold(n_splits = config.FOLDS)\n",
    "kfold = KFold(n_splits = config.FOLDS)\n",
    "model_state_dicts = {}\n",
    " \n",
    "for fold, (train_idx, val_idx) in enumerate(kfold.split(np.arange(len(dataset)))):\n",
    "    \n",
    "    train_sampler = SubsetRandomSampler(train_idx)\n",
    "    val_sampler = SubsetRandomSampler(val_idx)\n",
    "    \n",
    "    train_loader = DataLoader(dataset, batch_size = config.BATCH_SIZE, sampler = train_sampler, collate_fn = MyCollate(0, config.MAX_LEN))\n",
    "    val_loader = DataLoader(dataset, batch_size = config.BATCH_SIZE, sampler = val_sampler, collate_fn = MyCollate(0, config.MAX_LEN))  \n",
    "    \n",
    "    VOCAB_SIZE = len(dataset.source_vocab)\n",
    "    HIDDEN_DIM = 128\n",
    "    OUTPUT_DIM = 1\n",
    "    VOCAB = list(dataset.source_vocab.stoi)\n",
    "\n",
    "    embedding_layer = get_emb_layer_with_weights(target_vocab = VOCAB, emb_model = fasttext_model, trainable = False)\n",
    "\n",
    "    model = Model(VOCAB_SIZE, config.EMB_DIM, HIDDEN_DIM, OUTPUT_DIM, embedding_layer)\n",
    "    model = model.to(config.DEVICE)\n",
    "    \n",
    "#     model\n",
    "#     model = Model(2, len(dataset.source_vocab), 128, 100, 1 ).to(config.DEVICE)\n",
    "#     hidden = model.init_hidden(config.BATCH_SIZE)\n",
    "#     model.hidden = hidden\n",
    "\n",
    "    loss_fn = nn.BCELoss()\n",
    "    optimizer = torch.optim.SGD(model.parameters(), lr = 0.1)\n",
    "    \n",
    "    train_losses = []\n",
    "    val_losses = []\n",
    "    train_accs = []\n",
    "    val_accs = []\n",
    "\n",
    "    print(f\"-----------------------------------------------------------{fold}-fold of the model-----------------------------------------------------------\")\n",
    "    for epoch in range(config.EPOCHS):\n",
    "        train_loss, train_correct = train_epochs(train_loader, model, loss_fn, optimizer)\n",
    "        val_loss, val_correct = val_epochs(val_loader, model, loss_fn)  \n",
    "        \n",
    "        train_loss = train_loss/len(train_loader.sampler)\n",
    "        val_loss = val_loss/len(val_loader.sampler)\n",
    "        train_acc = (train_correct/len(train_loader.sampler))*100\n",
    "        val_acc = (val_correct/len(val_loader.sampler))*100\n",
    "        \n",
    "        train_losses.append(train_loss)\n",
    "        val_losses.append(val_loss)\n",
    "        train_accs.append(train_acc.cpu().numpy().tolist())\n",
    "        val_accs.append(val_acc.cpu().numpy().tolist())\n",
    "        \n",
    "        print(f\"| Train Loss : {train_loss} |\", end = \" \")\n",
    "        print(f\" Val Loss : {val_loss} |\", end = \" \")\n",
    "        print(f\"Train Acc : {train_acc} |\", end = \" \")\n",
    "        print(f\"Val Acc : {val_acc} |\")\n",
    "\n",
    "        \n",
    "    # Saving the state dicts for the model\n",
    "    model_state_dicts.update({f\"LSTM-Model-for-{fold}\" : model.state_dict(),\n",
    "                             f\"Model-Optimizer-for-{fold}\" : optimizer.state_dict()})"
   ]
  },
  {
   "cell_type": "code",
   "execution_count": 94,
   "metadata": {},
   "outputs": [],
   "source": [
    "torch.save(model_state_dicts, \"My-Model.pt\")"
   ]
  },
  {
   "cell_type": "code",
   "execution_count": 95,
   "metadata": {},
   "outputs": [],
   "source": [
    "def numericalize(text):\n",
    "    numerialized_source = [] \n",
    "    numerialized_source = [dataset.source_vocab.stoi[\"<SOS>\"]]\n",
    "    numerialized_source += dataset.source_vocab.numericalize(text)\n",
    "    numerialized_source.append(dataset.source_vocab.stoi[\"<EOS>\"])\n",
    "    return numerialized_source\n",
    "def padding(source):\n",
    "    padded_sequence = torch.zeros(config.MAX_LEN, 1, dtype = torch.int)\n",
    "    source = torch.tensor(source)\n",
    "    if len(source) > config.MAX_LEN:\n",
    "        padded_sequence[:, 0] = source[: config.MAX_LEN]\n",
    "    else:\n",
    "        padded_sequence[:len(source), 0] = padded_sequence[:len(source), 0] + source\n",
    "    return padded_sequence"
   ]
  },
  {
   "cell_type": "code",
   "execution_count": 96,
   "metadata": {},
   "outputs": [
    {
     "name": "stdout",
     "output_type": "stream",
     "text": [
      "The reviewer is talking Positively about the service of the trip in his/her comment\n"
     ]
    }
   ],
   "source": [
    "t0 = \"Hotel services were good\"    #,service,Very Good\n",
    "t1 = \"I became ill, so I was admitted in a hospital for 3 days.\"    #Bad,hospitality\n",
    "t2 = \"The relaxed ambience of Thrissur was popular with temples.\"   #Good,ambience\n",
    "t3 = \"The food given in the restaurant was delicious. I found it enjoyable!\" #Excellent,food\n",
    "\n",
    "\n",
    "\n",
    "sample = \"beautiful\"\n",
    "sample2= \"The historical prestige and the hotel ambience was good and the service was on point. Good trip!\"\n",
    "destination = aspect\n",
    "\n",
    "    \n",
    "def best_aspect(text, aspects):\n",
    "    a = []\n",
    "    \n",
    "    for aspect in aspects:\n",
    "        a.append(get_similarity(text, aspect))\n",
    "    \n",
    "    return aspects[np.argmax(a)]\n",
    "def infer_processing(text):\n",
    "    \n",
    "    text = preprocessing(text)\n",
    "    text = numericalize(text)\n",
    "    text = padding(text)\n",
    "    return text\n",
    "ba0 = best_aspect(preprocessing(t0), destination)\n",
    "\n",
    "a0 = infer_processing(t0).to(config.DEVICE)\n",
    "\n",
    "model.eval()\n",
    "sentiment = model(a0)\n",
    "sentiment = sentiment.cpu().detach().numpy()[0]\n",
    "\n",
    "if sentiment > 0.5:\n",
    "    sentiment = 'Positively'\n",
    "else :\n",
    "    sentiment = 'Negatively'\n",
    "\n",
    "print(f\"The reviewer is talking {sentiment} about the {ba0} of the trip in his/her comment\")"
   ]
  },
  {
   "cell_type": "code",
   "execution_count": 97,
   "metadata": {},
   "outputs": [
    {
     "name": "stdout",
     "output_type": "stream",
     "text": [
      "The reviewer is talking Positively about the hospitality of the trip in his/her comment\n"
     ]
    }
   ],
   "source": [
    "ba1 = best_aspect(preprocessing(t1), destination)\n",
    "\n",
    "a1 = infer_processing(t1).to(config.DEVICE)\n",
    "\n",
    "model.eval()\n",
    "sentiment = model(a1)\n",
    "sentiment = sentiment.cpu().detach().numpy()[0]\n",
    "\n",
    "if sentiment > 0.5:\n",
    "    sentiment = 'Positively'\n",
    "else :\n",
    "    sentiment = 'Negatively'\n",
    "\n",
    "print(f\"The reviewer is talking {sentiment} about the {ba1} of the trip in his/her comment\")"
   ]
  },
  {
   "cell_type": "code",
   "execution_count": 98,
   "metadata": {},
   "outputs": [
    {
     "name": "stdout",
     "output_type": "stream",
     "text": [
      "The reviewer is talking Positively about the ambience of the trip in his/her comment\n"
     ]
    }
   ],
   "source": [
    "ba2 = best_aspect(preprocessing(t2), destination)\n",
    "a2 = infer_processing(t2).to(config.DEVICE)\n",
    "model.eval()\n",
    "sentiment = model(a2)\n",
    "sentiment = sentiment.cpu().detach().numpy()[0]\n",
    "if sentiment > 0.5:\n",
    "    sentiment = 'Positively'\n",
    "else :\n",
    "    sentiment = 'Negatively'\n",
    "print(f\"The reviewer is talking {sentiment} about the {ba2} of the trip in his/her comment\")"
   ]
  },
  {
   "cell_type": "code",
   "execution_count": 99,
   "metadata": {},
   "outputs": [
    {
     "name": "stdout",
     "output_type": "stream",
     "text": [
      "The reviewer is talking Positively about the service of the trip in his/her comment\n"
     ]
    }
   ],
   "source": [
    "ba3 = best_aspect(preprocessing(t3), destination)\n",
    "a3 = infer_processing(t3).to(config.DEVICE)\n",
    "model.eval()\n",
    "sentiment = model(a3)\n",
    "sentiment = sentiment.cpu().detach().numpy()[0]\n",
    "if sentiment > 0.5:\n",
    "    sentiment = 'Positively'\n",
    "else :\n",
    "    sentiment = 'Negatively'\n",
    "print(f\"The reviewer is talking {sentiment} about the {ba0} of the trip in his/her comment\")"
   ]
  }
 ],
 "metadata": {
  "kernelspec": {
   "display_name": "Python 3",
   "language": "python",
   "name": "python3"
  },
  "language_info": {
   "codemirror_mode": {
    "name": "ipython",
    "version": 3
   },
   "file_extension": ".py",
   "mimetype": "text/x-python",
   "name": "python",
   "nbconvert_exporter": "python",
   "pygments_lexer": "ipython3",
   "version": "3.9.13"
  }
 },
 "nbformat": 4,
 "nbformat_minor": 2
}
