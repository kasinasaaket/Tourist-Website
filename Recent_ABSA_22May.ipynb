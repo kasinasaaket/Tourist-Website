{
 "cells": [
  {
   "cell_type": "code",
   "execution_count": 1,
   "id": "f2755cb4",
   "metadata": {},
   "outputs": [],
   "source": [
    "import pandas as pd\n",
    "import torch\n",
    "import numpy as np\n",
    "import sqlite3\n",
    "import matplotlib.pyplot as plt\n",
    "import seaborn as sns\n",
    "import re\n",
    "import nltk\n",
    "from nltk.corpus import stopwords\n",
    "from nltk.stem import WordNetLemmatizer\n",
    "from nltk.stem.porter import PorterStemmer\n",
    "from sklearn.feature_extraction.text import CountVectorizer\n",
    "pd.set_option('display.max_columns', None)\n",
    "pd.set_option('display.max_rows', None)\n",
    "import warnings\n",
    "import sqlite3\n",
    "import pandas as pd"
   ]
  },
  {
   "cell_type": "code",
   "execution_count": 2,
   "id": "f5c0f858",
   "metadata": {},
   "outputs": [
    {
     "data": {
      "text/html": [
       "<div>\n",
       "<style scoped>\n",
       "    .dataframe tbody tr th:only-of-type {\n",
       "        vertical-align: middle;\n",
       "    }\n",
       "\n",
       "    .dataframe tbody tr th {\n",
       "        vertical-align: top;\n",
       "    }\n",
       "\n",
       "    .dataframe thead th {\n",
       "        text-align: right;\n",
       "    }\n",
       "</style>\n",
       "<table border=\"1\" class=\"dataframe\">\n",
       "  <thead>\n",
       "    <tr style=\"text-align: right;\">\n",
       "      <th></th>\n",
       "      <th>id</th>\n",
       "      <th>name</th>\n",
       "      <th>email</th>\n",
       "      <th>aspect</th>\n",
       "      <th>comments</th>\n",
       "      <th>rating</th>\n",
       "      <th>Unnamed: 6</th>\n",
       "    </tr>\n",
       "  </thead>\n",
       "  <tbody>\n",
       "    <tr>\n",
       "      <th>0</th>\n",
       "      <td>1</td>\n",
       "      <td>Yenugu Poojitha</td>\n",
       "      <td>yenugupoojithareddy3107@gmail.com</td>\n",
       "      <td>service</td>\n",
       "      <td>The tourist place had provided good services</td>\n",
       "      <td>4</td>\n",
       "      <td>NaN</td>\n",
       "    </tr>\n",
       "    <tr>\n",
       "      <th>1</th>\n",
       "      <td>2</td>\n",
       "      <td>chitra</td>\n",
       "      <td>chitra123@gmail.com</td>\n",
       "      <td>food</td>\n",
       "      <td>The food given in the restaurant was delicious...</td>\n",
       "      <td>5</td>\n",
       "      <td>NaN</td>\n",
       "    </tr>\n",
       "    <tr>\n",
       "      <th>2</th>\n",
       "      <td>3</td>\n",
       "      <td>saaket</td>\n",
       "      <td>saaket123@gmail.com</td>\n",
       "      <td>ambience</td>\n",
       "      <td>The relaxed ambience of Thrissur was popular w...</td>\n",
       "      <td>3</td>\n",
       "      <td>NaN</td>\n",
       "    </tr>\n",
       "    <tr>\n",
       "      <th>3</th>\n",
       "      <td>4</td>\n",
       "      <td>sravani</td>\n",
       "      <td>sravani18@gmail.com</td>\n",
       "      <td>food</td>\n",
       "      <td>The historical prestige and the hotel ambience...</td>\n",
       "      <td>4</td>\n",
       "      <td>NaN</td>\n",
       "    </tr>\n",
       "    <tr>\n",
       "      <th>4</th>\n",
       "      <td>5</td>\n",
       "      <td>rishikesh</td>\n",
       "      <td>rishikesh31@gmail.com</td>\n",
       "      <td>service</td>\n",
       "      <td>Hotel services were good</td>\n",
       "      <td>3</td>\n",
       "      <td>NaN</td>\n",
       "    </tr>\n",
       "    <tr>\n",
       "      <th>5</th>\n",
       "      <td>6</td>\n",
       "      <td>vinay</td>\n",
       "      <td>vinay14@gmail.com</td>\n",
       "      <td>hospitality</td>\n",
       "      <td>I became ill, so I was admitted in a hospital ...</td>\n",
       "      <td>3</td>\n",
       "      <td></td>\n",
       "    </tr>\n",
       "  </tbody>\n",
       "</table>\n",
       "</div>"
      ],
      "text/plain": [
       "   id             name                              email       aspect  \\\n",
       "0   1  Yenugu Poojitha  yenugupoojithareddy3107@gmail.com      service   \n",
       "1   2           chitra                chitra123@gmail.com         food   \n",
       "2   3           saaket                saaket123@gmail.com     ambience   \n",
       "3   4          sravani                sravani18@gmail.com         food   \n",
       "4   5        rishikesh              rishikesh31@gmail.com      service   \n",
       "5   6            vinay                  vinay14@gmail.com  hospitality   \n",
       "\n",
       "                                            comments  rating Unnamed: 6  \n",
       "0       The tourist place had provided good services       4        NaN  \n",
       "1  The food given in the restaurant was delicious...       5        NaN  \n",
       "2  The relaxed ambience of Thrissur was popular w...       3        NaN  \n",
       "3  The historical prestige and the hotel ambience...       4        NaN  \n",
       "4                           Hotel services were good       3        NaN  \n",
       "5  I became ill, so I was admitted in a hospital ...       3             "
      ]
     },
     "execution_count": 2,
     "metadata": {},
     "output_type": "execute_result"
    }
   ],
   "source": [
    "df  = pd.read_csv('reviews1_1.csv')\n",
    "df"
   ]
  },
  {
   "cell_type": "code",
   "execution_count": 3,
   "id": "a4207122",
   "metadata": {},
   "outputs": [
    {
     "name": "stdout",
     "output_type": "stream",
     "text": [
      "( 1 ) The tourist place had provided good services\n",
      "( 2 ) The food given in the restaurant was delicious. I found it enjoyable!\n",
      "( 3 ) The relaxed ambience of Thrissur was popular with temples.\n",
      "( 4 ) The historical prestige and the hotel ambience was good and the service was on point. Good trip!\n",
      "( 5 ) Hotel services were good\n",
      "( 6 ) I became ill, so I was admitted in a hospital for 3 days.\n"
     ]
    }
   ],
   "source": [
    "k = 1\n",
    "for i in df['comments']:\n",
    "    print('(',k,')',i,end='\\n')\n",
    "    k = k+1"
   ]
  },
  {
   "cell_type": "code",
   "execution_count": 4,
   "id": "17aa9086",
   "metadata": {},
   "outputs": [
    {
     "data": {
      "text/html": [
       "<div>\n",
       "<style scoped>\n",
       "    .dataframe tbody tr th:only-of-type {\n",
       "        vertical-align: middle;\n",
       "    }\n",
       "\n",
       "    .dataframe tbody tr th {\n",
       "        vertical-align: top;\n",
       "    }\n",
       "\n",
       "    .dataframe thead th {\n",
       "        text-align: right;\n",
       "    }\n",
       "</style>\n",
       "<table border=\"1\" class=\"dataframe\">\n",
       "  <thead>\n",
       "    <tr style=\"text-align: right;\">\n",
       "      <th></th>\n",
       "      <th>id</th>\n",
       "      <th>name</th>\n",
       "      <th>email</th>\n",
       "      <th>aspect</th>\n",
       "      <th>comments</th>\n",
       "      <th>rating</th>\n",
       "      <th>Unnamed: 6</th>\n",
       "      <th>sentiment</th>\n",
       "    </tr>\n",
       "  </thead>\n",
       "  <tbody>\n",
       "    <tr>\n",
       "      <th>0</th>\n",
       "      <td>1</td>\n",
       "      <td>Yenugu Poojitha</td>\n",
       "      <td>yenugupoojithareddy3107@gmail.com</td>\n",
       "      <td>service</td>\n",
       "      <td>The tourist place had provided good services</td>\n",
       "      <td>4</td>\n",
       "      <td>NaN</td>\n",
       "      <td>Good</td>\n",
       "    </tr>\n",
       "    <tr>\n",
       "      <th>1</th>\n",
       "      <td>2</td>\n",
       "      <td>chitra</td>\n",
       "      <td>chitra123@gmail.com</td>\n",
       "      <td>food</td>\n",
       "      <td>The food given in the restaurant was delicious...</td>\n",
       "      <td>5</td>\n",
       "      <td>NaN</td>\n",
       "      <td>Excellent</td>\n",
       "    </tr>\n",
       "    <tr>\n",
       "      <th>2</th>\n",
       "      <td>3</td>\n",
       "      <td>saaket</td>\n",
       "      <td>saaket123@gmail.com</td>\n",
       "      <td>ambience</td>\n",
       "      <td>The relaxed ambience of Thrissur was popular w...</td>\n",
       "      <td>3</td>\n",
       "      <td>NaN</td>\n",
       "      <td>Good</td>\n",
       "    </tr>\n",
       "    <tr>\n",
       "      <th>3</th>\n",
       "      <td>4</td>\n",
       "      <td>sravani</td>\n",
       "      <td>sravani18@gmail.com</td>\n",
       "      <td>food</td>\n",
       "      <td>The historical prestige and the hotel ambience...</td>\n",
       "      <td>4</td>\n",
       "      <td>NaN</td>\n",
       "      <td>Excellent</td>\n",
       "    </tr>\n",
       "    <tr>\n",
       "      <th>4</th>\n",
       "      <td>5</td>\n",
       "      <td>rishikesh</td>\n",
       "      <td>rishikesh31@gmail.com</td>\n",
       "      <td>service</td>\n",
       "      <td>Hotel services were good</td>\n",
       "      <td>3</td>\n",
       "      <td>NaN</td>\n",
       "      <td>Very Good</td>\n",
       "    </tr>\n",
       "    <tr>\n",
       "      <th>5</th>\n",
       "      <td>6</td>\n",
       "      <td>vinay</td>\n",
       "      <td>vinay14@gmail.com</td>\n",
       "      <td>hospitality</td>\n",
       "      <td>I became ill, so I was admitted in a hospital ...</td>\n",
       "      <td>3</td>\n",
       "      <td></td>\n",
       "      <td>Bad</td>\n",
       "    </tr>\n",
       "  </tbody>\n",
       "</table>\n",
       "</div>"
      ],
      "text/plain": [
       "   id             name                              email       aspect  \\\n",
       "0   1  Yenugu Poojitha  yenugupoojithareddy3107@gmail.com      service   \n",
       "1   2           chitra                chitra123@gmail.com         food   \n",
       "2   3           saaket                saaket123@gmail.com     ambience   \n",
       "3   4          sravani                sravani18@gmail.com         food   \n",
       "4   5        rishikesh              rishikesh31@gmail.com      service   \n",
       "5   6            vinay                  vinay14@gmail.com  hospitality   \n",
       "\n",
       "                                            comments  rating Unnamed: 6  \\\n",
       "0       The tourist place had provided good services       4        NaN   \n",
       "1  The food given in the restaurant was delicious...       5        NaN   \n",
       "2  The relaxed ambience of Thrissur was popular w...       3        NaN   \n",
       "3  The historical prestige and the hotel ambience...       4        NaN   \n",
       "4                           Hotel services were good       3        NaN   \n",
       "5  I became ill, so I was admitted in a hospital ...       3              \n",
       "\n",
       "   sentiment  \n",
       "0       Good  \n",
       "1  Excellent  \n",
       "2       Good  \n",
       "3  Excellent  \n",
       "4  Very Good  \n",
       "5        Bad  "
      ]
     },
     "execution_count": 4,
     "metadata": {},
     "output_type": "execute_result"
    }
   ],
   "source": [
    "sentiment = ['Good','Excellent','Good','Excellent','Very Good','Bad']\n",
    "df['sentiment'] = sentiment\n",
    "df"
   ]
  },
  {
   "cell_type": "code",
   "execution_count": 5,
   "id": "a432e99e",
   "metadata": {},
   "outputs": [
    {
     "data": {
      "text/plain": [
       "<Figure size 2500x2000 with 0 Axes>"
      ]
     },
     "metadata": {},
     "output_type": "display_data"
    },
    {
     "data": {
      "image/png": "[encoded data removed]",
      "text/plain": [
       "<Figure size 2500x1000 with 2 Axes>"
      ]
     },
     "metadata": {},
     "output_type": "display_data"
    }
   ],
   "source": [
    "import missingno as msno\n",
    "plt.figure(figsize=(25, 20))\n",
    "msno.matrix(df, color=[0.2, 0.4, 1])\n",
    "plt.show()"
   ]
  },
  {
   "cell_type": "code",
   "execution_count": 6,
   "id": "fccb73a8",
   "metadata": {},
   "outputs": [
    {
     "name": "stdout",
     "output_type": "stream",
     "text": [
      "Text before removing url:- \n",
      " ℍ𝕚 𝔼𝕧𝕖𝕣𝕪𝕠𝕟𝕖 𝕀 𝕒𝕞 𝔸𝕟𝕜𝕚𝕥 𝔾𝕦𝕡𝕥𝕒 𝕙𝕒𝕧𝕚𝕟𝕘 𝕥𝕙𝕖 𝕗𝕠𝕝𝕝𝕠𝕨𝕚𝕟𝕘 𝕂𝕒𝕘𝕘𝕝𝕖 𝕡𝕣𝕠𝕗𝕚𝕝𝕖 \n",
      " https://www.kaggle.com/nkitgupta 𝕒𝕟𝕕 𝕀 𝕒𝕞 😊 𝕥𝕠 𝕔𝕣𝕖𝕒𝕥𝕖 𝕥𝕙𝕚𝕤 𝕟𝕠𝕥𝕖𝕓𝕠𝕠𝕜\n",
      "Text after removing url:- \n",
      " ℍ𝕚 𝔼𝕧𝕖𝕣𝕪𝕠𝕟𝕖 𝕀 𝕒𝕞 𝔸𝕟𝕜𝕚𝕥 𝔾𝕦𝕡𝕥𝕒 𝕙𝕒𝕧𝕚𝕟𝕘 𝕥𝕙𝕖 𝕗𝕠𝕝𝕝𝕠𝕨𝕚𝕟𝕘 𝕂𝕒𝕘𝕘𝕝𝕖 𝕡𝕣𝕠𝕗𝕚𝕝𝕖 \n",
      "  𝕒𝕟𝕕 𝕀 𝕒𝕞 😊 𝕥𝕠 𝕔𝕣𝕖𝕒𝕥𝕖 𝕥𝕙𝕚𝕤 𝕟𝕠𝕥𝕖𝕓𝕠𝕠𝕜\n"
     ]
    }
   ],
   "source": [
    "import re\n",
    "def remove_url(text):\n",
    "    text = re.sub(r\"http\\S+\", \"\", text)\n",
    "    return text\n",
    "# Example string with weird font characters plus an URL which we gonna remove.\n",
    "sample = \"ℍ𝕚 𝔼𝕧𝕖𝕣𝕪𝕠𝕟𝕖 𝕀 𝕒𝕞 𝔸𝕟𝕜𝕚𝕥 𝔾𝕦𝕡𝕥𝕒 𝕙𝕒𝕧𝕚𝕟𝕘 𝕥𝕙𝕖 𝕗𝕠𝕝𝕝𝕠𝕨𝕚𝕟𝕘 𝕂𝕒𝕘𝕘𝕝𝕖 𝕡𝕣𝕠𝕗𝕚𝕝𝕖 \\n https://www.kaggle.com/nkitgupta 𝕒𝕟𝕕 𝕀 𝕒𝕞 😊 𝕥𝕠 𝕔𝕣𝕖𝕒𝕥𝕖 𝕥𝕙𝕚𝕤 𝕟𝕠𝕥𝕖𝕓𝕠𝕠𝕜\"\n",
    "print(f\"Text before removing url:- \\n {sample}\")\n",
    "\n",
    "sample = remove_url(sample)\n",
    "print(f\"Text after removing url:- \\n {sample}\")"
   ]
  },
  {
   "cell_type": "code",
   "execution_count": 7,
   "id": "e009f250",
   "metadata": {},
   "outputs": [
    {
     "name": "stdout",
     "output_type": "stream",
     "text": [
      "Ç Ç\n",
      "False\n",
      "False\n"
     ]
    }
   ],
   "source": [
    "print(\"\\u00C7\", \"\\u0043\\u0327\")\n",
    "print(\"\\u00C7\" == \"\\u0043\\u0327\")\n",
    "print(\"Ç\" == \"Ç\")"
   ]
  },
  {
   "cell_type": "code",
   "execution_count": 8,
   "id": "587ccf33",
   "metadata": {},
   "outputs": [
    {
     "name": "stdout",
     "output_type": "stream",
     "text": [
      "Text before Unicode Normalization:- \n",
      " ℍ𝕚 𝔼𝕧𝕖𝕣𝕪𝕠𝕟𝕖 𝕀 𝕒𝕞 𝔸𝕟𝕜𝕚𝕥 𝔾𝕦𝕡𝕥𝕒 𝕙𝕒𝕧𝕚𝕟𝕘 𝕥𝕙𝕖 𝕗𝕠𝕝𝕝𝕠𝕨𝕚𝕟𝕘 𝕂𝕒𝕘𝕘𝕝𝕖 𝕡𝕣𝕠𝕗𝕚𝕝𝕖 \n",
      "  𝕒𝕟𝕕 𝕀 𝕒𝕞 😊 𝕥𝕠 𝕔𝕣𝕖𝕒𝕥𝕖 𝕥𝕙𝕚𝕤 𝕟𝕠𝕥𝕖𝕓𝕠𝕠𝕜\n",
      "Text after Unicode Normalization:- \n",
      " Hi Everyone I am Ankit Gupta having the following Kaggle profile \n",
      "  and I am 😊 to create this notebook\n"
     ]
    }
   ],
   "source": [
    "import unicodedata as uni\n",
    "print(f\"Text before Unicode Normalization:- \\n {sample}\")\n",
    "sample = uni.normalize('NFKD', sample)\n",
    "print(f\"Text after Unicode Normalization:- \\n {sample}\")"
   ]
  },
  {
   "cell_type": "code",
   "execution_count": 9,
   "id": "00ec8887",
   "metadata": {},
   "outputs": [
    {
     "name": "stdout",
     "output_type": "stream",
     "text": [
      "Before Handling emoji:- \n",
      " Hi Everyone I am Ankit Gupta having the following Kaggle profile \n",
      "  and I am 😊 to create this notebook\n",
      "After Handling emoji:- \n",
      " Hi Everyone I am Ankit Gupta having the following Kaggle profile \n",
      "  and I am  smiling face with smiling eyes to create this notebook\n"
     ]
    }
   ],
   "source": [
    "import demoji\n",
    "def handle_emoji(string):\n",
    "    emojis = demoji.findall(string)\n",
    "    for emoji in emojis:\n",
    "        string = string.replace(emoji, \" \" + emojis[emoji].split(\":\")[0])\n",
    "    return string\n",
    "print(f\"Before Handling emoji:- \\n {sample}\")\n",
    "print(f\"After Handling emoji:- \\n {handle_emoji(sample)}\")"
   ]
  },
  {
   "cell_type": "code",
   "execution_count": 10,
   "id": "cb14ff5d",
   "metadata": {},
   "outputs": [
    {
     "name": "stdout",
     "output_type": "stream",
     "text": [
      "Hi Everyone I am Ankit Gupta.\n",
      "['hi', 'everyone', 'i', 'am', 'ankit', 'gupta.']\n"
     ]
    }
   ],
   "source": [
    "def word_tokenizer(text):\n",
    "    text = text.lower()\n",
    "    text = text.split()\n",
    "    return text\n",
    "sample = \"Hi Everyone I am Ankit Gupta.\"\n",
    "print(sample)\n",
    "print(word_tokenizer(sample))"
   ]
  },
  {
   "cell_type": "code",
   "execution_count": 11,
   "id": "a766b78f",
   "metadata": {},
   "outputs": [
    {
     "name": "stdout",
     "output_type": "stream",
     "text": [
      "Stop Words in English : \n",
      "{'our', 'if', 'before', 'ourselves', 'of', 'has', 'they', 'i', 'such', 'do', 'shouldn', 'isn', \"needn't\", 'a', 'for', 'some', 'not', 'more', 'their', 'what', 'here', 'too', 'up', 'be', \"shan't\", 'yours', 'and', 'haven', 'few', 'no', 'yourself', 'how', 'these', 'we', 'very', 'why', 'itself', 'this', \"you've\", 'at', 'aren', 'will', 'himself', 'just', 'the', 'mightn', 'on', \"should've\", 'll', 'to', 'd', 'during', 'were', \"don't\", \"isn't\", 'was', 's', 'being', \"mightn't\", 'between', 'as', 'again', 'she', 'once', \"wasn't\", 'under', \"doesn't\", 'own', 'wasn', 'he', 'or', 've', 'o', 'me', \"wouldn't\", 'ours', 'ain', 'most', 'with', 'against', 'so', 'couldn', \"hadn't\", 'then', \"you'll\", 'whom', 'down', 'about', \"haven't\", 'that', 'out', 'his', 'all', 'doing', \"shouldn't\", 'hadn', 'now', 'further', 't', 'after', 'above', \"that'll\", 'didn', \"didn't\", 'until', 'below', 'its', 'ma', 'should', 'each', 'theirs', \"you're\", 'same', 'which', 'yourselves', 'herself', 'shan', 'nor', 'had', 'off', 'through', 'hers', \"couldn't\", 'doesn', 'your', 'when', 'myself', 'it', 'weren', 'don', 'needn', 'any', 'into', 're', 'who', 'themselves', 'where', \"mustn't\", 'my', 'does', 'other', \"aren't\", 'them', 'won', 'than', 'over', 'only', \"won't\", 'while', 'an', 'can', 'have', 'are', 'is', 'from', 'hasn', 'having', 'am', \"you'd\", 'y', 'there', 'did', 'wouldn', 'her', 'm', 'him', 'those', 'been', \"she's\", \"it's\", 'by', 'you', \"hasn't\", 'mustn', \"weren't\", 'both', 'because', 'but', 'in'}\n"
     ]
    }
   ],
   "source": [
    "from nltk.corpus import stopwords\n",
    "en_stopwords = set(stopwords.words('english'))\n",
    "print(f\"Stop Words in English : \\n{ en_stopwords}\")"
   ]
  },
  {
   "cell_type": "code",
   "execution_count": 12,
   "id": "e25a0dbf",
   "metadata": {},
   "outputs": [
    {
     "name": "stdout",
     "output_type": "stream",
     "text": [
      "Before removing stopwords : ['hi', 'everyone', 'i', 'am', 'ankit', 'gupta.']\n",
      "After removing stopwords : ['hi', 'everyone', 'ankit', 'gupta.']\n"
     ]
    }
   ],
   "source": [
    "def remove_stopwords(text):\n",
    "    text = [word for word in text if word not in en_stopwords]\n",
    "    return text\n",
    "print(f\"Before removing stopwords : {word_tokenizer(sample)}\")\n",
    "print(f\"After removing stopwords : {remove_stopwords(word_tokenizer(sample))}\")"
   ]
  },
  {
   "cell_type": "code",
   "execution_count": 13,
   "id": "37000e2d",
   "metadata": {},
   "outputs": [
    {
     "name": "stdout",
     "output_type": "stream",
     "text": [
      "Before Stemming : I am creating a Notebook\n",
      "After Stemming : ['i', 'am', 'creat', 'a', 'notebook']\n"
     ]
    }
   ],
   "source": [
    "from nltk.stem.porter import PorterStemmer\n",
    "from nltk.stem.lancaster import LancasterStemmer\n",
    "stemmer = PorterStemmer()\n",
    "# stemmer = LancasterStemmer()\n",
    "def stemming(text):\n",
    "    text = [stemmer.stem(word) for word in text]\n",
    "    return text\n",
    "sample = \"I am creating a Notebook\"\n",
    "print(f\"Before Stemming : {(sample)}\")\n",
    "print(f\"After Stemming : {stemming(word_tokenizer(sample))}\")"
   ]
  },
  {
   "cell_type": "code",
   "execution_count": 14,
   "id": "d27000c3",
   "metadata": {},
   "outputs": [
    {
     "name": "stdout",
     "output_type": "stream",
     "text": [
      "Before Lemmatization : ['i', 'am', 'creating', 'a', 'notebook']\n",
      "After Lemmatization : ['I', 'be', 'create', 'a', 'notebook']\n"
     ]
    }
   ],
   "source": [
    "import spacy\n",
    "sp = spacy.load(\"en_core_web_sm\")\n",
    "def lemmatization(text):\n",
    "    # text = [sp(word).lemma_ for word in text]\n",
    "    text = \" \".join(text)\n",
    "    token = sp(text)\n",
    "    text = [word.lemma_ for word in token]\n",
    "    return text\n",
    "\n",
    "print(f\"Before Lemmatization : {word_tokenizer(sample)}\")\n",
    "print(f\"After Lemmatization : {lemmatization(word_tokenizer(sample))}\")"
   ]
  },
  {
   "cell_type": "code",
   "execution_count": 15,
   "id": "4478edc2",
   "metadata": {},
   "outputs": [
    {
     "name": "stdout",
     "output_type": "stream",
     "text": [
      " \"Hi Everyone I am Ankit Gupta. : tl\n",
      "मेरा नाम अंकित गुप्ता है और मैं एक छात्र हूँ : hi\n"
     ]
    }
   ],
   "source": [
    "from langdetect import detect\n",
    "en_text = u\"\"\"\"Hi Everyone I am Ankit Gupta.\"\"\"\n",
    "print(f\" {en_text} : {detect(en_text)}\")\n",
    "\n",
    "hindi_text = u\"\"\"मेरा नाम अंकित गुप्ता है और मैं एक छात्र हूँ\"\"\"\n",
    "print(f\"{hindi_text} : {detect(hindi_text)}\")"
   ]
  },
  {
   "cell_type": "code",
   "execution_count": 16,
   "id": "8b29b470",
   "metadata": {},
   "outputs": [
    {
     "name": "stderr",
     "output_type": "stream",
     "text": [
      "100%|██████████████████████████████████████████████████████████████████████████████████| 6/6 [00:00<00:00, 5987.59it/s]\n"
     ]
    },
    {
     "data": {
      "text/html": [
       "<div>\n",
       "<style scoped>\n",
       "    .dataframe tbody tr th:only-of-type {\n",
       "        vertical-align: middle;\n",
       "    }\n",
       "\n",
       "    .dataframe tbody tr th {\n",
       "        vertical-align: top;\n",
       "    }\n",
       "\n",
       "    .dataframe thead th {\n",
       "        text-align: right;\n",
       "    }\n",
       "</style>\n",
       "<table border=\"1\" class=\"dataframe\">\n",
       "  <thead>\n",
       "    <tr style=\"text-align: right;\">\n",
       "      <th></th>\n",
       "      <th>id</th>\n",
       "      <th>name</th>\n",
       "      <th>email</th>\n",
       "      <th>aspect</th>\n",
       "      <th>comments</th>\n",
       "      <th>rating</th>\n",
       "      <th>Unnamed: 6</th>\n",
       "      <th>sentiment</th>\n",
       "      <th>y</th>\n",
       "    </tr>\n",
       "  </thead>\n",
       "  <tbody>\n",
       "    <tr>\n",
       "      <th>0</th>\n",
       "      <td>1</td>\n",
       "      <td>Yenugu Poojitha</td>\n",
       "      <td>yenugupoojithareddy3107@gmail.com</td>\n",
       "      <td>service</td>\n",
       "      <td>The tourist place had provided good services</td>\n",
       "      <td>4</td>\n",
       "      <td>NaN</td>\n",
       "      <td>Good</td>\n",
       "      <td>1</td>\n",
       "    </tr>\n",
       "    <tr>\n",
       "      <th>1</th>\n",
       "      <td>2</td>\n",
       "      <td>chitra</td>\n",
       "      <td>chitra123@gmail.com</td>\n",
       "      <td>food</td>\n",
       "      <td>The food given in the restaurant was delicious...</td>\n",
       "      <td>5</td>\n",
       "      <td>NaN</td>\n",
       "      <td>Excellent</td>\n",
       "      <td>3</td>\n",
       "    </tr>\n",
       "    <tr>\n",
       "      <th>2</th>\n",
       "      <td>3</td>\n",
       "      <td>saaket</td>\n",
       "      <td>saaket123@gmail.com</td>\n",
       "      <td>ambience</td>\n",
       "      <td>The relaxed ambience of Thrissur was popular w...</td>\n",
       "      <td>3</td>\n",
       "      <td>NaN</td>\n",
       "      <td>Good</td>\n",
       "      <td>1</td>\n",
       "    </tr>\n",
       "    <tr>\n",
       "      <th>3</th>\n",
       "      <td>4</td>\n",
       "      <td>sravani</td>\n",
       "      <td>sravani18@gmail.com</td>\n",
       "      <td>food</td>\n",
       "      <td>The historical prestige and the hotel ambience...</td>\n",
       "      <td>4</td>\n",
       "      <td>NaN</td>\n",
       "      <td>Excellent</td>\n",
       "      <td>3</td>\n",
       "    </tr>\n",
       "    <tr>\n",
       "      <th>4</th>\n",
       "      <td>5</td>\n",
       "      <td>rishikesh</td>\n",
       "      <td>rishikesh31@gmail.com</td>\n",
       "      <td>service</td>\n",
       "      <td>Hotel services were good</td>\n",
       "      <td>3</td>\n",
       "      <td>NaN</td>\n",
       "      <td>Very Good</td>\n",
       "      <td>2</td>\n",
       "    </tr>\n",
       "    <tr>\n",
       "      <th>5</th>\n",
       "      <td>6</td>\n",
       "      <td>vinay</td>\n",
       "      <td>vinay14@gmail.com</td>\n",
       "      <td>hospitality</td>\n",
       "      <td>I became ill, so I was admitted in a hospital ...</td>\n",
       "      <td>3</td>\n",
       "      <td></td>\n",
       "      <td>Bad</td>\n",
       "      <td>-1</td>\n",
       "    </tr>\n",
       "  </tbody>\n",
       "</table>\n",
       "</div>"
      ],
      "text/plain": [
       "   id             name                              email       aspect  \\\n",
       "0   1  Yenugu Poojitha  yenugupoojithareddy3107@gmail.com      service   \n",
       "1   2           chitra                chitra123@gmail.com         food   \n",
       "2   3           saaket                saaket123@gmail.com     ambience   \n",
       "3   4          sravani                sravani18@gmail.com         food   \n",
       "4   5        rishikesh              rishikesh31@gmail.com      service   \n",
       "5   6            vinay                  vinay14@gmail.com  hospitality   \n",
       "\n",
       "                                            comments  rating Unnamed: 6  \\\n",
       "0       The tourist place had provided good services       4        NaN   \n",
       "1  The food given in the restaurant was delicious...       5        NaN   \n",
       "2  The relaxed ambience of Thrissur was popular w...       3        NaN   \n",
       "3  The historical prestige and the hotel ambience...       4        NaN   \n",
       "4                           Hotel services were good       3        NaN   \n",
       "5  I became ill, so I was admitted in a hospital ...       3              \n",
       "\n",
       "   sentiment  y  \n",
       "0       Good  1  \n",
       "1  Excellent  3  \n",
       "2       Good  1  \n",
       "3  Excellent  3  \n",
       "4  Very Good  2  \n",
       "5        Bad -1  "
      ]
     },
     "execution_count": 16,
     "metadata": {},
     "output_type": "execute_result"
    }
   ],
   "source": [
    "# Assigning labels to each review\n",
    "def label(y):\n",
    "    if y=='Excellent':\n",
    "        return 3\n",
    "    elif y=='Very Good':\n",
    "        return 2\n",
    "    elif y=='Good':\n",
    "        return 1\n",
    "    else:\n",
    "        return -1\n",
    "    \n",
    "from tqdm import tqdm\n",
    "tqdm.pandas()\n",
    "df['y'] = df.sentiment.progress_map(label)\n",
    "df"
   ]
  },
  {
   "cell_type": "code",
   "execution_count": 17,
   "id": "1295c8f8",
   "metadata": {},
   "outputs": [
    {
     "data": {
      "image/png": "[encoded data removed]",
      "text/plain": [
       "<Figure size 640x480 with 1 Axes>"
      ]
     },
     "metadata": {},
     "output_type": "display_data"
    }
   ],
   "source": [
    "import seaborn as sns\n",
    "sns.countplot(x = \"y\", data = df)\n",
    "plt.show()"
   ]
  },
  {
   "cell_type": "code",
   "execution_count": 18,
   "id": "19e16856",
   "metadata": {},
   "outputs": [
    {
     "data": {
      "text/plain": [
       "2"
      ]
     },
     "execution_count": 18,
     "metadata": {},
     "output_type": "execute_result"
    }
   ],
   "source": [
    "P = df[(df['sentiment'] == 'Good')]\n",
    "positive = list(P[(P['comments'].str.len() > 4) & (P['comments'].str.len() < 350)]['comments'])\n",
    "len(positive)"
   ]
  },
  {
   "cell_type": "code",
   "execution_count": 19,
   "id": "8613d04c",
   "metadata": {},
   "outputs": [
    {
     "data": {
      "text/plain": [
       "['The tourist place had provided good services',\n",
       " 'The relaxed ambience of Thrissur was popular with temples.']"
      ]
     },
     "execution_count": 19,
     "metadata": {},
     "output_type": "execute_result"
    }
   ],
   "source": [
    "import nlpaug.augmenter.word as naw\n",
    "positive[0:49]"
   ]
  },
  {
   "cell_type": "code",
   "execution_count": 20,
   "id": "d1c22084",
   "metadata": {},
   "outputs": [
    {
     "data": {
      "text/plain": [
       "2"
      ]
     },
     "execution_count": 20,
     "metadata": {},
     "output_type": "execute_result"
    }
   ],
   "source": [
    "aug = naw.AntonymAug(name='Antonym_Aug', aug_min=1, aug_max=10, aug_p=0.3, lang='eng', stopwords=en_stopwords, tokenizer=None, \n",
    "                     reverse_tokenizer=None, stopwords_regex=None, verbose=0) \n",
    "aug_negative = aug.augment(positive)\n",
    "len(aug_negative)"
   ]
  },
  {
   "cell_type": "code",
   "execution_count": 21,
   "id": "a7817778",
   "metadata": {},
   "outputs": [
    {
     "data": {
      "text/plain": [
       "['The tourist place had provided bad services',\n",
       " 'The tense ambience of Thrissur was unpopular with temples.']"
      ]
     },
     "execution_count": 21,
     "metadata": {},
     "output_type": "execute_result"
    }
   ],
   "source": [
    "aug_negative[0:4]"
   ]
  },
  {
   "cell_type": "code",
   "execution_count": 22,
   "id": "5b17e42c",
   "metadata": {},
   "outputs": [
    {
     "name": "stderr",
     "output_type": "stream",
     "text": [
      "100%|████████████████████████████████████████████████████████████████████████████████████| 6/6 [00:00<00:00, 73.13it/s]\n"
     ]
    },
    {
     "data": {
      "text/html": [
       "<div>\n",
       "<style scoped>\n",
       "    .dataframe tbody tr th:only-of-type {\n",
       "        vertical-align: middle;\n",
       "    }\n",
       "\n",
       "    .dataframe tbody tr th {\n",
       "        vertical-align: top;\n",
       "    }\n",
       "\n",
       "    .dataframe thead th {\n",
       "        text-align: right;\n",
       "    }\n",
       "</style>\n",
       "<table border=\"1\" class=\"dataframe\">\n",
       "  <thead>\n",
       "    <tr style=\"text-align: right;\">\n",
       "      <th></th>\n",
       "      <th>id</th>\n",
       "      <th>name</th>\n",
       "      <th>email</th>\n",
       "      <th>aspect</th>\n",
       "      <th>comments</th>\n",
       "      <th>rating</th>\n",
       "      <th>Unnamed: 6</th>\n",
       "      <th>sentiment</th>\n",
       "      <th>y</th>\n",
       "      <th>clean_review</th>\n",
       "    </tr>\n",
       "  </thead>\n",
       "  <tbody>\n",
       "    <tr>\n",
       "      <th>0</th>\n",
       "      <td>1</td>\n",
       "      <td>Yenugu Poojitha</td>\n",
       "      <td>yenugupoojithareddy3107@gmail.com</td>\n",
       "      <td>service</td>\n",
       "      <td>The tourist place had provided good services</td>\n",
       "      <td>4</td>\n",
       "      <td>NaN</td>\n",
       "      <td>Good</td>\n",
       "      <td>1</td>\n",
       "      <td>tourist place provide good service</td>\n",
       "    </tr>\n",
       "    <tr>\n",
       "      <th>1</th>\n",
       "      <td>2</td>\n",
       "      <td>chitra</td>\n",
       "      <td>chitra123@gmail.com</td>\n",
       "      <td>food</td>\n",
       "      <td>The food given in the restaurant was delicious...</td>\n",
       "      <td>5</td>\n",
       "      <td>NaN</td>\n",
       "      <td>Excellent</td>\n",
       "      <td>3</td>\n",
       "      <td>food give restaurant delicious I find enjoyable</td>\n",
       "    </tr>\n",
       "    <tr>\n",
       "      <th>2</th>\n",
       "      <td>3</td>\n",
       "      <td>saaket</td>\n",
       "      <td>saaket123@gmail.com</td>\n",
       "      <td>ambience</td>\n",
       "      <td>The relaxed ambience of Thrissur was popular w...</td>\n",
       "      <td>3</td>\n",
       "      <td>NaN</td>\n",
       "      <td>Good</td>\n",
       "      <td>1</td>\n",
       "      <td>relaxed ambience thrissur popular temple</td>\n",
       "    </tr>\n",
       "    <tr>\n",
       "      <th>3</th>\n",
       "      <td>4</td>\n",
       "      <td>sravani</td>\n",
       "      <td>sravani18@gmail.com</td>\n",
       "      <td>food</td>\n",
       "      <td>The historical prestige and the hotel ambience...</td>\n",
       "      <td>4</td>\n",
       "      <td>NaN</td>\n",
       "      <td>Excellent</td>\n",
       "      <td>3</td>\n",
       "      <td>historical prestige hotel ambience good servic...</td>\n",
       "    </tr>\n",
       "    <tr>\n",
       "      <th>4</th>\n",
       "      <td>5</td>\n",
       "      <td>rishikesh</td>\n",
       "      <td>rishikesh31@gmail.com</td>\n",
       "      <td>service</td>\n",
       "      <td>Hotel services were good</td>\n",
       "      <td>3</td>\n",
       "      <td>NaN</td>\n",
       "      <td>Very Good</td>\n",
       "      <td>2</td>\n",
       "      <td>hotel service good</td>\n",
       "    </tr>\n",
       "    <tr>\n",
       "      <th>5</th>\n",
       "      <td>6</td>\n",
       "      <td>vinay</td>\n",
       "      <td>vinay14@gmail.com</td>\n",
       "      <td>hospitality</td>\n",
       "      <td>I became ill, so I was admitted in a hospital ...</td>\n",
       "      <td>3</td>\n",
       "      <td></td>\n",
       "      <td>Bad</td>\n",
       "      <td>-1</td>\n",
       "      <td>I become ill I admit hospital 3 day</td>\n",
       "    </tr>\n",
       "  </tbody>\n",
       "</table>\n",
       "</div>"
      ],
      "text/plain": [
       "   id             name                              email       aspect  \\\n",
       "0   1  Yenugu Poojitha  yenugupoojithareddy3107@gmail.com      service   \n",
       "1   2           chitra                chitra123@gmail.com         food   \n",
       "2   3           saaket                saaket123@gmail.com     ambience   \n",
       "3   4          sravani                sravani18@gmail.com         food   \n",
       "4   5        rishikesh              rishikesh31@gmail.com      service   \n",
       "5   6            vinay                  vinay14@gmail.com  hospitality   \n",
       "\n",
       "                                            comments  rating Unnamed: 6  \\\n",
       "0       The tourist place had provided good services       4        NaN   \n",
       "1  The food given in the restaurant was delicious...       5        NaN   \n",
       "2  The relaxed ambience of Thrissur was popular w...       3        NaN   \n",
       "3  The historical prestige and the hotel ambience...       4        NaN   \n",
       "4                           Hotel services were good       3        NaN   \n",
       "5  I became ill, so I was admitted in a hospital ...       3              \n",
       "\n",
       "   sentiment  y                                       clean_review  \n",
       "0       Good  1                 tourist place provide good service  \n",
       "1  Excellent  3    food give restaurant delicious I find enjoyable  \n",
       "2       Good  1           relaxed ambience thrissur popular temple  \n",
       "3  Excellent  3  historical prestige hotel ambience good servic...  \n",
       "4  Very Good  2                                 hotel service good  \n",
       "5        Bad -1                I become ill I admit hospital 3 day  "
      ]
     },
     "execution_count": 22,
     "metadata": {},
     "output_type": "execute_result"
    }
   ],
   "source": [
    "def preprocessing(text):\n",
    "    text = remove_url(text) \n",
    "    text = uni.normalize('NFKD', text)\n",
    "    text = handle_emoji(text)\n",
    "    text = text.lower() \n",
    "    text = re.sub(r'[^\\w\\s]', '', text)\n",
    "    text = word_tokenizer(text)\n",
    "    # text = stemming(text)\n",
    "    text = lemmatization(text)\n",
    "    text = remove_stopwords(text)\n",
    "    text = \" \".join(text)\n",
    "    return text\n",
    "from tqdm import tqdm\n",
    "tqdm.pandas()\n",
    "df['clean_review'] = df['comments'].progress_map(preprocessing)\n",
    "df"
   ]
  },
  {
   "cell_type": "code",
   "execution_count": 23,
   "id": "24e96e0a",
   "metadata": {},
   "outputs": [
    {
     "data": {
      "text/html": [
       "<div>\n",
       "<style scoped>\n",
       "    .dataframe tbody tr th:only-of-type {\n",
       "        vertical-align: middle;\n",
       "    }\n",
       "\n",
       "    .dataframe tbody tr th {\n",
       "        vertical-align: top;\n",
       "    }\n",
       "\n",
       "    .dataframe thead th {\n",
       "        text-align: right;\n",
       "    }\n",
       "</style>\n",
       "<table border=\"1\" class=\"dataframe\">\n",
       "  <thead>\n",
       "    <tr style=\"text-align: right;\">\n",
       "      <th></th>\n",
       "      <th>id</th>\n",
       "      <th>name</th>\n",
       "      <th>email</th>\n",
       "      <th>aspect</th>\n",
       "      <th>comments</th>\n",
       "      <th>rating</th>\n",
       "      <th>Unnamed: 6</th>\n",
       "      <th>sentiment</th>\n",
       "      <th>y</th>\n",
       "      <th>clean_review</th>\n",
       "    </tr>\n",
       "  </thead>\n",
       "  <tbody>\n",
       "    <tr>\n",
       "      <th>0</th>\n",
       "      <td>1</td>\n",
       "      <td>Yenugu Poojitha</td>\n",
       "      <td>yenugupoojithareddy3107@gmail.com</td>\n",
       "      <td>service</td>\n",
       "      <td>The tourist place had provided good services</td>\n",
       "      <td>4</td>\n",
       "      <td>NaN</td>\n",
       "      <td>Good</td>\n",
       "      <td>1</td>\n",
       "      <td>tourist place provide good service</td>\n",
       "    </tr>\n",
       "    <tr>\n",
       "      <th>1</th>\n",
       "      <td>2</td>\n",
       "      <td>chitra</td>\n",
       "      <td>chitra123@gmail.com</td>\n",
       "      <td>food</td>\n",
       "      <td>The food given in the restaurant was delicious...</td>\n",
       "      <td>5</td>\n",
       "      <td>NaN</td>\n",
       "      <td>Excellent</td>\n",
       "      <td>3</td>\n",
       "      <td>food give restaurant delicious I find enjoyable</td>\n",
       "    </tr>\n",
       "    <tr>\n",
       "      <th>2</th>\n",
       "      <td>3</td>\n",
       "      <td>saaket</td>\n",
       "      <td>saaket123@gmail.com</td>\n",
       "      <td>ambience</td>\n",
       "      <td>The relaxed ambience of Thrissur was popular w...</td>\n",
       "      <td>3</td>\n",
       "      <td>NaN</td>\n",
       "      <td>Good</td>\n",
       "      <td>1</td>\n",
       "      <td>relaxed ambience thrissur popular temple</td>\n",
       "    </tr>\n",
       "    <tr>\n",
       "      <th>3</th>\n",
       "      <td>4</td>\n",
       "      <td>sravani</td>\n",
       "      <td>sravani18@gmail.com</td>\n",
       "      <td>food</td>\n",
       "      <td>The historical prestige and the hotel ambience...</td>\n",
       "      <td>4</td>\n",
       "      <td>NaN</td>\n",
       "      <td>Excellent</td>\n",
       "      <td>3</td>\n",
       "      <td>historical prestige hotel ambience good servic...</td>\n",
       "    </tr>\n",
       "    <tr>\n",
       "      <th>4</th>\n",
       "      <td>5</td>\n",
       "      <td>rishikesh</td>\n",
       "      <td>rishikesh31@gmail.com</td>\n",
       "      <td>service</td>\n",
       "      <td>Hotel services were good</td>\n",
       "      <td>3</td>\n",
       "      <td>NaN</td>\n",
       "      <td>Very Good</td>\n",
       "      <td>2</td>\n",
       "      <td>hotel service good</td>\n",
       "    </tr>\n",
       "  </tbody>\n",
       "</table>\n",
       "</div>"
      ],
      "text/plain": [
       "   id             name                              email    aspect  \\\n",
       "0   1  Yenugu Poojitha  yenugupoojithareddy3107@gmail.com   service   \n",
       "1   2           chitra                chitra123@gmail.com      food   \n",
       "2   3           saaket                saaket123@gmail.com  ambience   \n",
       "3   4          sravani                sravani18@gmail.com      food   \n",
       "4   5        rishikesh              rishikesh31@gmail.com   service   \n",
       "\n",
       "                                            comments  rating Unnamed: 6  \\\n",
       "0       The tourist place had provided good services       4        NaN   \n",
       "1  The food given in the restaurant was delicious...       5        NaN   \n",
       "2  The relaxed ambience of Thrissur was popular w...       3        NaN   \n",
       "3  The historical prestige and the hotel ambience...       4        NaN   \n",
       "4                           Hotel services were good       3        NaN   \n",
       "\n",
       "   sentiment  y                                       clean_review  \n",
       "0       Good  1                 tourist place provide good service  \n",
       "1  Excellent  3    food give restaurant delicious I find enjoyable  \n",
       "2       Good  1           relaxed ambience thrissur popular temple  \n",
       "3  Excellent  3  historical prestige hotel ambience good servic...  \n",
       "4  Very Good  2                                 hotel service good  "
      ]
     },
     "execution_count": 23,
     "metadata": {},
     "output_type": "execute_result"
    }
   ],
   "source": [
    "df.head()"
   ]
  },
  {
   "cell_type": "code",
   "execution_count": 24,
   "id": "b3619fc1",
   "metadata": {},
   "outputs": [
    {
     "name": "stderr",
     "output_type": "stream",
     "text": [
      "100%|██████████████████████████████████████████████████████████████████████████████████| 6/6 [00:00<00:00, 5877.12it/s]\n"
     ]
    }
   ],
   "source": [
    "reviews = df.clean_review.values.tolist()\n",
    "from tqdm import tqdm\n",
    "tqdm.pandas()\n",
    "df['clean_review2'] = df['clean_review'].progress_map(word_tokenizer)"
   ]
  },
  {
   "cell_type": "code",
   "execution_count": 25,
   "id": "32dc313f",
   "metadata": {},
   "outputs": [
    {
     "data": {
      "text/html": [
       "<div>\n",
       "<style scoped>\n",
       "    .dataframe tbody tr th:only-of-type {\n",
       "        vertical-align: middle;\n",
       "    }\n",
       "\n",
       "    .dataframe tbody tr th {\n",
       "        vertical-align: top;\n",
       "    }\n",
       "\n",
       "    .dataframe thead th {\n",
       "        text-align: right;\n",
       "    }\n",
       "</style>\n",
       "<table border=\"1\" class=\"dataframe\">\n",
       "  <thead>\n",
       "    <tr style=\"text-align: right;\">\n",
       "      <th></th>\n",
       "      <th>id</th>\n",
       "      <th>name</th>\n",
       "      <th>email</th>\n",
       "      <th>aspect</th>\n",
       "      <th>comments</th>\n",
       "      <th>rating</th>\n",
       "      <th>Unnamed: 6</th>\n",
       "      <th>sentiment</th>\n",
       "      <th>y</th>\n",
       "      <th>clean_review</th>\n",
       "      <th>clean_review2</th>\n",
       "    </tr>\n",
       "  </thead>\n",
       "  <tbody>\n",
       "    <tr>\n",
       "      <th>0</th>\n",
       "      <td>1</td>\n",
       "      <td>Yenugu Poojitha</td>\n",
       "      <td>yenugupoojithareddy3107@gmail.com</td>\n",
       "      <td>service</td>\n",
       "      <td>The tourist place had provided good services</td>\n",
       "      <td>4</td>\n",
       "      <td>NaN</td>\n",
       "      <td>Good</td>\n",
       "      <td>1</td>\n",
       "      <td>tourist place provide good service</td>\n",
       "      <td>[tourist, place, provide, good, service]</td>\n",
       "    </tr>\n",
       "    <tr>\n",
       "      <th>1</th>\n",
       "      <td>2</td>\n",
       "      <td>chitra</td>\n",
       "      <td>chitra123@gmail.com</td>\n",
       "      <td>food</td>\n",
       "      <td>The food given in the restaurant was delicious...</td>\n",
       "      <td>5</td>\n",
       "      <td>NaN</td>\n",
       "      <td>Excellent</td>\n",
       "      <td>3</td>\n",
       "      <td>food give restaurant delicious I find enjoyable</td>\n",
       "      <td>[food, give, restaurant, delicious, i, find, e...</td>\n",
       "    </tr>\n",
       "    <tr>\n",
       "      <th>2</th>\n",
       "      <td>3</td>\n",
       "      <td>saaket</td>\n",
       "      <td>saaket123@gmail.com</td>\n",
       "      <td>ambience</td>\n",
       "      <td>The relaxed ambience of Thrissur was popular w...</td>\n",
       "      <td>3</td>\n",
       "      <td>NaN</td>\n",
       "      <td>Good</td>\n",
       "      <td>1</td>\n",
       "      <td>relaxed ambience thrissur popular temple</td>\n",
       "      <td>[relaxed, ambience, thrissur, popular, temple]</td>\n",
       "    </tr>\n",
       "    <tr>\n",
       "      <th>3</th>\n",
       "      <td>4</td>\n",
       "      <td>sravani</td>\n",
       "      <td>sravani18@gmail.com</td>\n",
       "      <td>food</td>\n",
       "      <td>The historical prestige and the hotel ambience...</td>\n",
       "      <td>4</td>\n",
       "      <td>NaN</td>\n",
       "      <td>Excellent</td>\n",
       "      <td>3</td>\n",
       "      <td>historical prestige hotel ambience good servic...</td>\n",
       "      <td>[historical, prestige, hotel, ambience, good, ...</td>\n",
       "    </tr>\n",
       "    <tr>\n",
       "      <th>4</th>\n",
       "      <td>5</td>\n",
       "      <td>rishikesh</td>\n",
       "      <td>rishikesh31@gmail.com</td>\n",
       "      <td>service</td>\n",
       "      <td>Hotel services were good</td>\n",
       "      <td>3</td>\n",
       "      <td>NaN</td>\n",
       "      <td>Very Good</td>\n",
       "      <td>2</td>\n",
       "      <td>hotel service good</td>\n",
       "      <td>[hotel, service, good]</td>\n",
       "    </tr>\n",
       "    <tr>\n",
       "      <th>5</th>\n",
       "      <td>6</td>\n",
       "      <td>vinay</td>\n",
       "      <td>vinay14@gmail.com</td>\n",
       "      <td>hospitality</td>\n",
       "      <td>I became ill, so I was admitted in a hospital ...</td>\n",
       "      <td>3</td>\n",
       "      <td></td>\n",
       "      <td>Bad</td>\n",
       "      <td>-1</td>\n",
       "      <td>I become ill I admit hospital 3 day</td>\n",
       "      <td>[i, become, ill, i, admit, hospital, 3, day]</td>\n",
       "    </tr>\n",
       "  </tbody>\n",
       "</table>\n",
       "</div>"
      ],
      "text/plain": [
       "   id             name                              email       aspect  \\\n",
       "0   1  Yenugu Poojitha  yenugupoojithareddy3107@gmail.com      service   \n",
       "1   2           chitra                chitra123@gmail.com         food   \n",
       "2   3           saaket                saaket123@gmail.com     ambience   \n",
       "3   4          sravani                sravani18@gmail.com         food   \n",
       "4   5        rishikesh              rishikesh31@gmail.com      service   \n",
       "5   6            vinay                  vinay14@gmail.com  hospitality   \n",
       "\n",
       "                                            comments  rating Unnamed: 6  \\\n",
       "0       The tourist place had provided good services       4        NaN   \n",
       "1  The food given in the restaurant was delicious...       5        NaN   \n",
       "2  The relaxed ambience of Thrissur was popular w...       3        NaN   \n",
       "3  The historical prestige and the hotel ambience...       4        NaN   \n",
       "4                           Hotel services were good       3        NaN   \n",
       "5  I became ill, so I was admitted in a hospital ...       3              \n",
       "\n",
       "   sentiment  y                                       clean_review  \\\n",
       "0       Good  1                 tourist place provide good service   \n",
       "1  Excellent  3    food give restaurant delicious I find enjoyable   \n",
       "2       Good  1           relaxed ambience thrissur popular temple   \n",
       "3  Excellent  3  historical prestige hotel ambience good servic...   \n",
       "4  Very Good  2                                 hotel service good   \n",
       "5        Bad -1                I become ill I admit hospital 3 day   \n",
       "\n",
       "                                       clean_review2  \n",
       "0           [tourist, place, provide, good, service]  \n",
       "1  [food, give, restaurant, delicious, i, find, e...  \n",
       "2     [relaxed, ambience, thrissur, popular, temple]  \n",
       "3  [historical, prestige, hotel, ambience, good, ...  \n",
       "4                             [hotel, service, good]  \n",
       "5       [i, become, ill, i, admit, hospital, 3, day]  "
      ]
     },
     "execution_count": 25,
     "metadata": {},
     "output_type": "execute_result"
    }
   ],
   "source": [
    "df"
   ]
  },
  {
   "cell_type": "code",
   "execution_count": 26,
   "id": "f1d91736",
   "metadata": {},
   "outputs": [
    {
     "name": "stdout",
     "output_type": "stream",
     "text": [
      "[['tourist', 'place', 'provide', 'good', 'service'], ['food', 'give', 'restaurant', 'delicious', 'i', 'find', 'enjoyable'], ['relaxed', 'ambience', 'thrissur', 'popular', 'temple'], ['historical', 'prestige', 'hotel', 'ambience', 'good', 'service', 'point', 'good', 'trip'], ['hotel', 'service', 'good'], ['i', 'become', 'ill', 'i', 'admit', 'hospital', '3', 'day']]\n",
      "6\n"
     ]
    }
   ],
   "source": [
    "data_words = df['clean_review2'].values.tolist()\n",
    "print(data_words)\n",
    "print(len(data_words))"
   ]
  },
  {
   "cell_type": "code",
   "execution_count": 27,
   "id": "2c6e5590",
   "metadata": {},
   "outputs": [
    {
     "name": "stdout",
     "output_type": "stream",
     "text": [
      "[(0, 1), (1, 1), (2, 1), (3, 1), (4, 1)]\n"
     ]
    }
   ],
   "source": [
    "import gensim.corpora as corpora\n",
    "# Create Dictionary\n",
    "id2word = corpora.Dictionary(data_words)\n",
    "# Create Corpus\n",
    "texts = data_words\n",
    "# Term Document Frequency\n",
    "corpus = [id2word.doc2bow(text) for text in texts]\n",
    "# View\n",
    "print(corpus[:1][0][:30])"
   ]
  },
  {
   "cell_type": "code",
   "execution_count": 28,
   "id": "2e025269",
   "metadata": {},
   "outputs": [
    {
     "name": "stdout",
     "output_type": "stream",
     "text": [
      "[(0,\n",
      "  '0.178*\"good\" + 0.093*\"hotel\" + 0.093*\"ambience\" + 0.093*\"service\" + '\n",
      "  '0.093*\"trip\" + 0.093*\"prestige\" + 0.093*\"point\" + 0.093*\"historical\" + '\n",
      "  '0.008*\"i\" + 0.008*\"thrissur\"'),\n",
      " (1,\n",
      "  '0.036*\"good\" + 0.036*\"service\" + 0.036*\"i\" + 0.036*\"hotel\" + '\n",
      "  '0.036*\"ambience\" + 0.036*\"thrissur\" + 0.036*\"relaxed\" + 0.036*\"place\" + '\n",
      "  '0.036*\"temple\" + 0.036*\"restaurant\"'),\n",
      " (2,\n",
      "  '0.194*\"i\" + 0.102*\"admit\" + 0.102*\"hospital\" + 0.102*\"day\" + 0.102*\"3\" + '\n",
      "  '0.102*\"ill\" + 0.102*\"become\" + 0.009*\"good\" + 0.009*\"service\" + '\n",
      "  '0.009*\"hotel\"'),\n",
      " (3,\n",
      "  '0.036*\"good\" + 0.036*\"service\" + 0.036*\"hotel\" + 0.036*\"i\" + '\n",
      "  '0.036*\"ambience\" + 0.036*\"thrissur\" + 0.036*\"provide\" + 0.036*\"restaurant\" '\n",
      "  '+ 0.036*\"temple\" + 0.036*\"relaxed\"'),\n",
      " (4,\n",
      "  '0.141*\"popular\" + 0.141*\"temple\" + 0.141*\"ambience\" + 0.141*\"relaxed\" + '\n",
      "  '0.141*\"thrissur\" + 0.013*\"good\" + 0.013*\"service\" + 0.013*\"i\" + '\n",
      "  '0.013*\"hotel\" + 0.013*\"place\"'),\n",
      " (5,\n",
      "  '0.190*\"service\" + 0.190*\"hotel\" + 0.190*\"good\" + 0.017*\"i\" + '\n",
      "  '0.017*\"ambience\" + 0.017*\"relaxed\" + 0.017*\"place\" + 0.017*\"thrissur\" + '\n",
      "  '0.017*\"tourist\" + 0.017*\"become\"'),\n",
      " (6,\n",
      "  '0.036*\"good\" + 0.036*\"service\" + 0.036*\"i\" + 0.036*\"hotel\" + '\n",
      "  '0.036*\"ambience\" + 0.036*\"thrissur\" + 0.036*\"place\" + 0.036*\"temple\" + '\n",
      "  '0.036*\"relaxed\" + 0.036*\"give\"'),\n",
      " (7,\n",
      "  '0.036*\"good\" + 0.036*\"service\" + 0.036*\"hotel\" + 0.036*\"i\" + '\n",
      "  '0.036*\"ambience\" + 0.036*\"relaxed\" + 0.036*\"become\" + 0.036*\"thrissur\" + '\n",
      "  '0.036*\"temple\" + 0.036*\"tourist\"'),\n",
      " (8,\n",
      "  '0.112*\"i\" + 0.112*\"delicious\" + 0.112*\"find\" + 0.112*\"enjoyable\" + '\n",
      "  '0.112*\"give\" + 0.112*\"food\" + 0.112*\"restaurant\" + 0.010*\"good\" + '\n",
      "  '0.010*\"service\" + 0.010*\"hotel\"'),\n",
      " (9,\n",
      "  '0.141*\"service\" + 0.141*\"tourist\" + 0.141*\"provide\" + 0.141*\"good\" + '\n",
      "  '0.141*\"place\" + 0.013*\"hotel\" + 0.013*\"i\" + 0.013*\"ambience\" + '\n",
      "  '0.013*\"popular\" + 0.013*\"thrissur\"')]\n"
     ]
    }
   ],
   "source": [
    "from gensim.models import LdaMulticore\n",
    "from gensim.models import LdaModel\n",
    "from pprint import pprint\n",
    "# number of topics\n",
    "num_topics = 10\n",
    "# Build LDA model\n",
    "lda_model = LdaMulticore(corpus=corpus, id2word=id2word,\n",
    "                     num_topics=num_topics, iterations=400)\n",
    "# Print the Keyword in the 10 topics\n",
    "pprint(lda_model.print_topics())\n",
    "doc_lda = lda_model[corpus]"
   ]
  },
  {
   "cell_type": "code",
   "execution_count": 29,
   "id": "f6ffb51f",
   "metadata": {},
   "outputs": [
    {
     "name": "stdout",
     "output_type": "stream",
     "text": [
      "FastText(vocab=28, vector_size=100, alpha=0.025)\n",
      "Wall time: 1.86 s\n"
     ]
    }
   ],
   "source": [
    "%%time\n",
    "from gensim.models import FastText\n",
    "fasttext_model = FastText(data_words, vector_size= 100, window=100, min_count=1, workers=5,sg=1)\n",
    "print(fasttext_model)"
   ]
  },
  {
   "cell_type": "code",
   "execution_count": 30,
   "id": "378317be",
   "metadata": {},
   "outputs": [
    {
     "name": "stdout",
     "output_type": "stream",
     "text": [
      "FastText(vocab=28, vector_size=100, alpha=0.025)\n",
      "Wall time: 2.81 s\n"
     ]
    }
   ],
   "source": [
    "%%time\n",
    "from gensim.models import FastText\n",
    "fasttext_model1 = FastText(data_words, vector_size= 100, window=100, min_count=1, workers=5,sg=1)\n",
    "print(fasttext_model1)"
   ]
  },
  {
   "cell_type": "code",
   "execution_count": 31,
   "id": "d238425c",
   "metadata": {},
   "outputs": [
    {
     "name": "stdout",
     "output_type": "stream",
     "text": [
      "FastText(vocab=28, vector_size=100, alpha=0.025)\n",
      "Wall time: 1.65 s\n"
     ]
    }
   ],
   "source": [
    "%%time\n",
    "from gensim.models import FastText\n",
    "fasttext_model2 = FastText(data_words, vector_size= 100, window=100, min_count=1, workers=5,sg=1)\n",
    "print(fasttext_model2)"
   ]
  },
  {
   "cell_type": "code",
   "execution_count": 32,
   "id": "080ca52d",
   "metadata": {},
   "outputs": [
    {
     "name": "stdout",
     "output_type": "stream",
     "text": [
      "FastText(vocab=28, vector_size=100, alpha=0.025)\n",
      "Wall time: 2.65 s\n"
     ]
    }
   ],
   "source": [
    "%%time\n",
    "from gensim.models import FastText\n",
    "fasttext_model3 = FastText(data_words, vector_size= 100, window=100, min_count=1, workers=5,sg=1)\n",
    "print(fasttext_model3)"
   ]
  },
  {
   "cell_type": "code",
   "execution_count": 33,
   "id": "1eef2b82",
   "metadata": {},
   "outputs": [
    {
     "name": "stdout",
     "output_type": "stream",
     "text": [
      "0.15506542\n",
      "0.73245305\n"
     ]
    }
   ],
   "source": [
    "fasttext_model.save(\"FastText-Model-For-ABSA.bin\")\n",
    "print(fasttext_model.wv.n_similarity(\"Very Good\",\"service\"))\n",
    "print(fasttext_model.wv.n_similarity(\"Hotel services were good\",\"service\"))"
   ]
  },
  {
   "cell_type": "code",
   "execution_count": 34,
   "id": "e8c04790",
   "metadata": {},
   "outputs": [
    {
     "name": "stdout",
     "output_type": "stream",
     "text": [
      "-0.10728479\n",
      "0.21231219\n"
     ]
    }
   ],
   "source": [
    "fasttext_model1.save(\"FastText-Model-For-ABSA-1.bin\")\n",
    "print(fasttext_model.wv.n_similarity(\"Excellent\",\"food\"))\n",
    "print(fasttext_model.wv.n_similarity(\"The historical prestige and the hotel ambience was good and the service was on point. Good trip!\",\"food\"))"
   ]
  },
  {
   "cell_type": "code",
   "execution_count": 35,
   "id": "0b9738c3",
   "metadata": {},
   "outputs": [
    {
     "name": "stdout",
     "output_type": "stream",
     "text": [
      "0.32133222\n",
      "0.5149182\n"
     ]
    }
   ],
   "source": [
    "fasttext_model2.save(\"FastText-Model-For-ABSA-2.bin\")\n",
    "print(fasttext_model.wv.n_similarity(\"Bad\",\"hospitality\"))\n",
    "print(fasttext_model.wv.n_similarity(\"I became ill, so I was admitted in a hospital for 3 days.\",\"hospitality\"))"
   ]
  },
  {
   "cell_type": "code",
   "execution_count": 36,
   "id": "f07fcdce",
   "metadata": {},
   "outputs": [
    {
     "name": "stdout",
     "output_type": "stream",
     "text": [
      "-0.019609725\n",
      "0.58824587\n"
     ]
    }
   ],
   "source": [
    "fasttext_model3.save(\"FastText-Model-For-ABSA-3.bin\")\n",
    "print(fasttext_model.wv.n_similarity(\"Good\",\"ambience\"))\n",
    "print(fasttext_model.wv.n_similarity(\"The relaxed ambience of Thrissur was popular with temples.\",\"ambience\"))"
   ]
  },
  {
   "cell_type": "code",
   "execution_count": 37,
   "id": "6e2e3979",
   "metadata": {},
   "outputs": [
    {
     "data": {
      "text/html": [
       "<div>\n",
       "<style scoped>\n",
       "    .dataframe tbody tr th:only-of-type {\n",
       "        vertical-align: middle;\n",
       "    }\n",
       "\n",
       "    .dataframe tbody tr th {\n",
       "        vertical-align: top;\n",
       "    }\n",
       "\n",
       "    .dataframe thead th {\n",
       "        text-align: right;\n",
       "    }\n",
       "</style>\n",
       "<table border=\"1\" class=\"dataframe\">\n",
       "  <thead>\n",
       "    <tr style=\"text-align: right;\">\n",
       "      <th></th>\n",
       "      <th>id</th>\n",
       "      <th>name</th>\n",
       "      <th>email</th>\n",
       "      <th>aspect</th>\n",
       "      <th>comments</th>\n",
       "      <th>rating</th>\n",
       "      <th>Unnamed: 6</th>\n",
       "      <th>sentiment</th>\n",
       "      <th>y</th>\n",
       "      <th>clean_review</th>\n",
       "      <th>clean_review2</th>\n",
       "    </tr>\n",
       "  </thead>\n",
       "  <tbody>\n",
       "    <tr>\n",
       "      <th>0</th>\n",
       "      <td>1</td>\n",
       "      <td>Yenugu Poojitha</td>\n",
       "      <td>yenugupoojithareddy3107@gmail.com</td>\n",
       "      <td>service</td>\n",
       "      <td>The tourist place had provided good services</td>\n",
       "      <td>4</td>\n",
       "      <td>NaN</td>\n",
       "      <td>Good</td>\n",
       "      <td>1</td>\n",
       "      <td>tourist place provide good service</td>\n",
       "      <td>[tourist, place, provide, good, service]</td>\n",
       "    </tr>\n",
       "    <tr>\n",
       "      <th>1</th>\n",
       "      <td>2</td>\n",
       "      <td>chitra</td>\n",
       "      <td>chitra123@gmail.com</td>\n",
       "      <td>food</td>\n",
       "      <td>The food given in the restaurant was delicious...</td>\n",
       "      <td>5</td>\n",
       "      <td>NaN</td>\n",
       "      <td>Excellent</td>\n",
       "      <td>3</td>\n",
       "      <td>food give restaurant delicious I find enjoyable</td>\n",
       "      <td>[food, give, restaurant, delicious, i, find, e...</td>\n",
       "    </tr>\n",
       "    <tr>\n",
       "      <th>2</th>\n",
       "      <td>3</td>\n",
       "      <td>saaket</td>\n",
       "      <td>saaket123@gmail.com</td>\n",
       "      <td>ambience</td>\n",
       "      <td>The relaxed ambience of Thrissur was popular w...</td>\n",
       "      <td>3</td>\n",
       "      <td>NaN</td>\n",
       "      <td>Good</td>\n",
       "      <td>1</td>\n",
       "      <td>relaxed ambience thrissur popular temple</td>\n",
       "      <td>[relaxed, ambience, thrissur, popular, temple]</td>\n",
       "    </tr>\n",
       "    <tr>\n",
       "      <th>3</th>\n",
       "      <td>4</td>\n",
       "      <td>sravani</td>\n",
       "      <td>sravani18@gmail.com</td>\n",
       "      <td>food</td>\n",
       "      <td>The historical prestige and the hotel ambience...</td>\n",
       "      <td>4</td>\n",
       "      <td>NaN</td>\n",
       "      <td>Excellent</td>\n",
       "      <td>3</td>\n",
       "      <td>historical prestige hotel ambience good servic...</td>\n",
       "      <td>[historical, prestige, hotel, ambience, good, ...</td>\n",
       "    </tr>\n",
       "    <tr>\n",
       "      <th>4</th>\n",
       "      <td>5</td>\n",
       "      <td>rishikesh</td>\n",
       "      <td>rishikesh31@gmail.com</td>\n",
       "      <td>service</td>\n",
       "      <td>Hotel services were good</td>\n",
       "      <td>3</td>\n",
       "      <td>NaN</td>\n",
       "      <td>Very Good</td>\n",
       "      <td>2</td>\n",
       "      <td>hotel service good</td>\n",
       "      <td>[hotel, service, good]</td>\n",
       "    </tr>\n",
       "    <tr>\n",
       "      <th>5</th>\n",
       "      <td>6</td>\n",
       "      <td>vinay</td>\n",
       "      <td>vinay14@gmail.com</td>\n",
       "      <td>hospitality</td>\n",
       "      <td>I became ill, so I was admitted in a hospital ...</td>\n",
       "      <td>3</td>\n",
       "      <td></td>\n",
       "      <td>Bad</td>\n",
       "      <td>-1</td>\n",
       "      <td>I become ill I admit hospital 3 day</td>\n",
       "      <td>[i, become, ill, i, admit, hospital, 3, day]</td>\n",
       "    </tr>\n",
       "  </tbody>\n",
       "</table>\n",
       "</div>"
      ],
      "text/plain": [
       "   id             name                              email       aspect  \\\n",
       "0   1  Yenugu Poojitha  yenugupoojithareddy3107@gmail.com      service   \n",
       "1   2           chitra                chitra123@gmail.com         food   \n",
       "2   3           saaket                saaket123@gmail.com     ambience   \n",
       "3   4          sravani                sravani18@gmail.com         food   \n",
       "4   5        rishikesh              rishikesh31@gmail.com      service   \n",
       "5   6            vinay                  vinay14@gmail.com  hospitality   \n",
       "\n",
       "                                            comments  rating Unnamed: 6  \\\n",
       "0       The tourist place had provided good services       4        NaN   \n",
       "1  The food given in the restaurant was delicious...       5        NaN   \n",
       "2  The relaxed ambience of Thrissur was popular w...       3        NaN   \n",
       "3  The historical prestige and the hotel ambience...       4        NaN   \n",
       "4                           Hotel services were good       3        NaN   \n",
       "5  I became ill, so I was admitted in a hospital ...       3              \n",
       "\n",
       "   sentiment  y                                       clean_review  \\\n",
       "0       Good  1                 tourist place provide good service   \n",
       "1  Excellent  3    food give restaurant delicious I find enjoyable   \n",
       "2       Good  1           relaxed ambience thrissur popular temple   \n",
       "3  Excellent  3  historical prestige hotel ambience good servic...   \n",
       "4  Very Good  2                                 hotel service good   \n",
       "5        Bad -1                I become ill I admit hospital 3 day   \n",
       "\n",
       "                                       clean_review2  \n",
       "0           [tourist, place, provide, good, service]  \n",
       "1  [food, give, restaurant, delicious, i, find, e...  \n",
       "2     [relaxed, ambience, thrissur, popular, temple]  \n",
       "3  [historical, prestige, hotel, ambience, good, ...  \n",
       "4                             [hotel, service, good]  \n",
       "5       [i, become, ill, i, admit, hospital, 3, day]  "
      ]
     },
     "execution_count": 37,
     "metadata": {},
     "output_type": "execute_result"
    }
   ],
   "source": [
    "sentiment = ['Good','Excellent','Good','Excellent','Very Good','Bad']\n",
    "df['sentiment'] = sentiment\n",
    "df"
   ]
  },
  {
   "cell_type": "code",
   "execution_count": 38,
   "id": "a9f6dabc",
   "metadata": {},
   "outputs": [
    {
     "data": {
      "text/plain": [
       "<Figure size 2500x2000 with 0 Axes>"
      ]
     },
     "metadata": {},
     "output_type": "display_data"
    },
    {
     "data": {
      "image/png": "[encoded data removed]",
      "text/plain": [
       "<Figure size 2500x1000 with 2 Axes>"
      ]
     },
     "metadata": {},
     "output_type": "display_data"
    }
   ],
   "source": [
    "import missingno as msno\n",
    "plt.figure(figsize=(25, 20))\n",
    "msno.matrix(df, color=[0.2, 0.4, 1])\n",
    "plt.show()"
   ]
  },
  {
   "cell_type": "code",
   "execution_count": 39,
   "id": "5cc0bb8d",
   "metadata": {},
   "outputs": [
    {
     "name": "stdout",
     "output_type": "stream",
     "text": [
      "Text before removing url:- \n",
      " ℍ𝕚 𝔼𝕧𝕖𝕣𝕪𝕠𝕟𝕖 𝕀 𝕒𝕞 𝔸𝕟𝕜𝕚𝕥 𝔾𝕦𝕡𝕥𝕒 𝕙𝕒𝕧𝕚𝕟𝕘 𝕥𝕙𝕖 𝕗𝕠𝕝𝕝𝕠𝕨𝕚𝕟𝕘 𝕂𝕒𝕘𝕘𝕝𝕖 𝕡𝕣𝕠𝕗𝕚𝕝𝕖 \n",
      " https://www.kaggle.com/nkitgupta 𝕒𝕟𝕕 𝕀 𝕒𝕞 😊 𝕥𝕠 𝕔𝕣𝕖𝕒𝕥𝕖 𝕥𝕙𝕚𝕤 𝕟𝕠𝕥𝕖𝕓𝕠𝕠𝕜\n",
      "Text after removing url:- \n",
      " ℍ𝕚 𝔼𝕧𝕖𝕣𝕪𝕠𝕟𝕖 𝕀 𝕒𝕞 𝔸𝕟𝕜𝕚𝕥 𝔾𝕦𝕡𝕥𝕒 𝕙𝕒𝕧𝕚𝕟𝕘 𝕥𝕙𝕖 𝕗𝕠𝕝𝕝𝕠𝕨𝕚𝕟𝕘 𝕂𝕒𝕘𝕘𝕝𝕖 𝕡𝕣𝕠𝕗𝕚𝕝𝕖 \n",
      "  𝕒𝕟𝕕 𝕀 𝕒𝕞 😊 𝕥𝕠 𝕔𝕣𝕖𝕒𝕥𝕖 𝕥𝕙𝕚𝕤 𝕟𝕠𝕥𝕖𝕓𝕠𝕠𝕜\n"
     ]
    }
   ],
   "source": [
    "import re\n",
    "def remove_url(text):\n",
    "    text = re.sub(r\"http\\S+\", \"\", text)\n",
    "    return text\n",
    "# Example string with weird font characters plus an URL which we gonna remove.\n",
    "sample = \"ℍ𝕚 𝔼𝕧𝕖𝕣𝕪𝕠𝕟𝕖 𝕀 𝕒𝕞 𝔸𝕟𝕜𝕚𝕥 𝔾𝕦𝕡𝕥𝕒 𝕙𝕒𝕧𝕚𝕟𝕘 𝕥𝕙𝕖 𝕗𝕠𝕝𝕝𝕠𝕨𝕚𝕟𝕘 𝕂𝕒𝕘𝕘𝕝𝕖 𝕡𝕣𝕠𝕗𝕚𝕝𝕖 \\n https://www.kaggle.com/nkitgupta 𝕒𝕟𝕕 𝕀 𝕒𝕞 😊 𝕥𝕠 𝕔𝕣𝕖𝕒𝕥𝕖 𝕥𝕙𝕚𝕤 𝕟𝕠𝕥𝕖𝕓𝕠𝕠𝕜\"\n",
    "print(f\"Text before removing url:- \\n {sample}\")\n",
    "\n",
    "sample = remove_url(sample)\n",
    "print(f\"Text after removing url:- \\n {sample}\")"
   ]
  },
  {
   "cell_type": "code",
   "execution_count": 40,
   "id": "eca09e3a",
   "metadata": {},
   "outputs": [
    {
     "name": "stdout",
     "output_type": "stream",
     "text": [
      "Ç Ç\n",
      "False\n",
      "False\n"
     ]
    }
   ],
   "source": [
    "print(\"\\u00C7\", \"\\u0043\\u0327\")\n",
    "print(\"\\u00C7\" == \"\\u0043\\u0327\")\n",
    "print(\"Ç\" == \"Ç\")"
   ]
  },
  {
   "cell_type": "code",
   "execution_count": 41,
   "id": "7cc22d77",
   "metadata": {},
   "outputs": [
    {
     "name": "stdout",
     "output_type": "stream",
     "text": [
      "Text before Unicode Normalization:- \n",
      " ℍ𝕚 𝔼𝕧𝕖𝕣𝕪𝕠𝕟𝕖 𝕀 𝕒𝕞 𝔸𝕟𝕜𝕚𝕥 𝔾𝕦𝕡𝕥𝕒 𝕙𝕒𝕧𝕚𝕟𝕘 𝕥𝕙𝕖 𝕗𝕠𝕝𝕝𝕠𝕨𝕚𝕟𝕘 𝕂𝕒𝕘𝕘𝕝𝕖 𝕡𝕣𝕠𝕗𝕚𝕝𝕖 \n",
      "  𝕒𝕟𝕕 𝕀 𝕒𝕞 😊 𝕥𝕠 𝕔𝕣𝕖𝕒𝕥𝕖 𝕥𝕙𝕚𝕤 𝕟𝕠𝕥𝕖𝕓𝕠𝕠𝕜\n",
      "Text after Unicode Normalization:- \n",
      " Hi Everyone I am Ankit Gupta having the following Kaggle profile \n",
      "  and I am 😊 to create this notebook\n"
     ]
    }
   ],
   "source": [
    "import unicodedata as uni\n",
    "print(f\"Text before Unicode Normalization:- \\n {sample}\")\n",
    "sample = uni.normalize('NFKD', sample)\n",
    "print(f\"Text after Unicode Normalization:- \\n {sample}\")"
   ]
  },
  {
   "cell_type": "code",
   "execution_count": 42,
   "id": "08fb83a4",
   "metadata": {},
   "outputs": [
    {
     "name": "stdout",
     "output_type": "stream",
     "text": [
      "Before Handling emoji:- \n",
      " Hi Everyone I am Ankit Gupta having the following Kaggle profile \n",
      "  and I am 😊 to create this notebook\n",
      "After Handling emoji:- \n",
      " Hi Everyone I am Ankit Gupta having the following Kaggle profile \n",
      "  and I am  smiling face with smiling eyes to create this notebook\n"
     ]
    }
   ],
   "source": [
    "import demoji\n",
    "def handle_emoji(string):\n",
    "    emojis = demoji.findall(string)\n",
    "    for emoji in emojis:\n",
    "        string = string.replace(emoji, \" \" + emojis[emoji].split(\":\")[0])\n",
    "    return string\n",
    "print(f\"Before Handling emoji:- \\n {sample}\")\n",
    "print(f\"After Handling emoji:- \\n {handle_emoji(sample)}\")"
   ]
  },
  {
   "cell_type": "code",
   "execution_count": 43,
   "id": "8c1d42dc",
   "metadata": {},
   "outputs": [
    {
     "name": "stdout",
     "output_type": "stream",
     "text": [
      "Hi Everyone I am Ankit Gupta.\n",
      "['hi', 'everyone', 'i', 'am', 'ankit', 'gupta.']\n"
     ]
    }
   ],
   "source": [
    "def word_tokenizer(text):\n",
    "    text = text.lower()\n",
    "    text = text.split()\n",
    "    return text\n",
    "sample = \"Hi Everyone I am Ankit Gupta.\"\n",
    "print(sample)\n",
    "print(word_tokenizer(sample))"
   ]
  },
  {
   "cell_type": "code",
   "execution_count": 44,
   "id": "c847cf45",
   "metadata": {},
   "outputs": [
    {
     "name": "stdout",
     "output_type": "stream",
     "text": [
      "Stop Words in English : \n",
      "{'our', 'if', 'before', 'ourselves', 'of', 'has', 'they', 'i', 'such', 'do', 'shouldn', 'isn', \"needn't\", 'a', 'for', 'some', 'not', 'more', 'their', 'what', 'here', 'too', 'up', 'be', \"shan't\", 'yours', 'and', 'haven', 'few', 'no', 'yourself', 'how', 'these', 'we', 'very', 'why', 'itself', 'this', \"you've\", 'at', 'aren', 'will', 'himself', 'just', 'the', 'mightn', 'on', \"should've\", 'll', 'to', 'd', 'during', 'were', \"don't\", \"isn't\", 'was', 's', 'being', \"mightn't\", 'between', 'as', 'again', 'she', 'once', \"wasn't\", 'under', \"doesn't\", 'own', 'wasn', 'he', 'or', 've', 'o', 'me', \"wouldn't\", 'ours', 'ain', 'most', 'with', 'against', 'so', 'couldn', \"hadn't\", 'then', \"you'll\", 'whom', 'down', 'about', \"haven't\", 'that', 'out', 'his', 'all', 'doing', \"shouldn't\", 'hadn', 'now', 'further', 't', 'after', 'above', \"that'll\", 'didn', \"didn't\", 'until', 'below', 'its', 'ma', 'should', 'each', 'theirs', \"you're\", 'same', 'which', 'yourselves', 'herself', 'shan', 'nor', 'had', 'off', 'through', 'hers', \"couldn't\", 'doesn', 'your', 'when', 'myself', 'it', 'weren', 'don', 'needn', 'any', 'into', 're', 'who', 'themselves', 'where', \"mustn't\", 'my', 'does', 'other', \"aren't\", 'them', 'won', 'than', 'over', 'only', \"won't\", 'while', 'an', 'can', 'have', 'are', 'is', 'from', 'hasn', 'having', 'am', \"you'd\", 'y', 'there', 'did', 'wouldn', 'her', 'm', 'him', 'those', 'been', \"she's\", \"it's\", 'by', 'you', \"hasn't\", 'mustn', \"weren't\", 'both', 'because', 'but', 'in'}\n"
     ]
    }
   ],
   "source": [
    "from nltk.corpus import stopwords\n",
    "en_stopwords = set(stopwords.words('english'))\n",
    "print(f\"Stop Words in English : \\n{ en_stopwords}\")"
   ]
  },
  {
   "cell_type": "code",
   "execution_count": 45,
   "id": "f357adbc",
   "metadata": {},
   "outputs": [
    {
     "name": "stdout",
     "output_type": "stream",
     "text": [
      "Before removing stopwords : ['hi', 'everyone', 'i', 'am', 'ankit', 'gupta.']\n",
      "After removing stopwords : ['hi', 'everyone', 'ankit', 'gupta.']\n"
     ]
    }
   ],
   "source": [
    "def remove_stopwords(text):\n",
    "    text = [word for word in text if word not in en_stopwords]\n",
    "    return text\n",
    "print(f\"Before removing stopwords : {word_tokenizer(sample)}\")\n",
    "print(f\"After removing stopwords : {remove_stopwords(word_tokenizer(sample))}\")"
   ]
  },
  {
   "cell_type": "code",
   "execution_count": 46,
   "id": "d82c3934",
   "metadata": {},
   "outputs": [
    {
     "name": "stdout",
     "output_type": "stream",
     "text": [
      "Before Stemming : I am creating a Notebook\n",
      "After Stemming : ['i', 'am', 'creat', 'a', 'notebook']\n"
     ]
    }
   ],
   "source": [
    "from nltk.stem.porter import PorterStemmer\n",
    "from nltk.stem.lancaster import LancasterStemmer\n",
    "stemmer = PorterStemmer()\n",
    "# stemmer = LancasterStemmer()\n",
    "def stemming(text):\n",
    "    text = [stemmer.stem(word) for word in text]\n",
    "    return text\n",
    "sample = \"I am creating a Notebook\"\n",
    "print(f\"Before Stemming : {(sample)}\")\n",
    "print(f\"After Stemming : {stemming(word_tokenizer(sample))}\")"
   ]
  },
  {
   "cell_type": "code",
   "execution_count": 47,
   "id": "ef5d6382",
   "metadata": {},
   "outputs": [
    {
     "name": "stdout",
     "output_type": "stream",
     "text": [
      "Before Lemmatization : ['i', 'am', 'creating', 'a', 'notebook']\n",
      "After Lemmatization : ['I', 'be', 'create', 'a', 'notebook']\n"
     ]
    }
   ],
   "source": [
    "import spacy\n",
    "sp = spacy.load(\"en_core_web_sm\")\n",
    "def lemmatization(text):\n",
    "    # text = [sp(word).lemma_ for word in text]\n",
    "    text = \" \".join(text)\n",
    "    token = sp(text)\n",
    "    text = [word.lemma_ for word in token]\n",
    "    return text\n",
    "\n",
    "print(f\"Before Lemmatization : {word_tokenizer(sample)}\")\n",
    "print(f\"After Lemmatization : {lemmatization(word_tokenizer(sample))}\")"
   ]
  },
  {
   "cell_type": "code",
   "execution_count": 48,
   "id": "413d5bbe",
   "metadata": {},
   "outputs": [
    {
     "name": "stdout",
     "output_type": "stream",
     "text": [
      " \"Hi Everyone I am Ankit Gupta. : en\n",
      "मेरा नाम अंकित गुप्ता है और मैं एक छात्र हूँ : hi\n"
     ]
    }
   ],
   "source": [
    "from langdetect import detect\n",
    "en_text = u\"\"\"\"Hi Everyone I am Ankit Gupta.\"\"\"\n",
    "print(f\" {en_text} : {detect(en_text)}\")\n",
    "\n",
    "hindi_text = u\"\"\"मेरा नाम अंकित गुप्ता है और मैं एक छात्र हूँ\"\"\"\n",
    "print(f\"{hindi_text} : {detect(hindi_text)}\")"
   ]
  },
  {
   "cell_type": "code",
   "execution_count": 48,
   "id": "7b5a82bd",
   "metadata": {},
   "outputs": [
    {
     "name": "stderr",
     "output_type": "stream",
     "text": [
      "100%|██████████████████████████████████████████████████████████████████████████████████| 6/6 [00:00<00:00, 1687.85it/s]\n"
     ]
    },
    {
     "data": {
      "text/html": [
       "<div>\n",
       "<style scoped>\n",
       "    .dataframe tbody tr th:only-of-type {\n",
       "        vertical-align: middle;\n",
       "    }\n",
       "\n",
       "    .dataframe tbody tr th {\n",
       "        vertical-align: top;\n",
       "    }\n",
       "\n",
       "    .dataframe thead th {\n",
       "        text-align: right;\n",
       "    }\n",
       "</style>\n",
       "<table border=\"1\" class=\"dataframe\">\n",
       "  <thead>\n",
       "    <tr style=\"text-align: right;\">\n",
       "      <th></th>\n",
       "      <th>id</th>\n",
       "      <th>name</th>\n",
       "      <th>email</th>\n",
       "      <th>aspect</th>\n",
       "      <th>comments</th>\n",
       "      <th>rating</th>\n",
       "      <th>Unnamed: 6</th>\n",
       "      <th>sentiment</th>\n",
       "      <th>y</th>\n",
       "      <th>clean_review</th>\n",
       "      <th>clean_review2</th>\n",
       "    </tr>\n",
       "  </thead>\n",
       "  <tbody>\n",
       "    <tr>\n",
       "      <th>0</th>\n",
       "      <td>1</td>\n",
       "      <td>Yenugu Poojitha</td>\n",
       "      <td>yenugupoojithareddy3107@gmail.com</td>\n",
       "      <td>service</td>\n",
       "      <td>The tourist place had provided good services</td>\n",
       "      <td>4</td>\n",
       "      <td>NaN</td>\n",
       "      <td>Good</td>\n",
       "      <td>1</td>\n",
       "      <td>tourist place provide good service</td>\n",
       "      <td>[tourist, place, provide, good, service]</td>\n",
       "    </tr>\n",
       "    <tr>\n",
       "      <th>1</th>\n",
       "      <td>2</td>\n",
       "      <td>chitra</td>\n",
       "      <td>chitra123@gmail.com</td>\n",
       "      <td>food</td>\n",
       "      <td>The food given in the restaurant was delicious...</td>\n",
       "      <td>5</td>\n",
       "      <td>NaN</td>\n",
       "      <td>Excellent</td>\n",
       "      <td>3</td>\n",
       "      <td>food give restaurant delicious I find enjoyable</td>\n",
       "      <td>[food, give, restaurant, delicious, i, find, e...</td>\n",
       "    </tr>\n",
       "    <tr>\n",
       "      <th>2</th>\n",
       "      <td>3</td>\n",
       "      <td>saaket</td>\n",
       "      <td>saaket123@gmail.com</td>\n",
       "      <td>ambience</td>\n",
       "      <td>The relaxed ambience of Thrissur was popular w...</td>\n",
       "      <td>3</td>\n",
       "      <td>NaN</td>\n",
       "      <td>Good</td>\n",
       "      <td>1</td>\n",
       "      <td>relaxed ambience thrissur popular temple</td>\n",
       "      <td>[relaxed, ambience, thrissur, popular, temple]</td>\n",
       "    </tr>\n",
       "    <tr>\n",
       "      <th>3</th>\n",
       "      <td>4</td>\n",
       "      <td>sravani</td>\n",
       "      <td>sravani18@gmail.com</td>\n",
       "      <td>food</td>\n",
       "      <td>The historical prestige and the hotel ambience...</td>\n",
       "      <td>4</td>\n",
       "      <td>NaN</td>\n",
       "      <td>Excellent</td>\n",
       "      <td>3</td>\n",
       "      <td>historical prestige hotel ambience good servic...</td>\n",
       "      <td>[historical, prestige, hotel, ambience, good, ...</td>\n",
       "    </tr>\n",
       "    <tr>\n",
       "      <th>4</th>\n",
       "      <td>5</td>\n",
       "      <td>rishikesh</td>\n",
       "      <td>rishikesh31@gmail.com</td>\n",
       "      <td>service</td>\n",
       "      <td>Hotel services were good</td>\n",
       "      <td>3</td>\n",
       "      <td>NaN</td>\n",
       "      <td>Very Good</td>\n",
       "      <td>2</td>\n",
       "      <td>hotel service good</td>\n",
       "      <td>[hotel, service, good]</td>\n",
       "    </tr>\n",
       "    <tr>\n",
       "      <th>5</th>\n",
       "      <td>6</td>\n",
       "      <td>vinay</td>\n",
       "      <td>vinay14@gmail.com</td>\n",
       "      <td>hospitality</td>\n",
       "      <td>I became ill, so I was admitted in a hospital ...</td>\n",
       "      <td>3</td>\n",
       "      <td></td>\n",
       "      <td>Bad</td>\n",
       "      <td>-1</td>\n",
       "      <td>I become ill I admit hospital 3 day</td>\n",
       "      <td>[i, become, ill, i, admit, hospital, 3, day]</td>\n",
       "    </tr>\n",
       "  </tbody>\n",
       "</table>\n",
       "</div>"
      ],
      "text/plain": [
       "   id             name                              email       aspect  \\\n",
       "0   1  Yenugu Poojitha  yenugupoojithareddy3107@gmail.com      service   \n",
       "1   2           chitra                chitra123@gmail.com         food   \n",
       "2   3           saaket                saaket123@gmail.com     ambience   \n",
       "3   4          sravani                sravani18@gmail.com         food   \n",
       "4   5        rishikesh              rishikesh31@gmail.com      service   \n",
       "5   6            vinay                  vinay14@gmail.com  hospitality   \n",
       "\n",
       "                                            comments  rating Unnamed: 6  \\\n",
       "0       The tourist place had provided good services       4        NaN   \n",
       "1  The food given in the restaurant was delicious...       5        NaN   \n",
       "2  The relaxed ambience of Thrissur was popular w...       3        NaN   \n",
       "3  The historical prestige and the hotel ambience...       4        NaN   \n",
       "4                           Hotel services were good       3        NaN   \n",
       "5  I became ill, so I was admitted in a hospital ...       3              \n",
       "\n",
       "   sentiment  y                                       clean_review  \\\n",
       "0       Good  1                 tourist place provide good service   \n",
       "1  Excellent  3    food give restaurant delicious I find enjoyable   \n",
       "2       Good  1           relaxed ambience thrissur popular temple   \n",
       "3  Excellent  3  historical prestige hotel ambience good servic...   \n",
       "4  Very Good  2                                 hotel service good   \n",
       "5        Bad -1                I become ill I admit hospital 3 day   \n",
       "\n",
       "                                       clean_review2  \n",
       "0           [tourist, place, provide, good, service]  \n",
       "1  [food, give, restaurant, delicious, i, find, e...  \n",
       "2     [relaxed, ambience, thrissur, popular, temple]  \n",
       "3  [historical, prestige, hotel, ambience, good, ...  \n",
       "4                             [hotel, service, good]  \n",
       "5       [i, become, ill, i, admit, hospital, 3, day]  "
      ]
     },
     "execution_count": 48,
     "metadata": {},
     "output_type": "execute_result"
    }
   ],
   "source": [
    "# Assigning labels to each review\n",
    "def label(y):\n",
    "    if y=='Excellent':\n",
    "        return 3\n",
    "    elif y=='Very Good':\n",
    "        return 2\n",
    "    elif y=='Good':\n",
    "        return 1\n",
    "    else:\n",
    "        return -1\n",
    "    \n",
    "from tqdm import tqdm\n",
    "tqdm.pandas()\n",
    "df['y'] = df.sentiment.progress_map(label)\n",
    "df"
   ]
  },
  {
   "cell_type": "code",
   "execution_count": 49,
   "id": "90838814",
   "metadata": {},
   "outputs": [
    {
     "data": {
      "image/png": "[encoded data removed]",
      "text/plain": [
       "<Figure size 640x480 with 1 Axes>"
      ]
     },
     "metadata": {},
     "output_type": "display_data"
    }
   ],
   "source": [
    "import seaborn as sns\n",
    "sns.countplot(x = \"y\", data = df)\n",
    "plt.show()"
   ]
  },
  {
   "cell_type": "code",
   "execution_count": 50,
   "id": "656475ee",
   "metadata": {},
   "outputs": [
    {
     "data": {
      "text/plain": [
       "2"
      ]
     },
     "execution_count": 50,
     "metadata": {},
     "output_type": "execute_result"
    }
   ],
   "source": [
    "P1 = df[(df['sentiment'] == 'Good')]\n",
    "positive = list(P[(P['comments'].str.len() > 4) & (P['comments'].str.len() < 350)]['comments'])\n",
    "len(positive)"
   ]
  },
  {
   "cell_type": "code",
   "execution_count": 51,
   "id": "4a22c5ca",
   "metadata": {},
   "outputs": [
    {
     "data": {
      "text/plain": [
       "1"
      ]
     },
     "execution_count": 51,
     "metadata": {},
     "output_type": "execute_result"
    }
   ],
   "source": [
    "P2 = df[(df['sentiment'] == 'Bad')]\n",
    "negative1 = list(P2[(P2['comments'].str.len() > 4) & (P2['comments'].str.len() < 350)]['comments'])\n",
    "len(negative1)"
   ]
  },
  {
   "cell_type": "code",
   "execution_count": 52,
   "id": "a02977b4",
   "metadata": {},
   "outputs": [
    {
     "data": {
      "text/plain": [
       "1"
      ]
     },
     "execution_count": 52,
     "metadata": {},
     "output_type": "execute_result"
    }
   ],
   "source": [
    "P3 = df[(df['sentiment'] == 'Very Good')]\n",
    "v_positive = list(P3[(P3['comments'].str.len() > 4) & (P3['comments'].str.len() < 350)]['comments'])\n",
    "len(v_positive)"
   ]
  },
  {
   "cell_type": "code",
   "execution_count": 53,
   "id": "b21101f0",
   "metadata": {},
   "outputs": [
    {
     "data": {
      "text/plain": [
       "2"
      ]
     },
     "execution_count": 53,
     "metadata": {},
     "output_type": "execute_result"
    }
   ],
   "source": [
    "P4 = df[(df['sentiment'] == 'Excellent')]\n",
    "vvpositive = list(P4[(P4['comments'].str.len() > 4) & (P4['comments'].str.len() < 350)]['comments'])\n",
    "len(vvpositive)"
   ]
  },
  {
   "cell_type": "code",
   "execution_count": 54,
   "id": "eadb1b4e",
   "metadata": {},
   "outputs": [
    {
     "data": {
      "text/plain": [
       "['The tourist place had provided good services',\n",
       " 'The relaxed ambience of Thrissur was popular with temples.']"
      ]
     },
     "execution_count": 54,
     "metadata": {},
     "output_type": "execute_result"
    }
   ],
   "source": [
    "import nlpaug.augmenter.word as naw\n",
    "positive[0:49]"
   ]
  },
  {
   "cell_type": "code",
   "execution_count": 55,
   "id": "1a45949d",
   "metadata": {},
   "outputs": [
    {
     "data": {
      "text/plain": [
       "['Hotel services were good']"
      ]
     },
     "execution_count": 55,
     "metadata": {},
     "output_type": "execute_result"
    }
   ],
   "source": [
    "v_positive[0:49]"
   ]
  },
  {
   "cell_type": "code",
   "execution_count": 56,
   "id": "561dabb4",
   "metadata": {},
   "outputs": [
    {
     "data": {
      "text/plain": [
       "['The food given in the restaurant was delicious. I found it enjoyable!',\n",
       " 'The historical prestige and the hotel ambience was good and the service was on point. Good trip!']"
      ]
     },
     "execution_count": 56,
     "metadata": {},
     "output_type": "execute_result"
    }
   ],
   "source": [
    "vvpositive[0:49]"
   ]
  },
  {
   "cell_type": "code",
   "execution_count": 57,
   "id": "02a98f07",
   "metadata": {},
   "outputs": [
    {
     "data": {
      "text/plain": [
       "['I became ill, so I was admitted in a hospital for 3 days.']"
      ]
     },
     "execution_count": 57,
     "metadata": {},
     "output_type": "execute_result"
    }
   ],
   "source": [
    "negative1[0:49]"
   ]
  },
  {
   "cell_type": "code",
   "execution_count": 58,
   "id": "de543f9e",
   "metadata": {},
   "outputs": [
    {
     "data": {
      "text/plain": [
       "2"
      ]
     },
     "execution_count": 58,
     "metadata": {},
     "output_type": "execute_result"
    }
   ],
   "source": [
    "aug = naw.AntonymAug(name='Antonym_Aug', aug_min=1, aug_max=10, aug_p=0.3, lang='eng', stopwords=en_stopwords, tokenizer=None, \n",
    "                     reverse_tokenizer=None, stopwords_regex=None, verbose=0) \n",
    "aug_negative = aug.augment(positive)\n",
    "len(aug_negative)"
   ]
  },
  {
   "cell_type": "code",
   "execution_count": 59,
   "id": "7580ed93",
   "metadata": {},
   "outputs": [
    {
     "name": "stderr",
     "output_type": "stream",
     "text": [
      "100%|████████████████████████████████████████████████████████████████████████████████████| 6/6 [00:00<00:00, 54.25it/s]\n"
     ]
    },
    {
     "data": {
      "text/html": [
       "<div>\n",
       "<style scoped>\n",
       "    .dataframe tbody tr th:only-of-type {\n",
       "        vertical-align: middle;\n",
       "    }\n",
       "\n",
       "    .dataframe tbody tr th {\n",
       "        vertical-align: top;\n",
       "    }\n",
       "\n",
       "    .dataframe thead th {\n",
       "        text-align: right;\n",
       "    }\n",
       "</style>\n",
       "<table border=\"1\" class=\"dataframe\">\n",
       "  <thead>\n",
       "    <tr style=\"text-align: right;\">\n",
       "      <th></th>\n",
       "      <th>id</th>\n",
       "      <th>name</th>\n",
       "      <th>email</th>\n",
       "      <th>aspect</th>\n",
       "      <th>comments</th>\n",
       "      <th>rating</th>\n",
       "      <th>Unnamed: 6</th>\n",
       "      <th>sentiment</th>\n",
       "      <th>y</th>\n",
       "      <th>clean_review</th>\n",
       "      <th>clean_review2</th>\n",
       "    </tr>\n",
       "  </thead>\n",
       "  <tbody>\n",
       "    <tr>\n",
       "      <th>0</th>\n",
       "      <td>1</td>\n",
       "      <td>Yenugu Poojitha</td>\n",
       "      <td>yenugupoojithareddy3107@gmail.com</td>\n",
       "      <td>service</td>\n",
       "      <td>The tourist place had provided good services</td>\n",
       "      <td>4</td>\n",
       "      <td>NaN</td>\n",
       "      <td>Good</td>\n",
       "      <td>1</td>\n",
       "      <td>tourist place provide good service</td>\n",
       "      <td>[tourist, place, provide, good, service]</td>\n",
       "    </tr>\n",
       "    <tr>\n",
       "      <th>1</th>\n",
       "      <td>2</td>\n",
       "      <td>chitra</td>\n",
       "      <td>chitra123@gmail.com</td>\n",
       "      <td>food</td>\n",
       "      <td>The food given in the restaurant was delicious...</td>\n",
       "      <td>5</td>\n",
       "      <td>NaN</td>\n",
       "      <td>Excellent</td>\n",
       "      <td>3</td>\n",
       "      <td>food give restaurant delicious I find enjoyable</td>\n",
       "      <td>[food, give, restaurant, delicious, i, find, e...</td>\n",
       "    </tr>\n",
       "    <tr>\n",
       "      <th>2</th>\n",
       "      <td>3</td>\n",
       "      <td>saaket</td>\n",
       "      <td>saaket123@gmail.com</td>\n",
       "      <td>ambience</td>\n",
       "      <td>The relaxed ambience of Thrissur was popular w...</td>\n",
       "      <td>3</td>\n",
       "      <td>NaN</td>\n",
       "      <td>Good</td>\n",
       "      <td>1</td>\n",
       "      <td>relaxed ambience thrissur popular temple</td>\n",
       "      <td>[relaxed, ambience, thrissur, popular, temple]</td>\n",
       "    </tr>\n",
       "    <tr>\n",
       "      <th>3</th>\n",
       "      <td>4</td>\n",
       "      <td>sravani</td>\n",
       "      <td>sravani18@gmail.com</td>\n",
       "      <td>food</td>\n",
       "      <td>The historical prestige and the hotel ambience...</td>\n",
       "      <td>4</td>\n",
       "      <td>NaN</td>\n",
       "      <td>Excellent</td>\n",
       "      <td>3</td>\n",
       "      <td>historical prestige hotel ambience good servic...</td>\n",
       "      <td>[historical, prestige, hotel, ambience, good, ...</td>\n",
       "    </tr>\n",
       "    <tr>\n",
       "      <th>4</th>\n",
       "      <td>5</td>\n",
       "      <td>rishikesh</td>\n",
       "      <td>rishikesh31@gmail.com</td>\n",
       "      <td>service</td>\n",
       "      <td>Hotel services were good</td>\n",
       "      <td>3</td>\n",
       "      <td>NaN</td>\n",
       "      <td>Very Good</td>\n",
       "      <td>2</td>\n",
       "      <td>hotel service good</td>\n",
       "      <td>[hotel, service, good]</td>\n",
       "    </tr>\n",
       "    <tr>\n",
       "      <th>5</th>\n",
       "      <td>6</td>\n",
       "      <td>vinay</td>\n",
       "      <td>vinay14@gmail.com</td>\n",
       "      <td>hospitality</td>\n",
       "      <td>I became ill, so I was admitted in a hospital ...</td>\n",
       "      <td>3</td>\n",
       "      <td></td>\n",
       "      <td>Bad</td>\n",
       "      <td>-1</td>\n",
       "      <td>I become ill I admit hospital 3 day</td>\n",
       "      <td>[i, become, ill, i, admit, hospital, 3, day]</td>\n",
       "    </tr>\n",
       "  </tbody>\n",
       "</table>\n",
       "</div>"
      ],
      "text/plain": [
       "   id             name                              email       aspect  \\\n",
       "0   1  Yenugu Poojitha  yenugupoojithareddy3107@gmail.com      service   \n",
       "1   2           chitra                chitra123@gmail.com         food   \n",
       "2   3           saaket                saaket123@gmail.com     ambience   \n",
       "3   4          sravani                sravani18@gmail.com         food   \n",
       "4   5        rishikesh              rishikesh31@gmail.com      service   \n",
       "5   6            vinay                  vinay14@gmail.com  hospitality   \n",
       "\n",
       "                                            comments  rating Unnamed: 6  \\\n",
       "0       The tourist place had provided good services       4        NaN   \n",
       "1  The food given in the restaurant was delicious...       5        NaN   \n",
       "2  The relaxed ambience of Thrissur was popular w...       3        NaN   \n",
       "3  The historical prestige and the hotel ambience...       4        NaN   \n",
       "4                           Hotel services were good       3        NaN   \n",
       "5  I became ill, so I was admitted in a hospital ...       3              \n",
       "\n",
       "   sentiment  y                                       clean_review  \\\n",
       "0       Good  1                 tourist place provide good service   \n",
       "1  Excellent  3    food give restaurant delicious I find enjoyable   \n",
       "2       Good  1           relaxed ambience thrissur popular temple   \n",
       "3  Excellent  3  historical prestige hotel ambience good servic...   \n",
       "4  Very Good  2                                 hotel service good   \n",
       "5        Bad -1                I become ill I admit hospital 3 day   \n",
       "\n",
       "                                       clean_review2  \n",
       "0           [tourist, place, provide, good, service]  \n",
       "1  [food, give, restaurant, delicious, i, find, e...  \n",
       "2     [relaxed, ambience, thrissur, popular, temple]  \n",
       "3  [historical, prestige, hotel, ambience, good, ...  \n",
       "4                             [hotel, service, good]  \n",
       "5       [i, become, ill, i, admit, hospital, 3, day]  "
      ]
     },
     "execution_count": 59,
     "metadata": {},
     "output_type": "execute_result"
    }
   ],
   "source": [
    "def preprocessing(text):\n",
    "    text = remove_url(text) \n",
    "    text = uni.normalize('NFKD', text)\n",
    "    text = handle_emoji(text)\n",
    "    text = text.lower() \n",
    "    text = re.sub(r'[^\\w\\s]', '', text)\n",
    "    text = word_tokenizer(text)\n",
    "    # text = stemming(text)\n",
    "    text = lemmatization(text)\n",
    "    text = remove_stopwords(text)\n",
    "    text = \" \".join(text)\n",
    "    return text\n",
    "from tqdm import tqdm\n",
    "tqdm.pandas()\n",
    "df['clean_review'] = df['comments'].progress_map(preprocessing)\n",
    "df"
   ]
  },
  {
   "cell_type": "code",
   "execution_count": 60,
   "id": "d3dd556b",
   "metadata": {},
   "outputs": [
    {
     "data": {
      "text/html": [
       "<div>\n",
       "<style scoped>\n",
       "    .dataframe tbody tr th:only-of-type {\n",
       "        vertical-align: middle;\n",
       "    }\n",
       "\n",
       "    .dataframe tbody tr th {\n",
       "        vertical-align: top;\n",
       "    }\n",
       "\n",
       "    .dataframe thead th {\n",
       "        text-align: right;\n",
       "    }\n",
       "</style>\n",
       "<table border=\"1\" class=\"dataframe\">\n",
       "  <thead>\n",
       "    <tr style=\"text-align: right;\">\n",
       "      <th></th>\n",
       "      <th>id</th>\n",
       "      <th>name</th>\n",
       "      <th>email</th>\n",
       "      <th>aspect</th>\n",
       "      <th>comments</th>\n",
       "      <th>rating</th>\n",
       "      <th>Unnamed: 6</th>\n",
       "      <th>sentiment</th>\n",
       "      <th>y</th>\n",
       "      <th>clean_review</th>\n",
       "      <th>clean_review2</th>\n",
       "    </tr>\n",
       "  </thead>\n",
       "  <tbody>\n",
       "    <tr>\n",
       "      <th>0</th>\n",
       "      <td>1</td>\n",
       "      <td>Yenugu Poojitha</td>\n",
       "      <td>yenugupoojithareddy3107@gmail.com</td>\n",
       "      <td>service</td>\n",
       "      <td>The tourist place had provided good services</td>\n",
       "      <td>4</td>\n",
       "      <td>NaN</td>\n",
       "      <td>Good</td>\n",
       "      <td>1</td>\n",
       "      <td>tourist place provide good service</td>\n",
       "      <td>[tourist, place, provide, good, service]</td>\n",
       "    </tr>\n",
       "    <tr>\n",
       "      <th>1</th>\n",
       "      <td>2</td>\n",
       "      <td>chitra</td>\n",
       "      <td>chitra123@gmail.com</td>\n",
       "      <td>food</td>\n",
       "      <td>The food given in the restaurant was delicious...</td>\n",
       "      <td>5</td>\n",
       "      <td>NaN</td>\n",
       "      <td>Excellent</td>\n",
       "      <td>3</td>\n",
       "      <td>food give restaurant delicious I find enjoyable</td>\n",
       "      <td>[food, give, restaurant, delicious, i, find, e...</td>\n",
       "    </tr>\n",
       "    <tr>\n",
       "      <th>2</th>\n",
       "      <td>3</td>\n",
       "      <td>saaket</td>\n",
       "      <td>saaket123@gmail.com</td>\n",
       "      <td>ambience</td>\n",
       "      <td>The relaxed ambience of Thrissur was popular w...</td>\n",
       "      <td>3</td>\n",
       "      <td>NaN</td>\n",
       "      <td>Good</td>\n",
       "      <td>1</td>\n",
       "      <td>relaxed ambience thrissur popular temple</td>\n",
       "      <td>[relaxed, ambience, thrissur, popular, temple]</td>\n",
       "    </tr>\n",
       "    <tr>\n",
       "      <th>3</th>\n",
       "      <td>4</td>\n",
       "      <td>sravani</td>\n",
       "      <td>sravani18@gmail.com</td>\n",
       "      <td>food</td>\n",
       "      <td>The historical prestige and the hotel ambience...</td>\n",
       "      <td>4</td>\n",
       "      <td>NaN</td>\n",
       "      <td>Excellent</td>\n",
       "      <td>3</td>\n",
       "      <td>historical prestige hotel ambience good servic...</td>\n",
       "      <td>[historical, prestige, hotel, ambience, good, ...</td>\n",
       "    </tr>\n",
       "    <tr>\n",
       "      <th>4</th>\n",
       "      <td>5</td>\n",
       "      <td>rishikesh</td>\n",
       "      <td>rishikesh31@gmail.com</td>\n",
       "      <td>service</td>\n",
       "      <td>Hotel services were good</td>\n",
       "      <td>3</td>\n",
       "      <td>NaN</td>\n",
       "      <td>Very Good</td>\n",
       "      <td>2</td>\n",
       "      <td>hotel service good</td>\n",
       "      <td>[hotel, service, good]</td>\n",
       "    </tr>\n",
       "  </tbody>\n",
       "</table>\n",
       "</div>"
      ],
      "text/plain": [
       "   id             name                              email    aspect  \\\n",
       "0   1  Yenugu Poojitha  yenugupoojithareddy3107@gmail.com   service   \n",
       "1   2           chitra                chitra123@gmail.com      food   \n",
       "2   3           saaket                saaket123@gmail.com  ambience   \n",
       "3   4          sravani                sravani18@gmail.com      food   \n",
       "4   5        rishikesh              rishikesh31@gmail.com   service   \n",
       "\n",
       "                                            comments  rating Unnamed: 6  \\\n",
       "0       The tourist place had provided good services       4        NaN   \n",
       "1  The food given in the restaurant was delicious...       5        NaN   \n",
       "2  The relaxed ambience of Thrissur was popular w...       3        NaN   \n",
       "3  The historical prestige and the hotel ambience...       4        NaN   \n",
       "4                           Hotel services were good       3        NaN   \n",
       "\n",
       "   sentiment  y                                       clean_review  \\\n",
       "0       Good  1                 tourist place provide good service   \n",
       "1  Excellent  3    food give restaurant delicious I find enjoyable   \n",
       "2       Good  1           relaxed ambience thrissur popular temple   \n",
       "3  Excellent  3  historical prestige hotel ambience good servic...   \n",
       "4  Very Good  2                                 hotel service good   \n",
       "\n",
       "                                       clean_review2  \n",
       "0           [tourist, place, provide, good, service]  \n",
       "1  [food, give, restaurant, delicious, i, find, e...  \n",
       "2     [relaxed, ambience, thrissur, popular, temple]  \n",
       "3  [historical, prestige, hotel, ambience, good, ...  \n",
       "4                             [hotel, service, good]  "
      ]
     },
     "execution_count": 60,
     "metadata": {},
     "output_type": "execute_result"
    }
   ],
   "source": [
    "df.head()"
   ]
  },
  {
   "cell_type": "code",
   "execution_count": 61,
   "id": "4da2c0db",
   "metadata": {},
   "outputs": [
    {
     "name": "stderr",
     "output_type": "stream",
     "text": [
      "100%|██████████████████████████████████████████████████████████████████████████████████| 6/6 [00:00<00:00, 5983.32it/s]\n"
     ]
    }
   ],
   "source": [
    "reviews = df.clean_review.values.tolist()\n",
    "from tqdm import tqdm\n",
    "tqdm.pandas()\n",
    "df['clean_review2'] = df['clean_review'].progress_map(word_tokenizer)"
   ]
  },
  {
   "cell_type": "code",
   "execution_count": 62,
   "id": "5540ee20",
   "metadata": {},
   "outputs": [
    {
     "data": {
      "text/plain": [
       "0             [tourist, place, provide, good, service]\n",
       "1    [food, give, restaurant, delicious, i, find, e...\n",
       "2       [relaxed, ambience, thrissur, popular, temple]\n",
       "3    [historical, prestige, hotel, ambience, good, ...\n",
       "4                               [hotel, service, good]\n",
       "5         [i, become, ill, i, admit, hospital, 3, day]\n",
       "Name: clean_review2, dtype: object"
      ]
     },
     "execution_count": 62,
     "metadata": {},
     "output_type": "execute_result"
    }
   ],
   "source": [
    "df['clean_review2']"
   ]
  },
  {
   "cell_type": "code",
   "execution_count": 63,
   "id": "3b0527d7",
   "metadata": {},
   "outputs": [
    {
     "name": "stdout",
     "output_type": "stream",
     "text": [
      "[['tourist', 'place', 'provide', 'good', 'service'], ['food', 'give', 'restaurant', 'delicious', 'i', 'find', 'enjoyable'], ['relaxed', 'ambience', 'thrissur', 'popular', 'temple'], ['historical', 'prestige', 'hotel', 'ambience', 'good', 'service', 'point', 'good', 'trip'], ['hotel', 'service', 'good'], ['i', 'become', 'ill', 'i', 'admit', 'hospital', '3', 'day']]\n",
      "6\n"
     ]
    }
   ],
   "source": [
    "data_words = df['clean_review2'].values.tolist()\n",
    "print(data_words)\n",
    "print(len(data_words))"
   ]
  },
  {
   "cell_type": "code",
   "execution_count": 64,
   "id": "ce2f72ce",
   "metadata": {},
   "outputs": [
    {
     "name": "stdout",
     "output_type": "stream",
     "text": [
      "[(0, 1), (1, 1), (2, 1), (3, 1), (4, 1)]\n"
     ]
    }
   ],
   "source": [
    "import gensim.corpora as corpora\n",
    "# Create Dictionary\n",
    "id2word = corpora.Dictionary(data_words)\n",
    "# Create Corpus\n",
    "texts = data_words\n",
    "# Term Document Frequency\n",
    "corpus = [id2word.doc2bow(text) for text in texts]\n",
    "# View\n",
    "print(corpus[:1][0][:30])"
   ]
  },
  {
   "cell_type": "code",
   "execution_count": 65,
   "id": "fbdc61ac",
   "metadata": {},
   "outputs": [
    {
     "name": "stdout",
     "output_type": "stream",
     "text": [
      "[(0,\n",
      "  '0.112*\"i\" + 0.112*\"restaurant\" + 0.112*\"delicious\" + 0.112*\"enjoyable\" + '\n",
      "  '0.112*\"give\" + 0.112*\"food\" + 0.112*\"find\" + 0.010*\"good\" + 0.010*\"hotel\" + '\n",
      "  '0.010*\"service\"'),\n",
      " (1,\n",
      "  '0.194*\"i\" + 0.102*\"3\" + 0.102*\"admit\" + 0.102*\"become\" + 0.102*\"day\" + '\n",
      "  '0.102*\"hospital\" + 0.102*\"ill\" + 0.009*\"good\" + 0.009*\"service\" + '\n",
      "  '0.009*\"hotel\"'),\n",
      " (2,\n",
      "  '0.036*\"good\" + 0.036*\"service\" + 0.036*\"hotel\" + 0.036*\"i\" + '\n",
      "  '0.036*\"ambience\" + 0.036*\"thrissur\" + 0.036*\"provide\" + 0.036*\"popular\" + '\n",
      "  '0.036*\"temple\" + 0.036*\"place\"'),\n",
      " (3,\n",
      "  '0.141*\"service\" + 0.141*\"tourist\" + 0.141*\"good\" + 0.141*\"place\" + '\n",
      "  '0.141*\"provide\" + 0.013*\"hotel\" + 0.013*\"i\" + 0.013*\"popular\" + '\n",
      "  '0.013*\"ambience\" + 0.013*\"temple\"'),\n",
      " (4,\n",
      "  '0.036*\"service\" + 0.036*\"good\" + 0.036*\"hotel\" + 0.036*\"i\" + '\n",
      "  '0.036*\"popular\" + 0.036*\"ambience\" + 0.036*\"temple\" + 0.036*\"provide\" + '\n",
      "  '0.036*\"tourist\" + 0.036*\"place\"'),\n",
      " (5,\n",
      "  '0.036*\"good\" + 0.036*\"service\" + 0.036*\"hotel\" + 0.036*\"i\" + '\n",
      "  '0.036*\"ambience\" + 0.036*\"temple\" + 0.036*\"popular\" + 0.036*\"provide\" + '\n",
      "  '0.036*\"thrissur\" + 0.036*\"place\"'),\n",
      " (6,\n",
      "  '0.141*\"ambience\" + 0.141*\"relaxed\" + 0.141*\"thrissur\" + 0.141*\"temple\" + '\n",
      "  '0.141*\"popular\" + 0.013*\"good\" + 0.013*\"service\" + 0.013*\"hotel\" + '\n",
      "  '0.013*\"i\" + 0.013*\"find\"'),\n",
      " (7,\n",
      "  '0.036*\"good\" + 0.036*\"service\" + 0.036*\"hotel\" + 0.036*\"i\" + '\n",
      "  '0.036*\"popular\" + 0.036*\"temple\" + 0.036*\"ambience\" + 0.036*\"thrissur\" + '\n",
      "  '0.036*\"place\" + 0.036*\"ill\"'),\n",
      " (8,\n",
      "  '0.209*\"good\" + 0.142*\"service\" + 0.142*\"hotel\" + 0.074*\"trip\" + '\n",
      "  '0.074*\"point\" + 0.074*\"prestige\" + 0.074*\"historical\" + 0.074*\"ambience\" + '\n",
      "  '0.007*\"i\" + 0.007*\"popular\"'),\n",
      " (9,\n",
      "  '0.036*\"service\" + 0.036*\"good\" + 0.036*\"hotel\" + 0.036*\"i\" + '\n",
      "  '0.036*\"ambience\" + 0.036*\"popular\" + 0.036*\"temple\" + 0.036*\"thrissur\" + '\n",
      "  '0.036*\"food\" + 0.036*\"provide\"')]\n"
     ]
    }
   ],
   "source": [
    "from gensim.models import LdaMulticore\n",
    "from gensim.models import LdaModel\n",
    "from pprint import pprint\n",
    "# number of topics\n",
    "num_topics = 10\n",
    "# Build LDA model\n",
    "lda_model = LdaMulticore(corpus=corpus, id2word=id2word,\n",
    "                     num_topics=num_topics, iterations=400)\n",
    "# Print the Keyword in the 10 topics\n",
    "pprint(lda_model.print_topics())\n",
    "doc_lda = lda_model[corpus]"
   ]
  },
  {
   "cell_type": "code",
   "execution_count": 66,
   "id": "7107a749",
   "metadata": {},
   "outputs": [
    {
     "name": "stdout",
     "output_type": "stream",
     "text": [
      "FastText(vocab=28, vector_size=100, alpha=0.025)\n",
      "Wall time: 2.36 s\n"
     ]
    }
   ],
   "source": [
    "%%time\n",
    "from gensim.models import FastText\n",
    "fasttext_model = FastText(data_words, vector_size= 100, window=100, min_count=1, workers=5,sg=1)\n",
    "print(fasttext_model)"
   ]
  },
  {
   "cell_type": "code",
   "execution_count": 67,
   "id": "f83c79f8",
   "metadata": {},
   "outputs": [
    {
     "name": "stdout",
     "output_type": "stream",
     "text": [
      "FastText(vocab=28, vector_size=100, alpha=0.025)\n",
      "Wall time: 2.27 s\n"
     ]
    }
   ],
   "source": [
    "%%time\n",
    "from gensim.models import FastText\n",
    "fasttext_model1 = FastText(data_words, vector_size= 100, window=100, min_count=1, workers=5,sg=1)\n",
    "print(fasttext_model1)"
   ]
  },
  {
   "cell_type": "code",
   "execution_count": 68,
   "id": "ea7e5856",
   "metadata": {},
   "outputs": [
    {
     "name": "stdout",
     "output_type": "stream",
     "text": [
      "FastText(vocab=28, vector_size=100, alpha=0.025)\n",
      "Wall time: 2.16 s\n"
     ]
    }
   ],
   "source": [
    "%%time\n",
    "from gensim.models import FastText\n",
    "fasttext_model2 = FastText(data_words, vector_size= 100, window=100, min_count=1, workers=5,sg=1)\n",
    "print(fasttext_model2)"
   ]
  },
  {
   "cell_type": "code",
   "execution_count": 69,
   "id": "f0a0e9ea",
   "metadata": {},
   "outputs": [
    {
     "name": "stdout",
     "output_type": "stream",
     "text": [
      "FastText(vocab=28, vector_size=100, alpha=0.025)\n",
      "Wall time: 2.14 s\n"
     ]
    }
   ],
   "source": [
    "%%time\n",
    "from gensim.models import FastText\n",
    "fasttext_model3 = FastText(data_words, vector_size= 100, window=100, min_count=1, workers=5,sg=1)\n",
    "print(fasttext_model3)"
   ]
  },
  {
   "cell_type": "code",
   "execution_count": 70,
   "id": "42ecd046",
   "metadata": {},
   "outputs": [
    {
     "name": "stdout",
     "output_type": "stream",
     "text": [
      "0.15506542\n",
      "0.73245305\n"
     ]
    }
   ],
   "source": [
    "fasttext_model.save(\"FastText-Model-For-ABSA.bin\")\n",
    "print(fasttext_model.wv.n_similarity(\"Very Good\",\"service\"))\n",
    "print(fasttext_model.wv.n_similarity(\"Hotel services were good\",\"service\"))"
   ]
  },
  {
   "cell_type": "code",
   "execution_count": 71,
   "id": "1a8af9ef",
   "metadata": {},
   "outputs": [
    {
     "name": "stdout",
     "output_type": "stream",
     "text": [
      "0.32133222\n",
      "0.5149182\n"
     ]
    }
   ],
   "source": [
    "fasttext_model1.save(\"FastText-Model-For-ABSA1.bin\")\n",
    "print(fasttext_model1.wv.n_similarity(\"Bad\",\"hospitality\"))\n",
    "print(fasttext_model1.wv.n_similarity(\"I became ill, so I was admitted in a hospital for 3 days.\",\"hospitality\"))"
   ]
  },
  {
   "cell_type": "code",
   "execution_count": 72,
   "id": "72d7fffe",
   "metadata": {},
   "outputs": [
    {
     "name": "stdout",
     "output_type": "stream",
     "text": [
      "-0.019609725\n",
      "0.58824587\n"
     ]
    }
   ],
   "source": [
    "fasttext_model2.save(\"FastText-Model-For-ABSA2.bin\")\n",
    "print(fasttext_model2.wv.n_similarity(\"Good\",\"ambience\"))\n",
    "print(fasttext_model2.wv.n_similarity(\"The relaxed ambience of Thrissur was popular with temples.\",\"ambience\"))"
   ]
  },
  {
   "cell_type": "code",
   "execution_count": 73,
   "id": "10142964",
   "metadata": {},
   "outputs": [
    {
     "name": "stdout",
     "output_type": "stream",
     "text": [
      "-0.10728479\n",
      "0.25900412\n"
     ]
    }
   ],
   "source": [
    "fasttext_model3.save(\"FastText-Model-For-ABSA3.bin\")\n",
    "print(fasttext_model3.wv.n_similarity(\"Excellent\",\"food\"))\n",
    "print(fasttext_model3.wv.n_similarity(\"The food given in the restaurant was delicious. I found it enjoyable!\",\"food\"))"
   ]
  },
  {
   "cell_type": "code",
   "execution_count": 74,
   "id": "8e66c31f",
   "metadata": {},
   "outputs": [],
   "source": [
    "aspect = [\"service\",\"food\",\"ambience\",\"hospitality\"]\n",
    "def get_similarity(text, aspect):\n",
    "    try:\n",
    "        text = \" \".join(text)\n",
    "        return fasttext_model.wv.n_similarity(text, aspect)\n",
    "    except:\n",
    "        return 0"
   ]
  },
  {
   "cell_type": "code",
   "execution_count": 75,
   "id": "926aa08d",
   "metadata": {},
   "outputs": [],
   "source": [
    "aspect = [\"service\",\"food\",\"ambience\",\"hospitality\"]\n",
    "def get_similarity1(text, aspect):\n",
    "    try:\n",
    "        text = \" \".join(text)\n",
    "        return fasttext_model1.wv.n_similarity(text, aspect)\n",
    "    except:\n",
    "        return 0"
   ]
  },
  {
   "cell_type": "code",
   "execution_count": 76,
   "id": "7d21dc28",
   "metadata": {},
   "outputs": [],
   "source": [
    "aspect = [\"service\",\"food\",\"ambience\",\"hospitality\"]\n",
    "def get_similarity2(text, aspect):\n",
    "    try:\n",
    "        text = \" \".join(text)\n",
    "        return fasttext_model2.wv.n_similarity(text, aspect)\n",
    "    except:\n",
    "        return 0"
   ]
  },
  {
   "cell_type": "code",
   "execution_count": 77,
   "id": "3e318e0f",
   "metadata": {},
   "outputs": [],
   "source": [
    "aspect = [\"service\",\"food\",\"ambience\",\"hospitality\"]\n",
    "def get_similarity3(text, aspect):\n",
    "    try:\n",
    "        text = \" \".join(text)\n",
    "        return fasttext_model3.wv.n_similarity(text, aspect)\n",
    "    except:\n",
    "        return 0"
   ]
  },
  {
   "cell_type": "code",
   "execution_count": 78,
   "id": "7e8122e8",
   "metadata": {},
   "outputs": [
    {
     "name": "stdout",
     "output_type": "stream",
     "text": [
      "<module 'torch' from 'C:\\\\Users\\\\kasin\\\\anaconda3\\\\lib\\\\site-packages\\\\torch\\\\__init__.py'>\n",
      "<module 'torch.nn' from 'C:\\\\Users\\\\kasin\\\\anaconda3\\\\lib\\\\site-packages\\\\torch\\\\nn\\\\__init__.py'>\n"
     ]
    }
   ],
   "source": [
    "df.to_csv(\"Trip11.csv\", index = True)\n",
    "import torch\n",
    "from torch import nn\n",
    "from torch.utils.data import Dataset\n",
    "from torch.utils.data import DataLoader\n",
    "from torch.utils.data import RandomSampler\n",
    "import warnings\n",
    "print(torch)\n",
    "print(nn)"
   ]
  },
  {
   "cell_type": "code",
   "execution_count": 79,
   "id": "a2456f32",
   "metadata": {},
   "outputs": [],
   "source": [
    "class config:\n",
    "    warnings.filterwarnings(\"ignore\", category = UserWarning)\n",
    "    IMG_SIZE = (224,224)\n",
    "    DEVICE = (\"cuda\" if torch.cuda.is_available() else \"cpu\")\n",
    "    FOLDS = 5\n",
    "    SHUFFLE = True\n",
    "    BATCH_SIZE = 32\n",
    "    LR = 0.01\n",
    "    EPOCHS = 30\n",
    "    EMB_DIM = 100\n",
    "    MAX_LEN = 20\n",
    "    MODEL_PATH = \"./Models/MyModel.pt\""
   ]
  },
  {
   "cell_type": "code",
   "execution_count": 80,
   "id": "405d6f2b",
   "metadata": {},
   "outputs": [
    {
     "data": {
      "text/html": [
       "<div>\n",
       "<style scoped>\n",
       "    .dataframe tbody tr th:only-of-type {\n",
       "        vertical-align: middle;\n",
       "    }\n",
       "\n",
       "    .dataframe tbody tr th {\n",
       "        vertical-align: top;\n",
       "    }\n",
       "\n",
       "    .dataframe thead th {\n",
       "        text-align: right;\n",
       "    }\n",
       "</style>\n",
       "<table border=\"1\" class=\"dataframe\">\n",
       "  <thead>\n",
       "    <tr style=\"text-align: right;\">\n",
       "      <th></th>\n",
       "      <th>id</th>\n",
       "      <th>name</th>\n",
       "      <th>email</th>\n",
       "      <th>aspect</th>\n",
       "      <th>comments</th>\n",
       "      <th>rating</th>\n",
       "      <th>Unnamed: 6</th>\n",
       "      <th>sentiment</th>\n",
       "      <th>y</th>\n",
       "      <th>clean_review</th>\n",
       "      <th>clean_review2</th>\n",
       "    </tr>\n",
       "  </thead>\n",
       "  <tbody>\n",
       "    <tr>\n",
       "      <th>0</th>\n",
       "      <td>1</td>\n",
       "      <td>Yenugu Poojitha</td>\n",
       "      <td>yenugupoojithareddy3107@gmail.com</td>\n",
       "      <td>service</td>\n",
       "      <td>The tourist place had provided good services</td>\n",
       "      <td>4</td>\n",
       "      <td>NaN</td>\n",
       "      <td>Good</td>\n",
       "      <td>1</td>\n",
       "      <td>tourist place provide good service</td>\n",
       "      <td>[tourist, place, provide, good, service]</td>\n",
       "    </tr>\n",
       "    <tr>\n",
       "      <th>1</th>\n",
       "      <td>2</td>\n",
       "      <td>chitra</td>\n",
       "      <td>chitra123@gmail.com</td>\n",
       "      <td>food</td>\n",
       "      <td>The food given in the restaurant was delicious...</td>\n",
       "      <td>5</td>\n",
       "      <td>NaN</td>\n",
       "      <td>Excellent</td>\n",
       "      <td>3</td>\n",
       "      <td>food give restaurant delicious I find enjoyable</td>\n",
       "      <td>[food, give, restaurant, delicious, i, find, e...</td>\n",
       "    </tr>\n",
       "    <tr>\n",
       "      <th>2</th>\n",
       "      <td>3</td>\n",
       "      <td>saaket</td>\n",
       "      <td>saaket123@gmail.com</td>\n",
       "      <td>ambience</td>\n",
       "      <td>The relaxed ambience of Thrissur was popular w...</td>\n",
       "      <td>3</td>\n",
       "      <td>NaN</td>\n",
       "      <td>Good</td>\n",
       "      <td>1</td>\n",
       "      <td>relaxed ambience thrissur popular temple</td>\n",
       "      <td>[relaxed, ambience, thrissur, popular, temple]</td>\n",
       "    </tr>\n",
       "    <tr>\n",
       "      <th>3</th>\n",
       "      <td>4</td>\n",
       "      <td>sravani</td>\n",
       "      <td>sravani18@gmail.com</td>\n",
       "      <td>food</td>\n",
       "      <td>The historical prestige and the hotel ambience...</td>\n",
       "      <td>4</td>\n",
       "      <td>NaN</td>\n",
       "      <td>Excellent</td>\n",
       "      <td>3</td>\n",
       "      <td>historical prestige hotel ambience good servic...</td>\n",
       "      <td>[historical, prestige, hotel, ambience, good, ...</td>\n",
       "    </tr>\n",
       "    <tr>\n",
       "      <th>4</th>\n",
       "      <td>5</td>\n",
       "      <td>rishikesh</td>\n",
       "      <td>rishikesh31@gmail.com</td>\n",
       "      <td>service</td>\n",
       "      <td>Hotel services were good</td>\n",
       "      <td>3</td>\n",
       "      <td>NaN</td>\n",
       "      <td>Very Good</td>\n",
       "      <td>2</td>\n",
       "      <td>hotel service good</td>\n",
       "      <td>[hotel, service, good]</td>\n",
       "    </tr>\n",
       "    <tr>\n",
       "      <th>5</th>\n",
       "      <td>6</td>\n",
       "      <td>vinay</td>\n",
       "      <td>vinay14@gmail.com</td>\n",
       "      <td>hospitality</td>\n",
       "      <td>I became ill, so I was admitted in a hospital ...</td>\n",
       "      <td>3</td>\n",
       "      <td></td>\n",
       "      <td>Bad</td>\n",
       "      <td>-1</td>\n",
       "      <td>I become ill I admit hospital 3 day</td>\n",
       "      <td>[i, become, ill, i, admit, hospital, 3, day]</td>\n",
       "    </tr>\n",
       "  </tbody>\n",
       "</table>\n",
       "</div>"
      ],
      "text/plain": [
       "   id             name                              email       aspect  \\\n",
       "0   1  Yenugu Poojitha  yenugupoojithareddy3107@gmail.com      service   \n",
       "1   2           chitra                chitra123@gmail.com         food   \n",
       "2   3           saaket                saaket123@gmail.com     ambience   \n",
       "3   4          sravani                sravani18@gmail.com         food   \n",
       "4   5        rishikesh              rishikesh31@gmail.com      service   \n",
       "5   6            vinay                  vinay14@gmail.com  hospitality   \n",
       "\n",
       "                                            comments  rating Unnamed: 6  \\\n",
       "0       The tourist place had provided good services       4        NaN   \n",
       "1  The food given in the restaurant was delicious...       5        NaN   \n",
       "2  The relaxed ambience of Thrissur was popular w...       3        NaN   \n",
       "3  The historical prestige and the hotel ambience...       4        NaN   \n",
       "4                           Hotel services were good       3        NaN   \n",
       "5  I became ill, so I was admitted in a hospital ...       3              \n",
       "\n",
       "   sentiment  y                                       clean_review  \\\n",
       "0       Good  1                 tourist place provide good service   \n",
       "1  Excellent  3    food give restaurant delicious I find enjoyable   \n",
       "2       Good  1           relaxed ambience thrissur popular temple   \n",
       "3  Excellent  3  historical prestige hotel ambience good servic...   \n",
       "4  Very Good  2                                 hotel service good   \n",
       "5        Bad -1                I become ill I admit hospital 3 day   \n",
       "\n",
       "                                       clean_review2  \n",
       "0           [tourist, place, provide, good, service]  \n",
       "1  [food, give, restaurant, delicious, i, find, e...  \n",
       "2     [relaxed, ambience, thrissur, popular, temple]  \n",
       "3  [historical, prestige, hotel, ambience, good, ...  \n",
       "4                             [hotel, service, good]  \n",
       "5       [i, become, ill, i, admit, hospital, 3, day]  "
      ]
     },
     "execution_count": 80,
     "metadata": {},
     "output_type": "execute_result"
    }
   ],
   "source": [
    "df.head(6)"
   ]
  },
  {
   "cell_type": "code",
   "execution_count": 81,
   "id": "18115b0e",
   "metadata": {},
   "outputs": [],
   "source": [
    "class Vocabulary:\n",
    "  \n",
    "    '''\n",
    "    __init__ method is called by default as soon as an object of this class is initiated\n",
    "    we use this method to initiate our vocab dictionaries\n",
    "    '''\n",
    "    def __init__(self, freq_threshold, max_size):\n",
    "        '''\n",
    "        freq_threshold : the minimum times a word must occur in corpus to be treated in vocab\n",
    "        max_size : max source vocab size. Eg. if set to 10,000, we pick the top 10,000 most frequent words and discard others\n",
    "        '''\n",
    "        #initiate the index to token dict\n",
    "        ## <PAD> -> padding, used for padding the shorter sentences in a batch to match the length of longest sentence in the batch\n",
    "        ## <SOS> -> start token, added in front of each sentence to signify the start of sentence\n",
    "        ## <EOS> -> End of sentence token, added to the end of each sentence to signify the end of sentence\n",
    "        ## <UNK> -> words which are not found in the vocab are replace by this token\n",
    "        self.itos = {0: '<PAD>', 1:'<SOS>', 2:'<EOS>', 3: '<UNK>'}\n",
    "        #initiate the token to index dict\n",
    "        self.stoi = {k:j for j,k in self.itos.items()} \n",
    "        \n",
    "        self.freq_threshold = freq_threshold\n",
    "        self.max_size = max_size\n",
    "    \n",
    "    '''\n",
    "    __len__ is used by dataloader later to create batches\n",
    "    '''\n",
    "    def __len__(self):\n",
    "        return len(self.itos)\n",
    "    \n",
    "    '''\n",
    "    a simple tokenizer to split on space and converts the sentence to list of words\n",
    "    '''\n",
    "    @staticmethod\n",
    "    def tokenizer(text):\n",
    "        return [tok.lower().strip() for tok in text.split(' ')]\n",
    "    \n",
    "    '''\n",
    "    build the vocab: create a dictionary mapping of index to string (itos) and string to index (stoi)\n",
    "    output ex. for stoi -> {'the':5, 'a':6, 'an':7}\n",
    "    '''\n",
    "    def build_vocabulary(self, sentence_list):\n",
    "        #calculate the frequencies of each word first to remove the words with freq < freq_threshold\n",
    "        frequencies = {}  #init the freq dict\n",
    "        idx = 4 #index from which we want our dict to start. We already used 4 indexes for pad, start, end, unk\n",
    "        #calculate freq of words\n",
    "        for sentence in sentence_list:\n",
    "            for word in self.tokenizer(sentence):\n",
    "                if word not in frequencies.keys():\n",
    "                    frequencies[word]=1\n",
    "                else:\n",
    "                    frequencies[word]+=1\n",
    "        #limit vocab by removing low freq words\n",
    "        frequencies = {k:v for k,v in frequencies.items() if v>self.freq_threshold} \n",
    "        #limit vocab to the max_size specified\n",
    "        frequencies = dict(sorted(frequencies.items(), key = lambda x: -x[1])[:self.max_size-idx]) # idx =4 for pad, start, end , unk\n",
    "        #create vocab\n",
    "        for word in frequencies.keys():\n",
    "            self.stoi[word] = idx\n",
    "            self.itos[idx] = word\n",
    "            idx+=1\n",
    "    '''\n",
    "    convert the list of words to a list of corresponding indexes\n",
    "    '''    \n",
    "    def numericalize(self, text):\n",
    "        #tokenize text\n",
    "        tokenized_text = self.tokenizer(text)\n",
    "        numericalized_text = []\n",
    "        for token in tokenized_text:\n",
    "            if token in self.stoi.keys():\n",
    "                numericalized_text.append(self.stoi[token])\n",
    "            else: #out-of-vocab words are represented by UNK token index\n",
    "                numericalized_text.append(self.stoi['<UNK>'])\n",
    "                \n",
    "        return numericalized_text"
   ]
  },
  {
   "cell_type": "code",
   "execution_count": 82,
   "id": "cf4d8a07",
   "metadata": {},
   "outputs": [],
   "source": [
    "from torch.utils.data import Dataset\n",
    "\n",
    "class CustomDataset(Dataset):\n",
    "    '''\n",
    "    Initiating Variables\n",
    "    df: the training dataframe\n",
    "    source_column : the name of source text column in the dataframe\n",
    "    transform : If we want to add any augmentation\n",
    "    freq_threshold : the minimum times a word must occur in corpus to be treated in vocab\n",
    "    source_vocab_max_size : max source vocab size\n",
    "    '''\n",
    "    \n",
    "    def __init__(self, df, source_column,freq_threshold = 3,\n",
    "                source_vocab_max_size = 10000 , transform=None):\n",
    "    \n",
    "        self.df = df\n",
    "        self.transform = transform\n",
    "        \n",
    "        #get source and target texts\n",
    "        self.source_texts = self.df[source_column]\n",
    "        \n",
    "        \n",
    "        ##VOCAB class has been created above\n",
    "        #Initialize source vocab object and build vocabulary\n",
    "        self.source_vocab = Vocabulary(freq_threshold, source_vocab_max_size)\n",
    "        self.source_vocab.build_vocabulary(self.source_texts.tolist())\n",
    "\n",
    "        \n",
    "    def __len__(self):\n",
    "        return len(self.df)\n",
    "    \n",
    "    '''\n",
    "    __getitem__ runs on 1 example at a time. Here, we get an example at index and return its numericalize source and\n",
    "    target values using the vocabulary objects we created in __init__\n",
    "    '''\n",
    "    def __getitem__(self, index):\n",
    "        source_text = self.source_texts[index]\n",
    "        \n",
    "        if self.transform is not None:\n",
    "            source_text = self.transform(source_text)\n",
    "            \n",
    "        #numericalize texts ['<SOS>','cat', 'in', 'a', 'bag','<EOS>'] -> [1,12,2,9,24,2]\n",
    "        numerialized_source = [self.source_vocab.stoi[\"<SOS>\"]]\n",
    "        numerialized_source += self.source_vocab.numericalize(source_text)\n",
    "        numerialized_source.append(self.source_vocab.stoi[\"<EOS>\"])\n",
    "        \n",
    "        #convert the list to tensor and return\n",
    "        return torch.tensor(numerialized_source), torch.tensor(self.df.y[index])"
   ]
  },
  {
   "cell_type": "code",
   "execution_count": 83,
   "id": "9271badd",
   "metadata": {},
   "outputs": [
    {
     "data": {
      "text/html": [
       "<div>\n",
       "<style scoped>\n",
       "    .dataframe tbody tr th:only-of-type {\n",
       "        vertical-align: middle;\n",
       "    }\n",
       "\n",
       "    .dataframe tbody tr th {\n",
       "        vertical-align: top;\n",
       "    }\n",
       "\n",
       "    .dataframe thead th {\n",
       "        text-align: right;\n",
       "    }\n",
       "</style>\n",
       "<table border=\"1\" class=\"dataframe\">\n",
       "  <thead>\n",
       "    <tr style=\"text-align: right;\">\n",
       "      <th></th>\n",
       "      <th>id</th>\n",
       "      <th>name</th>\n",
       "      <th>email</th>\n",
       "      <th>aspect</th>\n",
       "      <th>comments</th>\n",
       "      <th>rating</th>\n",
       "      <th>Unnamed: 6</th>\n",
       "      <th>sentiment</th>\n",
       "      <th>y</th>\n",
       "      <th>clean_review</th>\n",
       "      <th>clean_review2</th>\n",
       "    </tr>\n",
       "  </thead>\n",
       "  <tbody>\n",
       "    <tr>\n",
       "      <th>0</th>\n",
       "      <td>1</td>\n",
       "      <td>Yenugu Poojitha</td>\n",
       "      <td>yenugupoojithareddy3107@gmail.com</td>\n",
       "      <td>service</td>\n",
       "      <td>The tourist place had provided good services</td>\n",
       "      <td>4</td>\n",
       "      <td>NaN</td>\n",
       "      <td>Good</td>\n",
       "      <td>1</td>\n",
       "      <td>tourist place provide good service</td>\n",
       "      <td>[tourist, place, provide, good, service]</td>\n",
       "    </tr>\n",
       "    <tr>\n",
       "      <th>1</th>\n",
       "      <td>2</td>\n",
       "      <td>chitra</td>\n",
       "      <td>chitra123@gmail.com</td>\n",
       "      <td>food</td>\n",
       "      <td>The food given in the restaurant was delicious...</td>\n",
       "      <td>5</td>\n",
       "      <td>NaN</td>\n",
       "      <td>Excellent</td>\n",
       "      <td>3</td>\n",
       "      <td>food give restaurant delicious I find enjoyable</td>\n",
       "      <td>[food, give, restaurant, delicious, i, find, e...</td>\n",
       "    </tr>\n",
       "    <tr>\n",
       "      <th>2</th>\n",
       "      <td>3</td>\n",
       "      <td>saaket</td>\n",
       "      <td>saaket123@gmail.com</td>\n",
       "      <td>ambience</td>\n",
       "      <td>The relaxed ambience of Thrissur was popular w...</td>\n",
       "      <td>3</td>\n",
       "      <td>NaN</td>\n",
       "      <td>Good</td>\n",
       "      <td>1</td>\n",
       "      <td>relaxed ambience thrissur popular temple</td>\n",
       "      <td>[relaxed, ambience, thrissur, popular, temple]</td>\n",
       "    </tr>\n",
       "    <tr>\n",
       "      <th>3</th>\n",
       "      <td>4</td>\n",
       "      <td>sravani</td>\n",
       "      <td>sravani18@gmail.com</td>\n",
       "      <td>food</td>\n",
       "      <td>The historical prestige and the hotel ambience...</td>\n",
       "      <td>4</td>\n",
       "      <td>NaN</td>\n",
       "      <td>Excellent</td>\n",
       "      <td>3</td>\n",
       "      <td>historical prestige hotel ambience good servic...</td>\n",
       "      <td>[historical, prestige, hotel, ambience, good, ...</td>\n",
       "    </tr>\n",
       "    <tr>\n",
       "      <th>4</th>\n",
       "      <td>5</td>\n",
       "      <td>rishikesh</td>\n",
       "      <td>rishikesh31@gmail.com</td>\n",
       "      <td>service</td>\n",
       "      <td>Hotel services were good</td>\n",
       "      <td>3</td>\n",
       "      <td>NaN</td>\n",
       "      <td>Very Good</td>\n",
       "      <td>2</td>\n",
       "      <td>hotel service good</td>\n",
       "      <td>[hotel, service, good]</td>\n",
       "    </tr>\n",
       "  </tbody>\n",
       "</table>\n",
       "</div>"
      ],
      "text/plain": [
       "   id             name                              email    aspect  \\\n",
       "0   1  Yenugu Poojitha  yenugupoojithareddy3107@gmail.com   service   \n",
       "1   2           chitra                chitra123@gmail.com      food   \n",
       "2   3           saaket                saaket123@gmail.com  ambience   \n",
       "3   4          sravani                sravani18@gmail.com      food   \n",
       "4   5        rishikesh              rishikesh31@gmail.com   service   \n",
       "\n",
       "                                            comments  rating Unnamed: 6  \\\n",
       "0       The tourist place had provided good services       4        NaN   \n",
       "1  The food given in the restaurant was delicious...       5        NaN   \n",
       "2  The relaxed ambience of Thrissur was popular w...       3        NaN   \n",
       "3  The historical prestige and the hotel ambience...       4        NaN   \n",
       "4                           Hotel services were good       3        NaN   \n",
       "\n",
       "   sentiment  y                                       clean_review  \\\n",
       "0       Good  1                 tourist place provide good service   \n",
       "1  Excellent  3    food give restaurant delicious I find enjoyable   \n",
       "2       Good  1           relaxed ambience thrissur popular temple   \n",
       "3  Excellent  3  historical prestige hotel ambience good servic...   \n",
       "4  Very Good  2                                 hotel service good   \n",
       "\n",
       "                                       clean_review2  \n",
       "0           [tourist, place, provide, good, service]  \n",
       "1  [food, give, restaurant, delicious, i, find, e...  \n",
       "2     [relaxed, ambience, thrissur, popular, temple]  \n",
       "3  [historical, prestige, hotel, ambience, good, ...  \n",
       "4                             [hotel, service, good]  "
      ]
     },
     "execution_count": 83,
     "metadata": {},
     "output_type": "execute_result"
    }
   ],
   "source": [
    "df.head()"
   ]
  },
  {
   "cell_type": "code",
   "execution_count": 84,
   "id": "0d7df032",
   "metadata": {},
   "outputs": [
    {
     "data": {
      "text/plain": [
       "5"
      ]
     },
     "execution_count": 84,
     "metadata": {},
     "output_type": "execute_result"
    }
   ],
   "source": [
    "dataset = CustomDataset(df, \"clean_review\")\n",
    "len(dataset.source_vocab.stoi)"
   ]
  },
  {
   "cell_type": "code",
   "execution_count": 85,
   "id": "556ffd16",
   "metadata": {},
   "outputs": [],
   "source": [
    "import pickle\n",
    "with open('dataset-new', 'wb') as dataset_file:\n",
    "  # Step 3\n",
    "    pickle.dump(dataset, dataset_file, pickle.HIGHEST_PROTOCOL)\n",
    "# import pickle"
   ]
  },
  {
   "cell_type": "code",
   "execution_count": 86,
   "id": "cd436104",
   "metadata": {},
   "outputs": [],
   "source": [
    "def get_emb_layer_with_weights(target_vocab, emb_model, trainable = False):\n",
    "    weights_matrix = np.zeros((len(target_vocab), config.EMB_DIM))\n",
    "    words_found = 0\n",
    "    for i, word in enumerate(target_vocab):\n",
    "        weights_matrix[i] = np.concatenate([emb_model.wv[word]])\n",
    "        words_found += 1\n",
    "    print(f\"Words found are : {words_found}\")\n",
    "    weights_matrix = torch.tensor(weights_matrix, dtype = torch.float32).reshape(len(target_vocab), config.EMB_DIM)\n",
    "    emb_layer = nn.Embedding.from_pretrained(weights_matrix)\n",
    "    print(emb_layer)\n",
    "    if trainable:\n",
    "        emb_layer.weight.requires_grad = True\n",
    "    else:\n",
    "        emb_layer.weight.requires_grad = False\n",
    "    return emb_layer"
   ]
  },
  {
   "cell_type": "code",
   "execution_count": 87,
   "id": "a76a6a52",
   "metadata": {},
   "outputs": [],
   "source": [
    "class MyCollate:\n",
    "    def __init__(self, pad_idx, maxlen):\n",
    "        self.pad_idx = pad_idx\n",
    "        self.maxlen = maxlen\n",
    "    #__call__: a default method\n",
    "    ##   First the obj is created using MyCollate(pad_idx) in data loader\n",
    "    ##   Then if obj(batch) is called -> __call__ runs by default\n",
    "    def __call__(self, batch):\n",
    "        #get all source indexed sentences of the batch\n",
    "        source = [item[0] for item in batch] \n",
    "        #pad them using pad_sequence method from pytorch. \n",
    "#         source = pad_sequence(source, batch_first=False, padding_value = self.pad_idx)\n",
    "        padded_sequence = torch.zeros((self.maxlen, len(batch)), dtype = torch.int)\n",
    "        for idx, text in enumerate(source):\n",
    "            if len(text) > self.maxlen:\n",
    "                padded_sequence[:, idx] = source[idx][: self.maxlen]\n",
    "            else:\n",
    "                padded_sequence[:len(source[idx]), idx] = padded_sequence[:len(source[idx]), idx] + source[idx]\n",
    "        #get all target indexed sentences of the batch\n",
    "        target = [item[1] for item in batch] \n",
    "        target = torch.tensor(target, dtype = torch.float32).reshape(-1)\n",
    "        return padded_sequence, target"
   ]
  },
  {
   "cell_type": "code",
   "execution_count": 88,
   "id": "b949891f",
   "metadata": {},
   "outputs": [],
   "source": [
    "class Model(nn.Module):\n",
    "    def __init__(self, input_dim, embedding_dim, hidden_dim, output_dim, embedding_layer):\n",
    "        super().__init__()\n",
    "#         self.embedding = nn.Embedding(input_dim, embedding_dim)\n",
    "        self.hidden_dim = hidden_dim\n",
    "        self.embedding = embedding_layer\n",
    "        self.lstm = nn.LSTM(embedding_dim, hidden_dim, bidirectional = True)\n",
    "        self.fc1 = nn.Linear(2*hidden_dim, 128)\n",
    "        self.fc2 = nn.Linear(128, output_dim)\n",
    "        self.dropout = nn.Dropout(0.3)\n",
    "        self.sigmoid = nn.Sigmoid()\n",
    "\n",
    "\n",
    "        \n",
    "    def forward(self, text):\n",
    "        \n",
    "        max_len, N = text.shape\n",
    "        hidden = torch.zeros((2, N , self.hidden_dim),\n",
    "                          dtype=torch.float)\n",
    "        memory = torch.zeros((2, N , self.hidden_dim),\n",
    "                          dtype=torch.float)\n",
    "        hidden = hidden.to(config.DEVICE)\n",
    "        memory = memory.to(config.DEVICE)\n",
    "        embedded = self.embedding(text)\n",
    "        output, hidden = self.lstm(embedded, (hidden, memory))\n",
    "#         assert torch.equal(output[-1,:,:], hidden.squeeze(0))\n",
    "        y_pred = output[-1,:,:]\n",
    "        y_pred = self.fc1(y_pred)\n",
    "        y_pred = self.fc2(y_pred)\n",
    "        y_pred = self.sigmoid(y_pred)\n",
    "                         \n",
    "        return y_pred  "
   ]
  },
  {
   "cell_type": "code",
   "execution_count": 89,
   "id": "78260283",
   "metadata": {},
   "outputs": [],
   "source": [
    "def train_epochs(dataloader,model, loss_fn, optimizer):\n",
    "    train_correct = 0\n",
    "    train_loss = 0\n",
    "    \n",
    "    model.train()\n",
    "\n",
    "    for review, label in tqdm(dataloader):\n",
    "        \n",
    "        review, label = review.to(config.DEVICE), label.to(config.DEVICE)\n",
    "        optimizer.zero_grad()\n",
    "        output = model(review)\n",
    "        output = output.reshape(-1)\n",
    "        loss = loss_fn(output, label)\n",
    "        loss.backward()\n",
    "        optimizer.step()\n",
    "        \n",
    "        train_loss += loss.item()*review.size(1)\n",
    "        prediction = (output > 0.5).float()\n",
    "        train_correct += (prediction == label).float().sum()\n",
    "        \n",
    "    return train_loss, train_correct"
   ]
  },
  {
   "cell_type": "code",
   "execution_count": 90,
   "id": "b75d27ac",
   "metadata": {},
   "outputs": [],
   "source": [
    "def val_epochs(dataloader, model, loss_fn):\n",
    "    val_correct = 0\n",
    "    val_loss = 0\n",
    "    \n",
    "    model.eval()\n",
    "#     hidden = model.init_hidden(config.BATCH_SIZE)\n",
    "\n",
    "    for review, label in dataloader:\n",
    "        \n",
    "        review, label = review.to(config.DEVICE), label.to(config.DEVICE)\n",
    "        \n",
    "        output = model(review)\n",
    "        output = output.reshape(-1)\n",
    "\n",
    "        loss = loss_fn(output, label)\n",
    "        \n",
    "        val_loss += loss.item()*review.size(1)\n",
    "        prediction = (output > 0.5).float()\n",
    "        val_correct += (prediction == label).float().sum()\n",
    "#         prediction = \n",
    "    return val_loss, val_correct"
   ]
  },
  {
   "cell_type": "code",
   "execution_count": 91,
   "id": "3e89dc88",
   "metadata": {},
   "outputs": [
    {
     "name": "stdout",
     "output_type": "stream",
     "text": [
      "Words found are : 5\n",
      "Embedding(5, 100)\n",
      "-----------------------------------------------------------0-fold of the model-----------------------------------------------------------\n"
     ]
    },
    {
     "name": "stderr",
     "output_type": "stream",
     "text": [
      "100%|████████████████████████████████████████████████████████████████████████████████████| 1/1 [00:00<00:00,  2.72it/s]\n"
     ]
    },
    {
     "name": "stdout",
     "output_type": "stream",
     "text": [
      "| Train Loss : 0.7323698401451111 |  Val Loss : 0.5827159881591797 | Train Acc : 0.0 | Val Acc : 50.0 |\n"
     ]
    },
    {
     "name": "stderr",
     "output_type": "stream",
     "text": [
      "100%|████████████████████████████████████████████████████████████████████████████████████| 1/1 [00:00<00:00, 58.83it/s]\n"
     ]
    },
    {
     "name": "stdout",
     "output_type": "stream",
     "text": [
      "| Train Loss : 0.6382745504379272 |  Val Loss : 0.40366214513778687 | Train Acc : 25.0 | Val Acc : 50.0 |\n"
     ]
    },
    {
     "name": "stderr",
     "output_type": "stream",
     "text": [
      "100%|███████████████████████████████████████████████████████████████████████████████████| 1/1 [00:00<00:00, 101.10it/s]\n"
     ]
    },
    {
     "name": "stdout",
     "output_type": "stream",
     "text": [
      "| Train Loss : 0.5508065223693848 |  Val Loss : 0.23165717720985413 | Train Acc : 25.0 | Val Acc : 50.0 |\n"
     ]
    },
    {
     "name": "stderr",
     "output_type": "stream",
     "text": [
      "100%|████████████████████████████████████████████████████████████████████████████████████| 1/1 [00:00<00:00, 95.74it/s]\n"
     ]
    },
    {
     "name": "stdout",
     "output_type": "stream",
     "text": [
      "| Train Loss : 0.46861544251441956 |  Val Loss : 0.06481888890266418 | Train Acc : 25.0 | Val Acc : 50.0 |\n"
     ]
    },
    {
     "name": "stderr",
     "output_type": "stream",
     "text": [
      "100%|███████████████████████████████████████████████████████████████████████████████████| 1/1 [00:00<00:00, 107.08it/s]\n"
     ]
    },
    {
     "name": "stdout",
     "output_type": "stream",
     "text": [
      "| Train Loss : 0.39069074392318726 |  Val Loss : -0.09832806885242462 | Train Acc : 25.0 | Val Acc : 50.0 |\n"
     ]
    },
    {
     "name": "stderr",
     "output_type": "stream",
     "text": [
      "100%|████████████████████████████████████████████████████████████████████████████████████| 1/1 [00:00<00:00, 99.88it/s]\n"
     ]
    },
    {
     "name": "stdout",
     "output_type": "stream",
     "text": [
      "| Train Loss : 0.31627050042152405 |  Val Loss : -0.2589540481567383 | Train Acc : 25.0 | Val Acc : 50.0 |\n"
     ]
    },
    {
     "name": "stderr",
     "output_type": "stream",
     "text": [
      "100%|████████████████████████████████████████████████████████████████████████████████████| 1/1 [00:00<00:00, 90.45it/s]\n"
     ]
    },
    {
     "name": "stdout",
     "output_type": "stream",
     "text": [
      "| Train Loss : 0.2447759509086609 |  Val Loss : -0.41799837350845337 | Train Acc : 25.0 | Val Acc : 50.0 |\n"
     ]
    },
    {
     "name": "stderr",
     "output_type": "stream",
     "text": [
      "100%|███████████████████████████████████████████████████████████████████████████████████| 1/1 [00:00<00:00, 103.64it/s]\n"
     ]
    },
    {
     "name": "stdout",
     "output_type": "stream",
     "text": [
      "| Train Loss : 0.1757649928331375 |  Val Loss : -0.5762266516685486 | Train Acc : 25.0 | Val Acc : 50.0 |\n"
     ]
    },
    {
     "name": "stderr",
     "output_type": "stream",
     "text": [
      "100%|████████████████████████████████████████████████████████████████████████████████████| 1/1 [00:00<00:00, 87.08it/s]"
     ]
    },
    {
     "name": "stdout",
     "output_type": "stream",
     "text": [
      "| Train Loss : 0.10889674723148346 |"
     ]
    },
    {
     "name": "stderr",
     "output_type": "stream",
     "text": [
      "\n"
     ]
    },
    {
     "name": "stdout",
     "output_type": "stream",
     "text": [
      "  Val Loss : -0.734272837638855 | Train Acc : 25.0 | Val Acc : 50.0 |\n"
     ]
    },
    {
     "name": "stderr",
     "output_type": "stream",
     "text": [
      "100%|███████████████████████████████████████████████████████████████████████████████████| 1/1 [00:00<00:00, 109.11it/s]\n"
     ]
    },
    {
     "name": "stdout",
     "output_type": "stream",
     "text": [
      "| Train Loss : 0.04390376806259155 |  Val Loss : -0.8926792144775391 | Train Acc : 25.0 | Val Acc : 50.0 |\n"
     ]
    },
    {
     "name": "stderr",
     "output_type": "stream",
     "text": [
      "100%|████████████████████████████████████████████████████████████████████████████████████| 1/1 [00:00<00:00, 87.12it/s]\n"
     ]
    },
    {
     "name": "stdout",
     "output_type": "stream",
     "text": [
      "| Train Loss : -0.019430339336395264 |  Val Loss : -1.0519236326217651 | Train Acc : 25.0 | Val Acc : 50.0 |\n"
     ]
    },
    {
     "name": "stderr",
     "output_type": "stream",
     "text": [
      "100%|████████████████████████████████████████████████████████████████████████████████████| 1/1 [00:00<00:00, 99.91it/s]\n"
     ]
    },
    {
     "name": "stdout",
     "output_type": "stream",
     "text": [
      "| Train Loss : -0.08128762245178223 |  Val Loss : -1.2124508619308472 | Train Acc : 25.0 | Val Acc : 50.0 |\n"
     ]
    },
    {
     "name": "stderr",
     "output_type": "stream",
     "text": [
      "100%|████████████████████████████████████████████████████████████████████████████████████| 1/1 [00:00<00:00, 90.89it/s]\n"
     ]
    },
    {
     "name": "stdout",
     "output_type": "stream",
     "text": [
      "| Train Loss : -0.1418331265449524 |  Val Loss : -1.3746960163116455 | Train Acc : 25.0 | Val Acc : 50.0 |\n"
     ]
    },
    {
     "name": "stderr",
     "output_type": "stream",
     "text": [
      "100%|████████████████████████████████████████████████████████████████████████████████████| 1/1 [00:00<00:00, 99.64it/s]\n"
     ]
    },
    {
     "name": "stdout",
     "output_type": "stream",
     "text": [
      "| Train Loss : -0.2012253999710083 |  Val Loss : -1.539108395576477 | Train Acc : 25.0 | Val Acc : 50.0 |\n"
     ]
    },
    {
     "name": "stderr",
     "output_type": "stream",
     "text": [
      "100%|███████████████████████████████████████████████████████████████████████████████████| 1/1 [00:00<00:00, 107.41it/s]\n"
     ]
    },
    {
     "name": "stdout",
     "output_type": "stream",
     "text": [
      "| Train Loss : -0.2596279978752136 |  Val Loss : -1.7061738967895508 | Train Acc : 25.0 | Val Acc : 50.0 |\n"
     ]
    },
    {
     "name": "stderr",
     "output_type": "stream",
     "text": [
      "100%|████████████████████████████████████████████████████████████████████████████████████| 1/1 [00:00<00:00, 92.27it/s]\n"
     ]
    },
    {
     "name": "stdout",
     "output_type": "stream",
     "text": [
      "| Train Loss : -0.31721436977386475 |  Val Loss : -1.8764301538467407 | Train Acc : 25.0 | Val Acc : 50.0 |\n"
     ]
    },
    {
     "name": "stderr",
     "output_type": "stream",
     "text": [
      "100%|███████████████████████████████████████████████████████████████████████████████████| 1/1 [00:00<00:00, 103.46it/s]\n"
     ]
    },
    {
     "name": "stdout",
     "output_type": "stream",
     "text": [
      "| Train Loss : -0.3741788864135742 |  Val Loss : -2.050494432449341 | Train Acc : 25.0 | Val Acc : 50.0 |\n"
     ]
    },
    {
     "name": "stderr",
     "output_type": "stream",
     "text": [
      "100%|███████████████████████████████████████████████████████████████████████████████████| 1/1 [00:00<00:00, 104.47it/s]\n"
     ]
    },
    {
     "name": "stdout",
     "output_type": "stream",
     "text": [
      "| Train Loss : -0.43073803186416626 |  Val Loss : -2.2290730476379395 | Train Acc : 25.0 | Val Acc : 50.0 |\n"
     ]
    },
    {
     "name": "stderr",
     "output_type": "stream",
     "text": [
      "100%|███████████████████████████████████████████████████████████████████████████████████| 1/1 [00:00<00:00, 111.04it/s]\n"
     ]
    },
    {
     "name": "stdout",
     "output_type": "stream",
     "text": [
      "| Train Loss : -0.4871358871459961 |  Val Loss : -2.412989854812622 | Train Acc : 25.0 | Val Acc : 50.0 |\n"
     ]
    },
    {
     "name": "stderr",
     "output_type": "stream",
     "text": [
      "100%|███████████████████████████████████████████████████████████████████████████████████| 1/1 [00:00<00:00, 118.16it/s]\n"
     ]
    },
    {
     "name": "stdout",
     "output_type": "stream",
     "text": [
      "| Train Loss : -0.5436483025550842 |  Val Loss : -2.603203058242798 | Train Acc : 25.0 | Val Acc : 50.0 |\n"
     ]
    },
    {
     "name": "stderr",
     "output_type": "stream",
     "text": [
      "100%|████████████████████████████████████████████████████████████████████████████████████| 1/1 [00:00<00:00, 87.01it/s]\n"
     ]
    },
    {
     "name": "stdout",
     "output_type": "stream",
     "text": [
      "| Train Loss : -0.6005876660346985 |  Val Loss : -2.8008320331573486 | Train Acc : 25.0 | Val Acc : 50.0 |\n"
     ]
    },
    {
     "name": "stderr",
     "output_type": "stream",
     "text": [
      "100%|████████████████████████████████████████████████████████████████████████████████████| 1/1 [00:00<00:00, 92.47it/s]\n"
     ]
    },
    {
     "name": "stdout",
     "output_type": "stream",
     "text": [
      "| Train Loss : -0.6583059430122375 |  Val Loss : -3.007192611694336 | Train Acc : 25.0 | Val Acc : 50.0 |\n"
     ]
    },
    {
     "name": "stderr",
     "output_type": "stream",
     "text": [
      "100%|████████████████████████████████████████████████████████████████████████████████████| 1/1 [00:00<00:00, 96.62it/s]\n"
     ]
    },
    {
     "name": "stdout",
     "output_type": "stream",
     "text": [
      "| Train Loss : -0.7172064781188965 |  Val Loss : -3.2238194942474365 | Train Acc : 25.0 | Val Acc : 50.0 |\n"
     ]
    },
    {
     "name": "stderr",
     "output_type": "stream",
     "text": [
      "100%|████████████████████████████████████████████████████████████████████████████████████| 1/1 [00:00<00:00, 81.87it/s]\n"
     ]
    },
    {
     "name": "stdout",
     "output_type": "stream",
     "text": [
      "| Train Loss : -0.7777422070503235 |  Val Loss : -3.4525349140167236 | Train Acc : 25.0 | Val Acc : 50.0 |\n"
     ]
    },
    {
     "name": "stderr",
     "output_type": "stream",
     "text": [
      "100%|███████████████████████████████████████████████████████████████████████████████████| 1/1 [00:00<00:00, 105.12it/s]\n"
     ]
    },
    {
     "name": "stdout",
     "output_type": "stream",
     "text": [
      "| Train Loss : -0.84043949842453 |  Val Loss : -3.6954970359802246 | Train Acc : 25.0 | Val Acc : 50.0 |\n"
     ]
    },
    {
     "name": "stderr",
     "output_type": "stream",
     "text": [
      "100%|███████████████████████████████████████████████████████████████████████████████████| 1/1 [00:00<00:00, 100.00it/s]\n"
     ]
    },
    {
     "name": "stdout",
     "output_type": "stream",
     "text": [
      "| Train Loss : -0.9059058427810669 |  Val Loss : -3.955277442932129 | Train Acc : 25.0 | Val Acc : 50.0 |\n"
     ]
    },
    {
     "name": "stderr",
     "output_type": "stream",
     "text": [
      "100%|███████████████████████████████████████████████████████████████████████████████████| 1/1 [00:00<00:00, 104.52it/s]\n"
     ]
    },
    {
     "name": "stdout",
     "output_type": "stream",
     "text": [
      "| Train Loss : -0.9748502373695374 |  Val Loss : -4.234954357147217 | Train Acc : 25.0 | Val Acc : 50.0 |\n"
     ]
    },
    {
     "name": "stderr",
     "output_type": "stream",
     "text": [
      "100%|███████████████████████████████████████████████████████████████████████████████████| 1/1 [00:00<00:00, 100.00it/s]\n"
     ]
    },
    {
     "name": "stdout",
     "output_type": "stream",
     "text": [
      "| Train Loss : -1.0481024980545044 |  Val Loss : -4.538257598876953 | Train Acc : 25.0 | Val Acc : 50.0 |\n"
     ]
    },
    {
     "name": "stderr",
     "output_type": "stream",
     "text": [
      "100%|████████████████████████████████████████████████████████████████████████████████████| 1/1 [00:00<00:00, 99.98it/s]\n"
     ]
    },
    {
     "name": "stdout",
     "output_type": "stream",
     "text": [
      "| Train Loss : -1.1266711950302124 |  Val Loss : -4.869752883911133 | Train Acc : 25.0 | Val Acc : 50.0 |\n"
     ]
    },
    {
     "name": "stderr",
     "output_type": "stream",
     "text": [
      "100%|███████████████████████████████████████████████████████████████████████████████████| 1/1 [00:00<00:00, 101.39it/s]\n"
     ]
    },
    {
     "name": "stdout",
     "output_type": "stream",
     "text": [
      "| Train Loss : -1.2117469310760498 |  Val Loss : -5.235053062438965 | Train Acc : 25.0 | Val Acc : 50.0 |\n",
      "Words found are : 5\n",
      "Embedding(5, 100)\n",
      "-----------------------------------------------------------1-fold of the model-----------------------------------------------------------\n"
     ]
    },
    {
     "name": "stderr",
     "output_type": "stream",
     "text": [
      "100%|████████████████████████████████████████████████████████████████████████████████████| 1/1 [00:00<00:00, 62.14it/s]\n"
     ]
    },
    {
     "name": "stdout",
     "output_type": "stream",
     "text": [
      "| Train Loss : 0.5897409319877625 |  Val Loss : 0.5686955451965332 | Train Acc : 20.0 | Val Acc : 100.0 |\n"
     ]
    },
    {
     "name": "stderr",
     "output_type": "stream",
     "text": [
      "100%|████████████████████████████████████████████████████████████████████████████████████| 1/1 [00:00<00:00, 85.09it/s]\n"
     ]
    },
    {
     "name": "stdout",
     "output_type": "stream",
     "text": [
      "| Train Loss : 0.40872201323509216 |  Val Loss : 0.49931055307388306 | Train Acc : 20.0 | Val Acc : 100.0 |\n"
     ]
    },
    {
     "name": "stderr",
     "output_type": "stream",
     "text": [
      "100%|████████████████████████████████████████████████████████████████████████████████████| 1/1 [00:00<00:00, 86.43it/s]\n"
     ]
    },
    {
     "name": "stdout",
     "output_type": "stream",
     "text": [
      "| Train Loss : 0.23860755562782288 |  Val Loss : 0.4367191791534424 | Train Acc : 20.0 | Val Acc : 100.0 |\n"
     ]
    },
    {
     "name": "stderr",
     "output_type": "stream",
     "text": [
      "100%|████████████████████████████████████████████████████████████████████████████████████| 1/1 [00:00<00:00, 86.55it/s]\n"
     ]
    },
    {
     "name": "stdout",
     "output_type": "stream",
     "text": [
      "| Train Loss : 0.07541708648204803 |  Val Loss : 0.379681795835495 | Train Acc : 20.0 | Val Acc : 100.0 |\n"
     ]
    },
    {
     "name": "stderr",
     "output_type": "stream",
     "text": [
      "100%|████████████████████████████████████████████████████████████████████████████████████| 1/1 [00:00<00:00, 60.10it/s]\n"
     ]
    },
    {
     "name": "stdout",
     "output_type": "stream",
     "text": [
      "| Train Loss : -0.08386670053005219 |  Val Loss : 0.3274005353450775 | Train Acc : 20.0 | Val Acc : 100.0 |\n"
     ]
    },
    {
     "name": "stderr",
     "output_type": "stream",
     "text": [
      "100%|████████████████████████████████████████████████████████████████████████████████████| 1/1 [00:00<00:00, 51.72it/s]\n"
     ]
    },
    {
     "name": "stdout",
     "output_type": "stream",
     "text": [
      "| Train Loss : -0.24164393544197083 |  Val Loss : 0.27939072251319885 | Train Acc : 20.0 | Val Acc : 100.0 |\n"
     ]
    },
    {
     "name": "stderr",
     "output_type": "stream",
     "text": [
      "100%|████████████████████████████████████████████████████████████████████████████████████| 1/1 [00:00<00:00, 76.55it/s]\n"
     ]
    },
    {
     "name": "stdout",
     "output_type": "stream",
     "text": [
      "| Train Loss : -0.39992767572402954 |  Val Loss : 0.2353895604610443 | Train Acc : 20.0 | Val Acc : 100.0 |\n"
     ]
    },
    {
     "name": "stderr",
     "output_type": "stream",
     "text": [
      "100%|████████████████████████████████████████████████████████████████████████████████████| 1/1 [00:00<00:00, 78.12it/s]\n"
     ]
    },
    {
     "name": "stdout",
     "output_type": "stream",
     "text": [
      "| Train Loss : -0.5605164766311646 |  Val Loss : 0.195287823677063 | Train Acc : 20.0 | Val Acc : 100.0 |\n"
     ]
    },
    {
     "name": "stderr",
     "output_type": "stream",
     "text": [
      "100%|████████████████████████████████████████████████████████████████████████████████████| 1/1 [00:00<00:00, 97.44it/s]\n"
     ]
    },
    {
     "name": "stdout",
     "output_type": "stream",
     "text": [
      "| Train Loss : -0.725140392780304 |  Val Loss : 0.1590735912322998 | Train Acc : 20.0 | Val Acc : 100.0 |\n"
     ]
    },
    {
     "name": "stderr",
     "output_type": "stream",
     "text": [
      "100%|████████████████████████████████████████████████████████████████████████████████████| 1/1 [00:00<00:00, 75.87it/s]\n"
     ]
    },
    {
     "name": "stdout",
     "output_type": "stream",
     "text": [
      "| Train Loss : -0.8956043124198914 |  Val Loss : 0.1267828494310379 | Train Acc : 20.0 | Val Acc : 100.0 |\n"
     ]
    },
    {
     "name": "stderr",
     "output_type": "stream",
     "text": [
      "100%|████████████████████████████████████████████████████████████████████████████████████| 1/1 [00:00<00:00, 80.49it/s]\n"
     ]
    },
    {
     "name": "stdout",
     "output_type": "stream",
     "text": [
      "| Train Loss : -1.0739473104476929 |  Val Loss : 0.09845861792564392 | Train Acc : 20.0 | Val Acc : 100.0 |\n"
     ]
    },
    {
     "name": "stderr",
     "output_type": "stream",
     "text": [
      "100%|████████████████████████████████████████████████████████████████████████████████████| 1/1 [00:00<00:00, 83.31it/s]\n"
     ]
    },
    {
     "name": "stdout",
     "output_type": "stream",
     "text": [
      "| Train Loss : -1.262631893157959 |  Val Loss : 0.0741167962551117 | Train Acc : 20.0 | Val Acc : 100.0 |\n"
     ]
    },
    {
     "name": "stderr",
     "output_type": "stream",
     "text": [
      "100%|████████████████████████████████████████████████████████████████████████████████████| 1/1 [00:00<00:00, 76.10it/s]\n"
     ]
    },
    {
     "name": "stdout",
     "output_type": "stream",
     "text": [
      "| Train Loss : -1.4647772312164307 |  Val Loss : 0.05371945723891258 | Train Acc : 20.0 | Val Acc : 100.0 |\n"
     ]
    },
    {
     "name": "stderr",
     "output_type": "stream",
     "text": [
      "100%|████████████████████████████████████████████████████████████████████████████████████| 1/1 [00:00<00:00, 86.97it/s]\n"
     ]
    },
    {
     "name": "stdout",
     "output_type": "stream",
     "text": [
      "| Train Loss : -1.6844793558120728 |  Val Loss : 0.037155795842409134 | Train Acc : 20.0 | Val Acc : 100.0 |\n"
     ]
    },
    {
     "name": "stderr",
     "output_type": "stream",
     "text": [
      "100%|████████████████████████████████████████████████████████████████████████████████████| 1/1 [00:00<00:00, 87.62it/s]\n"
     ]
    },
    {
     "name": "stdout",
     "output_type": "stream",
     "text": [
      "| Train Loss : -1.927242636680603 |  Val Loss : 0.024227825924754143 | Train Acc : 20.0 | Val Acc : 100.0 |\n"
     ]
    },
    {
     "name": "stderr",
     "output_type": "stream",
     "text": [
      "100%|████████████████████████████████████████████████████████████████████████████████████| 1/1 [00:00<00:00, 92.11it/s]\n"
     ]
    },
    {
     "name": "stdout",
     "output_type": "stream",
     "text": [
      "| Train Loss : -2.200636863708496 |  Val Loss : 0.01464143581688404 | Train Acc : 20.0 | Val Acc : 100.0 |\n"
     ]
    },
    {
     "name": "stderr",
     "output_type": "stream",
     "text": [
      "100%|████████████████████████████████████████████████████████████████████████████████████| 1/1 [00:00<00:00, 93.69it/s]\n"
     ]
    },
    {
     "name": "stdout",
     "output_type": "stream",
     "text": [
      "| Train Loss : -2.5152974128723145 |  Val Loss : 0.007999742403626442 | Train Acc : 20.0 | Val Acc : 100.0 |\n"
     ]
    },
    {
     "name": "stderr",
     "output_type": "stream",
     "text": [
      "100%|████████████████████████████████████████████████████████████████████████████████████| 1/1 [00:00<00:00, 84.48it/s]\n"
     ]
    },
    {
     "name": "stdout",
     "output_type": "stream",
     "text": [
      "| Train Loss : -2.8866002559661865 |  Val Loss : 0.00380721315741539 | Train Acc : 20.0 | Val Acc : 100.0 |\n"
     ]
    },
    {
     "name": "stderr",
     "output_type": "stream",
     "text": [
      "100%|████████████████████████████████████████████████████████████████████████████████████| 1/1 [00:00<00:00, 89.75it/s]\n"
     ]
    },
    {
     "name": "stdout",
     "output_type": "stream",
     "text": [
      "| Train Loss : -3.3375518321990967 |  Val Loss : 0.0014879442751407623 | Train Acc : 20.0 | Val Acc : 100.0 |\n"
     ]
    },
    {
     "name": "stderr",
     "output_type": "stream",
     "text": [
      "100%|████████████████████████████████████████████████████████████████████████████████████| 1/1 [00:00<00:00, 89.53it/s]\n"
     ]
    },
    {
     "name": "stdout",
     "output_type": "stream",
     "text": [
      "| Train Loss : -3.9042811393737793 |  Val Loss : 0.0004325252375565469 | Train Acc : 20.0 | Val Acc : 100.0 |\n"
     ]
    },
    {
     "name": "stderr",
     "output_type": "stream",
     "text": [
      "100%|████████████████████████████████████████████████████████████████████████████████████| 1/1 [00:00<00:00, 88.32it/s]\n"
     ]
    },
    {
     "name": "stdout",
     "output_type": "stream",
     "text": [
      "| Train Loss : -4.6469597816467285 |  Val Loss : 7.808513328200206e-05 | Train Acc : 20.0 | Val Acc : 100.0 |\n"
     ]
    },
    {
     "name": "stderr",
     "output_type": "stream",
     "text": [
      "100%|███████████████████████████████████████████████████████████████████████████████████| 1/1 [00:00<00:00, 101.10it/s]"
     ]
    },
    {
     "name": "stdout",
     "output_type": "stream",
     "text": [
      "| Train Loss : -5.674525260925293 |"
     ]
    },
    {
     "name": "stderr",
     "output_type": "stream",
     "text": [
      "\n"
     ]
    },
    {
     "name": "stdout",
     "output_type": "stream",
     "text": [
      "  Val Loss : 6.07969241173123e-06 | Train Acc : 20.0 | Val Acc : 100.0 |\n"
     ]
    },
    {
     "name": "stderr",
     "output_type": "stream",
     "text": [
      "100%|████████████████████████████████████████████████████████████████████████████████████| 1/1 [00:00<00:00, 87.78it/s]\n"
     ]
    },
    {
     "name": "stdout",
     "output_type": "stream",
     "text": [
      "| Train Loss : -7.206324577331543 |  Val Loss : 1.1920930376163597e-07 | Train Acc : 20.0 | Val Acc : 100.0 |\n"
     ]
    },
    {
     "name": "stderr",
     "output_type": "stream",
     "text": [
      "100%|████████████████████████████████████████████████████████████████████████████████████| 1/1 [00:00<00:00, 84.39it/s]\n"
     ]
    },
    {
     "name": "stdout",
     "output_type": "stream",
     "text": [
      "| Train Loss : -9.565431594848633 |  Val Loss : 0.0 | Train Acc : 20.0 | Val Acc : 100.0 |\n"
     ]
    },
    {
     "name": "stderr",
     "output_type": "stream",
     "text": [
      "100%|████████████████████████████████████████████████████████████████████████████████████| 1/1 [00:00<00:00, 78.68it/s]\n"
     ]
    },
    {
     "name": "stdout",
     "output_type": "stream",
     "text": [
      "| Train Loss : -60.0 |  Val Loss : 0.0 | Train Acc : 20.0 | Val Acc : 100.0 |\n"
     ]
    },
    {
     "name": "stderr",
     "output_type": "stream",
     "text": [
      "100%|████████████████████████████████████████████████████████████████████████████████████| 1/1 [00:00<00:00, 82.44it/s]\n"
     ]
    },
    {
     "name": "stdout",
     "output_type": "stream",
     "text": [
      "| Train Loss : -60.0 |  Val Loss : 0.0 | Train Acc : 20.0 | Val Acc : 100.0 |\n"
     ]
    },
    {
     "name": "stderr",
     "output_type": "stream",
     "text": [
      "100%|████████████████████████████████████████████████████████████████████████████████████| 1/1 [00:00<00:00, 88.12it/s]\n"
     ]
    },
    {
     "name": "stdout",
     "output_type": "stream",
     "text": [
      "| Train Loss : -60.0 |  Val Loss : 0.0 | Train Acc : 20.0 | Val Acc : 100.0 |\n"
     ]
    },
    {
     "name": "stderr",
     "output_type": "stream",
     "text": [
      "100%|████████████████████████████████████████████████████████████████████████████████████| 1/1 [00:00<00:00, 89.20it/s]\n"
     ]
    },
    {
     "name": "stdout",
     "output_type": "stream",
     "text": [
      "| Train Loss : -60.0 |  Val Loss : 0.0 | Train Acc : 20.0 | Val Acc : 100.0 |\n"
     ]
    },
    {
     "name": "stderr",
     "output_type": "stream",
     "text": [
      "100%|████████████████████████████████████████████████████████████████████████████████████| 1/1 [00:00<00:00, 90.91it/s]\n"
     ]
    },
    {
     "name": "stdout",
     "output_type": "stream",
     "text": [
      "| Train Loss : -60.0 |  Val Loss : 0.0 | Train Acc : 20.0 | Val Acc : 100.0 |\n"
     ]
    },
    {
     "name": "stderr",
     "output_type": "stream",
     "text": [
      "100%|████████████████████████████████████████████████████████████████████████████████████| 1/1 [00:00<00:00, 93.00it/s]\n"
     ]
    },
    {
     "name": "stdout",
     "output_type": "stream",
     "text": [
      "| Train Loss : -60.0 |  Val Loss : 0.0 | Train Acc : 20.0 | Val Acc : 100.0 |\n",
      "Words found are : 5\n",
      "Embedding(5, 100)\n",
      "-----------------------------------------------------------2-fold of the model-----------------------------------------------------------\n"
     ]
    },
    {
     "name": "stderr",
     "output_type": "stream",
     "text": [
      "100%|████████████████████████████████████████████████████████████████████████████████████| 1/1 [00:00<00:00, 94.82it/s]\n"
     ]
    },
    {
     "name": "stdout",
     "output_type": "stream",
     "text": [
      "| Train Loss : 0.7715747356414795 |  Val Loss : 0.6531705856323242 | Train Acc : 0.0 | Val Acc : 0.0 |\n"
     ]
    },
    {
     "name": "stderr",
     "output_type": "stream",
     "text": [
      "100%|████████████████████████████████████████████████████████████████████████████████████| 1/1 [00:00<00:00, 80.38it/s]\n"
     ]
    },
    {
     "name": "stdout",
     "output_type": "stream",
     "text": [
      "| Train Loss : 0.6819769144058228 |  Val Loss : 0.35536980628967285 | Train Acc : 40.0 | Val Acc : 0.0 |\n"
     ]
    },
    {
     "name": "stderr",
     "output_type": "stream",
     "text": [
      "100%|████████████████████████████████████████████████████████████████████████████████████| 1/1 [00:00<00:00, 72.71it/s]\n"
     ]
    },
    {
     "name": "stdout",
     "output_type": "stream",
     "text": [
      "| Train Loss : 0.6002339124679565 |  Val Loss : 0.07118797302246094 | Train Acc : 40.0 | Val Acc : 0.0 |\n"
     ]
    },
    {
     "name": "stderr",
     "output_type": "stream",
     "text": [
      "100%|████████████████████████████████████████████████████████████████████████████████████| 1/1 [00:00<00:00, 90.69it/s]\n"
     ]
    },
    {
     "name": "stdout",
     "output_type": "stream",
     "text": [
      "| Train Loss : 0.5246968269348145 |  Val Loss : -0.203011155128479 | Train Acc : 40.0 | Val Acc : 0.0 |\n"
     ]
    },
    {
     "name": "stderr",
     "output_type": "stream",
     "text": [
      "100%|████████████████████████████████████████████████████████████████████████████████████| 1/1 [00:00<00:00, 74.46it/s]\n"
     ]
    },
    {
     "name": "stdout",
     "output_type": "stream",
     "text": [
      "| Train Loss : 0.45415329933166504 |  Val Loss : -0.4700429439544678 | Train Acc : 40.0 | Val Acc : 0.0 |\n"
     ]
    },
    {
     "name": "stderr",
     "output_type": "stream",
     "text": [
      "100%|████████████████████████████████████████████████████████████████████████████████████| 1/1 [00:00<00:00, 99.90it/s]\n"
     ]
    },
    {
     "name": "stdout",
     "output_type": "stream",
     "text": [
      "| Train Loss : 0.387700617313385 |  Val Loss : -0.7321165800094604 | Train Acc : 40.0 | Val Acc : 0.0 |\n"
     ]
    },
    {
     "name": "stderr",
     "output_type": "stream",
     "text": [
      "100%|████████████████████████████████████████████████████████████████████████████████████| 1/1 [00:00<00:00, 96.87it/s]\n"
     ]
    },
    {
     "name": "stdout",
     "output_type": "stream",
     "text": [
      "| Train Loss : 0.32465988397598267 |  Val Loss : -0.9909827709197998 | Train Acc : 40.0 | Val Acc : 0.0 |\n"
     ]
    },
    {
     "name": "stderr",
     "output_type": "stream",
     "text": [
      "100%|████████████████████████████████████████████████████████████████████████████████████| 1/1 [00:00<00:00, 96.17it/s]\n"
     ]
    },
    {
     "name": "stdout",
     "output_type": "stream",
     "text": [
      "| Train Loss : 0.26451706886291504 |  Val Loss : -1.248045802116394 | Train Acc : 40.0 | Val Acc : 0.0 |\n"
     ]
    },
    {
     "name": "stderr",
     "output_type": "stream",
     "text": [
      "100%|████████████████████████████████████████████████████████████████████████████████████| 1/1 [00:00<00:00, 91.42it/s]\n"
     ]
    },
    {
     "name": "stdout",
     "output_type": "stream",
     "text": [
      "| Train Loss : 0.20687976479530334 |  Val Loss : -1.5044376850128174 | Train Acc : 40.0 | Val Acc : 0.0 |\n"
     ]
    },
    {
     "name": "stderr",
     "output_type": "stream",
     "text": [
      "100%|████████████████████████████████████████████████████████████████████████████████████| 1/1 [00:00<00:00, 83.40it/s]\n"
     ]
    },
    {
     "name": "stdout",
     "output_type": "stream",
     "text": [
      "| Train Loss : 0.15144604444503784 |  Val Loss : -1.761086106300354 | Train Acc : 40.0 | Val Acc : 0.0 |\n"
     ]
    },
    {
     "name": "stderr",
     "output_type": "stream",
     "text": [
      "100%|████████████████████████████████████████████████████████████████████████████████████| 1/1 [00:00<00:00, 91.17it/s]\n"
     ]
    },
    {
     "name": "stdout",
     "output_type": "stream",
     "text": [
      "| Train Loss : 0.0979798212647438 |  Val Loss : -2.0187575817108154 | Train Acc : 40.0 | Val Acc : 0.0 |\n"
     ]
    },
    {
     "name": "stderr",
     "output_type": "stream",
     "text": [
      "100%|████████████████████████████████████████████████████████████████████████████████████| 1/1 [00:00<00:00, 78.89it/s]\n"
     ]
    },
    {
     "name": "stdout",
     "output_type": "stream",
     "text": [
      "| Train Loss : 0.046293485909700394 |  Val Loss : -2.278106689453125 | Train Acc : 40.0 | Val Acc : 0.0 |\n"
     ]
    },
    {
     "name": "stderr",
     "output_type": "stream",
     "text": [
      "100%|████████████████████████████████████████████████████████████████████████████████████| 1/1 [00:00<00:00, 90.86it/s]\n"
     ]
    },
    {
     "name": "stdout",
     "output_type": "stream",
     "text": [
      "| Train Loss : -0.0037690638564527035 |  Val Loss : -2.5397045612335205 | Train Acc : 40.0 | Val Acc : 0.0 |\n"
     ]
    },
    {
     "name": "stderr",
     "output_type": "stream",
     "text": [
      "100%|████████████████████████████████████████████████████████████████████████████████████| 1/1 [00:00<00:00, 88.07it/s]\n"
     ]
    },
    {
     "name": "stdout",
     "output_type": "stream",
     "text": [
      "| Train Loss : -0.05234215408563614 |  Val Loss : -2.804079532623291 | Train Acc : 40.0 | Val Acc : 0.0 |\n"
     ]
    },
    {
     "name": "stderr",
     "output_type": "stream",
     "text": [
      "100%|████████████████████████████████████████████████████████████████████████████████████| 1/1 [00:00<00:00, 97.86it/s]\n"
     ]
    },
    {
     "name": "stdout",
     "output_type": "stream",
     "text": [
      "| Train Loss : -0.09954772144556046 |  Val Loss : -3.071735143661499 | Train Acc : 40.0 | Val Acc : 0.0 |\n"
     ]
    },
    {
     "name": "stderr",
     "output_type": "stream",
     "text": [
      "100%|████████████████████████████████████████████████████████████████████████████████████| 1/1 [00:00<00:00, 83.35it/s]\n"
     ]
    },
    {
     "name": "stdout",
     "output_type": "stream",
     "text": [
      "| Train Loss : -0.1455034762620926 |  Val Loss : -3.34318208694458 | Train Acc : 40.0 | Val Acc : 0.0 |\n"
     ]
    },
    {
     "name": "stderr",
     "output_type": "stream",
     "text": [
      "100%|████████████████████████████████████████████████████████████████████████████████████| 1/1 [00:00<00:00, 90.65it/s]\n"
     ]
    },
    {
     "name": "stdout",
     "output_type": "stream",
     "text": [
      "| Train Loss : -0.19032613933086395 |  Val Loss : -3.618961811065674 | Train Acc : 40.0 | Val Acc : 0.0 |\n"
     ]
    },
    {
     "name": "stderr",
     "output_type": "stream",
     "text": [
      "100%|████████████████████████████████████████████████████████████████████████████████████| 1/1 [00:00<00:00, 83.38it/s]\n"
     ]
    },
    {
     "name": "stdout",
     "output_type": "stream",
     "text": [
      "| Train Loss : -0.23413877189159393 |  Val Loss : -3.899665355682373 | Train Acc : 40.0 | Val Acc : 0.0 |\n"
     ]
    },
    {
     "name": "stderr",
     "output_type": "stream",
     "text": [
      "100%|████████████████████████████████████████████████████████████████████████████████████| 1/1 [00:00<00:00, 54.64it/s]\n"
     ]
    },
    {
     "name": "stdout",
     "output_type": "stream",
     "text": [
      "| Train Loss : -0.2770693898200989 |  Val Loss : -4.185953140258789 | Train Acc : 40.0 | Val Acc : 0.0 |\n"
     ]
    },
    {
     "name": "stderr",
     "output_type": "stream",
     "text": [
      "100%|████████████████████████████████████████████████████████████████████████████████████| 1/1 [00:00<00:00, 90.58it/s]\n"
     ]
    },
    {
     "name": "stdout",
     "output_type": "stream",
     "text": [
      "| Train Loss : -0.31925541162490845 |  Val Loss : -4.478571891784668 | Train Acc : 40.0 | Val Acc : 0.0 |\n"
     ]
    },
    {
     "name": "stderr",
     "output_type": "stream",
     "text": [
      "100%|████████████████████████████████████████████████████████████████████████████████████| 1/1 [00:00<00:00, 94.72it/s]\n"
     ]
    },
    {
     "name": "stdout",
     "output_type": "stream",
     "text": [
      "| Train Loss : -0.36084383726119995 |  Val Loss : -4.778374671936035 | Train Acc : 40.0 | Val Acc : 0.0 |\n"
     ]
    },
    {
     "name": "stderr",
     "output_type": "stream",
     "text": [
      "100%|████████████████████████████████████████████████████████████████████████████████████| 1/1 [00:00<00:00, 75.17it/s]\n"
     ]
    },
    {
     "name": "stdout",
     "output_type": "stream",
     "text": [
      "| Train Loss : -0.4019942283630371 |  Val Loss : -5.086338043212891 | Train Acc : 40.0 | Val Acc : 0.0 |\n"
     ]
    },
    {
     "name": "stderr",
     "output_type": "stream",
     "text": [
      "100%|███████████████████████████████████████████████████████████████████████████████████| 1/1 [00:00<00:00, 105.04it/s]\n"
     ]
    },
    {
     "name": "stdout",
     "output_type": "stream",
     "text": [
      "| Train Loss : -0.44287604093551636 |  Val Loss : -5.403578281402588 | Train Acc : 40.0 | Val Acc : 0.0 |\n"
     ]
    },
    {
     "name": "stderr",
     "output_type": "stream",
     "text": [
      "100%|████████████████████████████████████████████████████████████████████████████████████| 1/1 [00:00<00:00, 93.05it/s]\n"
     ]
    },
    {
     "name": "stdout",
     "output_type": "stream",
     "text": [
      "| Train Loss : -0.48367244005203247 |  Val Loss : -5.731385707855225 | Train Acc : 40.0 | Val Acc : 0.0 |\n"
     ]
    },
    {
     "name": "stderr",
     "output_type": "stream",
     "text": [
      "100%|████████████████████████████████████████████████████████████████████████████████████| 1/1 [00:00<00:00, 86.08it/s]\n"
     ]
    },
    {
     "name": "stdout",
     "output_type": "stream",
     "text": [
      "| Train Loss : -0.5245839357376099 |  Val Loss : -6.071226119995117 | Train Acc : 40.0 | Val Acc : 0.0 |\n"
     ]
    },
    {
     "name": "stderr",
     "output_type": "stream",
     "text": [
      "100%|████████████████████████████████████████████████████████████████████████████████████| 1/1 [00:00<00:00, 87.61it/s]\n"
     ]
    },
    {
     "name": "stdout",
     "output_type": "stream",
     "text": [
      "| Train Loss : -0.5658217668533325 |  Val Loss : -6.424798011779785 | Train Acc : 40.0 | Val Acc : 0.0 |\n"
     ]
    },
    {
     "name": "stderr",
     "output_type": "stream",
     "text": [
      "100%|████████████████████████████████████████████████████████████████████████████████████| 1/1 [00:00<00:00, 81.30it/s]\n"
     ]
    },
    {
     "name": "stdout",
     "output_type": "stream",
     "text": [
      "| Train Loss : -0.6076207756996155 |  Val Loss : -6.794040203094482 | Train Acc : 40.0 | Val Acc : 0.0 |\n"
     ]
    },
    {
     "name": "stderr",
     "output_type": "stream",
     "text": [
      "100%|████████████████████████████████████████████████████████████████████████████████████| 1/1 [00:00<00:00, 76.09it/s]\n"
     ]
    },
    {
     "name": "stdout",
     "output_type": "stream",
     "text": [
      "| Train Loss : -0.6502367258071899 |  Val Loss : -7.1812214851379395 | Train Acc : 40.0 | Val Acc : 0.0 |\n"
     ]
    },
    {
     "name": "stderr",
     "output_type": "stream",
     "text": [
      "100%|████████████████████████████████████████████████████████████████████████████████████| 1/1 [00:00<00:00, 77.13it/s]\n"
     ]
    },
    {
     "name": "stdout",
     "output_type": "stream",
     "text": [
      "| Train Loss : -0.6939541697502136 |  Val Loss : -7.58892297744751 | Train Acc : 40.0 | Val Acc : 0.0 |\n"
     ]
    },
    {
     "name": "stderr",
     "output_type": "stream",
     "text": [
      "100%|████████████████████████████████████████████████████████████████████████████████████| 1/1 [00:00<00:00, 76.74it/s]\n"
     ]
    },
    {
     "name": "stdout",
     "output_type": "stream",
     "text": [
      "| Train Loss : -0.7390853762626648 |  Val Loss : -8.02019214630127 | Train Acc : 40.0 | Val Acc : 0.0 |\n",
      "Words found are : 5\n",
      "Embedding(5, 100)\n",
      "-----------------------------------------------------------3-fold of the model-----------------------------------------------------------\n"
     ]
    },
    {
     "name": "stderr",
     "output_type": "stream",
     "text": [
      "100%|████████████████████████████████████████████████████████████████████████████████████| 1/1 [00:00<00:00, 80.18it/s]\n"
     ]
    },
    {
     "name": "stdout",
     "output_type": "stream",
     "text": [
      "| Train Loss : 0.7116485834121704 |  Val Loss : 0.49793577194213867 | Train Acc : 0.0 | Val Acc : 0.0 |\n"
     ]
    },
    {
     "name": "stderr",
     "output_type": "stream",
     "text": [
      "100%|████████████████████████████████████████████████████████████████████████████████████| 1/1 [00:00<00:00, 81.94it/s]\n"
     ]
    },
    {
     "name": "stdout",
     "output_type": "stream",
     "text": [
      "| Train Loss : 0.5768865346908569 |  Val Loss : 0.28712189197540283 | Train Acc : 40.0 | Val Acc : 0.0 |\n"
     ]
    },
    {
     "name": "stderr",
     "output_type": "stream",
     "text": [
      "100%|████████████████████████████████████████████████████████████████████████████████████| 1/1 [00:00<00:00, 82.50it/s]\n"
     ]
    },
    {
     "name": "stdout",
     "output_type": "stream",
     "text": [
      "| Train Loss : 0.4533589482307434 |  Val Loss : 0.08686494827270508 | Train Acc : 40.0 | Val Acc : 0.0 |\n"
     ]
    },
    {
     "name": "stderr",
     "output_type": "stream",
     "text": [
      "100%|████████████████████████████████████████████████████████████████████████████████████| 1/1 [00:00<00:00, 79.55it/s]"
     ]
    },
    {
     "name": "stdout",
     "output_type": "stream",
     "text": [
      "| Train Loss : 0.3380804657936096 |"
     ]
    },
    {
     "name": "stderr",
     "output_type": "stream",
     "text": [
      "\n"
     ]
    },
    {
     "name": "stdout",
     "output_type": "stream",
     "text": [
      "  Val Loss : -0.10630261898040771 | Train Acc : 40.0 | Val Acc : 0.0 |\n"
     ]
    },
    {
     "name": "stderr",
     "output_type": "stream",
     "text": [
      "100%|████████████████████████████████████████████████████████████████████████████████████| 1/1 [00:00<00:00, 83.21it/s]\n"
     ]
    },
    {
     "name": "stdout",
     "output_type": "stream",
     "text": [
      "| Train Loss : 0.22888343036174774 |  Val Loss : -0.295052707195282 | Train Acc : 40.0 | Val Acc : 0.0 |\n"
     ]
    },
    {
     "name": "stderr",
     "output_type": "stream",
     "text": [
      "100%|████████████████████████████████████████████████████████████████████████████████████| 1/1 [00:00<00:00, 86.66it/s]\n"
     ]
    },
    {
     "name": "stdout",
     "output_type": "stream",
     "text": [
      "| Train Loss : 0.12415514141321182 |  Val Loss : -0.481505811214447 | Train Acc : 40.0 | Val Acc : 0.0 |\n"
     ]
    },
    {
     "name": "stderr",
     "output_type": "stream",
     "text": [
      "100%|████████████████████████████████████████████████████████████████████████████████████| 1/1 [00:00<00:00, 90.83it/s]\n"
     ]
    },
    {
     "name": "stdout",
     "output_type": "stream",
     "text": [
      "| Train Loss : 0.02266848087310791 |  Val Loss : -0.6674000024795532 | Train Acc : 40.0 | Val Acc : 0.0 |\n"
     ]
    },
    {
     "name": "stderr",
     "output_type": "stream",
     "text": [
      "100%|████████████████████████████████████████████████████████████████████████████████████| 1/1 [00:00<00:00, 86.68it/s]\n"
     ]
    },
    {
     "name": "stdout",
     "output_type": "stream",
     "text": [
      "| Train Loss : -0.07653158903121948 |  Val Loss : -0.854209840297699 | Train Acc : 40.0 | Val Acc : 0.0 |\n"
     ]
    },
    {
     "name": "stderr",
     "output_type": "stream",
     "text": [
      "100%|████████████████████████████████████████████████████████████████████████████████████| 1/1 [00:00<00:00, 99.86it/s]\n"
     ]
    },
    {
     "name": "stdout",
     "output_type": "stream",
     "text": [
      "| Train Loss : -0.1742127537727356 |  Val Loss : -1.0432387590408325 | Train Acc : 40.0 | Val Acc : 0.0 |\n"
     ]
    },
    {
     "name": "stderr",
     "output_type": "stream",
     "text": [
      "100%|████████████████████████████████████████████████████████████████████████████████████| 1/1 [00:00<00:00, 90.52it/s]\n"
     ]
    },
    {
     "name": "stdout",
     "output_type": "stream",
     "text": [
      "| Train Loss : -0.2710146903991699 |  Val Loss : -1.2356960773468018 | Train Acc : 40.0 | Val Acc : 0.0 |\n"
     ]
    },
    {
     "name": "stderr",
     "output_type": "stream",
     "text": [
      "100%|███████████████████████████████████████████████████████████████████████████████████| 1/1 [00:00<00:00, 103.99it/s]\n"
     ]
    },
    {
     "name": "stdout",
     "output_type": "stream",
     "text": [
      "| Train Loss : -0.36749958992004395 |  Val Loss : -1.4327683448791504 | Train Acc : 40.0 | Val Acc : 0.0 |\n"
     ]
    },
    {
     "name": "stderr",
     "output_type": "stream",
     "text": [
      "100%|████████████████████████████████████████████████████████████████████████████████████| 1/1 [00:00<00:00, 81.87it/s]\n"
     ]
    },
    {
     "name": "stdout",
     "output_type": "stream",
     "text": [
      "| Train Loss : -0.4641962945461273 |  Val Loss : -1.635682225227356 | Train Acc : 40.0 | Val Acc : 0.0 |\n"
     ]
    },
    {
     "name": "stderr",
     "output_type": "stream",
     "text": [
      "100%|████████████████████████████████████████████████████████████████████████████████████| 1/1 [00:00<00:00, 99.99it/s]"
     ]
    },
    {
     "name": "stdout",
     "output_type": "stream",
     "text": [
      "| Train Loss : -0.5616357922554016 |  Val Loss : -1.8457756042480469 | Train Acc : 40.0 | Val Acc : 0.0 |\n"
     ]
    },
    {
     "name": "stderr",
     "output_type": "stream",
     "text": [
      "\n",
      "100%|████████████████████████████████████████████████████████████████████████████████████| 1/1 [00:00<00:00, 82.53it/s]\n"
     ]
    },
    {
     "name": "stdout",
     "output_type": "stream",
     "text": [
      "| Train Loss : -0.6603900790214539 |  Val Loss : -2.0645668506622314 | Train Acc : 40.0 | Val Acc : 0.0 |\n"
     ]
    },
    {
     "name": "stderr",
     "output_type": "stream",
     "text": [
      "100%|████████████████████████████████████████████████████████████████████████████████████| 1/1 [00:00<00:00, 94.69it/s]\n"
     ]
    },
    {
     "name": "stdout",
     "output_type": "stream",
     "text": [
      "| Train Loss : -0.7611037492752075 |  Val Loss : -2.293832302093506 | Train Acc : 40.0 | Val Acc : 0.0 |\n"
     ]
    },
    {
     "name": "stderr",
     "output_type": "stream",
     "text": [
      "100%|████████████████████████████████████████████████████████████████████████████████████| 1/1 [00:00<00:00, 73.94it/s]\n"
     ]
    },
    {
     "name": "stdout",
     "output_type": "stream",
     "text": [
      "| Train Loss : -0.864532470703125 |  Val Loss : -2.535709857940674 | Train Acc : 40.0 | Val Acc : 0.0 |\n"
     ]
    },
    {
     "name": "stderr",
     "output_type": "stream",
     "text": [
      "100%|████████████████████████████████████████████████████████████████████████████████████| 1/1 [00:00<00:00, 90.56it/s]\n"
     ]
    },
    {
     "name": "stdout",
     "output_type": "stream",
     "text": [
      "| Train Loss : -0.9715795516967773 |  Val Loss : -2.792794704437256 | Train Acc : 40.0 | Val Acc : 0.0 |\n"
     ]
    },
    {
     "name": "stderr",
     "output_type": "stream",
     "text": [
      "100%|████████████████████████████████████████████████████████████████████████████████████| 1/1 [00:00<00:00, 88.67it/s]\n"
     ]
    },
    {
     "name": "stdout",
     "output_type": "stream",
     "text": [
      "| Train Loss : -1.0833451747894287 |  Val Loss : -3.068286657333374 | Train Acc : 40.0 | Val Acc : 0.0 |\n"
     ]
    },
    {
     "name": "stderr",
     "output_type": "stream",
     "text": [
      "100%|████████████████████████████████████████████████████████████████████████████████████| 1/1 [00:00<00:00, 89.64it/s]\n"
     ]
    },
    {
     "name": "stdout",
     "output_type": "stream",
     "text": [
      "| Train Loss : -1.2011785507202148 |  Val Loss : -3.366187334060669 | Train Acc : 40.0 | Val Acc : 0.0 |\n"
     ]
    },
    {
     "name": "stderr",
     "output_type": "stream",
     "text": [
      "100%|████████████████████████████████████████████████████████████████████████████████████| 1/1 [00:00<00:00, 77.03it/s]"
     ]
    },
    {
     "name": "stdout",
     "output_type": "stream",
     "text": [
      "| Train Loss : -1.3267571926116943 |  Val Loss : -3.6915440559387207 | Train Acc : 40.0 | Val Acc : 0.0 |\n"
     ]
    },
    {
     "name": "stderr",
     "output_type": "stream",
     "text": [
      "\n",
      "100%|████████████████████████████████████████████████████████████████████████████████████| 1/1 [00:00<00:00, 88.11it/s]\n"
     ]
    },
    {
     "name": "stdout",
     "output_type": "stream",
     "text": [
      "| Train Loss : -1.4621837139129639 |  Val Loss : -4.050786972045898 | Train Acc : 40.0 | Val Acc : 0.0 |\n"
     ]
    },
    {
     "name": "stderr",
     "output_type": "stream",
     "text": [
      "100%|████████████████████████████████████████████████████████████████████████████████████| 1/1 [00:00<00:00, 95.13it/s]\n"
     ]
    },
    {
     "name": "stdout",
     "output_type": "stream",
     "text": [
      "| Train Loss : -1.610126256942749 |  Val Loss : -4.452277660369873 | Train Acc : 40.0 | Val Acc : 0.0 |\n"
     ]
    },
    {
     "name": "stderr",
     "output_type": "stream",
     "text": [
      "100%|████████████████████████████████████████████████████████████████████████████████████| 1/1 [00:00<00:00, 83.71it/s]\n"
     ]
    },
    {
     "name": "stdout",
     "output_type": "stream",
     "text": [
      "| Train Loss : -1.774030327796936 |  Val Loss : -4.907024383544922 | Train Acc : 40.0 | Val Acc : 0.0 |\n"
     ]
    },
    {
     "name": "stderr",
     "output_type": "stream",
     "text": [
      "100%|████████████████████████████████████████████████████████████████████████████████████| 1/1 [00:00<00:00, 97.85it/s]\n"
     ]
    },
    {
     "name": "stdout",
     "output_type": "stream",
     "text": [
      "| Train Loss : -1.9584214687347412 |  Val Loss : -5.429896354675293 | Train Acc : 40.0 | Val Acc : 0.0 |\n"
     ]
    },
    {
     "name": "stderr",
     "output_type": "stream",
     "text": [
      "100%|████████████████████████████████████████████████████████████████████████████████████| 1/1 [00:00<00:00, 89.84it/s]\n"
     ]
    },
    {
     "name": "stdout",
     "output_type": "stream",
     "text": [
      "| Train Loss : -2.1693453788757324 |  Val Loss : -6.0414347648620605 | Train Acc : 40.0 | Val Acc : 0.0 |\n"
     ]
    },
    {
     "name": "stderr",
     "output_type": "stream",
     "text": [
      "100%|████████████████████████████████████████████████████████████████████████████████████| 1/1 [00:00<00:00, 88.73it/s]\n"
     ]
    },
    {
     "name": "stdout",
     "output_type": "stream",
     "text": [
      "| Train Loss : -2.415152072906494 |  Val Loss : -6.770994186401367 | Train Acc : 40.0 | Val Acc : 0.0 |\n"
     ]
    },
    {
     "name": "stderr",
     "output_type": "stream",
     "text": [
      "100%|████████████████████████████████████████████████████████████████████████████████████| 1/1 [00:00<00:00, 93.59it/s]\n"
     ]
    },
    {
     "name": "stdout",
     "output_type": "stream",
     "text": [
      "| Train Loss : -2.707669258117676 |  Val Loss : -7.661747932434082 | Train Acc : 40.0 | Val Acc : 0.0 |\n"
     ]
    },
    {
     "name": "stderr",
     "output_type": "stream",
     "text": [
      "100%|████████████████████████████████████████████████████████████████████████████████████| 1/1 [00:00<00:00, 87.57it/s]\n"
     ]
    },
    {
     "name": "stdout",
     "output_type": "stream",
     "text": [
      "| Train Loss : -3.0644173622131348 |  Val Loss : -8.78045654296875 | Train Acc : 40.0 | Val Acc : 0.0 |\n"
     ]
    },
    {
     "name": "stderr",
     "output_type": "stream",
     "text": [
      "100%|████████████████████████████████████████████████████████████████████████████████████| 1/1 [00:00<00:00, 97.23it/s]\n"
     ]
    },
    {
     "name": "stdout",
     "output_type": "stream",
     "text": [
      "| Train Loss : -3.5120902061462402 |  Val Loss : -10.235203742980957 | Train Acc : 40.0 | Val Acc : 0.0 |\n"
     ]
    },
    {
     "name": "stderr",
     "output_type": "stream",
     "text": [
      "100%|████████████████████████████████████████████████████████████████████████████████████| 1/1 [00:00<00:00, 73.04it/s]\n"
     ]
    },
    {
     "name": "stdout",
     "output_type": "stream",
     "text": [
      "| Train Loss : -4.094059944152832 |  Val Loss : -12.204705238342285 | Train Acc : 40.0 | Val Acc : 0.0 |\n",
      "Words found are : 5\n",
      "Embedding(5, 100)\n",
      "-----------------------------------------------------------4-fold of the model-----------------------------------------------------------\n"
     ]
    },
    {
     "name": "stderr",
     "output_type": "stream",
     "text": [
      "100%|████████████████████████████████████████████████████████████████████████████████████| 1/1 [00:00<00:00, 71.71it/s]\n"
     ]
    },
    {
     "name": "stdout",
     "output_type": "stream",
     "text": [
      "| Train Loss : 0.693181037902832 |  Val Loss : 1.0533504486083984 | Train Acc : 0.0 | Val Acc : 0.0 |\n"
     ]
    },
    {
     "name": "stderr",
     "output_type": "stream",
     "text": [
      "100%|████████████████████████████████████████████████████████████████████████████████████| 1/1 [00:00<00:00, 85.81it/s]\n"
     ]
    },
    {
     "name": "stdout",
     "output_type": "stream",
     "text": [
      "| Train Loss : 0.34677940607070923 |  Val Loss : 1.417026400566101 | Train Acc : 40.0 | Val Acc : 0.0 |\n"
     ]
    },
    {
     "name": "stderr",
     "output_type": "stream",
     "text": [
      "100%|████████████████████████████████████████████████████████████████████████████████████| 1/1 [00:00<00:00, 85.92it/s]\n"
     ]
    },
    {
     "name": "stdout",
     "output_type": "stream",
     "text": [
      "| Train Loss : 0.02278599701821804 |  Val Loss : 1.798078179359436 | Train Acc : 40.0 | Val Acc : 0.0 |\n"
     ]
    },
    {
     "name": "stderr",
     "output_type": "stream",
     "text": [
      "100%|████████████████████████████████████████████████████████████████████████████████████| 1/1 [00:00<00:00, 83.13it/s]\n"
     ]
    },
    {
     "name": "stdout",
     "output_type": "stream",
     "text": [
      "| Train Loss : -0.29273486137390137 |  Val Loss : 2.209980010986328 | Train Acc : 40.0 | Val Acc : 0.0 |\n"
     ]
    },
    {
     "name": "stderr",
     "output_type": "stream",
     "text": [
      "100%|████████████████████████████████████████████████████████████████████████████████████| 1/1 [00:00<00:00, 81.23it/s]\n"
     ]
    },
    {
     "name": "stdout",
     "output_type": "stream",
     "text": [
      "| Train Loss : -0.6104124188423157 |  Val Loss : 2.6671714782714844 | Train Acc : 40.0 | Val Acc : 0.0 |\n"
     ]
    },
    {
     "name": "stderr",
     "output_type": "stream",
     "text": [
      "100%|████████████████████████████████████████████████████████████████████████████████████| 1/1 [00:00<00:00, 93.17it/s]\n"
     ]
    },
    {
     "name": "stdout",
     "output_type": "stream",
     "text": [
      "| Train Loss : -0.939424991607666 |  Val Loss : 3.1863303184509277 | Train Acc : 40.0 | Val Acc : 0.0 |\n"
     ]
    },
    {
     "name": "stderr",
     "output_type": "stream",
     "text": [
      "100%|████████████████████████████████████████████████████████████████████████████████████| 1/1 [00:00<00:00, 86.63it/s]\n"
     ]
    },
    {
     "name": "stdout",
     "output_type": "stream",
     "text": [
      "| Train Loss : -1.2887665033340454 |  Val Loss : 3.787825107574463 | Train Acc : 40.0 | Val Acc : 0.0 |\n"
     ]
    },
    {
     "name": "stderr",
     "output_type": "stream",
     "text": [
      "100%|████████████████████████████████████████████████████████████████████████████████████| 1/1 [00:00<00:00, 77.11it/s]\n"
     ]
    },
    {
     "name": "stdout",
     "output_type": "stream",
     "text": [
      "| Train Loss : -1.668402075767517 |  Val Loss : 4.497800350189209 | Train Acc : 40.0 | Val Acc : 0.0 |\n"
     ]
    },
    {
     "name": "stderr",
     "output_type": "stream",
     "text": [
      "100%|████████████████████████████████████████████████████████████████████████████████████| 1/1 [00:00<00:00, 91.02it/s]\n"
     ]
    },
    {
     "name": "stdout",
     "output_type": "stream",
     "text": [
      "| Train Loss : -2.0907013416290283 |  Val Loss : 5.351583003997803 | Train Acc : 40.0 | Val Acc : 0.0 |\n"
     ]
    },
    {
     "name": "stderr",
     "output_type": "stream",
     "text": [
      "100%|████████████████████████████████████████████████████████████████████████████████████| 1/1 [00:00<00:00, 92.24it/s]\n"
     ]
    },
    {
     "name": "stdout",
     "output_type": "stream",
     "text": [
      "| Train Loss : -2.5725340843200684 |  Val Loss : 6.399653434753418 | Train Acc : 40.0 | Val Acc : 0.0 |\n"
     ]
    },
    {
     "name": "stderr",
     "output_type": "stream",
     "text": [
      "100%|████████████████████████████████████████████████████████████████████████████████████| 1/1 [00:00<00:00, 84.51it/s]\n"
     ]
    },
    {
     "name": "stdout",
     "output_type": "stream",
     "text": [
      "| Train Loss : -3.1386749744415283 |  Val Loss : 7.718564987182617 | Train Acc : 40.0 | Val Acc : 0.0 |\n"
     ]
    },
    {
     "name": "stderr",
     "output_type": "stream",
     "text": [
      "100%|████████████████████████████████████████████████████████████████████████████████████| 1/1 [00:00<00:00, 79.43it/s]\n"
     ]
    },
    {
     "name": "stdout",
     "output_type": "stream",
     "text": [
      "| Train Loss : -3.8276619911193848 |  Val Loss : 9.432467460632324 | Train Acc : 40.0 | Val Acc : 0.0 |\n"
     ]
    },
    {
     "name": "stderr",
     "output_type": "stream",
     "text": [
      "100%|████████████████████████████████████████████████████████████████████████████████████| 1/1 [00:00<00:00, 87.66it/s]\n"
     ]
    },
    {
     "name": "stdout",
     "output_type": "stream",
     "text": [
      "| Train Loss : -4.702805042266846 |  Val Loss : 11.75872802734375 | Train Acc : 40.0 | Val Acc : 0.0 |\n"
     ]
    },
    {
     "name": "stderr",
     "output_type": "stream",
     "text": [
      "100%|████████████████████████████████████████████████████████████████████████████████████| 1/1 [00:00<00:00, 79.49it/s]\n"
     ]
    },
    {
     "name": "stdout",
     "output_type": "stream",
     "text": [
      "| Train Loss : -5.875169277191162 |  Val Loss : 15.11898422241211 | Train Acc : 40.0 | Val Acc : 0.0 |\n"
     ]
    },
    {
     "name": "stderr",
     "output_type": "stream",
     "text": [
      "100%|████████████████████████████████████████████████████████████████████████████████████| 1/1 [00:00<00:00, 79.74it/s]\n"
     ]
    },
    {
     "name": "stdout",
     "output_type": "stream",
     "text": [
      "| Train Loss : -7.55871057510376 |  Val Loss : 20.4506778717041 | Train Acc : 40.0 | Val Acc : 0.0 |\n"
     ]
    },
    {
     "name": "stderr",
     "output_type": "stream",
     "text": [
      "100%|████████████████████████████████████████████████████████████████████████████████████| 1/1 [00:00<00:00, 90.75it/s]\n"
     ]
    },
    {
     "name": "stdout",
     "output_type": "stream",
     "text": [
      "| Train Loss : -10.225284576416016 |  Val Loss : 30.498476028442383 | Train Acc : 40.0 | Val Acc : 0.0 |\n"
     ]
    },
    {
     "name": "stderr",
     "output_type": "stream",
     "text": [
      "100%|████████████████████████████████████████████████████████████████████████████████████| 1/1 [00:00<00:00, 92.94it/s]\n"
     ]
    },
    {
     "name": "stdout",
     "output_type": "stream",
     "text": [
      "| Train Loss : -15.249237060546875 |  Val Loss : 200.0 | Train Acc : 40.0 | Val Acc : 0.0 |\n"
     ]
    },
    {
     "name": "stderr",
     "output_type": "stream",
     "text": [
      "100%|████████████████████████████████████████████████████████████████████████████████████| 1/1 [00:00<00:00, 81.46it/s]\n"
     ]
    },
    {
     "name": "stdout",
     "output_type": "stream",
     "text": [
      "| Train Loss : -100.0 |  Val Loss : 200.0 | Train Acc : 40.0 | Val Acc : 0.0 |\n"
     ]
    },
    {
     "name": "stderr",
     "output_type": "stream",
     "text": [
      "100%|████████████████████████████████████████████████████████████████████████████████████| 1/1 [00:00<00:00, 87.45it/s]\n"
     ]
    },
    {
     "name": "stdout",
     "output_type": "stream",
     "text": [
      "| Train Loss : -100.0 |  Val Loss : 200.0 | Train Acc : 40.0 | Val Acc : 0.0 |\n"
     ]
    },
    {
     "name": "stderr",
     "output_type": "stream",
     "text": [
      "100%|████████████████████████████████████████████████████████████████████████████████████| 1/1 [00:00<00:00, 93.32it/s]\n"
     ]
    },
    {
     "name": "stdout",
     "output_type": "stream",
     "text": [
      "| Train Loss : -100.0 |  Val Loss : 200.0 | Train Acc : 40.0 | Val Acc : 0.0 |\n"
     ]
    },
    {
     "name": "stderr",
     "output_type": "stream",
     "text": [
      "100%|████████████████████████████████████████████████████████████████████████████████████| 1/1 [00:00<00:00, 78.14it/s]"
     ]
    },
    {
     "name": "stdout",
     "output_type": "stream",
     "text": [
      "| Train Loss : -100.0 |"
     ]
    },
    {
     "name": "stderr",
     "output_type": "stream",
     "text": [
      "\n"
     ]
    },
    {
     "name": "stdout",
     "output_type": "stream",
     "text": [
      "  Val Loss : 200.0 | Train Acc : 40.0 | Val Acc : 0.0 |\n"
     ]
    },
    {
     "name": "stderr",
     "output_type": "stream",
     "text": [
      "100%|███████████████████████████████████████████████████████████████████████████████████| 1/1 [00:00<00:00, 103.66it/s]\n"
     ]
    },
    {
     "name": "stdout",
     "output_type": "stream",
     "text": [
      "| Train Loss : -100.0 |  Val Loss : 200.0 | Train Acc : 40.0 | Val Acc : 0.0 |\n"
     ]
    },
    {
     "name": "stderr",
     "output_type": "stream",
     "text": [
      "100%|████████████████████████████████████████████████████████████████████████████████████| 1/1 [00:00<00:00, 88.29it/s]\n"
     ]
    },
    {
     "name": "stdout",
     "output_type": "stream",
     "text": [
      "| Train Loss : -100.0 |  Val Loss : 200.0 | Train Acc : 40.0 | Val Acc : 0.0 |\n"
     ]
    },
    {
     "name": "stderr",
     "output_type": "stream",
     "text": [
      "100%|████████████████████████████████████████████████████████████████████████████████████| 1/1 [00:00<00:00, 89.43it/s]\n"
     ]
    },
    {
     "name": "stdout",
     "output_type": "stream",
     "text": [
      "| Train Loss : -100.0 |  Val Loss : 200.0 | Train Acc : 40.0 | Val Acc : 0.0 |\n"
     ]
    },
    {
     "name": "stderr",
     "output_type": "stream",
     "text": [
      "100%|████████████████████████████████████████████████████████████████████████████████████| 1/1 [00:00<00:00, 94.70it/s]\n"
     ]
    },
    {
     "name": "stdout",
     "output_type": "stream",
     "text": [
      "| Train Loss : -100.0 |  Val Loss : 200.0 | Train Acc : 40.0 | Val Acc : 0.0 |\n"
     ]
    },
    {
     "name": "stderr",
     "output_type": "stream",
     "text": [
      "100%|████████████████████████████████████████████████████████████████████████████████████| 1/1 [00:00<00:00, 89.55it/s]\n"
     ]
    },
    {
     "name": "stdout",
     "output_type": "stream",
     "text": [
      "| Train Loss : -100.0 |  Val Loss : 200.0 | Train Acc : 40.0 | Val Acc : 0.0 |\n"
     ]
    },
    {
     "name": "stderr",
     "output_type": "stream",
     "text": [
      "100%|████████████████████████████████████████████████████████████████████████████████████| 1/1 [00:00<00:00, 78.34it/s]\n"
     ]
    },
    {
     "name": "stdout",
     "output_type": "stream",
     "text": [
      "| Train Loss : -100.0 |  Val Loss : 200.0 | Train Acc : 40.0 | Val Acc : 0.0 |\n"
     ]
    },
    {
     "name": "stderr",
     "output_type": "stream",
     "text": [
      "100%|████████████████████████████████████████████████████████████████████████████████████| 1/1 [00:00<00:00, 86.39it/s]\n"
     ]
    },
    {
     "name": "stdout",
     "output_type": "stream",
     "text": [
      "| Train Loss : -100.0 |  Val Loss : 200.0 | Train Acc : 40.0 | Val Acc : 0.0 |\n"
     ]
    },
    {
     "name": "stderr",
     "output_type": "stream",
     "text": [
      "100%|████████████████████████████████████████████████████████████████████████████████████| 1/1 [00:00<00:00, 84.67it/s]\n"
     ]
    },
    {
     "name": "stdout",
     "output_type": "stream",
     "text": [
      "| Train Loss : -100.0 |  Val Loss : 200.0 | Train Acc : 40.0 | Val Acc : 0.0 |\n"
     ]
    },
    {
     "name": "stderr",
     "output_type": "stream",
     "text": [
      "100%|████████████████████████████████████████████████████████████████████████████████████| 1/1 [00:00<00:00, 85.37it/s]\n"
     ]
    },
    {
     "name": "stdout",
     "output_type": "stream",
     "text": [
      "| Train Loss : -100.0 |  Val Loss : 200.0 | Train Acc : 40.0 | Val Acc : 0.0 |\n"
     ]
    }
   ],
   "source": [
    "from sklearn.model_selection import StratifiedKFold\n",
    "from sklearn.model_selection import KFold\n",
    "from torch.utils.data import SubsetRandomSampler\n",
    "from torch.optim import Adam\n",
    "from tqdm import tqdm\n",
    "from torch.utils.data import DataLoader \n",
    "import matplotlib.pyplot as plt\n",
    "\n",
    "\n",
    "# sfk = StratifiedKFold(n_splits = config.FOLDS)\n",
    "kfold = KFold(n_splits = config.FOLDS)\n",
    "model_state_dicts = {}\n",
    " \n",
    "for fold, (train_idx, val_idx) in enumerate(kfold.split(np.arange(len(dataset)))):\n",
    "    \n",
    "    train_sampler = SubsetRandomSampler(train_idx)\n",
    "    val_sampler = SubsetRandomSampler(val_idx)\n",
    "    \n",
    "    train_loader = DataLoader(dataset, batch_size = config.BATCH_SIZE, sampler = train_sampler, collate_fn = MyCollate(0, config.MAX_LEN))\n",
    "    val_loader = DataLoader(dataset, batch_size = config.BATCH_SIZE, sampler = val_sampler, collate_fn = MyCollate(0, config.MAX_LEN))  \n",
    "    \n",
    "    VOCAB_SIZE = len(dataset.source_vocab)\n",
    "    HIDDEN_DIM = 128\n",
    "    OUTPUT_DIM = 1\n",
    "    VOCAB = list(dataset.source_vocab.stoi)\n",
    "\n",
    "    embedding_layer = get_emb_layer_with_weights(target_vocab = VOCAB, emb_model = fasttext_model, trainable = False)\n",
    "\n",
    "    model = Model(VOCAB_SIZE, config.EMB_DIM, HIDDEN_DIM, OUTPUT_DIM, embedding_layer)\n",
    "    model = model.to(config.DEVICE)\n",
    "    \n",
    "#     model\n",
    "#     model = Model(2, len(dataset.source_vocab), 128, 100, 1 ).to(config.DEVICE)\n",
    "#     hidden = model.init_hidden(config.BATCH_SIZE)\n",
    "#     model.hidden = hidden\n",
    "\n",
    "    loss_fn = nn.BCELoss()\n",
    "    optimizer = torch.optim.SGD(model.parameters(), lr = 0.1)\n",
    "    \n",
    "    train_losses = []\n",
    "    val_losses = []\n",
    "    train_accs = []\n",
    "    val_accs = []\n",
    "\n",
    "    print(f\"-----------------------------------------------------------{fold}-fold of the model-----------------------------------------------------------\")\n",
    "    for epoch in range(config.EPOCHS):\n",
    "        train_loss, train_correct = train_epochs(train_loader, model, loss_fn, optimizer)\n",
    "        val_loss, val_correct = val_epochs(val_loader, model, loss_fn)  \n",
    "        \n",
    "        train_loss = train_loss/len(train_loader.sampler)\n",
    "        val_loss = val_loss/len(val_loader.sampler)\n",
    "        train_acc = (train_correct/len(train_loader.sampler))*100\n",
    "        val_acc = (val_correct/len(val_loader.sampler))*100\n",
    "        \n",
    "        train_losses.append(train_loss)\n",
    "        val_losses.append(val_loss)\n",
    "        train_accs.append(train_acc.cpu().numpy().tolist())\n",
    "        val_accs.append(val_acc.cpu().numpy().tolist())\n",
    "        \n",
    "        print(f\"| Train Loss : {train_loss} |\", end = \" \")\n",
    "        print(f\" Val Loss : {val_loss} |\", end = \" \")\n",
    "        print(f\"Train Acc : {train_acc} |\", end = \" \")\n",
    "        print(f\"Val Acc : {val_acc} |\")\n",
    "\n",
    "        \n",
    "    # Saving the state dicts for the model\n",
    "    model_state_dicts.update({f\"LSTM-Model-for-{fold}\" : model.state_dict(),\n",
    "                             f\"Model-Optimizer-for-{fold}\" : optimizer.state_dict()})"
   ]
  },
  {
   "cell_type": "code",
   "execution_count": 92,
   "id": "fb628857",
   "metadata": {},
   "outputs": [],
   "source": [
    "torch.save(model_state_dicts, \"My-Model.pt\")"
   ]
  },
  {
   "cell_type": "code",
   "execution_count": 93,
   "id": "da72e95b",
   "metadata": {},
   "outputs": [],
   "source": [
    "def numericalize(text):\n",
    "    numerialized_source = [] \n",
    "    numerialized_source = [dataset.source_vocab.stoi[\"<SOS>\"]]\n",
    "    numerialized_source += dataset.source_vocab.numericalize(text)\n",
    "    numerialized_source.append(dataset.source_vocab.stoi[\"<EOS>\"])\n",
    "    return numerialized_source\n",
    "def padding(source):\n",
    "    padded_sequence = torch.zeros(config.MAX_LEN, 1, dtype = torch.int)\n",
    "    source = torch.tensor(source)\n",
    "    if len(source) > config.MAX_LEN:\n",
    "        padded_sequence[:, 0] = source[: config.MAX_LEN]\n",
    "    else:\n",
    "        padded_sequence[:len(source), 0] = padded_sequence[:len(source), 0] + source\n",
    "    return padded_sequence"
   ]
  },
  {
   "cell_type": "code",
   "execution_count": 94,
   "id": "53349bd8",
   "metadata": {},
   "outputs": [
    {
     "name": "stdout",
     "output_type": "stream",
     "text": [
      "The reviewer is talking Positively about the service of the trip in his/her comment\n"
     ]
    }
   ],
   "source": [
    "t0 = \"Hotel services were good\"    #,service,Very Good\n",
    "t1 = \"I became ill, so I was admitted in a hospital for 3 days.\"    #Bad,hospitality\n",
    "t2 = \"The relaxed ambience of Thrissur was popular with temples.\"   #Good,ambience\n",
    "t3 = \"The food given in the restaurant was delicious. I found it enjoyable!\" #Excellent,food\n",
    "\n",
    "\n",
    "\n",
    "sample = \"beautiful\"\n",
    "sample2= \"The historical prestige and the hotel ambience was good and the service was on point. Good trip!\"\n",
    "destination = aspect\n",
    "\n",
    "    \n",
    "def best_aspect(text, aspects):\n",
    "    a = []\n",
    "    \n",
    "    for aspect in aspects:\n",
    "        a.append(get_similarity(text, aspect))\n",
    "    \n",
    "    return aspects[np.argmax(a)]\n",
    "def infer_processing(text):\n",
    "    \n",
    "    text = preprocessing(text)\n",
    "    text = numericalize(text)\n",
    "    text = padding(text)\n",
    "    return text\n",
    "ba0 = best_aspect(preprocessing(t0), destination)\n",
    "\n",
    "a0 = infer_processing(t0).to(config.DEVICE)\n",
    "\n",
    "model.eval()\n",
    "sentiment = model(a0)\n",
    "sentiment = sentiment.cpu().detach().numpy()[0]\n",
    "\n",
    "if sentiment > 0.5:\n",
    "    sentiment = 'Positively'\n",
    "else :\n",
    "    sentiment = 'Negatively'\n",
    "\n",
    "print(f\"The reviewer is talking {sentiment} about the {ba0} of the trip in his/her comment\")"
   ]
  },
  {
   "cell_type": "code",
   "execution_count": 95,
   "id": "861ab9ad",
   "metadata": {},
   "outputs": [
    {
     "name": "stdout",
     "output_type": "stream",
     "text": [
      "The reviewer is talking Positively about the hospitality of the trip in his/her comment\n"
     ]
    }
   ],
   "source": [
    "ba1 = best_aspect(preprocessing(t1), destination)\n",
    "\n",
    "a1 = infer_processing(t1).to(config.DEVICE)\n",
    "\n",
    "model.eval()\n",
    "sentiment = model(a1)\n",
    "sentiment = sentiment.cpu().detach().numpy()[0]\n",
    "\n",
    "if sentiment > 0.5:\n",
    "    sentiment = 'Positively'\n",
    "else :\n",
    "    sentiment = 'Negatively'\n",
    "\n",
    "print(f\"The reviewer is talking {sentiment} about the {ba1} of the trip in his/her comment\")"
   ]
  },
  {
   "cell_type": "code",
   "execution_count": 96,
   "id": "4801eba9",
   "metadata": {},
   "outputs": [
    {
     "name": "stdout",
     "output_type": "stream",
     "text": [
      "The reviewer is talking Positively about the ambience of the trip in his/her comment\n"
     ]
    }
   ],
   "source": [
    "ba2 = best_aspect(preprocessing(t2), destination)\n",
    "a2 = infer_processing(t2).to(config.DEVICE)\n",
    "model.eval()\n",
    "sentiment = model(a2)\n",
    "sentiment = sentiment.cpu().detach().numpy()[0]\n",
    "if sentiment > 0.5:\n",
    "    sentiment = 'Positively'\n",
    "else :\n",
    "    sentiment = 'Negatively'\n",
    "print(f\"The reviewer is talking {sentiment} about the {ba2} of the trip in his/her comment\")"
   ]
  },
  {
   "cell_type": "code",
   "execution_count": 124,
   "id": "19f37e24",
   "metadata": {},
   "outputs": [
    {
     "name": "stdout",
     "output_type": "stream",
     "text": [
      "The reviewer is talking Positively about the service of the trip in his/her comment\n"
     ]
    }
   ],
   "source": [
    "ba3 = best_aspect(preprocessing(t3), destination)\n",
    "a3 = infer_processing(t3).to(config.DEVICE)\n",
    "model.eval()\n",
    "sentiment = model(a3)\n",
    "sentiment = sentiment.cpu().detach().numpy()[0]\n",
    "if sentiment > 0.5:\n",
    "    sentiment = 'Positively'\n",
    "else :\n",
    "    sentiment = 'Negatively'\n",
    "print(f\"The reviewer is talking {sentiment} about the {ba0} of the trip in his/her comment\")"
   ]
  },
  {
   "cell_type": "code",
   "execution_count": null,
   "id": "dcd7298c",
   "metadata": {},
   "outputs": [],
   "source": []
  }
 ],
 "metadata": {
  "kernelspec": {
   "display_name": "Python 3 (ipykernel)",
   "language": "python",
   "name": "python3"
  },
  "language_info": {
   "codemirror_mode": {
    "name": "ipython",
    "version": 3
   },
   "file_extension": ".py",
   "mimetype": "text/x-python",
   "name": "python",
   "nbconvert_exporter": "python",
   "pygments_lexer": "ipython3",
   "version": "3.9.13"
  }
 },
 "nbformat": 4,
 "nbformat_minor": 5
}
